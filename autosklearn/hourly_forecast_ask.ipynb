{
 "cells": [
  {
   "cell_type": "code",
   "execution_count": 1,
   "metadata": {},
   "outputs": [],
   "source": [
    "import os\n",
    "import math\n",
    "import pandas as pd\n",
    "import numpy as np\n",
    "import seaborn as sns\n",
    "from pandas import datetime\n",
    "from matplotlib import pyplot as plt\n",
    "from sklearn.preprocessing import MinMaxScaler\n",
    "from sklearn.model_selection import train_test_split\n",
    "from sklearn.metrics import mean_squared_error\n",
    "from sklearn.metrics import mean_absolute_error\n",
    "from sklearn.metrics import r2_score\n"
   ]
  },
  {
   "cell_type": "code",
   "execution_count": 2,
   "metadata": {},
   "outputs": [],
   "source": [
    "## convert one to multiple series\n",
    "def lag_ahead_series(data, n_in=1, n_out=1, n_vars = 1,dropnan=True):\n",
    "    df = pd.DataFrame(data)\n",
    "    cols, names = list(), list()\n",
    "    # input sequence (t-n, ... t-1)\n",
    "    for j in range(n_vars):\n",
    "        for i in range(n_in, 0, -1):\n",
    "            cols.append(df.iloc[:,j].shift(i))\n",
    "            names.append('var{}(t-{})'.format(j+1, i))\n",
    "    \n",
    "    # forecast sequence (t+1, ... t+n)\n",
    "    for j in range(n_vars):\n",
    "        for i in range(0, n_out):\n",
    "            cols.append(df.iloc[:,j].shift(-i))\n",
    "            names += [('var{}(t+{})'.format(j+1, i)) ]\n",
    "    # put it all together\n",
    "    agg = pd.concat(cols, axis=1)\n",
    "    agg.columns = names\n",
    "    \n",
    "    #drop rows with NaN values\n",
    "    if dropnan:\n",
    "        agg.dropna(inplace=True)\n",
    "    return agg\n",
    "\n",
    "## Distribution plot funciton\n",
    "def distri_plot(df):\n",
    "    f, axes = plt.subplots(3, 3, figsize=(15, 11), sharex=False)\n",
    "    for idx, col_name in enumerate(df.columns, 0): \n",
    "        idx = int(idx)\n",
    "        ## jump to plotting energy\n",
    "        if(col_name == \"rain\"):\n",
    "            sns.distplot(df[\"energy\"],ax=axes[2,2])\n",
    "            return\n",
    "        sns.distplot(df[col_name],ax=axes[idx//3,idx%3])  \n",
    "    ## plot     \n",
    "    plt.tight_layout()\n",
    "\n",
    "## Scatter plot function\n",
    "def scatter_plot(df):\n",
    "    f, axes = plt.subplots(4, 2, figsize=(15, 11), sharex=False)\n",
    "    for idx, col_name in enumerate(df.columns, 0): \n",
    "        idx = int(idx)\n",
    "        if(idx >= 8):\n",
    "            return\n",
    "        ## jump to plotting energy\n",
    "        sns.scatterplot(x= col_name,y = \"energy\", data = df, ax=axes[idx//2,idx%2])  \n",
    "    ## plot     \n",
    "    plt.tight_layout()\n",
    "\n",
    "\n",
    "## plot dataframe creation\n",
    "def plot_df(arr, name):\n",
    "    plot_df = pd.DataFrame()\n",
    "    i = 0\n",
    "    for row in arr:\n",
    "        plot_df.insert(i, \"{}_{}\".format(name,i), row, True) \n",
    "        i += 1\n",
    "    return plot_df\n",
    "\n",
    "def get_eval(y, yhat):\n",
    "    print(\"MSE: {}\".format(mean_squared_error(y,yhat)))\n",
    "    print(\"MAE: {}\".format(mean_absolute_error(y,yhat)))\n",
    "    print(\"r2_score: {}\".format(r2_score(y,yhat, multioutput = \"variance_weighted\")))\n",
    "    "
   ]
  },
  {
   "cell_type": "code",
   "execution_count": 3,
   "metadata": {},
   "outputs": [],
   "source": [
    "train = pd.read_csv(\"../data/train_nocat.csv\")\n",
    "test = pd.read_csv(\"../data/test_nocat.csv\")"
   ]
  },
  {
   "cell_type": "code",
   "execution_count": 4,
   "metadata": {},
   "outputs": [],
   "source": [
    "train = train.set_index(\"Unnamed: 0\")\n",
    "test = test.set_index(\"Unnamed: 0\")"
   ]
  },
  {
   "cell_type": "markdown",
   "metadata": {},
   "source": [
    "### Creat lag ahead scenarios"
   ]
  },
  {
   "cell_type": "code",
   "execution_count": 5,
   "metadata": {
    "scrolled": true
   },
   "outputs": [
    {
     "data": {
      "text/plain": [
       "((13991, 392), (13991, 49))"
      ]
     },
     "execution_count": 5,
     "metadata": {},
     "output_type": "execute_result"
    }
   ],
   "source": [
    "#create 48 hours recency effect matrix\n",
    "ahead_w = lag_ahead_series(train.iloc[:,:8], n_in=0, n_out=49, n_vars = 8, dropnan=True)\n",
    "\n",
    "#create 48 housrs ahead energy consumption matrix\n",
    "ahead_e = lag_ahead_series(train.iloc[:,8:], n_in=0, n_out=49, n_vars = 1, dropnan=True)\n",
    "\n",
    "ahead_w.shape, ahead_e.shape"
   ]
  },
  {
   "cell_type": "code",
   "execution_count": 6,
   "metadata": {
    "scrolled": true
   },
   "outputs": [
    {
     "data": {
      "text/plain": [
       "((5775, 392), (5775, 49))"
      ]
     },
     "execution_count": 6,
     "metadata": {},
     "output_type": "execute_result"
    }
   ],
   "source": [
    "#create 48 hours recency effect matrix\n",
    "ahead_wt = lag_ahead_series(test.iloc[:,:8], n_in=0, n_out=49, n_vars = 8, dropnan=True)\n",
    "\n",
    "#create 48 housrs ahead energy consumption matrix\n",
    "ahead_et = lag_ahead_series(test.iloc[:,8:], n_in=0, n_out=49, n_vars = 1, dropnan=True)\n",
    "\n",
    "ahead_wt.shape, ahead_et.shape"
   ]
  },
  {
   "cell_type": "markdown",
   "metadata": {},
   "source": [
    "## Autosklearn"
   ]
  },
  {
   "cell_type": "code",
   "execution_count": 12,
   "metadata": {},
   "outputs": [
    {
     "name": "stderr",
     "output_type": "stream",
     "text": [
      "/home/charles/anaconda3/lib/python3.7/site-packages/autosklearn/automl.py:887: DataConversionWarning: A column-vector y was passed when a 1d array was expected. Will change shape via np.ravel().\n",
      "  y = self._check_y(y)\n",
      "/home/charles/anaconda3/lib/python3.7/site-packages/autosklearn/automl.py:887: DataConversionWarning: A column-vector y was passed when a 1d array was expected. Will change shape via np.ravel().\n",
      "  y = self._check_y(y)\n",
      "/home/charles/anaconda3/lib/python3.7/site-packages/autosklearn/automl.py:887: DataConversionWarning: A column-vector y was passed when a 1d array was expected. Will change shape via np.ravel().\n",
      "  y = self._check_y(y)\n",
      "/home/charles/anaconda3/lib/python3.7/site-packages/autosklearn/automl.py:887: DataConversionWarning: A column-vector y was passed when a 1d array was expected. Will change shape via np.ravel().\n",
      "  y = self._check_y(y)\n",
      "/home/charles/anaconda3/lib/python3.7/site-packages/autosklearn/automl.py:887: DataConversionWarning: A column-vector y was passed when a 1d array was expected. Will change shape via np.ravel().\n",
      "  y = self._check_y(y)\n",
      "/home/charles/anaconda3/lib/python3.7/site-packages/autosklearn/automl.py:887: DataConversionWarning: A column-vector y was passed when a 1d array was expected. Will change shape via np.ravel().\n",
      "  y = self._check_y(y)\n",
      "/home/charles/anaconda3/lib/python3.7/site-packages/autosklearn/automl.py:887: DataConversionWarning: A column-vector y was passed when a 1d array was expected. Will change shape via np.ravel().\n",
      "  y = self._check_y(y)\n",
      "/home/charles/anaconda3/lib/python3.7/site-packages/autosklearn/automl.py:887: DataConversionWarning: A column-vector y was passed when a 1d array was expected. Will change shape via np.ravel().\n",
      "  y = self._check_y(y)\n"
     ]
    },
    {
     "name": "stdout",
     "output_type": "stream",
     "text": [
      "[WARNING] [2020-03-19 20:32:29,166:EnsembleBuilder(1791095845):28bee70f51bbda319d151e96d8f7d1a7] No models better than random - using Dummy Score!\n",
      "[WARNING] [2020-03-19 20:32:29,172:EnsembleBuilder(1791095845):28bee70f51bbda319d151e96d8f7d1a7] No models better than random - using Dummy Score!\n",
      "[WARNING] [2020-03-19 20:32:31,177:EnsembleBuilder(1791095845):28bee70f51bbda319d151e96d8f7d1a7] No models better than random - using Dummy Score!\n",
      "[WARNING] [2020-03-19 20:32:33,181:EnsembleBuilder(1791095845):28bee70f51bbda319d151e96d8f7d1a7] No models better than random - using Dummy Score!\n",
      "[WARNING] [2020-03-19 20:32:35,186:EnsembleBuilder(1791095845):28bee70f51bbda319d151e96d8f7d1a7] No models better than random - using Dummy Score!\n",
      "[WARNING] [2020-03-19 20:32:37,189:EnsembleBuilder(1791095845):28bee70f51bbda319d151e96d8f7d1a7] No models better than random - using Dummy Score!\n",
      "[WARNING] [2020-03-19 20:32:39,193:EnsembleBuilder(1791095845):28bee70f51bbda319d151e96d8f7d1a7] No models better than random - using Dummy Score!\n",
      "[WARNING] [2020-03-19 20:32:41,197:EnsembleBuilder(1791095845):28bee70f51bbda319d151e96d8f7d1a7] No models better than random - using Dummy Score!\n",
      "[WARNING] [2020-03-19 20:32:43,201:EnsembleBuilder(1791095845):28bee70f51bbda319d151e96d8f7d1a7] No models better than random - using Dummy Score!\n",
      "[WARNING] [2020-03-19 20:32:45,205:EnsembleBuilder(1791095845):28bee70f51bbda319d151e96d8f7d1a7] No models better than random - using Dummy Score!\n",
      "[WARNING] [2020-03-19 20:32:47,209:EnsembleBuilder(1791095845):28bee70f51bbda319d151e96d8f7d1a7] No models better than random - using Dummy Score!\n",
      "[WARNING] [2020-03-19 20:32:49,214:EnsembleBuilder(1791095845):28bee70f51bbda319d151e96d8f7d1a7] No models better than random - using Dummy Score!\n",
      "[WARNING] [2020-03-19 20:32:51,218:EnsembleBuilder(1791095845):28bee70f51bbda319d151e96d8f7d1a7] No models better than random - using Dummy Score!\n",
      "[WARNING] [2020-03-19 20:32:53,221:EnsembleBuilder(1791095845):28bee70f51bbda319d151e96d8f7d1a7] No models better than random - using Dummy Score!\n",
      "[WARNING] [2020-03-19 20:32:55,229:EnsembleBuilder(1791095845):28bee70f51bbda319d151e96d8f7d1a7] No models better than random - using Dummy Score!\n",
      "[WARNING] [2020-03-19 20:32:57,261:EnsembleBuilder(1791095845):28bee70f51bbda319d151e96d8f7d1a7] No models better than random - using Dummy Score!\n",
      "[WARNING] [2020-03-19 20:32:59,270:EnsembleBuilder(1791095845):28bee70f51bbda319d151e96d8f7d1a7] No models better than random - using Dummy Score!\n",
      "[WARNING] [2020-03-19 20:33:01,278:EnsembleBuilder(1791095845):28bee70f51bbda319d151e96d8f7d1a7] No models better than random - using Dummy Score!\n",
      "[WARNING] [2020-03-19 20:33:03,300:EnsembleBuilder(1791095845):28bee70f51bbda319d151e96d8f7d1a7] No models better than random - using Dummy Score!\n",
      "[WARNING] [2020-03-19 20:33:05,309:EnsembleBuilder(1791095845):28bee70f51bbda319d151e96d8f7d1a7] No models better than random - using Dummy Score!\n",
      "[WARNING] [2020-03-19 20:33:07,322:EnsembleBuilder(1791095845):28bee70f51bbda319d151e96d8f7d1a7] No models better than random - using Dummy Score!\n",
      "[WARNING] [2020-03-19 20:33:09,329:EnsembleBuilder(1791095845):28bee70f51bbda319d151e96d8f7d1a7] No models better than random - using Dummy Score!\n",
      "[WARNING] [2020-03-19 20:33:11,346:EnsembleBuilder(1791095845):28bee70f51bbda319d151e96d8f7d1a7] No models better than random - using Dummy Score!\n",
      "[WARNING] [2020-03-19 20:33:13,350:EnsembleBuilder(1791095845):28bee70f51bbda319d151e96d8f7d1a7] No models better than random - using Dummy Score!\n",
      "[WARNING] [2020-03-19 20:33:15,362:EnsembleBuilder(1791095845):28bee70f51bbda319d151e96d8f7d1a7] No models better than random - using Dummy Score!\n",
      "[WARNING] [2020-03-19 20:33:17,370:EnsembleBuilder(1791095845):28bee70f51bbda319d151e96d8f7d1a7] No models better than random - using Dummy Score!\n",
      "[WARNING] [2020-03-19 20:33:19,401:EnsembleBuilder(1791095845):28bee70f51bbda319d151e96d8f7d1a7] No models better than random - using Dummy Score!\n",
      "[WARNING] [2020-03-19 20:33:21,410:EnsembleBuilder(1791095845):28bee70f51bbda319d151e96d8f7d1a7] No models better than random - using Dummy Score!\n",
      "[WARNING] [2020-03-19 20:33:23,422:EnsembleBuilder(1791095845):28bee70f51bbda319d151e96d8f7d1a7] No models better than random - using Dummy Score!\n",
      "[WARNING] [2020-03-19 20:33:25,432:EnsembleBuilder(1791095845):28bee70f51bbda319d151e96d8f7d1a7] No models better than random - using Dummy Score!\n",
      "[WARNING] [2020-03-19 20:33:27,466:EnsembleBuilder(1791095845):28bee70f51bbda319d151e96d8f7d1a7] No models better than random - using Dummy Score!\n",
      "[WARNING] [2020-03-19 20:33:29,476:EnsembleBuilder(1791095845):28bee70f51bbda319d151e96d8f7d1a7] No models better than random - using Dummy Score!\n",
      "[WARNING] [2020-03-19 20:33:31,487:EnsembleBuilder(1791095845):28bee70f51bbda319d151e96d8f7d1a7] No models better than random - using Dummy Score!\n",
      "[WARNING] [2020-03-19 20:33:33,498:EnsembleBuilder(1791095845):28bee70f51bbda319d151e96d8f7d1a7] No models better than random - using Dummy Score!\n",
      "[WARNING] [2020-03-19 20:33:35,512:EnsembleBuilder(1791095845):28bee70f51bbda319d151e96d8f7d1a7] No models better than random - using Dummy Score!\n",
      "[WARNING] [2020-03-19 20:33:37,522:EnsembleBuilder(1791095845):28bee70f51bbda319d151e96d8f7d1a7] No models better than random - using Dummy Score!\n",
      "[WARNING] [2020-03-19 20:33:39,544:EnsembleBuilder(1791095845):28bee70f51bbda319d151e96d8f7d1a7] No models better than random - using Dummy Score!\n",
      "[WARNING] [2020-03-19 20:33:41,561:EnsembleBuilder(1791095845):28bee70f51bbda319d151e96d8f7d1a7] No models better than random - using Dummy Score!\n",
      "[WARNING] [2020-03-19 20:33:43,573:EnsembleBuilder(1791095845):28bee70f51bbda319d151e96d8f7d1a7] No models better than random - using Dummy Score!\n",
      "[WARNING] [2020-03-19 20:33:45,596:EnsembleBuilder(1791095845):28bee70f51bbda319d151e96d8f7d1a7] No models better than random - using Dummy Score!\n",
      "[WARNING] [2020-03-19 20:33:47,616:EnsembleBuilder(1791095845):28bee70f51bbda319d151e96d8f7d1a7] No models better than random - using Dummy Score!\n",
      "[WARNING] [2020-03-19 20:33:49,659:EnsembleBuilder(1791095845):28bee70f51bbda319d151e96d8f7d1a7] No models better than random - using Dummy Score!\n",
      "[WARNING] [2020-03-19 20:33:51,682:EnsembleBuilder(1791095845):28bee70f51bbda319d151e96d8f7d1a7] No models better than random - using Dummy Score!\n",
      "[WARNING] [2020-03-19 20:33:53,693:EnsembleBuilder(1791095845):28bee70f51bbda319d151e96d8f7d1a7] No models better than random - using Dummy Score!\n",
      "[WARNING] [2020-03-19 20:33:55,706:EnsembleBuilder(1791095845):28bee70f51bbda319d151e96d8f7d1a7] No models better than random - using Dummy Score!\n",
      "[WARNING] [2020-03-19 20:33:57,728:EnsembleBuilder(1791095845):28bee70f51bbda319d151e96d8f7d1a7] No models better than random - using Dummy Score!\n",
      "[WARNING] [2020-03-19 20:33:59,766:EnsembleBuilder(1791095845):28bee70f51bbda319d151e96d8f7d1a7] No models better than random - using Dummy Score!\n",
      "[WARNING] [2020-03-19 20:34:01,789:EnsembleBuilder(1791095845):28bee70f51bbda319d151e96d8f7d1a7] No models better than random - using Dummy Score!\n",
      "[WARNING] [2020-03-19 20:34:03,813:EnsembleBuilder(1791095845):28bee70f51bbda319d151e96d8f7d1a7] No models better than random - using Dummy Score!\n",
      "[WARNING] [2020-03-19 20:34:05,825:EnsembleBuilder(1791095845):28bee70f51bbda319d151e96d8f7d1a7] No models better than random - using Dummy Score!\n",
      "[WARNING] [2020-03-19 20:34:07,838:EnsembleBuilder(1791095845):28bee70f51bbda319d151e96d8f7d1a7] No models better than random - using Dummy Score!\n",
      "[WARNING] [2020-03-19 20:34:09,852:EnsembleBuilder(1791095845):28bee70f51bbda319d151e96d8f7d1a7] No models better than random - using Dummy Score!\n",
      "[WARNING] [2020-03-19 20:34:11,862:EnsembleBuilder(1791095845):28bee70f51bbda319d151e96d8f7d1a7] No models better than random - using Dummy Score!\n",
      "[WARNING] [2020-03-19 20:34:13,874:EnsembleBuilder(1791095845):28bee70f51bbda319d151e96d8f7d1a7] No models better than random - using Dummy Score!\n",
      "[WARNING] [2020-03-19 20:34:15,889:EnsembleBuilder(1791095845):28bee70f51bbda319d151e96d8f7d1a7] No models better than random - using Dummy Score!\n",
      "[WARNING] [2020-03-19 20:34:17,898:EnsembleBuilder(1791095845):28bee70f51bbda319d151e96d8f7d1a7] No models better than random - using Dummy Score!\n"
     ]
    },
    {
     "name": "stdout",
     "output_type": "stream",
     "text": [
      "[WARNING] [2020-03-19 20:34:19,920:EnsembleBuilder(1791095845):28bee70f51bbda319d151e96d8f7d1a7] No models better than random - using Dummy Score!\n",
      "[WARNING] [2020-03-19 20:34:21,933:EnsembleBuilder(1791095845):28bee70f51bbda319d151e96d8f7d1a7] No models better than random - using Dummy Score!\n",
      "[WARNING] [2020-03-19 20:34:23,938:EnsembleBuilder(1791095845):28bee70f51bbda319d151e96d8f7d1a7] No models better than random - using Dummy Score!\n",
      "[WARNING] [2020-03-19 20:34:25,952:EnsembleBuilder(1791095845):28bee70f51bbda319d151e96d8f7d1a7] No models better than random - using Dummy Score!\n",
      "[WARNING] [2020-03-19 20:34:27,968:EnsembleBuilder(1791095845):28bee70f51bbda319d151e96d8f7d1a7] No models better than random - using Dummy Score!\n",
      "[WARNING] [2020-03-19 20:34:29,974:EnsembleBuilder(1791095845):28bee70f51bbda319d151e96d8f7d1a7] No models better than random - using Dummy Score!\n",
      "[WARNING] [2020-03-19 20:34:31,980:EnsembleBuilder(1791095845):28bee70f51bbda319d151e96d8f7d1a7] No models better than random - using Dummy Score!\n"
     ]
    },
    {
     "name": "stderr",
     "output_type": "stream",
     "text": [
      "/home/charles/anaconda3/lib/python3.7/site-packages/autosklearn/automl.py:887: DataConversionWarning: A column-vector y was passed when a 1d array was expected. Will change shape via np.ravel().\n",
      "  y = self._check_y(y)\n",
      "/home/charles/anaconda3/lib/python3.7/site-packages/autosklearn/automl.py:887: DataConversionWarning: A column-vector y was passed when a 1d array was expected. Will change shape via np.ravel().\n",
      "  y = self._check_y(y)\n",
      "/home/charles/anaconda3/lib/python3.7/site-packages/autosklearn/automl.py:887: DataConversionWarning: A column-vector y was passed when a 1d array was expected. Will change shape via np.ravel().\n",
      "  y = self._check_y(y)\n",
      "/home/charles/anaconda3/lib/python3.7/site-packages/autosklearn/automl.py:887: DataConversionWarning: A column-vector y was passed when a 1d array was expected. Will change shape via np.ravel().\n",
      "  y = self._check_y(y)\n",
      "/home/charles/anaconda3/lib/python3.7/site-packages/autosklearn/automl.py:887: DataConversionWarning: A column-vector y was passed when a 1d array was expected. Will change shape via np.ravel().\n",
      "  y = self._check_y(y)\n",
      "/home/charles/anaconda3/lib/python3.7/site-packages/autosklearn/automl.py:887: DataConversionWarning: A column-vector y was passed when a 1d array was expected. Will change shape via np.ravel().\n",
      "  y = self._check_y(y)\n",
      "/home/charles/anaconda3/lib/python3.7/site-packages/autosklearn/automl.py:887: DataConversionWarning: A column-vector y was passed when a 1d array was expected. Will change shape via np.ravel().\n",
      "  y = self._check_y(y)\n",
      "/home/charles/anaconda3/lib/python3.7/site-packages/autosklearn/automl.py:887: DataConversionWarning: A column-vector y was passed when a 1d array was expected. Will change shape via np.ravel().\n",
      "  y = self._check_y(y)\n"
     ]
    },
    {
     "name": "stdout",
     "output_type": "stream",
     "text": [
      "[WARNING] [2020-03-19 20:39:04,228:EnsembleBuilder(1791095845):28bee70f51bbda319d151e96d8f7d1a7] No models better than random - using Dummy Score!\n",
      "[WARNING] [2020-03-19 20:39:04,235:EnsembleBuilder(1791095845):28bee70f51bbda319d151e96d8f7d1a7] No models better than random - using Dummy Score!\n",
      "[WARNING] [2020-03-19 20:39:06,241:EnsembleBuilder(1791095845):28bee70f51bbda319d151e96d8f7d1a7] No models better than random - using Dummy Score!\n",
      "[WARNING] [2020-03-19 20:39:08,260:EnsembleBuilder(1791095845):28bee70f51bbda319d151e96d8f7d1a7] No models better than random - using Dummy Score!\n",
      "[WARNING] [2020-03-19 20:39:10,278:EnsembleBuilder(1791095845):28bee70f51bbda319d151e96d8f7d1a7] No models better than random - using Dummy Score!\n",
      "[WARNING] [2020-03-19 20:39:12,292:EnsembleBuilder(1791095845):28bee70f51bbda319d151e96d8f7d1a7] No models better than random - using Dummy Score!\n"
     ]
    },
    {
     "name": "stderr",
     "output_type": "stream",
     "text": [
      "/home/charles/anaconda3/lib/python3.7/site-packages/autosklearn/automl.py:887: DataConversionWarning: A column-vector y was passed when a 1d array was expected. Will change shape via np.ravel().\n",
      "  y = self._check_y(y)\n",
      "/home/charles/anaconda3/lib/python3.7/site-packages/autosklearn/automl.py:887: DataConversionWarning: A column-vector y was passed when a 1d array was expected. Will change shape via np.ravel().\n",
      "  y = self._check_y(y)\n",
      "/home/charles/anaconda3/lib/python3.7/site-packages/autosklearn/automl.py:887: DataConversionWarning: A column-vector y was passed when a 1d array was expected. Will change shape via np.ravel().\n",
      "  y = self._check_y(y)\n",
      "/home/charles/anaconda3/lib/python3.7/site-packages/autosklearn/automl.py:887: DataConversionWarning: A column-vector y was passed when a 1d array was expected. Will change shape via np.ravel().\n",
      "  y = self._check_y(y)\n",
      "/home/charles/anaconda3/lib/python3.7/site-packages/autosklearn/automl.py:887: DataConversionWarning: A column-vector y was passed when a 1d array was expected. Will change shape via np.ravel().\n",
      "  y = self._check_y(y)\n",
      "/home/charles/anaconda3/lib/python3.7/site-packages/autosklearn/automl.py:887: DataConversionWarning: A column-vector y was passed when a 1d array was expected. Will change shape via np.ravel().\n",
      "  y = self._check_y(y)\n",
      "/home/charles/anaconda3/lib/python3.7/site-packages/autosklearn/automl.py:887: DataConversionWarning: A column-vector y was passed when a 1d array was expected. Will change shape via np.ravel().\n",
      "  y = self._check_y(y)\n",
      "/home/charles/anaconda3/lib/python3.7/site-packages/autosklearn/automl.py:887: DataConversionWarning: A column-vector y was passed when a 1d array was expected. Will change shape via np.ravel().\n",
      "  y = self._check_y(y)\n"
     ]
    },
    {
     "name": "stdout",
     "output_type": "stream",
     "text": [
      "[WARNING] [2020-03-19 20:45:39,971:EnsembleBuilder(1791095845):28bee70f51bbda319d151e96d8f7d1a7] No models better than random - using Dummy Score!\n",
      "[WARNING] [2020-03-19 20:45:39,977:EnsembleBuilder(1791095845):28bee70f51bbda319d151e96d8f7d1a7] No models better than random - using Dummy Score!\n",
      "[WARNING] [2020-03-19 20:45:41,984:EnsembleBuilder(1791095845):28bee70f51bbda319d151e96d8f7d1a7] No models better than random - using Dummy Score!\n",
      "[WARNING] [2020-03-19 20:45:44,001:EnsembleBuilder(1791095845):28bee70f51bbda319d151e96d8f7d1a7] No models better than random - using Dummy Score!\n",
      "[WARNING] [2020-03-19 20:45:46,014:EnsembleBuilder(1791095845):28bee70f51bbda319d151e96d8f7d1a7] No models better than random - using Dummy Score!\n",
      "[WARNING] [2020-03-19 20:45:48,033:EnsembleBuilder(1791095845):28bee70f51bbda319d151e96d8f7d1a7] No models better than random - using Dummy Score!\n",
      "[WARNING] [2020-03-19 20:45:50,048:EnsembleBuilder(1791095845):28bee70f51bbda319d151e96d8f7d1a7] No models better than random - using Dummy Score!\n",
      "[WARNING] [2020-03-19 20:45:52,065:EnsembleBuilder(1791095845):28bee70f51bbda319d151e96d8f7d1a7] No models better than random - using Dummy Score!\n"
     ]
    },
    {
     "name": "stderr",
     "output_type": "stream",
     "text": [
      "/home/charles/anaconda3/lib/python3.7/site-packages/autosklearn/automl.py:887: DataConversionWarning: A column-vector y was passed when a 1d array was expected. Will change shape via np.ravel().\n",
      "  y = self._check_y(y)\n",
      "/home/charles/anaconda3/lib/python3.7/site-packages/autosklearn/automl.py:887: DataConversionWarning: A column-vector y was passed when a 1d array was expected. Will change shape via np.ravel().\n",
      "  y = self._check_y(y)\n",
      "/home/charles/anaconda3/lib/python3.7/site-packages/autosklearn/automl.py:887: DataConversionWarning: A column-vector y was passed when a 1d array was expected. Will change shape via np.ravel().\n",
      "  y = self._check_y(y)\n",
      "/home/charles/anaconda3/lib/python3.7/site-packages/autosklearn/automl.py:887: DataConversionWarning: A column-vector y was passed when a 1d array was expected. Will change shape via np.ravel().\n",
      "  y = self._check_y(y)\n",
      "/home/charles/anaconda3/lib/python3.7/site-packages/autosklearn/automl.py:887: DataConversionWarning: A column-vector y was passed when a 1d array was expected. Will change shape via np.ravel().\n",
      "  y = self._check_y(y)\n",
      "/home/charles/anaconda3/lib/python3.7/site-packages/autosklearn/automl.py:887: DataConversionWarning: A column-vector y was passed when a 1d array was expected. Will change shape via np.ravel().\n",
      "  y = self._check_y(y)\n",
      "/home/charles/anaconda3/lib/python3.7/site-packages/autosklearn/automl.py:887: DataConversionWarning: A column-vector y was passed when a 1d array was expected. Will change shape via np.ravel().\n",
      "  y = self._check_y(y)\n",
      "/home/charles/anaconda3/lib/python3.7/site-packages/autosklearn/automl.py:887: DataConversionWarning: A column-vector y was passed when a 1d array was expected. Will change shape via np.ravel().\n",
      "  y = self._check_y(y)\n"
     ]
    },
    {
     "name": "stdout",
     "output_type": "stream",
     "text": [
      "[WARNING] [2020-03-19 20:52:17,684:EnsembleBuilder(1791095845):28bee70f51bbda319d151e96d8f7d1a7] No models better than random - using Dummy Score!\n",
      "[WARNING] [2020-03-19 20:52:17,713:EnsembleBuilder(1791095845):28bee70f51bbda319d151e96d8f7d1a7] No models better than random - using Dummy Score!\n",
      "[WARNING] [2020-03-19 20:52:19,738:EnsembleBuilder(1791095845):28bee70f51bbda319d151e96d8f7d1a7] No models better than random - using Dummy Score!\n",
      "[WARNING] [2020-03-19 20:52:21,748:EnsembleBuilder(1791095845):28bee70f51bbda319d151e96d8f7d1a7] No models better than random - using Dummy Score!\n",
      "[WARNING] [2020-03-19 20:52:23,772:EnsembleBuilder(1791095845):28bee70f51bbda319d151e96d8f7d1a7] No models better than random - using Dummy Score!\n"
     ]
    },
    {
     "name": "stderr",
     "output_type": "stream",
     "text": [
      "/home/charles/anaconda3/lib/python3.7/site-packages/autosklearn/automl.py:887: DataConversionWarning: A column-vector y was passed when a 1d array was expected. Will change shape via np.ravel().\n",
      "  y = self._check_y(y)\n",
      "/home/charles/anaconda3/lib/python3.7/site-packages/autosklearn/automl.py:887: DataConversionWarning: A column-vector y was passed when a 1d array was expected. Will change shape via np.ravel().\n",
      "  y = self._check_y(y)\n",
      "/home/charles/anaconda3/lib/python3.7/site-packages/autosklearn/automl.py:887: DataConversionWarning: A column-vector y was passed when a 1d array was expected. Will change shape via np.ravel().\n",
      "  y = self._check_y(y)\n",
      "/home/charles/anaconda3/lib/python3.7/site-packages/autosklearn/automl.py:887: DataConversionWarning: A column-vector y was passed when a 1d array was expected. Will change shape via np.ravel().\n",
      "  y = self._check_y(y)\n",
      "/home/charles/anaconda3/lib/python3.7/site-packages/autosklearn/automl.py:887: DataConversionWarning: A column-vector y was passed when a 1d array was expected. Will change shape via np.ravel().\n",
      "  y = self._check_y(y)\n",
      "/home/charles/anaconda3/lib/python3.7/site-packages/autosklearn/automl.py:887: DataConversionWarning: A column-vector y was passed when a 1d array was expected. Will change shape via np.ravel().\n",
      "  y = self._check_y(y)\n",
      "/home/charles/anaconda3/lib/python3.7/site-packages/autosklearn/automl.py:887: DataConversionWarning: A column-vector y was passed when a 1d array was expected. Will change shape via np.ravel().\n",
      "  y = self._check_y(y)\n",
      "/home/charles/anaconda3/lib/python3.7/site-packages/autosklearn/automl.py:887: DataConversionWarning: A column-vector y was passed when a 1d array was expected. Will change shape via np.ravel().\n",
      "  y = self._check_y(y)\n"
     ]
    },
    {
     "name": "stdout",
     "output_type": "stream",
     "text": [
      "[WARNING] [2020-03-19 20:58:52,827:EnsembleBuilder(1791095845):28bee70f51bbda319d151e96d8f7d1a7] No models better than random - using Dummy Score!\n",
      "[WARNING] [2020-03-19 20:58:52,834:EnsembleBuilder(1791095845):28bee70f51bbda319d151e96d8f7d1a7] No models better than random - using Dummy Score!\n",
      "[WARNING] [2020-03-19 20:58:54,842:EnsembleBuilder(1791095845):28bee70f51bbda319d151e96d8f7d1a7] No models better than random - using Dummy Score!\n",
      "[WARNING] [2020-03-19 20:58:56,850:EnsembleBuilder(1791095845):28bee70f51bbda319d151e96d8f7d1a7] No models better than random - using Dummy Score!\n",
      "[WARNING] [2020-03-19 20:58:58,854:EnsembleBuilder(1791095845):28bee70f51bbda319d151e96d8f7d1a7] No models better than random - using Dummy Score!\n",
      "[WARNING] [2020-03-19 20:59:00,870:EnsembleBuilder(1791095845):28bee70f51bbda319d151e96d8f7d1a7] No models better than random - using Dummy Score!\n",
      "[WARNING] [2020-03-19 20:59:02,882:EnsembleBuilder(1791095845):28bee70f51bbda319d151e96d8f7d1a7] No models better than random - using Dummy Score!\n"
     ]
    },
    {
     "name": "stderr",
     "output_type": "stream",
     "text": [
      "/home/charles/anaconda3/lib/python3.7/site-packages/autosklearn/automl.py:887: DataConversionWarning: A column-vector y was passed when a 1d array was expected. Will change shape via np.ravel().\n",
      "  y = self._check_y(y)\n",
      "/home/charles/anaconda3/lib/python3.7/site-packages/autosklearn/automl.py:887: DataConversionWarning: A column-vector y was passed when a 1d array was expected. Will change shape via np.ravel().\n",
      "  y = self._check_y(y)\n",
      "/home/charles/anaconda3/lib/python3.7/site-packages/autosklearn/automl.py:887: DataConversionWarning: A column-vector y was passed when a 1d array was expected. Will change shape via np.ravel().\n",
      "  y = self._check_y(y)\n",
      "/home/charles/anaconda3/lib/python3.7/site-packages/autosklearn/automl.py:887: DataConversionWarning: A column-vector y was passed when a 1d array was expected. Will change shape via np.ravel().\n",
      "  y = self._check_y(y)\n",
      "/home/charles/anaconda3/lib/python3.7/site-packages/autosklearn/automl.py:887: DataConversionWarning: A column-vector y was passed when a 1d array was expected. Will change shape via np.ravel().\n",
      "  y = self._check_y(y)\n",
      "/home/charles/anaconda3/lib/python3.7/site-packages/autosklearn/automl.py:887: DataConversionWarning: A column-vector y was passed when a 1d array was expected. Will change shape via np.ravel().\n",
      "  y = self._check_y(y)\n",
      "/home/charles/anaconda3/lib/python3.7/site-packages/autosklearn/automl.py:887: DataConversionWarning: A column-vector y was passed when a 1d array was expected. Will change shape via np.ravel().\n",
      "  y = self._check_y(y)\n",
      "/home/charles/anaconda3/lib/python3.7/site-packages/autosklearn/automl.py:887: DataConversionWarning: A column-vector y was passed when a 1d array was expected. Will change shape via np.ravel().\n",
      "  y = self._check_y(y)\n"
     ]
    },
    {
     "name": "stdout",
     "output_type": "stream",
     "text": [
      "[WARNING] [2020-03-19 21:05:29,386:EnsembleBuilder(1791095845):28bee70f51bbda319d151e96d8f7d1a7] No models better than random - using Dummy Score!\n",
      "[WARNING] [2020-03-19 21:05:29,411:EnsembleBuilder(1791095845):28bee70f51bbda319d151e96d8f7d1a7] No models better than random - using Dummy Score!\n",
      "[WARNING] [2020-03-19 21:05:31,417:EnsembleBuilder(1791095845):28bee70f51bbda319d151e96d8f7d1a7] No models better than random - using Dummy Score!\n",
      "[WARNING] [2020-03-19 21:05:33,434:EnsembleBuilder(1791095845):28bee70f51bbda319d151e96d8f7d1a7] No models better than random - using Dummy Score!\n",
      "[WARNING] [2020-03-19 21:05:35,445:EnsembleBuilder(1791095845):28bee70f51bbda319d151e96d8f7d1a7] No models better than random - using Dummy Score!\n",
      "[WARNING] [2020-03-19 21:05:37,450:EnsembleBuilder(1791095845):28bee70f51bbda319d151e96d8f7d1a7] No models better than random - using Dummy Score!\n",
      "[WARNING] [2020-03-19 21:05:39,461:EnsembleBuilder(1791095845):28bee70f51bbda319d151e96d8f7d1a7] No models better than random - using Dummy Score!\n",
      "[WARNING] [2020-03-19 21:05:41,466:EnsembleBuilder(1791095845):28bee70f51bbda319d151e96d8f7d1a7] No models better than random - using Dummy Score!\n"
     ]
    },
    {
     "name": "stderr",
     "output_type": "stream",
     "text": [
      "/home/charles/anaconda3/lib/python3.7/site-packages/autosklearn/automl.py:887: DataConversionWarning: A column-vector y was passed when a 1d array was expected. Will change shape via np.ravel().\n",
      "  y = self._check_y(y)\n",
      "/home/charles/anaconda3/lib/python3.7/site-packages/autosklearn/automl.py:887: DataConversionWarning: A column-vector y was passed when a 1d array was expected. Will change shape via np.ravel().\n",
      "  y = self._check_y(y)\n",
      "/home/charles/anaconda3/lib/python3.7/site-packages/autosklearn/automl.py:887: DataConversionWarning: A column-vector y was passed when a 1d array was expected. Will change shape via np.ravel().\n",
      "  y = self._check_y(y)\n",
      "/home/charles/anaconda3/lib/python3.7/site-packages/autosklearn/automl.py:887: DataConversionWarning: A column-vector y was passed when a 1d array was expected. Will change shape via np.ravel().\n",
      "  y = self._check_y(y)\n",
      "/home/charles/anaconda3/lib/python3.7/site-packages/autosklearn/automl.py:887: DataConversionWarning: A column-vector y was passed when a 1d array was expected. Will change shape via np.ravel().\n",
      "  y = self._check_y(y)\n",
      "/home/charles/anaconda3/lib/python3.7/site-packages/autosklearn/automl.py:887: DataConversionWarning: A column-vector y was passed when a 1d array was expected. Will change shape via np.ravel().\n",
      "  y = self._check_y(y)\n",
      "/home/charles/anaconda3/lib/python3.7/site-packages/autosklearn/automl.py:887: DataConversionWarning: A column-vector y was passed when a 1d array was expected. Will change shape via np.ravel().\n",
      "  y = self._check_y(y)\n",
      "/home/charles/anaconda3/lib/python3.7/site-packages/autosklearn/automl.py:887: DataConversionWarning: A column-vector y was passed when a 1d array was expected. Will change shape via np.ravel().\n",
      "  y = self._check_y(y)\n"
     ]
    },
    {
     "name": "stdout",
     "output_type": "stream",
     "text": [
      "[WARNING] [2020-03-19 21:12:05,619:EnsembleBuilder(1791095845):28bee70f51bbda319d151e96d8f7d1a7] No models better than random - using Dummy Score!\n",
      "[WARNING] [2020-03-19 21:12:05,635:EnsembleBuilder(1791095845):28bee70f51bbda319d151e96d8f7d1a7] No models better than random - using Dummy Score!\n",
      "[WARNING] [2020-03-19 21:12:07,642:EnsembleBuilder(1791095845):28bee70f51bbda319d151e96d8f7d1a7] No models better than random - using Dummy Score!\n",
      "[WARNING] [2020-03-19 21:12:09,654:EnsembleBuilder(1791095845):28bee70f51bbda319d151e96d8f7d1a7] No models better than random - using Dummy Score!\n",
      "[WARNING] [2020-03-19 21:12:11,678:EnsembleBuilder(1791095845):28bee70f51bbda319d151e96d8f7d1a7] No models better than random - using Dummy Score!\n",
      "[WARNING] [2020-03-19 21:12:13,692:EnsembleBuilder(1791095845):28bee70f51bbda319d151e96d8f7d1a7] No models better than random - using Dummy Score!\n",
      "[WARNING] [2020-03-19 21:12:15,705:EnsembleBuilder(1791095845):28bee70f51bbda319d151e96d8f7d1a7] No models better than random - using Dummy Score!\n",
      "[WARNING] [2020-03-19 21:12:17,714:EnsembleBuilder(1791095845):28bee70f51bbda319d151e96d8f7d1a7] No models better than random - using Dummy Score!\n",
      "[WARNING] [2020-03-19 21:12:19,726:EnsembleBuilder(1791095845):28bee70f51bbda319d151e96d8f7d1a7] No models better than random - using Dummy Score!\n",
      "[WARNING] [2020-03-19 21:12:21,750:EnsembleBuilder(1791095845):28bee70f51bbda319d151e96d8f7d1a7] No models better than random - using Dummy Score!\n"
     ]
    },
    {
     "name": "stderr",
     "output_type": "stream",
     "text": [
      "/home/charles/anaconda3/lib/python3.7/site-packages/autosklearn/automl.py:887: DataConversionWarning: A column-vector y was passed when a 1d array was expected. Will change shape via np.ravel().\n",
      "  y = self._check_y(y)\n",
      "/home/charles/anaconda3/lib/python3.7/site-packages/autosklearn/automl.py:887: DataConversionWarning: A column-vector y was passed when a 1d array was expected. Will change shape via np.ravel().\n",
      "  y = self._check_y(y)\n",
      "/home/charles/anaconda3/lib/python3.7/site-packages/autosklearn/automl.py:887: DataConversionWarning: A column-vector y was passed when a 1d array was expected. Will change shape via np.ravel().\n",
      "  y = self._check_y(y)\n",
      "/home/charles/anaconda3/lib/python3.7/site-packages/autosklearn/automl.py:887: DataConversionWarning: A column-vector y was passed when a 1d array was expected. Will change shape via np.ravel().\n",
      "  y = self._check_y(y)\n",
      "/home/charles/anaconda3/lib/python3.7/site-packages/autosklearn/automl.py:887: DataConversionWarning: A column-vector y was passed when a 1d array was expected. Will change shape via np.ravel().\n",
      "  y = self._check_y(y)\n",
      "/home/charles/anaconda3/lib/python3.7/site-packages/autosklearn/automl.py:887: DataConversionWarning: A column-vector y was passed when a 1d array was expected. Will change shape via np.ravel().\n",
      "  y = self._check_y(y)\n",
      "/home/charles/anaconda3/lib/python3.7/site-packages/autosklearn/automl.py:887: DataConversionWarning: A column-vector y was passed when a 1d array was expected. Will change shape via np.ravel().\n",
      "  y = self._check_y(y)\n",
      "/home/charles/anaconda3/lib/python3.7/site-packages/autosklearn/automl.py:887: DataConversionWarning: A column-vector y was passed when a 1d array was expected. Will change shape via np.ravel().\n",
      "  y = self._check_y(y)\n"
     ]
    },
    {
     "name": "stdout",
     "output_type": "stream",
     "text": [
      "[WARNING] [2020-03-19 21:18:40,333:EnsembleBuilder(1791095845):28bee70f51bbda319d151e96d8f7d1a7] No models better than random - using Dummy Score!\n",
      "[WARNING] [2020-03-19 21:18:40,340:EnsembleBuilder(1791095845):28bee70f51bbda319d151e96d8f7d1a7] No models better than random - using Dummy Score!\n",
      "[WARNING] [2020-03-19 21:18:42,348:EnsembleBuilder(1791095845):28bee70f51bbda319d151e96d8f7d1a7] No models better than random - using Dummy Score!\n",
      "[WARNING] [2020-03-19 21:18:44,377:EnsembleBuilder(1791095845):28bee70f51bbda319d151e96d8f7d1a7] No models better than random - using Dummy Score!\n",
      "[WARNING] [2020-03-19 21:18:46,390:EnsembleBuilder(1791095845):28bee70f51bbda319d151e96d8f7d1a7] No models better than random - using Dummy Score!\n",
      "[WARNING] [2020-03-19 21:18:48,398:EnsembleBuilder(1791095845):28bee70f51bbda319d151e96d8f7d1a7] No models better than random - using Dummy Score!\n"
     ]
    },
    {
     "name": "stderr",
     "output_type": "stream",
     "text": [
      "/home/charles/anaconda3/lib/python3.7/site-packages/autosklearn/automl.py:887: DataConversionWarning: A column-vector y was passed when a 1d array was expected. Will change shape via np.ravel().\n",
      "  y = self._check_y(y)\n",
      "/home/charles/anaconda3/lib/python3.7/site-packages/autosklearn/automl.py:887: DataConversionWarning: A column-vector y was passed when a 1d array was expected. Will change shape via np.ravel().\n",
      "  y = self._check_y(y)\n",
      "/home/charles/anaconda3/lib/python3.7/site-packages/autosklearn/automl.py:887: DataConversionWarning: A column-vector y was passed when a 1d array was expected. Will change shape via np.ravel().\n",
      "  y = self._check_y(y)\n",
      "/home/charles/anaconda3/lib/python3.7/site-packages/autosklearn/automl.py:887: DataConversionWarning: A column-vector y was passed when a 1d array was expected. Will change shape via np.ravel().\n",
      "  y = self._check_y(y)\n",
      "/home/charles/anaconda3/lib/python3.7/site-packages/autosklearn/automl.py:887: DataConversionWarning: A column-vector y was passed when a 1d array was expected. Will change shape via np.ravel().\n",
      "  y = self._check_y(y)\n",
      "/home/charles/anaconda3/lib/python3.7/site-packages/autosklearn/automl.py:887: DataConversionWarning: A column-vector y was passed when a 1d array was expected. Will change shape via np.ravel().\n",
      "  y = self._check_y(y)\n",
      "/home/charles/anaconda3/lib/python3.7/site-packages/autosklearn/automl.py:887: DataConversionWarning: A column-vector y was passed when a 1d array was expected. Will change shape via np.ravel().\n",
      "  y = self._check_y(y)\n",
      "/home/charles/anaconda3/lib/python3.7/site-packages/autosklearn/automl.py:887: DataConversionWarning: A column-vector y was passed when a 1d array was expected. Will change shape via np.ravel().\n",
      "  y = self._check_y(y)\n"
     ]
    },
    {
     "name": "stdout",
     "output_type": "stream",
     "text": [
      "[WARNING] [2020-03-19 21:25:16,816:EnsembleBuilder(1791095845):28bee70f51bbda319d151e96d8f7d1a7] No models better than random - using Dummy Score!\n",
      "[WARNING] [2020-03-19 21:25:16,823:EnsembleBuilder(1791095845):28bee70f51bbda319d151e96d8f7d1a7] No models better than random - using Dummy Score!\n",
      "[WARNING] [2020-03-19 21:25:18,829:EnsembleBuilder(1791095845):28bee70f51bbda319d151e96d8f7d1a7] No models better than random - using Dummy Score!\n",
      "[WARNING] [2020-03-19 21:25:20,838:EnsembleBuilder(1791095845):28bee70f51bbda319d151e96d8f7d1a7] No models better than random - using Dummy Score!\n",
      "[WARNING] [2020-03-19 21:25:22,861:EnsembleBuilder(1791095845):28bee70f51bbda319d151e96d8f7d1a7] No models better than random - using Dummy Score!\n",
      "[WARNING] [2020-03-19 21:25:24,868:EnsembleBuilder(1791095845):28bee70f51bbda319d151e96d8f7d1a7] No models better than random - using Dummy Score!\n",
      "[WARNING] [2020-03-19 21:25:26,874:EnsembleBuilder(1791095845):28bee70f51bbda319d151e96d8f7d1a7] No models better than random - using Dummy Score!\n",
      "[WARNING] [2020-03-19 21:25:28,882:EnsembleBuilder(1791095845):28bee70f51bbda319d151e96d8f7d1a7] No models better than random - using Dummy Score!\n",
      "[WARNING] [2020-03-19 21:25:30,897:EnsembleBuilder(1791095845):28bee70f51bbda319d151e96d8f7d1a7] No models better than random - using Dummy Score!\n"
     ]
    },
    {
     "name": "stderr",
     "output_type": "stream",
     "text": [
      "/home/charles/anaconda3/lib/python3.7/site-packages/autosklearn/automl.py:887: DataConversionWarning: A column-vector y was passed when a 1d array was expected. Will change shape via np.ravel().\n",
      "  y = self._check_y(y)\n",
      "/home/charles/anaconda3/lib/python3.7/site-packages/autosklearn/automl.py:887: DataConversionWarning: A column-vector y was passed when a 1d array was expected. Will change shape via np.ravel().\n",
      "  y = self._check_y(y)\n",
      "/home/charles/anaconda3/lib/python3.7/site-packages/autosklearn/automl.py:887: DataConversionWarning: A column-vector y was passed when a 1d array was expected. Will change shape via np.ravel().\n",
      "  y = self._check_y(y)\n",
      "/home/charles/anaconda3/lib/python3.7/site-packages/autosklearn/automl.py:887: DataConversionWarning: A column-vector y was passed when a 1d array was expected. Will change shape via np.ravel().\n",
      "  y = self._check_y(y)\n",
      "/home/charles/anaconda3/lib/python3.7/site-packages/autosklearn/automl.py:887: DataConversionWarning: A column-vector y was passed when a 1d array was expected. Will change shape via np.ravel().\n",
      "  y = self._check_y(y)\n",
      "/home/charles/anaconda3/lib/python3.7/site-packages/autosklearn/automl.py:887: DataConversionWarning: A column-vector y was passed when a 1d array was expected. Will change shape via np.ravel().\n",
      "  y = self._check_y(y)\n",
      "/home/charles/anaconda3/lib/python3.7/site-packages/autosklearn/automl.py:887: DataConversionWarning: A column-vector y was passed when a 1d array was expected. Will change shape via np.ravel().\n",
      "  y = self._check_y(y)\n",
      "/home/charles/anaconda3/lib/python3.7/site-packages/autosklearn/automl.py:887: DataConversionWarning: A column-vector y was passed when a 1d array was expected. Will change shape via np.ravel().\n",
      "  y = self._check_y(y)\n"
     ]
    },
    {
     "name": "stdout",
     "output_type": "stream",
     "text": [
      "[WARNING] [2020-03-19 21:31:51,393:EnsembleBuilder(1791095845):28bee70f51bbda319d151e96d8f7d1a7] No models better than random - using Dummy Score!\n",
      "[WARNING] [2020-03-19 21:31:51,402:EnsembleBuilder(1791095845):28bee70f51bbda319d151e96d8f7d1a7] No models better than random - using Dummy Score!\n",
      "[WARNING] [2020-03-19 21:31:53,408:EnsembleBuilder(1791095845):28bee70f51bbda319d151e96d8f7d1a7] No models better than random - using Dummy Score!\n",
      "[WARNING] [2020-03-19 21:31:55,414:EnsembleBuilder(1791095845):28bee70f51bbda319d151e96d8f7d1a7] No models better than random - using Dummy Score!\n",
      "[WARNING] [2020-03-19 21:31:57,426:EnsembleBuilder(1791095845):28bee70f51bbda319d151e96d8f7d1a7] No models better than random - using Dummy Score!\n",
      "[WARNING] [2020-03-19 21:31:59,441:EnsembleBuilder(1791095845):28bee70f51bbda319d151e96d8f7d1a7] No models better than random - using Dummy Score!\n",
      "[WARNING] [2020-03-19 21:32:01,446:EnsembleBuilder(1791095845):28bee70f51bbda319d151e96d8f7d1a7] No models better than random - using Dummy Score!\n"
     ]
    },
    {
     "name": "stderr",
     "output_type": "stream",
     "text": [
      "/home/charles/anaconda3/lib/python3.7/site-packages/autosklearn/automl.py:887: DataConversionWarning: A column-vector y was passed when a 1d array was expected. Will change shape via np.ravel().\n",
      "  y = self._check_y(y)\n",
      "/home/charles/anaconda3/lib/python3.7/site-packages/autosklearn/automl.py:887: DataConversionWarning: A column-vector y was passed when a 1d array was expected. Will change shape via np.ravel().\n",
      "  y = self._check_y(y)\n",
      "/home/charles/anaconda3/lib/python3.7/site-packages/autosklearn/automl.py:887: DataConversionWarning: A column-vector y was passed when a 1d array was expected. Will change shape via np.ravel().\n",
      "  y = self._check_y(y)\n",
      "/home/charles/anaconda3/lib/python3.7/site-packages/autosklearn/automl.py:887: DataConversionWarning: A column-vector y was passed when a 1d array was expected. Will change shape via np.ravel().\n",
      "  y = self._check_y(y)\n",
      "/home/charles/anaconda3/lib/python3.7/site-packages/autosklearn/automl.py:887: DataConversionWarning: A column-vector y was passed when a 1d array was expected. Will change shape via np.ravel().\n",
      "  y = self._check_y(y)\n",
      "/home/charles/anaconda3/lib/python3.7/site-packages/autosklearn/automl.py:887: DataConversionWarning: A column-vector y was passed when a 1d array was expected. Will change shape via np.ravel().\n",
      "  y = self._check_y(y)\n",
      "/home/charles/anaconda3/lib/python3.7/site-packages/autosklearn/automl.py:887: DataConversionWarning: A column-vector y was passed when a 1d array was expected. Will change shape via np.ravel().\n",
      "  y = self._check_y(y)\n",
      "/home/charles/anaconda3/lib/python3.7/site-packages/autosklearn/automl.py:887: DataConversionWarning: A column-vector y was passed when a 1d array was expected. Will change shape via np.ravel().\n",
      "  y = self._check_y(y)\n"
     ]
    },
    {
     "name": "stdout",
     "output_type": "stream",
     "text": [
      "[WARNING] [2020-03-19 21:38:27,888:EnsembleBuilder(1791095845):28bee70f51bbda319d151e96d8f7d1a7] No models better than random - using Dummy Score!\n",
      "[WARNING] [2020-03-19 21:38:27,899:EnsembleBuilder(1791095845):28bee70f51bbda319d151e96d8f7d1a7] No models better than random - using Dummy Score!\n",
      "[WARNING] [2020-03-19 21:38:29,902:EnsembleBuilder(1791095845):28bee70f51bbda319d151e96d8f7d1a7] No models better than random - using Dummy Score!\n",
      "[WARNING] [2020-03-19 21:38:31,913:EnsembleBuilder(1791095845):28bee70f51bbda319d151e96d8f7d1a7] No models better than random - using Dummy Score!\n",
      "[WARNING] [2020-03-19 21:38:33,922:EnsembleBuilder(1791095845):28bee70f51bbda319d151e96d8f7d1a7] No models better than random - using Dummy Score!\n",
      "[WARNING] [2020-03-19 21:38:35,940:EnsembleBuilder(1791095845):28bee70f51bbda319d151e96d8f7d1a7] No models better than random - using Dummy Score!\n",
      "[WARNING] [2020-03-19 21:38:37,957:EnsembleBuilder(1791095845):28bee70f51bbda319d151e96d8f7d1a7] No models better than random - using Dummy Score!\n",
      "[WARNING] [2020-03-19 21:38:39,970:EnsembleBuilder(1791095845):28bee70f51bbda319d151e96d8f7d1a7] No models better than random - using Dummy Score!\n",
      "[WARNING] [2020-03-19 21:38:42,000:EnsembleBuilder(1791095845):28bee70f51bbda319d151e96d8f7d1a7] No models better than random - using Dummy Score!\n",
      "[WARNING] [2020-03-19 21:38:44,005:EnsembleBuilder(1791095845):28bee70f51bbda319d151e96d8f7d1a7] No models better than random - using Dummy Score!\n"
     ]
    },
    {
     "name": "stderr",
     "output_type": "stream",
     "text": [
      "/home/charles/anaconda3/lib/python3.7/site-packages/autosklearn/automl.py:887: DataConversionWarning: A column-vector y was passed when a 1d array was expected. Will change shape via np.ravel().\n",
      "  y = self._check_y(y)\n",
      "/home/charles/anaconda3/lib/python3.7/site-packages/autosklearn/automl.py:887: DataConversionWarning: A column-vector y was passed when a 1d array was expected. Will change shape via np.ravel().\n",
      "  y = self._check_y(y)\n",
      "/home/charles/anaconda3/lib/python3.7/site-packages/autosklearn/automl.py:887: DataConversionWarning: A column-vector y was passed when a 1d array was expected. Will change shape via np.ravel().\n",
      "  y = self._check_y(y)\n",
      "/home/charles/anaconda3/lib/python3.7/site-packages/autosklearn/automl.py:887: DataConversionWarning: A column-vector y was passed when a 1d array was expected. Will change shape via np.ravel().\n",
      "  y = self._check_y(y)\n",
      "/home/charles/anaconda3/lib/python3.7/site-packages/autosklearn/automl.py:887: DataConversionWarning: A column-vector y was passed when a 1d array was expected. Will change shape via np.ravel().\n",
      "  y = self._check_y(y)\n",
      "/home/charles/anaconda3/lib/python3.7/site-packages/autosklearn/automl.py:887: DataConversionWarning: A column-vector y was passed when a 1d array was expected. Will change shape via np.ravel().\n",
      "  y = self._check_y(y)\n",
      "/home/charles/anaconda3/lib/python3.7/site-packages/autosklearn/automl.py:887: DataConversionWarning: A column-vector y was passed when a 1d array was expected. Will change shape via np.ravel().\n",
      "  y = self._check_y(y)\n",
      "/home/charles/anaconda3/lib/python3.7/site-packages/autosklearn/automl.py:887: DataConversionWarning: A column-vector y was passed when a 1d array was expected. Will change shape via np.ravel().\n",
      "  y = self._check_y(y)\n"
     ]
    },
    {
     "name": "stdout",
     "output_type": "stream",
     "text": [
      "[WARNING] [2020-03-19 21:45:02,822:EnsembleBuilder(1791095845):28bee70f51bbda319d151e96d8f7d1a7] No models better than random - using Dummy Score!\n",
      "[WARNING] [2020-03-19 21:45:02,827:EnsembleBuilder(1791095845):28bee70f51bbda319d151e96d8f7d1a7] No models better than random - using Dummy Score!\n",
      "[WARNING] [2020-03-19 21:45:04,833:EnsembleBuilder(1791095845):28bee70f51bbda319d151e96d8f7d1a7] No models better than random - using Dummy Score!\n",
      "[WARNING] [2020-03-19 21:45:06,840:EnsembleBuilder(1791095845):28bee70f51bbda319d151e96d8f7d1a7] No models better than random - using Dummy Score!\n",
      "[WARNING] [2020-03-19 21:45:08,862:EnsembleBuilder(1791095845):28bee70f51bbda319d151e96d8f7d1a7] No models better than random - using Dummy Score!\n",
      "[WARNING] [2020-03-19 21:45:10,877:EnsembleBuilder(1791095845):28bee70f51bbda319d151e96d8f7d1a7] No models better than random - using Dummy Score!\n",
      "[WARNING] [2020-03-19 21:45:12,889:EnsembleBuilder(1791095845):28bee70f51bbda319d151e96d8f7d1a7] No models better than random - using Dummy Score!\n"
     ]
    },
    {
     "name": "stderr",
     "output_type": "stream",
     "text": [
      "/home/charles/anaconda3/lib/python3.7/site-packages/autosklearn/automl.py:887: DataConversionWarning: A column-vector y was passed when a 1d array was expected. Will change shape via np.ravel().\n",
      "  y = self._check_y(y)\n",
      "/home/charles/anaconda3/lib/python3.7/site-packages/autosklearn/automl.py:887: DataConversionWarning: A column-vector y was passed when a 1d array was expected. Will change shape via np.ravel().\n",
      "  y = self._check_y(y)\n",
      "/home/charles/anaconda3/lib/python3.7/site-packages/autosklearn/automl.py:887: DataConversionWarning: A column-vector y was passed when a 1d array was expected. Will change shape via np.ravel().\n",
      "  y = self._check_y(y)\n",
      "/home/charles/anaconda3/lib/python3.7/site-packages/autosklearn/automl.py:887: DataConversionWarning: A column-vector y was passed when a 1d array was expected. Will change shape via np.ravel().\n",
      "  y = self._check_y(y)\n",
      "/home/charles/anaconda3/lib/python3.7/site-packages/autosklearn/automl.py:887: DataConversionWarning: A column-vector y was passed when a 1d array was expected. Will change shape via np.ravel().\n",
      "  y = self._check_y(y)\n",
      "/home/charles/anaconda3/lib/python3.7/site-packages/autosklearn/automl.py:887: DataConversionWarning: A column-vector y was passed when a 1d array was expected. Will change shape via np.ravel().\n",
      "  y = self._check_y(y)\n",
      "/home/charles/anaconda3/lib/python3.7/site-packages/autosklearn/automl.py:887: DataConversionWarning: A column-vector y was passed when a 1d array was expected. Will change shape via np.ravel().\n",
      "  y = self._check_y(y)\n",
      "/home/charles/anaconda3/lib/python3.7/site-packages/autosklearn/automl.py:887: DataConversionWarning: A column-vector y was passed when a 1d array was expected. Will change shape via np.ravel().\n",
      "  y = self._check_y(y)\n"
     ]
    },
    {
     "name": "stdout",
     "output_type": "stream",
     "text": [
      "[WARNING] [2020-03-19 21:51:39,946:EnsembleBuilder(1791095845):28bee70f51bbda319d151e96d8f7d1a7] No models better than random - using Dummy Score!\n",
      "[WARNING] [2020-03-19 21:51:39,979:EnsembleBuilder(1791095845):28bee70f51bbda319d151e96d8f7d1a7] No models better than random - using Dummy Score!\n",
      "[WARNING] [2020-03-19 21:51:42,006:EnsembleBuilder(1791095845):28bee70f51bbda319d151e96d8f7d1a7] No models better than random - using Dummy Score!\n",
      "[WARNING] [2020-03-19 21:51:44,014:EnsembleBuilder(1791095845):28bee70f51bbda319d151e96d8f7d1a7] No models better than random - using Dummy Score!\n",
      "[WARNING] [2020-03-19 21:51:46,020:EnsembleBuilder(1791095845):28bee70f51bbda319d151e96d8f7d1a7] No models better than random - using Dummy Score!\n",
      "[WARNING] [2020-03-19 21:51:48,026:EnsembleBuilder(1791095845):28bee70f51bbda319d151e96d8f7d1a7] No models better than random - using Dummy Score!\n"
     ]
    },
    {
     "name": "stderr",
     "output_type": "stream",
     "text": [
      "/home/charles/anaconda3/lib/python3.7/site-packages/autosklearn/automl.py:887: DataConversionWarning: A column-vector y was passed when a 1d array was expected. Will change shape via np.ravel().\n",
      "  y = self._check_y(y)\n",
      "/home/charles/anaconda3/lib/python3.7/site-packages/autosklearn/automl.py:887: DataConversionWarning: A column-vector y was passed when a 1d array was expected. Will change shape via np.ravel().\n",
      "  y = self._check_y(y)\n",
      "/home/charles/anaconda3/lib/python3.7/site-packages/autosklearn/automl.py:887: DataConversionWarning: A column-vector y was passed when a 1d array was expected. Will change shape via np.ravel().\n",
      "  y = self._check_y(y)\n",
      "/home/charles/anaconda3/lib/python3.7/site-packages/autosklearn/automl.py:887: DataConversionWarning: A column-vector y was passed when a 1d array was expected. Will change shape via np.ravel().\n",
      "  y = self._check_y(y)\n",
      "/home/charles/anaconda3/lib/python3.7/site-packages/autosklearn/automl.py:887: DataConversionWarning: A column-vector y was passed when a 1d array was expected. Will change shape via np.ravel().\n",
      "  y = self._check_y(y)\n",
      "/home/charles/anaconda3/lib/python3.7/site-packages/autosklearn/automl.py:887: DataConversionWarning: A column-vector y was passed when a 1d array was expected. Will change shape via np.ravel().\n",
      "  y = self._check_y(y)\n",
      "/home/charles/anaconda3/lib/python3.7/site-packages/autosklearn/automl.py:887: DataConversionWarning: A column-vector y was passed when a 1d array was expected. Will change shape via np.ravel().\n",
      "  y = self._check_y(y)\n",
      "/home/charles/anaconda3/lib/python3.7/site-packages/autosklearn/automl.py:887: DataConversionWarning: A column-vector y was passed when a 1d array was expected. Will change shape via np.ravel().\n",
      "  y = self._check_y(y)\n"
     ]
    },
    {
     "name": "stdout",
     "output_type": "stream",
     "text": [
      "[WARNING] [2020-03-19 21:58:14,254:EnsembleBuilder(1791095845):28bee70f51bbda319d151e96d8f7d1a7] No models better than random - using Dummy Score!\n",
      "[WARNING] [2020-03-19 21:58:14,260:EnsembleBuilder(1791095845):28bee70f51bbda319d151e96d8f7d1a7] No models better than random - using Dummy Score!\n",
      "[WARNING] [2020-03-19 21:58:16,267:EnsembleBuilder(1791095845):28bee70f51bbda319d151e96d8f7d1a7] No models better than random - using Dummy Score!\n",
      "[WARNING] [2020-03-19 21:58:18,286:EnsembleBuilder(1791095845):28bee70f51bbda319d151e96d8f7d1a7] No models better than random - using Dummy Score!\n",
      "[WARNING] [2020-03-19 21:58:20,297:EnsembleBuilder(1791095845):28bee70f51bbda319d151e96d8f7d1a7] No models better than random - using Dummy Score!\n",
      "[WARNING] [2020-03-19 21:58:22,306:EnsembleBuilder(1791095845):28bee70f51bbda319d151e96d8f7d1a7] No models better than random - using Dummy Score!\n"
     ]
    },
    {
     "name": "stderr",
     "output_type": "stream",
     "text": [
      "/home/charles/anaconda3/lib/python3.7/site-packages/autosklearn/automl.py:887: DataConversionWarning: A column-vector y was passed when a 1d array was expected. Will change shape via np.ravel().\n",
      "  y = self._check_y(y)\n",
      "/home/charles/anaconda3/lib/python3.7/site-packages/autosklearn/automl.py:887: DataConversionWarning: A column-vector y was passed when a 1d array was expected. Will change shape via np.ravel().\n",
      "  y = self._check_y(y)\n",
      "/home/charles/anaconda3/lib/python3.7/site-packages/autosklearn/automl.py:887: DataConversionWarning: A column-vector y was passed when a 1d array was expected. Will change shape via np.ravel().\n",
      "  y = self._check_y(y)\n",
      "/home/charles/anaconda3/lib/python3.7/site-packages/autosklearn/automl.py:887: DataConversionWarning: A column-vector y was passed when a 1d array was expected. Will change shape via np.ravel().\n",
      "  y = self._check_y(y)\n",
      "/home/charles/anaconda3/lib/python3.7/site-packages/autosklearn/automl.py:887: DataConversionWarning: A column-vector y was passed when a 1d array was expected. Will change shape via np.ravel().\n",
      "  y = self._check_y(y)\n",
      "/home/charles/anaconda3/lib/python3.7/site-packages/autosklearn/automl.py:887: DataConversionWarning: A column-vector y was passed when a 1d array was expected. Will change shape via np.ravel().\n",
      "  y = self._check_y(y)\n",
      "/home/charles/anaconda3/lib/python3.7/site-packages/autosklearn/automl.py:887: DataConversionWarning: A column-vector y was passed when a 1d array was expected. Will change shape via np.ravel().\n",
      "  y = self._check_y(y)\n",
      "/home/charles/anaconda3/lib/python3.7/site-packages/autosklearn/automl.py:887: DataConversionWarning: A column-vector y was passed when a 1d array was expected. Will change shape via np.ravel().\n",
      "  y = self._check_y(y)\n"
     ]
    },
    {
     "name": "stdout",
     "output_type": "stream",
     "text": [
      "[WARNING] [2020-03-19 22:04:51,429:EnsembleBuilder(1791095845):28bee70f51bbda319d151e96d8f7d1a7] No models better than random - using Dummy Score!\n",
      "[WARNING] [2020-03-19 22:04:51,502:EnsembleBuilder(1791095845):28bee70f51bbda319d151e96d8f7d1a7] No models better than random - using Dummy Score!\n",
      "[WARNING] [2020-03-19 22:04:53,518:EnsembleBuilder(1791095845):28bee70f51bbda319d151e96d8f7d1a7] No models better than random - using Dummy Score!\n",
      "[WARNING] [2020-03-19 22:04:55,525:EnsembleBuilder(1791095845):28bee70f51bbda319d151e96d8f7d1a7] No models better than random - using Dummy Score!\n",
      "[WARNING] [2020-03-19 22:04:57,545:EnsembleBuilder(1791095845):28bee70f51bbda319d151e96d8f7d1a7] No models better than random - using Dummy Score!\n"
     ]
    },
    {
     "name": "stderr",
     "output_type": "stream",
     "text": [
      "/home/charles/anaconda3/lib/python3.7/site-packages/autosklearn/automl.py:887: DataConversionWarning: A column-vector y was passed when a 1d array was expected. Will change shape via np.ravel().\n",
      "  y = self._check_y(y)\n",
      "/home/charles/anaconda3/lib/python3.7/site-packages/autosklearn/automl.py:887: DataConversionWarning: A column-vector y was passed when a 1d array was expected. Will change shape via np.ravel().\n",
      "  y = self._check_y(y)\n",
      "/home/charles/anaconda3/lib/python3.7/site-packages/autosklearn/automl.py:887: DataConversionWarning: A column-vector y was passed when a 1d array was expected. Will change shape via np.ravel().\n",
      "  y = self._check_y(y)\n",
      "/home/charles/anaconda3/lib/python3.7/site-packages/autosklearn/automl.py:887: DataConversionWarning: A column-vector y was passed when a 1d array was expected. Will change shape via np.ravel().\n",
      "  y = self._check_y(y)\n",
      "/home/charles/anaconda3/lib/python3.7/site-packages/autosklearn/automl.py:887: DataConversionWarning: A column-vector y was passed when a 1d array was expected. Will change shape via np.ravel().\n",
      "  y = self._check_y(y)\n",
      "/home/charles/anaconda3/lib/python3.7/site-packages/autosklearn/automl.py:887: DataConversionWarning: A column-vector y was passed when a 1d array was expected. Will change shape via np.ravel().\n",
      "  y = self._check_y(y)\n",
      "/home/charles/anaconda3/lib/python3.7/site-packages/autosklearn/automl.py:887: DataConversionWarning: A column-vector y was passed when a 1d array was expected. Will change shape via np.ravel().\n",
      "  y = self._check_y(y)\n",
      "/home/charles/anaconda3/lib/python3.7/site-packages/autosklearn/automl.py:887: DataConversionWarning: A column-vector y was passed when a 1d array was expected. Will change shape via np.ravel().\n",
      "  y = self._check_y(y)\n"
     ]
    },
    {
     "name": "stdout",
     "output_type": "stream",
     "text": [
      "[WARNING] [2020-03-19 22:11:26,001:EnsembleBuilder(1791095845):28bee70f51bbda319d151e96d8f7d1a7] No models better than random - using Dummy Score!\n",
      "[WARNING] [2020-03-19 22:11:26,008:EnsembleBuilder(1791095845):28bee70f51bbda319d151e96d8f7d1a7] No models better than random - using Dummy Score!\n",
      "[WARNING] [2020-03-19 22:11:28,015:EnsembleBuilder(1791095845):28bee70f51bbda319d151e96d8f7d1a7] No models better than random - using Dummy Score!\n",
      "[WARNING] [2020-03-19 22:11:30,020:EnsembleBuilder(1791095845):28bee70f51bbda319d151e96d8f7d1a7] No models better than random - using Dummy Score!\n",
      "[WARNING] [2020-03-19 22:11:32,042:EnsembleBuilder(1791095845):28bee70f51bbda319d151e96d8f7d1a7] No models better than random - using Dummy Score!\n",
      "[WARNING] [2020-03-19 22:11:34,054:EnsembleBuilder(1791095845):28bee70f51bbda319d151e96d8f7d1a7] No models better than random - using Dummy Score!\n",
      "[WARNING] [2020-03-19 22:11:36,077:EnsembleBuilder(1791095845):28bee70f51bbda319d151e96d8f7d1a7] No models better than random - using Dummy Score!\n"
     ]
    },
    {
     "name": "stderr",
     "output_type": "stream",
     "text": [
      "Process pynisher function call:\n",
      "Traceback (most recent call last):\n",
      "  File \"/home/charles/anaconda3/lib/python3.7/multiprocessing/process.py\", line 297, in _bootstrap\n",
      "    self.run()\n",
      "  File \"/home/charles/anaconda3/lib/python3.7/multiprocessing/process.py\", line 99, in run\n",
      "    self._target(*self._args, **self._kwargs)\n",
      "  File \"/home/charles/anaconda3/lib/python3.7/site-packages/pynisher/limit_function_call.py\", line 129, in subprocess_func\n",
      "    for child in p.children(recursive=True):\n",
      "  File \"/home/charles/anaconda3/lib/python3.7/site-packages/psutil/__init__.py\", line 392, in wrapper\n",
      "    return fun(self, *args, **kwargs)\n",
      "  File \"/home/charles/anaconda3/lib/python3.7/site-packages/psutil/__init__.py\", line 1015, in children\n",
      "    ppid_map = _ppid_map()\n",
      "  File \"/home/charles/anaconda3/lib/python3.7/site-packages/psutil/_pslinux.py\", line 1492, in ppid_map\n",
      "    data = f.read()\n",
      "  File \"/home/charles/anaconda3/lib/python3.7/site-packages/pynisher/limit_function_call.py\", line 31, in handler\n",
      "    raise(TimeoutException)\n",
      "pynisher.limit_function_call.TimeoutException\n",
      "/home/charles/anaconda3/lib/python3.7/site-packages/autosklearn/automl.py:887: DataConversionWarning: A column-vector y was passed when a 1d array was expected. Will change shape via np.ravel().\n",
      "  y = self._check_y(y)\n",
      "/home/charles/anaconda3/lib/python3.7/site-packages/autosklearn/automl.py:887: DataConversionWarning: A column-vector y was passed when a 1d array was expected. Will change shape via np.ravel().\n",
      "  y = self._check_y(y)\n",
      "/home/charles/anaconda3/lib/python3.7/site-packages/autosklearn/automl.py:887: DataConversionWarning: A column-vector y was passed when a 1d array was expected. Will change shape via np.ravel().\n",
      "  y = self._check_y(y)\n",
      "/home/charles/anaconda3/lib/python3.7/site-packages/autosklearn/automl.py:887: DataConversionWarning: A column-vector y was passed when a 1d array was expected. Will change shape via np.ravel().\n",
      "  y = self._check_y(y)\n",
      "/home/charles/anaconda3/lib/python3.7/site-packages/autosklearn/automl.py:887: DataConversionWarning: A column-vector y was passed when a 1d array was expected. Will change shape via np.ravel().\n",
      "  y = self._check_y(y)\n",
      "/home/charles/anaconda3/lib/python3.7/site-packages/autosklearn/automl.py:887: DataConversionWarning: A column-vector y was passed when a 1d array was expected. Will change shape via np.ravel().\n",
      "  y = self._check_y(y)\n",
      "/home/charles/anaconda3/lib/python3.7/site-packages/autosklearn/automl.py:887: DataConversionWarning: A column-vector y was passed when a 1d array was expected. Will change shape via np.ravel().\n",
      "  y = self._check_y(y)\n",
      "/home/charles/anaconda3/lib/python3.7/site-packages/autosklearn/automl.py:887: DataConversionWarning: A column-vector y was passed when a 1d array was expected. Will change shape via np.ravel().\n",
      "  y = self._check_y(y)\n"
     ]
    },
    {
     "name": "stdout",
     "output_type": "stream",
     "text": [
      "[WARNING] [2020-03-19 22:18:01,709:EnsembleBuilder(1791095845):28bee70f51bbda319d151e96d8f7d1a7] No models better than random - using Dummy Score!\n",
      "[WARNING] [2020-03-19 22:18:01,714:EnsembleBuilder(1791095845):28bee70f51bbda319d151e96d8f7d1a7] No models better than random - using Dummy Score!\n",
      "[WARNING] [2020-03-19 22:18:03,722:EnsembleBuilder(1791095845):28bee70f51bbda319d151e96d8f7d1a7] No models better than random - using Dummy Score!\n",
      "[WARNING] [2020-03-19 22:18:05,738:EnsembleBuilder(1791095845):28bee70f51bbda319d151e96d8f7d1a7] No models better than random - using Dummy Score!\n",
      "[WARNING] [2020-03-19 22:18:07,766:EnsembleBuilder(1791095845):28bee70f51bbda319d151e96d8f7d1a7] No models better than random - using Dummy Score!\n",
      "[WARNING] [2020-03-19 22:18:09,781:EnsembleBuilder(1791095845):28bee70f51bbda319d151e96d8f7d1a7] No models better than random - using Dummy Score!\n",
      "[WARNING] [2020-03-19 22:18:11,794:EnsembleBuilder(1791095845):28bee70f51bbda319d151e96d8f7d1a7] No models better than random - using Dummy Score!\n",
      "[WARNING] [2020-03-19 22:18:13,817:EnsembleBuilder(1791095845):28bee70f51bbda319d151e96d8f7d1a7] No models better than random - using Dummy Score!\n"
     ]
    },
    {
     "name": "stderr",
     "output_type": "stream",
     "text": [
      "/home/charles/anaconda3/lib/python3.7/site-packages/autosklearn/automl.py:887: DataConversionWarning: A column-vector y was passed when a 1d array was expected. Will change shape via np.ravel().\n",
      "  y = self._check_y(y)\n",
      "/home/charles/anaconda3/lib/python3.7/site-packages/autosklearn/automl.py:887: DataConversionWarning: A column-vector y was passed when a 1d array was expected. Will change shape via np.ravel().\n",
      "  y = self._check_y(y)\n",
      "/home/charles/anaconda3/lib/python3.7/site-packages/autosklearn/automl.py:887: DataConversionWarning: A column-vector y was passed when a 1d array was expected. Will change shape via np.ravel().\n",
      "  y = self._check_y(y)\n",
      "/home/charles/anaconda3/lib/python3.7/site-packages/autosklearn/automl.py:887: DataConversionWarning: A column-vector y was passed when a 1d array was expected. Will change shape via np.ravel().\n",
      "  y = self._check_y(y)\n",
      "/home/charles/anaconda3/lib/python3.7/site-packages/autosklearn/automl.py:887: DataConversionWarning: A column-vector y was passed when a 1d array was expected. Will change shape via np.ravel().\n",
      "  y = self._check_y(y)\n",
      "/home/charles/anaconda3/lib/python3.7/site-packages/autosklearn/automl.py:887: DataConversionWarning: A column-vector y was passed when a 1d array was expected. Will change shape via np.ravel().\n",
      "  y = self._check_y(y)\n",
      "/home/charles/anaconda3/lib/python3.7/site-packages/autosklearn/automl.py:887: DataConversionWarning: A column-vector y was passed when a 1d array was expected. Will change shape via np.ravel().\n",
      "  y = self._check_y(y)\n",
      "/home/charles/anaconda3/lib/python3.7/site-packages/autosklearn/automl.py:887: DataConversionWarning: A column-vector y was passed when a 1d array was expected. Will change shape via np.ravel().\n",
      "  y = self._check_y(y)\n"
     ]
    },
    {
     "name": "stdout",
     "output_type": "stream",
     "text": [
      "[WARNING] [2020-03-19 22:24:37,499:EnsembleBuilder(1791095845):28bee70f51bbda319d151e96d8f7d1a7] No models better than random - using Dummy Score!\n",
      "[WARNING] [2020-03-19 22:24:37,506:EnsembleBuilder(1791095845):28bee70f51bbda319d151e96d8f7d1a7] No models better than random - using Dummy Score!\n",
      "[WARNING] [2020-03-19 22:24:39,513:EnsembleBuilder(1791095845):28bee70f51bbda319d151e96d8f7d1a7] No models better than random - using Dummy Score!\n",
      "[WARNING] [2020-03-19 22:24:41,538:EnsembleBuilder(1791095845):28bee70f51bbda319d151e96d8f7d1a7] No models better than random - using Dummy Score!\n",
      "[WARNING] [2020-03-19 22:24:43,545:EnsembleBuilder(1791095845):28bee70f51bbda319d151e96d8f7d1a7] No models better than random - using Dummy Score!\n",
      "[WARNING] [2020-03-19 22:24:45,557:EnsembleBuilder(1791095845):28bee70f51bbda319d151e96d8f7d1a7] No models better than random - using Dummy Score!\n",
      "[WARNING] [2020-03-19 22:24:47,567:EnsembleBuilder(1791095845):28bee70f51bbda319d151e96d8f7d1a7] No models better than random - using Dummy Score!\n",
      "[WARNING] [2020-03-19 22:24:49,576:EnsembleBuilder(1791095845):28bee70f51bbda319d151e96d8f7d1a7] No models better than random - using Dummy Score!\n",
      "[WARNING] [2020-03-19 22:24:51,594:EnsembleBuilder(1791095845):28bee70f51bbda319d151e96d8f7d1a7] No models better than random - using Dummy Score!\n"
     ]
    },
    {
     "name": "stderr",
     "output_type": "stream",
     "text": [
      "/home/charles/anaconda3/lib/python3.7/site-packages/autosklearn/automl.py:887: DataConversionWarning: A column-vector y was passed when a 1d array was expected. Will change shape via np.ravel().\n",
      "  y = self._check_y(y)\n",
      "/home/charles/anaconda3/lib/python3.7/site-packages/autosklearn/automl.py:887: DataConversionWarning: A column-vector y was passed when a 1d array was expected. Will change shape via np.ravel().\n",
      "  y = self._check_y(y)\n",
      "/home/charles/anaconda3/lib/python3.7/site-packages/autosklearn/automl.py:887: DataConversionWarning: A column-vector y was passed when a 1d array was expected. Will change shape via np.ravel().\n",
      "  y = self._check_y(y)\n",
      "/home/charles/anaconda3/lib/python3.7/site-packages/autosklearn/automl.py:887: DataConversionWarning: A column-vector y was passed when a 1d array was expected. Will change shape via np.ravel().\n",
      "  y = self._check_y(y)\n",
      "/home/charles/anaconda3/lib/python3.7/site-packages/autosklearn/automl.py:887: DataConversionWarning: A column-vector y was passed when a 1d array was expected. Will change shape via np.ravel().\n",
      "  y = self._check_y(y)\n",
      "/home/charles/anaconda3/lib/python3.7/site-packages/autosklearn/automl.py:887: DataConversionWarning: A column-vector y was passed when a 1d array was expected. Will change shape via np.ravel().\n",
      "  y = self._check_y(y)\n",
      "/home/charles/anaconda3/lib/python3.7/site-packages/autosklearn/automl.py:887: DataConversionWarning: A column-vector y was passed when a 1d array was expected. Will change shape via np.ravel().\n",
      "  y = self._check_y(y)\n",
      "/home/charles/anaconda3/lib/python3.7/site-packages/autosklearn/automl.py:887: DataConversionWarning: A column-vector y was passed when a 1d array was expected. Will change shape via np.ravel().\n",
      "  y = self._check_y(y)\n"
     ]
    },
    {
     "name": "stdout",
     "output_type": "stream",
     "text": [
      "[WARNING] [2020-03-19 22:31:15,166:EnsembleBuilder(1791095845):28bee70f51bbda319d151e96d8f7d1a7] No models better than random - using Dummy Score!\n",
      "[WARNING] [2020-03-19 22:31:15,191:EnsembleBuilder(1791095845):28bee70f51bbda319d151e96d8f7d1a7] No models better than random - using Dummy Score!\n",
      "[WARNING] [2020-03-19 22:31:17,215:EnsembleBuilder(1791095845):28bee70f51bbda319d151e96d8f7d1a7] No models better than random - using Dummy Score!\n",
      "[WARNING] [2020-03-19 22:31:19,222:EnsembleBuilder(1791095845):28bee70f51bbda319d151e96d8f7d1a7] No models better than random - using Dummy Score!\n",
      "[WARNING] [2020-03-19 22:31:21,229:EnsembleBuilder(1791095845):28bee70f51bbda319d151e96d8f7d1a7] No models better than random - using Dummy Score!\n",
      "[WARNING] [2020-03-19 22:37:43,839:smac.intensification.intensification.Intensifier] Challenger was the same as the current incumbent; Skipping challenger\n",
      "[WARNING] [2020-03-19 22:37:43,839:smac.intensification.intensification.Intensifier] Challenger was the same as the current incumbent; Skipping challenger\n"
     ]
    },
    {
     "name": "stderr",
     "output_type": "stream",
     "text": [
      "/home/charles/anaconda3/lib/python3.7/site-packages/autosklearn/automl.py:887: DataConversionWarning: A column-vector y was passed when a 1d array was expected. Will change shape via np.ravel().\n",
      "  y = self._check_y(y)\n",
      "/home/charles/anaconda3/lib/python3.7/site-packages/autosklearn/automl.py:887: DataConversionWarning: A column-vector y was passed when a 1d array was expected. Will change shape via np.ravel().\n",
      "  y = self._check_y(y)\n",
      "/home/charles/anaconda3/lib/python3.7/site-packages/autosklearn/automl.py:887: DataConversionWarning: A column-vector y was passed when a 1d array was expected. Will change shape via np.ravel().\n",
      "  y = self._check_y(y)\n",
      "/home/charles/anaconda3/lib/python3.7/site-packages/autosklearn/automl.py:887: DataConversionWarning: A column-vector y was passed when a 1d array was expected. Will change shape via np.ravel().\n",
      "  y = self._check_y(y)\n",
      "/home/charles/anaconda3/lib/python3.7/site-packages/autosklearn/automl.py:887: DataConversionWarning: A column-vector y was passed when a 1d array was expected. Will change shape via np.ravel().\n",
      "  y = self._check_y(y)\n",
      "/home/charles/anaconda3/lib/python3.7/site-packages/autosklearn/automl.py:887: DataConversionWarning: A column-vector y was passed when a 1d array was expected. Will change shape via np.ravel().\n",
      "  y = self._check_y(y)\n",
      "/home/charles/anaconda3/lib/python3.7/site-packages/autosklearn/automl.py:887: DataConversionWarning: A column-vector y was passed when a 1d array was expected. Will change shape via np.ravel().\n",
      "  y = self._check_y(y)\n",
      "/home/charles/anaconda3/lib/python3.7/site-packages/autosklearn/automl.py:887: DataConversionWarning: A column-vector y was passed when a 1d array was expected. Will change shape via np.ravel().\n",
      "  y = self._check_y(y)\n"
     ]
    },
    {
     "name": "stdout",
     "output_type": "stream",
     "text": [
      "[WARNING] [2020-03-19 22:37:49,936:EnsembleBuilder(1791095845):28bee70f51bbda319d151e96d8f7d1a7] No models better than random - using Dummy Score!\n",
      "[WARNING] [2020-03-19 22:37:49,974:EnsembleBuilder(1791095845):28bee70f51bbda319d151e96d8f7d1a7] No models better than random - using Dummy Score!\n",
      "[WARNING] [2020-03-19 22:37:51,993:EnsembleBuilder(1791095845):28bee70f51bbda319d151e96d8f7d1a7] No models better than random - using Dummy Score!\n",
      "[WARNING] [2020-03-19 22:37:54,002:EnsembleBuilder(1791095845):28bee70f51bbda319d151e96d8f7d1a7] No models better than random - using Dummy Score!\n",
      "[WARNING] [2020-03-19 22:37:56,020:EnsembleBuilder(1791095845):28bee70f51bbda319d151e96d8f7d1a7] No models better than random - using Dummy Score!\n"
     ]
    },
    {
     "name": "stderr",
     "output_type": "stream",
     "text": [
      "/home/charles/anaconda3/lib/python3.7/site-packages/autosklearn/automl.py:887: DataConversionWarning: A column-vector y was passed when a 1d array was expected. Will change shape via np.ravel().\n",
      "  y = self._check_y(y)\n",
      "/home/charles/anaconda3/lib/python3.7/site-packages/autosklearn/automl.py:887: DataConversionWarning: A column-vector y was passed when a 1d array was expected. Will change shape via np.ravel().\n",
      "  y = self._check_y(y)\n",
      "/home/charles/anaconda3/lib/python3.7/site-packages/autosklearn/automl.py:887: DataConversionWarning: A column-vector y was passed when a 1d array was expected. Will change shape via np.ravel().\n",
      "  y = self._check_y(y)\n",
      "/home/charles/anaconda3/lib/python3.7/site-packages/autosklearn/automl.py:887: DataConversionWarning: A column-vector y was passed when a 1d array was expected. Will change shape via np.ravel().\n",
      "  y = self._check_y(y)\n",
      "/home/charles/anaconda3/lib/python3.7/site-packages/autosklearn/automl.py:887: DataConversionWarning: A column-vector y was passed when a 1d array was expected. Will change shape via np.ravel().\n",
      "  y = self._check_y(y)\n",
      "/home/charles/anaconda3/lib/python3.7/site-packages/autosklearn/automl.py:887: DataConversionWarning: A column-vector y was passed when a 1d array was expected. Will change shape via np.ravel().\n",
      "  y = self._check_y(y)\n",
      "/home/charles/anaconda3/lib/python3.7/site-packages/autosklearn/automl.py:887: DataConversionWarning: A column-vector y was passed when a 1d array was expected. Will change shape via np.ravel().\n",
      "  y = self._check_y(y)\n",
      "/home/charles/anaconda3/lib/python3.7/site-packages/autosklearn/automl.py:887: DataConversionWarning: A column-vector y was passed when a 1d array was expected. Will change shape via np.ravel().\n",
      "  y = self._check_y(y)\n"
     ]
    },
    {
     "name": "stdout",
     "output_type": "stream",
     "text": [
      "[WARNING] [2020-03-19 22:44:24,686:EnsembleBuilder(1791095845):28bee70f51bbda319d151e96d8f7d1a7] No models better than random - using Dummy Score!\n",
      "[WARNING] [2020-03-19 22:44:24,691:EnsembleBuilder(1791095845):28bee70f51bbda319d151e96d8f7d1a7] No models better than random - using Dummy Score!\n",
      "[WARNING] [2020-03-19 22:44:26,697:EnsembleBuilder(1791095845):28bee70f51bbda319d151e96d8f7d1a7] No models better than random - using Dummy Score!\n",
      "[WARNING] [2020-03-19 22:44:28,717:EnsembleBuilder(1791095845):28bee70f51bbda319d151e96d8f7d1a7] No models better than random - using Dummy Score!\n",
      "[WARNING] [2020-03-19 22:44:30,726:EnsembleBuilder(1791095845):28bee70f51bbda319d151e96d8f7d1a7] No models better than random - using Dummy Score!\n",
      "[WARNING] [2020-03-19 22:44:32,745:EnsembleBuilder(1791095845):28bee70f51bbda319d151e96d8f7d1a7] No models better than random - using Dummy Score!\n",
      "[WARNING] [2020-03-19 22:44:34,750:EnsembleBuilder(1791095845):28bee70f51bbda319d151e96d8f7d1a7] No models better than random - using Dummy Score!\n",
      "[WARNING] [2020-03-19 22:44:36,776:EnsembleBuilder(1791095845):28bee70f51bbda319d151e96d8f7d1a7] No models better than random - using Dummy Score!\n",
      "[WARNING] [2020-03-19 22:44:38,785:EnsembleBuilder(1791095845):28bee70f51bbda319d151e96d8f7d1a7] No models better than random - using Dummy Score!\n"
     ]
    },
    {
     "name": "stderr",
     "output_type": "stream",
     "text": [
      "/home/charles/anaconda3/lib/python3.7/site-packages/autosklearn/automl.py:887: DataConversionWarning: A column-vector y was passed when a 1d array was expected. Will change shape via np.ravel().\n",
      "  y = self._check_y(y)\n",
      "/home/charles/anaconda3/lib/python3.7/site-packages/autosklearn/automl.py:887: DataConversionWarning: A column-vector y was passed when a 1d array was expected. Will change shape via np.ravel().\n",
      "  y = self._check_y(y)\n",
      "/home/charles/anaconda3/lib/python3.7/site-packages/autosklearn/automl.py:887: DataConversionWarning: A column-vector y was passed when a 1d array was expected. Will change shape via np.ravel().\n",
      "  y = self._check_y(y)\n",
      "/home/charles/anaconda3/lib/python3.7/site-packages/autosklearn/automl.py:887: DataConversionWarning: A column-vector y was passed when a 1d array was expected. Will change shape via np.ravel().\n",
      "  y = self._check_y(y)\n",
      "/home/charles/anaconda3/lib/python3.7/site-packages/autosklearn/automl.py:887: DataConversionWarning: A column-vector y was passed when a 1d array was expected. Will change shape via np.ravel().\n",
      "  y = self._check_y(y)\n",
      "/home/charles/anaconda3/lib/python3.7/site-packages/autosklearn/automl.py:887: DataConversionWarning: A column-vector y was passed when a 1d array was expected. Will change shape via np.ravel().\n",
      "  y = self._check_y(y)\n",
      "/home/charles/anaconda3/lib/python3.7/site-packages/autosklearn/automl.py:887: DataConversionWarning: A column-vector y was passed when a 1d array was expected. Will change shape via np.ravel().\n",
      "  y = self._check_y(y)\n",
      "/home/charles/anaconda3/lib/python3.7/site-packages/autosklearn/automl.py:887: DataConversionWarning: A column-vector y was passed when a 1d array was expected. Will change shape via np.ravel().\n",
      "  y = self._check_y(y)\n"
     ]
    },
    {
     "name": "stdout",
     "output_type": "stream",
     "text": [
      "[WARNING] [2020-03-19 22:51:00,758:EnsembleBuilder(1791095845):28bee70f51bbda319d151e96d8f7d1a7] No models better than random - using Dummy Score!\n",
      "[WARNING] [2020-03-19 22:51:00,771:EnsembleBuilder(1791095845):28bee70f51bbda319d151e96d8f7d1a7] No models better than random - using Dummy Score!\n",
      "[WARNING] [2020-03-19 22:51:02,776:EnsembleBuilder(1791095845):28bee70f51bbda319d151e96d8f7d1a7] No models better than random - using Dummy Score!\n",
      "[WARNING] [2020-03-19 22:51:04,782:EnsembleBuilder(1791095845):28bee70f51bbda319d151e96d8f7d1a7] No models better than random - using Dummy Score!\n",
      "[WARNING] [2020-03-19 22:51:06,797:EnsembleBuilder(1791095845):28bee70f51bbda319d151e96d8f7d1a7] No models better than random - using Dummy Score!\n",
      "[WARNING] [2020-03-19 22:51:08,806:EnsembleBuilder(1791095845):28bee70f51bbda319d151e96d8f7d1a7] No models better than random - using Dummy Score!\n",
      "[WARNING] [2020-03-19 22:51:10,817:EnsembleBuilder(1791095845):28bee70f51bbda319d151e96d8f7d1a7] No models better than random - using Dummy Score!\n"
     ]
    },
    {
     "name": "stderr",
     "output_type": "stream",
     "text": [
      "/home/charles/anaconda3/lib/python3.7/site-packages/autosklearn/automl.py:887: DataConversionWarning: A column-vector y was passed when a 1d array was expected. Will change shape via np.ravel().\n",
      "  y = self._check_y(y)\n",
      "/home/charles/anaconda3/lib/python3.7/site-packages/autosklearn/automl.py:887: DataConversionWarning: A column-vector y was passed when a 1d array was expected. Will change shape via np.ravel().\n",
      "  y = self._check_y(y)\n",
      "/home/charles/anaconda3/lib/python3.7/site-packages/autosklearn/automl.py:887: DataConversionWarning: A column-vector y was passed when a 1d array was expected. Will change shape via np.ravel().\n",
      "  y = self._check_y(y)\n",
      "/home/charles/anaconda3/lib/python3.7/site-packages/autosklearn/automl.py:887: DataConversionWarning: A column-vector y was passed when a 1d array was expected. Will change shape via np.ravel().\n",
      "  y = self._check_y(y)\n",
      "/home/charles/anaconda3/lib/python3.7/site-packages/autosklearn/automl.py:887: DataConversionWarning: A column-vector y was passed when a 1d array was expected. Will change shape via np.ravel().\n",
      "  y = self._check_y(y)\n",
      "/home/charles/anaconda3/lib/python3.7/site-packages/autosklearn/automl.py:887: DataConversionWarning: A column-vector y was passed when a 1d array was expected. Will change shape via np.ravel().\n",
      "  y = self._check_y(y)\n",
      "/home/charles/anaconda3/lib/python3.7/site-packages/autosklearn/automl.py:887: DataConversionWarning: A column-vector y was passed when a 1d array was expected. Will change shape via np.ravel().\n",
      "  y = self._check_y(y)\n",
      "/home/charles/anaconda3/lib/python3.7/site-packages/autosklearn/automl.py:887: DataConversionWarning: A column-vector y was passed when a 1d array was expected. Will change shape via np.ravel().\n",
      "  y = self._check_y(y)\n"
     ]
    },
    {
     "name": "stdout",
     "output_type": "stream",
     "text": [
      "[WARNING] [2020-03-19 22:57:38,376:EnsembleBuilder(1791095845):28bee70f51bbda319d151e96d8f7d1a7] No models better than random - using Dummy Score!\n",
      "[WARNING] [2020-03-19 22:57:38,396:EnsembleBuilder(1791095845):28bee70f51bbda319d151e96d8f7d1a7] No models better than random - using Dummy Score!\n",
      "[WARNING] [2020-03-19 22:57:40,427:EnsembleBuilder(1791095845):28bee70f51bbda319d151e96d8f7d1a7] No models better than random - using Dummy Score!\n",
      "[WARNING] [2020-03-19 22:57:42,442:EnsembleBuilder(1791095845):28bee70f51bbda319d151e96d8f7d1a7] No models better than random - using Dummy Score!\n",
      "[WARNING] [2020-03-19 22:57:44,461:EnsembleBuilder(1791095845):28bee70f51bbda319d151e96d8f7d1a7] No models better than random - using Dummy Score!\n",
      "[WARNING] [2020-03-19 22:57:46,469:EnsembleBuilder(1791095845):28bee70f51bbda319d151e96d8f7d1a7] No models better than random - using Dummy Score!\n",
      "[WARNING] [2020-03-19 22:57:48,478:EnsembleBuilder(1791095845):28bee70f51bbda319d151e96d8f7d1a7] No models better than random - using Dummy Score!\n",
      "[WARNING] [2020-03-19 22:57:50,482:EnsembleBuilder(1791095845):28bee70f51bbda319d151e96d8f7d1a7] No models better than random - using Dummy Score!\n"
     ]
    },
    {
     "name": "stderr",
     "output_type": "stream",
     "text": [
      "/home/charles/anaconda3/lib/python3.7/site-packages/autosklearn/automl.py:887: DataConversionWarning: A column-vector y was passed when a 1d array was expected. Will change shape via np.ravel().\n",
      "  y = self._check_y(y)\n",
      "/home/charles/anaconda3/lib/python3.7/site-packages/autosklearn/automl.py:887: DataConversionWarning: A column-vector y was passed when a 1d array was expected. Will change shape via np.ravel().\n",
      "  y = self._check_y(y)\n",
      "/home/charles/anaconda3/lib/python3.7/site-packages/autosklearn/automl.py:887: DataConversionWarning: A column-vector y was passed when a 1d array was expected. Will change shape via np.ravel().\n",
      "  y = self._check_y(y)\n",
      "/home/charles/anaconda3/lib/python3.7/site-packages/autosklearn/automl.py:887: DataConversionWarning: A column-vector y was passed when a 1d array was expected. Will change shape via np.ravel().\n",
      "  y = self._check_y(y)\n",
      "/home/charles/anaconda3/lib/python3.7/site-packages/autosklearn/automl.py:887: DataConversionWarning: A column-vector y was passed when a 1d array was expected. Will change shape via np.ravel().\n",
      "  y = self._check_y(y)\n",
      "/home/charles/anaconda3/lib/python3.7/site-packages/autosklearn/automl.py:887: DataConversionWarning: A column-vector y was passed when a 1d array was expected. Will change shape via np.ravel().\n",
      "  y = self._check_y(y)\n",
      "/home/charles/anaconda3/lib/python3.7/site-packages/autosklearn/automl.py:887: DataConversionWarning: A column-vector y was passed when a 1d array was expected. Will change shape via np.ravel().\n",
      "  y = self._check_y(y)\n",
      "/home/charles/anaconda3/lib/python3.7/site-packages/autosklearn/automl.py:887: DataConversionWarning: A column-vector y was passed when a 1d array was expected. Will change shape via np.ravel().\n",
      "  y = self._check_y(y)\n"
     ]
    },
    {
     "name": "stdout",
     "output_type": "stream",
     "text": [
      "[WARNING] [2020-03-19 23:04:12,931:EnsembleBuilder(1791095845):28bee70f51bbda319d151e96d8f7d1a7] No models better than random - using Dummy Score!\n",
      "[WARNING] [2020-03-19 23:04:12,937:EnsembleBuilder(1791095845):28bee70f51bbda319d151e96d8f7d1a7] No models better than random - using Dummy Score!\n",
      "[WARNING] [2020-03-19 23:04:14,944:EnsembleBuilder(1791095845):28bee70f51bbda319d151e96d8f7d1a7] No models better than random - using Dummy Score!\n",
      "[WARNING] [2020-03-19 23:04:16,966:EnsembleBuilder(1791095845):28bee70f51bbda319d151e96d8f7d1a7] No models better than random - using Dummy Score!\n",
      "[WARNING] [2020-03-19 23:04:18,981:EnsembleBuilder(1791095845):28bee70f51bbda319d151e96d8f7d1a7] No models better than random - using Dummy Score!\n",
      "[WARNING] [2020-03-19 23:04:21,013:EnsembleBuilder(1791095845):28bee70f51bbda319d151e96d8f7d1a7] No models better than random - using Dummy Score!\n",
      "[WARNING] [2020-03-19 23:04:23,021:EnsembleBuilder(1791095845):28bee70f51bbda319d151e96d8f7d1a7] No models better than random - using Dummy Score!\n",
      "[WARNING] [2020-03-19 23:04:25,034:EnsembleBuilder(1791095845):28bee70f51bbda319d151e96d8f7d1a7] No models better than random - using Dummy Score!\n",
      "[WARNING] [2020-03-19 23:04:27,041:EnsembleBuilder(1791095845):28bee70f51bbda319d151e96d8f7d1a7] No models better than random - using Dummy Score!\n"
     ]
    },
    {
     "name": "stderr",
     "output_type": "stream",
     "text": [
      "/home/charles/anaconda3/lib/python3.7/site-packages/autosklearn/automl.py:887: DataConversionWarning: A column-vector y was passed when a 1d array was expected. Will change shape via np.ravel().\n",
      "  y = self._check_y(y)\n",
      "/home/charles/anaconda3/lib/python3.7/site-packages/autosklearn/automl.py:887: DataConversionWarning: A column-vector y was passed when a 1d array was expected. Will change shape via np.ravel().\n",
      "  y = self._check_y(y)\n",
      "/home/charles/anaconda3/lib/python3.7/site-packages/autosklearn/automl.py:887: DataConversionWarning: A column-vector y was passed when a 1d array was expected. Will change shape via np.ravel().\n",
      "  y = self._check_y(y)\n",
      "/home/charles/anaconda3/lib/python3.7/site-packages/autosklearn/automl.py:887: DataConversionWarning: A column-vector y was passed when a 1d array was expected. Will change shape via np.ravel().\n",
      "  y = self._check_y(y)\n",
      "/home/charles/anaconda3/lib/python3.7/site-packages/autosklearn/automl.py:887: DataConversionWarning: A column-vector y was passed when a 1d array was expected. Will change shape via np.ravel().\n",
      "  y = self._check_y(y)\n",
      "/home/charles/anaconda3/lib/python3.7/site-packages/autosklearn/automl.py:887: DataConversionWarning: A column-vector y was passed when a 1d array was expected. Will change shape via np.ravel().\n",
      "  y = self._check_y(y)\n",
      "/home/charles/anaconda3/lib/python3.7/site-packages/autosklearn/automl.py:887: DataConversionWarning: A column-vector y was passed when a 1d array was expected. Will change shape via np.ravel().\n",
      "  y = self._check_y(y)\n",
      "/home/charles/anaconda3/lib/python3.7/site-packages/autosklearn/automl.py:887: DataConversionWarning: A column-vector y was passed when a 1d array was expected. Will change shape via np.ravel().\n",
      "  y = self._check_y(y)\n"
     ]
    },
    {
     "name": "stdout",
     "output_type": "stream",
     "text": [
      "[WARNING] [2020-03-19 23:10:50,033:EnsembleBuilder(1791095845):28bee70f51bbda319d151e96d8f7d1a7] No models better than random - using Dummy Score!\n",
      "[WARNING] [2020-03-19 23:10:50,057:EnsembleBuilder(1791095845):28bee70f51bbda319d151e96d8f7d1a7] No models better than random - using Dummy Score!\n",
      "[WARNING] [2020-03-19 23:10:52,077:EnsembleBuilder(1791095845):28bee70f51bbda319d151e96d8f7d1a7] No models better than random - using Dummy Score!\n",
      "[WARNING] [2020-03-19 23:10:54,105:EnsembleBuilder(1791095845):28bee70f51bbda319d151e96d8f7d1a7] No models better than random - using Dummy Score!\n"
     ]
    },
    {
     "name": "stderr",
     "output_type": "stream",
     "text": [
      "/home/charles/anaconda3/lib/python3.7/site-packages/autosklearn/automl.py:887: DataConversionWarning: A column-vector y was passed when a 1d array was expected. Will change shape via np.ravel().\n",
      "  y = self._check_y(y)\n",
      "/home/charles/anaconda3/lib/python3.7/site-packages/autosklearn/automl.py:887: DataConversionWarning: A column-vector y was passed when a 1d array was expected. Will change shape via np.ravel().\n",
      "  y = self._check_y(y)\n",
      "/home/charles/anaconda3/lib/python3.7/site-packages/autosklearn/automl.py:887: DataConversionWarning: A column-vector y was passed when a 1d array was expected. Will change shape via np.ravel().\n",
      "  y = self._check_y(y)\n",
      "/home/charles/anaconda3/lib/python3.7/site-packages/autosklearn/automl.py:887: DataConversionWarning: A column-vector y was passed when a 1d array was expected. Will change shape via np.ravel().\n",
      "  y = self._check_y(y)\n",
      "/home/charles/anaconda3/lib/python3.7/site-packages/autosklearn/automl.py:887: DataConversionWarning: A column-vector y was passed when a 1d array was expected. Will change shape via np.ravel().\n",
      "  y = self._check_y(y)\n",
      "/home/charles/anaconda3/lib/python3.7/site-packages/autosklearn/automl.py:887: DataConversionWarning: A column-vector y was passed when a 1d array was expected. Will change shape via np.ravel().\n",
      "  y = self._check_y(y)\n",
      "/home/charles/anaconda3/lib/python3.7/site-packages/autosklearn/automl.py:887: DataConversionWarning: A column-vector y was passed when a 1d array was expected. Will change shape via np.ravel().\n",
      "  y = self._check_y(y)\n",
      "/home/charles/anaconda3/lib/python3.7/site-packages/autosklearn/automl.py:887: DataConversionWarning: A column-vector y was passed when a 1d array was expected. Will change shape via np.ravel().\n",
      "  y = self._check_y(y)\n"
     ]
    },
    {
     "name": "stdout",
     "output_type": "stream",
     "text": [
      "[WARNING] [2020-03-19 23:17:26,524:EnsembleBuilder(1791095845):28bee70f51bbda319d151e96d8f7d1a7] No models better than random - using Dummy Score!\n",
      "[WARNING] [2020-03-19 23:17:26,556:EnsembleBuilder(1791095845):28bee70f51bbda319d151e96d8f7d1a7] No models better than random - using Dummy Score!\n",
      "[WARNING] [2020-03-19 23:17:28,562:EnsembleBuilder(1791095845):28bee70f51bbda319d151e96d8f7d1a7] No models better than random - using Dummy Score!\n",
      "[WARNING] [2020-03-19 23:17:30,582:EnsembleBuilder(1791095845):28bee70f51bbda319d151e96d8f7d1a7] No models better than random - using Dummy Score!\n",
      "[WARNING] [2020-03-19 23:17:32,588:EnsembleBuilder(1791095845):28bee70f51bbda319d151e96d8f7d1a7] No models better than random - using Dummy Score!\n",
      "[WARNING] [2020-03-19 23:17:34,608:EnsembleBuilder(1791095845):28bee70f51bbda319d151e96d8f7d1a7] No models better than random - using Dummy Score!\n",
      "[WARNING] [2020-03-19 23:17:36,617:EnsembleBuilder(1791095845):28bee70f51bbda319d151e96d8f7d1a7] No models better than random - using Dummy Score!\n",
      "[WARNING] [2020-03-19 23:17:38,633:EnsembleBuilder(1791095845):28bee70f51bbda319d151e96d8f7d1a7] No models better than random - using Dummy Score!\n"
     ]
    },
    {
     "name": "stderr",
     "output_type": "stream",
     "text": [
      "/home/charles/anaconda3/lib/python3.7/site-packages/autosklearn/automl.py:887: DataConversionWarning: A column-vector y was passed when a 1d array was expected. Will change shape via np.ravel().\n",
      "  y = self._check_y(y)\n",
      "/home/charles/anaconda3/lib/python3.7/site-packages/autosklearn/automl.py:887: DataConversionWarning: A column-vector y was passed when a 1d array was expected. Will change shape via np.ravel().\n",
      "  y = self._check_y(y)\n",
      "/home/charles/anaconda3/lib/python3.7/site-packages/autosklearn/automl.py:887: DataConversionWarning: A column-vector y was passed when a 1d array was expected. Will change shape via np.ravel().\n",
      "  y = self._check_y(y)\n",
      "/home/charles/anaconda3/lib/python3.7/site-packages/autosklearn/automl.py:887: DataConversionWarning: A column-vector y was passed when a 1d array was expected. Will change shape via np.ravel().\n",
      "  y = self._check_y(y)\n",
      "/home/charles/anaconda3/lib/python3.7/site-packages/autosklearn/automl.py:887: DataConversionWarning: A column-vector y was passed when a 1d array was expected. Will change shape via np.ravel().\n",
      "  y = self._check_y(y)\n",
      "/home/charles/anaconda3/lib/python3.7/site-packages/autosklearn/automl.py:887: DataConversionWarning: A column-vector y was passed when a 1d array was expected. Will change shape via np.ravel().\n",
      "  y = self._check_y(y)\n",
      "/home/charles/anaconda3/lib/python3.7/site-packages/autosklearn/automl.py:887: DataConversionWarning: A column-vector y was passed when a 1d array was expected. Will change shape via np.ravel().\n",
      "  y = self._check_y(y)\n",
      "/home/charles/anaconda3/lib/python3.7/site-packages/autosklearn/automl.py:887: DataConversionWarning: A column-vector y was passed when a 1d array was expected. Will change shape via np.ravel().\n",
      "  y = self._check_y(y)\n"
     ]
    },
    {
     "name": "stdout",
     "output_type": "stream",
     "text": [
      "[WARNING] [2020-03-19 23:24:01,814:EnsembleBuilder(1791095845):28bee70f51bbda319d151e96d8f7d1a7] No models better than random - using Dummy Score!\n",
      "[WARNING] [2020-03-19 23:24:01,831:EnsembleBuilder(1791095845):28bee70f51bbda319d151e96d8f7d1a7] No models better than random - using Dummy Score!\n",
      "[WARNING] [2020-03-19 23:24:03,834:EnsembleBuilder(1791095845):28bee70f51bbda319d151e96d8f7d1a7] No models better than random - using Dummy Score!\n",
      "[WARNING] [2020-03-19 23:24:05,849:EnsembleBuilder(1791095845):28bee70f51bbda319d151e96d8f7d1a7] No models better than random - using Dummy Score!\n",
      "[WARNING] [2020-03-19 23:24:07,869:EnsembleBuilder(1791095845):28bee70f51bbda319d151e96d8f7d1a7] No models better than random - using Dummy Score!\n",
      "[WARNING] [2020-03-19 23:24:09,880:EnsembleBuilder(1791095845):28bee70f51bbda319d151e96d8f7d1a7] No models better than random - using Dummy Score!\n"
     ]
    },
    {
     "name": "stderr",
     "output_type": "stream",
     "text": [
      "/home/charles/anaconda3/lib/python3.7/site-packages/autosklearn/automl.py:887: DataConversionWarning: A column-vector y was passed when a 1d array was expected. Will change shape via np.ravel().\n",
      "  y = self._check_y(y)\n",
      "/home/charles/anaconda3/lib/python3.7/site-packages/autosklearn/automl.py:887: DataConversionWarning: A column-vector y was passed when a 1d array was expected. Will change shape via np.ravel().\n",
      "  y = self._check_y(y)\n",
      "/home/charles/anaconda3/lib/python3.7/site-packages/autosklearn/automl.py:887: DataConversionWarning: A column-vector y was passed when a 1d array was expected. Will change shape via np.ravel().\n",
      "  y = self._check_y(y)\n",
      "/home/charles/anaconda3/lib/python3.7/site-packages/autosklearn/automl.py:887: DataConversionWarning: A column-vector y was passed when a 1d array was expected. Will change shape via np.ravel().\n",
      "  y = self._check_y(y)\n",
      "/home/charles/anaconda3/lib/python3.7/site-packages/autosklearn/automl.py:887: DataConversionWarning: A column-vector y was passed when a 1d array was expected. Will change shape via np.ravel().\n",
      "  y = self._check_y(y)\n",
      "/home/charles/anaconda3/lib/python3.7/site-packages/autosklearn/automl.py:887: DataConversionWarning: A column-vector y was passed when a 1d array was expected. Will change shape via np.ravel().\n",
      "  y = self._check_y(y)\n",
      "/home/charles/anaconda3/lib/python3.7/site-packages/autosklearn/automl.py:887: DataConversionWarning: A column-vector y was passed when a 1d array was expected. Will change shape via np.ravel().\n",
      "  y = self._check_y(y)\n",
      "/home/charles/anaconda3/lib/python3.7/site-packages/autosklearn/automl.py:887: DataConversionWarning: A column-vector y was passed when a 1d array was expected. Will change shape via np.ravel().\n",
      "  y = self._check_y(y)\n"
     ]
    },
    {
     "name": "stdout",
     "output_type": "stream",
     "text": [
      "[WARNING] [2020-03-19 23:30:37,452:EnsembleBuilder(1791095845):28bee70f51bbda319d151e96d8f7d1a7] No models better than random - using Dummy Score!\n",
      "[WARNING] [2020-03-19 23:30:37,457:EnsembleBuilder(1791095845):28bee70f51bbda319d151e96d8f7d1a7] No models better than random - using Dummy Score!\n",
      "[WARNING] [2020-03-19 23:30:39,464:EnsembleBuilder(1791095845):28bee70f51bbda319d151e96d8f7d1a7] No models better than random - using Dummy Score!\n",
      "[WARNING] [2020-03-19 23:30:41,472:EnsembleBuilder(1791095845):28bee70f51bbda319d151e96d8f7d1a7] No models better than random - using Dummy Score!\n",
      "[WARNING] [2020-03-19 23:30:43,493:EnsembleBuilder(1791095845):28bee70f51bbda319d151e96d8f7d1a7] No models better than random - using Dummy Score!\n",
      "[WARNING] [2020-03-19 23:30:45,516:EnsembleBuilder(1791095845):28bee70f51bbda319d151e96d8f7d1a7] No models better than random - using Dummy Score!\n",
      "[WARNING] [2020-03-19 23:30:47,540:EnsembleBuilder(1791095845):28bee70f51bbda319d151e96d8f7d1a7] No models better than random - using Dummy Score!\n",
      "[WARNING] [2020-03-19 23:30:49,550:EnsembleBuilder(1791095845):28bee70f51bbda319d151e96d8f7d1a7] No models better than random - using Dummy Score!\n"
     ]
    },
    {
     "name": "stderr",
     "output_type": "stream",
     "text": [
      "/home/charles/anaconda3/lib/python3.7/site-packages/autosklearn/automl.py:887: DataConversionWarning: A column-vector y was passed when a 1d array was expected. Will change shape via np.ravel().\n",
      "  y = self._check_y(y)\n",
      "/home/charles/anaconda3/lib/python3.7/site-packages/autosklearn/automl.py:887: DataConversionWarning: A column-vector y was passed when a 1d array was expected. Will change shape via np.ravel().\n",
      "  y = self._check_y(y)\n",
      "/home/charles/anaconda3/lib/python3.7/site-packages/autosklearn/automl.py:887: DataConversionWarning: A column-vector y was passed when a 1d array was expected. Will change shape via np.ravel().\n",
      "  y = self._check_y(y)\n",
      "/home/charles/anaconda3/lib/python3.7/site-packages/autosklearn/automl.py:887: DataConversionWarning: A column-vector y was passed when a 1d array was expected. Will change shape via np.ravel().\n",
      "  y = self._check_y(y)\n",
      "/home/charles/anaconda3/lib/python3.7/site-packages/autosklearn/automl.py:887: DataConversionWarning: A column-vector y was passed when a 1d array was expected. Will change shape via np.ravel().\n",
      "  y = self._check_y(y)\n",
      "/home/charles/anaconda3/lib/python3.7/site-packages/autosklearn/automl.py:887: DataConversionWarning: A column-vector y was passed when a 1d array was expected. Will change shape via np.ravel().\n",
      "  y = self._check_y(y)\n",
      "/home/charles/anaconda3/lib/python3.7/site-packages/autosklearn/automl.py:887: DataConversionWarning: A column-vector y was passed when a 1d array was expected. Will change shape via np.ravel().\n",
      "  y = self._check_y(y)\n",
      "/home/charles/anaconda3/lib/python3.7/site-packages/autosklearn/automl.py:887: DataConversionWarning: A column-vector y was passed when a 1d array was expected. Will change shape via np.ravel().\n",
      "  y = self._check_y(y)\n"
     ]
    },
    {
     "name": "stdout",
     "output_type": "stream",
     "text": [
      "[WARNING] [2020-03-19 23:37:13,191:EnsembleBuilder(1791095845):28bee70f51bbda319d151e96d8f7d1a7] No models better than random - using Dummy Score!\n",
      "[WARNING] [2020-03-19 23:37:13,196:EnsembleBuilder(1791095845):28bee70f51bbda319d151e96d8f7d1a7] No models better than random - using Dummy Score!\n",
      "[WARNING] [2020-03-19 23:37:15,203:EnsembleBuilder(1791095845):28bee70f51bbda319d151e96d8f7d1a7] No models better than random - using Dummy Score!\n",
      "[WARNING] [2020-03-19 23:37:17,210:EnsembleBuilder(1791095845):28bee70f51bbda319d151e96d8f7d1a7] No models better than random - using Dummy Score!\n",
      "[WARNING] [2020-03-19 23:37:19,216:EnsembleBuilder(1791095845):28bee70f51bbda319d151e96d8f7d1a7] No models better than random - using Dummy Score!\n",
      "[WARNING] [2020-03-19 23:37:21,226:EnsembleBuilder(1791095845):28bee70f51bbda319d151e96d8f7d1a7] No models better than random - using Dummy Score!\n",
      "[WARNING] [2020-03-19 23:37:23,241:EnsembleBuilder(1791095845):28bee70f51bbda319d151e96d8f7d1a7] No models better than random - using Dummy Score!\n"
     ]
    },
    {
     "name": "stderr",
     "output_type": "stream",
     "text": [
      "/home/charles/anaconda3/lib/python3.7/site-packages/autosklearn/automl.py:887: DataConversionWarning: A column-vector y was passed when a 1d array was expected. Will change shape via np.ravel().\n",
      "  y = self._check_y(y)\n",
      "/home/charles/anaconda3/lib/python3.7/site-packages/autosklearn/automl.py:887: DataConversionWarning: A column-vector y was passed when a 1d array was expected. Will change shape via np.ravel().\n",
      "  y = self._check_y(y)\n",
      "/home/charles/anaconda3/lib/python3.7/site-packages/autosklearn/automl.py:887: DataConversionWarning: A column-vector y was passed when a 1d array was expected. Will change shape via np.ravel().\n",
      "  y = self._check_y(y)\n",
      "/home/charles/anaconda3/lib/python3.7/site-packages/autosklearn/automl.py:887: DataConversionWarning: A column-vector y was passed when a 1d array was expected. Will change shape via np.ravel().\n",
      "  y = self._check_y(y)\n",
      "/home/charles/anaconda3/lib/python3.7/site-packages/autosklearn/automl.py:887: DataConversionWarning: A column-vector y was passed when a 1d array was expected. Will change shape via np.ravel().\n",
      "  y = self._check_y(y)\n",
      "/home/charles/anaconda3/lib/python3.7/site-packages/autosklearn/automl.py:887: DataConversionWarning: A column-vector y was passed when a 1d array was expected. Will change shape via np.ravel().\n",
      "  y = self._check_y(y)\n",
      "/home/charles/anaconda3/lib/python3.7/site-packages/autosklearn/automl.py:887: DataConversionWarning: A column-vector y was passed when a 1d array was expected. Will change shape via np.ravel().\n",
      "  y = self._check_y(y)\n",
      "/home/charles/anaconda3/lib/python3.7/site-packages/autosklearn/automl.py:887: DataConversionWarning: A column-vector y was passed when a 1d array was expected. Will change shape via np.ravel().\n",
      "  y = self._check_y(y)\n"
     ]
    },
    {
     "name": "stdout",
     "output_type": "stream",
     "text": [
      "[WARNING] [2020-03-19 23:43:49,215:EnsembleBuilder(1791095845):28bee70f51bbda319d151e96d8f7d1a7] No models better than random - using Dummy Score!\n",
      "[WARNING] [2020-03-19 23:43:49,221:EnsembleBuilder(1791095845):28bee70f51bbda319d151e96d8f7d1a7] No models better than random - using Dummy Score!\n",
      "[WARNING] [2020-03-19 23:43:51,227:EnsembleBuilder(1791095845):28bee70f51bbda319d151e96d8f7d1a7] No models better than random - using Dummy Score!\n",
      "[WARNING] [2020-03-19 23:43:53,241:EnsembleBuilder(1791095845):28bee70f51bbda319d151e96d8f7d1a7] No models better than random - using Dummy Score!\n",
      "[WARNING] [2020-03-19 23:43:55,254:EnsembleBuilder(1791095845):28bee70f51bbda319d151e96d8f7d1a7] No models better than random - using Dummy Score!\n",
      "[WARNING] [2020-03-19 23:43:57,276:EnsembleBuilder(1791095845):28bee70f51bbda319d151e96d8f7d1a7] No models better than random - using Dummy Score!\n",
      "[WARNING] [2020-03-19 23:43:59,305:EnsembleBuilder(1791095845):28bee70f51bbda319d151e96d8f7d1a7] No models better than random - using Dummy Score!\n",
      "[WARNING] [2020-03-19 23:44:01,322:EnsembleBuilder(1791095845):28bee70f51bbda319d151e96d8f7d1a7] No models better than random - using Dummy Score!\n",
      "[WARNING] [2020-03-19 23:44:03,340:EnsembleBuilder(1791095845):28bee70f51bbda319d151e96d8f7d1a7] No models better than random - using Dummy Score!\n",
      "[WARNING] [2020-03-19 23:44:05,352:EnsembleBuilder(1791095845):28bee70f51bbda319d151e96d8f7d1a7] No models better than random - using Dummy Score!\n",
      "[WARNING] [2020-03-19 23:44:07,370:EnsembleBuilder(1791095845):28bee70f51bbda319d151e96d8f7d1a7] No models better than random - using Dummy Score!\n"
     ]
    },
    {
     "name": "stderr",
     "output_type": "stream",
     "text": [
      "Process Process-770:\n",
      "Traceback (most recent call last):\n",
      "  File \"/home/charles/anaconda3/lib/python3.7/multiprocessing/process.py\", line 297, in _bootstrap\n",
      "    self.run()\n",
      "  File \"/home/charles/anaconda3/lib/python3.7/multiprocessing/process.py\", line 99, in run\n",
      "    self._target(*self._args, **self._kwargs)\n",
      "  File \"/home/charles/anaconda3/lib/python3.7/site-packages/autosklearn/estimators.py\", line 15, in _fit_automl\n",
      "    return automl.fit(load_models=load_models, **kwargs)\n",
      "  File \"/home/charles/anaconda3/lib/python3.7/site-packages/autosklearn/automl.py\", line 1091, in fit\n",
      "    load_models=load_models,\n",
      "  File \"/home/charles/anaconda3/lib/python3.7/site-packages/autosklearn/automl.py\", line 208, in fit\n",
      "    only_return_configuration_space=only_return_configuration_space,\n",
      "  File \"/home/charles/anaconda3/lib/python3.7/site-packages/autosklearn/automl.py\", line 489, in _fit\n",
      "    _proc_smac.run_smbo()\n",
      "  File \"/home/charles/anaconda3/lib/python3.7/site-packages/autosklearn/smbo.py\", line 513, in run_smbo\n",
      "    logger=smac.solver.logger,\n",
      "  File \"/home/charles/anaconda3/lib/python3.7/site-packages/smac/optimizer/pSMAC.py\", line 51, in read\n",
      "    configuration_space)\n",
      "  File \"/home/charles/anaconda3/lib/python3.7/site-packages/smac/runhistory/runhistory.py\", line 381, in update_from_json\n",
      "    new_runhistory.load_json(fn, cs)\n",
      "  File \"/home/charles/anaconda3/lib/python3.7/site-packages/smac/runhistory/runhistory.py\", line 348, in load_json\n",
      "    all_data = json.load(fp, object_hook=StatusType.enum_hook)\n",
      "  File \"/home/charles/anaconda3/lib/python3.7/json/__init__.py\", line 296, in load\n",
      "    parse_constant=parse_constant, object_pairs_hook=object_pairs_hook, **kw)\n",
      "  File \"/home/charles/anaconda3/lib/python3.7/json/__init__.py\", line 361, in loads\n",
      "    return cls(**kw).decode(s)\n",
      "  File \"/home/charles/anaconda3/lib/python3.7/json/decoder.py\", line 337, in decode\n",
      "    obj, end = self.raw_decode(s, idx=_w(s, 0).end())\n",
      "  File \"/home/charles/anaconda3/lib/python3.7/json/decoder.py\", line 355, in raw_decode\n",
      "    raise JSONDecodeError(\"Expecting value\", s, err.value) from None\n",
      "json.decoder.JSONDecodeError: Expecting value: line 1 column 1 (char 0)\n",
      "/home/charles/anaconda3/lib/python3.7/site-packages/autosklearn/automl.py:887: DataConversionWarning: A column-vector y was passed when a 1d array was expected. Will change shape via np.ravel().\n",
      "  y = self._check_y(y)\n",
      "/home/charles/anaconda3/lib/python3.7/site-packages/autosklearn/automl.py:887: DataConversionWarning: A column-vector y was passed when a 1d array was expected. Will change shape via np.ravel().\n",
      "  y = self._check_y(y)\n",
      "/home/charles/anaconda3/lib/python3.7/site-packages/autosklearn/automl.py:887: DataConversionWarning: A column-vector y was passed when a 1d array was expected. Will change shape via np.ravel().\n",
      "  y = self._check_y(y)\n",
      "/home/charles/anaconda3/lib/python3.7/site-packages/autosklearn/automl.py:887: DataConversionWarning: A column-vector y was passed when a 1d array was expected. Will change shape via np.ravel().\n",
      "  y = self._check_y(y)\n",
      "/home/charles/anaconda3/lib/python3.7/site-packages/autosklearn/automl.py:887: DataConversionWarning: A column-vector y was passed when a 1d array was expected. Will change shape via np.ravel().\n",
      "  y = self._check_y(y)\n",
      "/home/charles/anaconda3/lib/python3.7/site-packages/autosklearn/automl.py:887: DataConversionWarning: A column-vector y was passed when a 1d array was expected. Will change shape via np.ravel().\n",
      "  y = self._check_y(y)\n",
      "/home/charles/anaconda3/lib/python3.7/site-packages/autosklearn/automl.py:887: DataConversionWarning: A column-vector y was passed when a 1d array was expected. Will change shape via np.ravel().\n",
      "  y = self._check_y(y)\n",
      "/home/charles/anaconda3/lib/python3.7/site-packages/autosklearn/automl.py:887: DataConversionWarning: A column-vector y was passed when a 1d array was expected. Will change shape via np.ravel().\n",
      "  y = self._check_y(y)\n"
     ]
    },
    {
     "name": "stdout",
     "output_type": "stream",
     "text": [
      "[WARNING] [2020-03-19 23:50:25,134:EnsembleBuilder(1791095845):28bee70f51bbda319d151e96d8f7d1a7] No models better than random - using Dummy Score!\n",
      "[WARNING] [2020-03-19 23:50:25,140:EnsembleBuilder(1791095845):28bee70f51bbda319d151e96d8f7d1a7] No models better than random - using Dummy Score!\n",
      "[WARNING] [2020-03-19 23:50:27,147:EnsembleBuilder(1791095845):28bee70f51bbda319d151e96d8f7d1a7] No models better than random - using Dummy Score!\n",
      "[WARNING] [2020-03-19 23:50:29,162:EnsembleBuilder(1791095845):28bee70f51bbda319d151e96d8f7d1a7] No models better than random - using Dummy Score!\n",
      "[WARNING] [2020-03-19 23:50:31,173:EnsembleBuilder(1791095845):28bee70f51bbda319d151e96d8f7d1a7] No models better than random - using Dummy Score!\n",
      "[WARNING] [2020-03-19 23:50:33,190:EnsembleBuilder(1791095845):28bee70f51bbda319d151e96d8f7d1a7] No models better than random - using Dummy Score!\n",
      "[WARNING] [2020-03-19 23:50:35,212:EnsembleBuilder(1791095845):28bee70f51bbda319d151e96d8f7d1a7] No models better than random - using Dummy Score!\n"
     ]
    },
    {
     "name": "stderr",
     "output_type": "stream",
     "text": [
      "/home/charles/anaconda3/lib/python3.7/site-packages/autosklearn/automl.py:887: DataConversionWarning: A column-vector y was passed when a 1d array was expected. Will change shape via np.ravel().\n",
      "  y = self._check_y(y)\n",
      "/home/charles/anaconda3/lib/python3.7/site-packages/autosklearn/automl.py:887: DataConversionWarning: A column-vector y was passed when a 1d array was expected. Will change shape via np.ravel().\n",
      "  y = self._check_y(y)\n",
      "/home/charles/anaconda3/lib/python3.7/site-packages/autosklearn/automl.py:887: DataConversionWarning: A column-vector y was passed when a 1d array was expected. Will change shape via np.ravel().\n",
      "  y = self._check_y(y)\n",
      "/home/charles/anaconda3/lib/python3.7/site-packages/autosklearn/automl.py:887: DataConversionWarning: A column-vector y was passed when a 1d array was expected. Will change shape via np.ravel().\n",
      "  y = self._check_y(y)\n",
      "/home/charles/anaconda3/lib/python3.7/site-packages/autosklearn/automl.py:887: DataConversionWarning: A column-vector y was passed when a 1d array was expected. Will change shape via np.ravel().\n",
      "  y = self._check_y(y)\n",
      "/home/charles/anaconda3/lib/python3.7/site-packages/autosklearn/automl.py:887: DataConversionWarning: A column-vector y was passed when a 1d array was expected. Will change shape via np.ravel().\n",
      "  y = self._check_y(y)\n",
      "/home/charles/anaconda3/lib/python3.7/site-packages/autosklearn/automl.py:887: DataConversionWarning: A column-vector y was passed when a 1d array was expected. Will change shape via np.ravel().\n",
      "  y = self._check_y(y)\n",
      "/home/charles/anaconda3/lib/python3.7/site-packages/autosklearn/automl.py:887: DataConversionWarning: A column-vector y was passed when a 1d array was expected. Will change shape via np.ravel().\n",
      "  y = self._check_y(y)\n"
     ]
    },
    {
     "name": "stdout",
     "output_type": "stream",
     "text": [
      "[WARNING] [2020-03-19 23:57:01,259:EnsembleBuilder(1791095845):28bee70f51bbda319d151e96d8f7d1a7] No models better than random - using Dummy Score!\n",
      "[WARNING] [2020-03-19 23:57:01,265:EnsembleBuilder(1791095845):28bee70f51bbda319d151e96d8f7d1a7] No models better than random - using Dummy Score!\n",
      "[WARNING] [2020-03-19 23:57:03,274:EnsembleBuilder(1791095845):28bee70f51bbda319d151e96d8f7d1a7] No models better than random - using Dummy Score!\n",
      "[WARNING] [2020-03-19 23:57:05,286:EnsembleBuilder(1791095845):28bee70f51bbda319d151e96d8f7d1a7] No models better than random - using Dummy Score!\n",
      "[WARNING] [2020-03-19 23:57:07,310:EnsembleBuilder(1791095845):28bee70f51bbda319d151e96d8f7d1a7] No models better than random - using Dummy Score!\n",
      "[WARNING] [2020-03-19 23:57:09,337:EnsembleBuilder(1791095845):28bee70f51bbda319d151e96d8f7d1a7] No models better than random - using Dummy Score!\n",
      "[WARNING] [2020-03-19 23:57:11,358:EnsembleBuilder(1791095845):28bee70f51bbda319d151e96d8f7d1a7] No models better than random - using Dummy Score!\n",
      "[WARNING] [2020-03-19 23:57:13,364:EnsembleBuilder(1791095845):28bee70f51bbda319d151e96d8f7d1a7] No models better than random - using Dummy Score!\n"
     ]
    },
    {
     "name": "stderr",
     "output_type": "stream",
     "text": [
      "/home/charles/anaconda3/lib/python3.7/site-packages/autosklearn/automl.py:887: DataConversionWarning: A column-vector y was passed when a 1d array was expected. Will change shape via np.ravel().\n",
      "  y = self._check_y(y)\n",
      "/home/charles/anaconda3/lib/python3.7/site-packages/autosklearn/automl.py:887: DataConversionWarning: A column-vector y was passed when a 1d array was expected. Will change shape via np.ravel().\n",
      "  y = self._check_y(y)\n",
      "/home/charles/anaconda3/lib/python3.7/site-packages/autosklearn/automl.py:887: DataConversionWarning: A column-vector y was passed when a 1d array was expected. Will change shape via np.ravel().\n",
      "  y = self._check_y(y)\n",
      "/home/charles/anaconda3/lib/python3.7/site-packages/autosklearn/automl.py:887: DataConversionWarning: A column-vector y was passed when a 1d array was expected. Will change shape via np.ravel().\n",
      "  y = self._check_y(y)\n",
      "/home/charles/anaconda3/lib/python3.7/site-packages/autosklearn/automl.py:887: DataConversionWarning: A column-vector y was passed when a 1d array was expected. Will change shape via np.ravel().\n",
      "  y = self._check_y(y)\n",
      "/home/charles/anaconda3/lib/python3.7/site-packages/autosklearn/automl.py:887: DataConversionWarning: A column-vector y was passed when a 1d array was expected. Will change shape via np.ravel().\n",
      "  y = self._check_y(y)\n",
      "/home/charles/anaconda3/lib/python3.7/site-packages/autosklearn/automl.py:887: DataConversionWarning: A column-vector y was passed when a 1d array was expected. Will change shape via np.ravel().\n",
      "  y = self._check_y(y)\n",
      "/home/charles/anaconda3/lib/python3.7/site-packages/autosklearn/automl.py:887: DataConversionWarning: A column-vector y was passed when a 1d array was expected. Will change shape via np.ravel().\n",
      "  y = self._check_y(y)\n"
     ]
    },
    {
     "name": "stdout",
     "output_type": "stream",
     "text": [
      "[WARNING] [2020-03-20 00:03:37,923:EnsembleBuilder(1791095845):28bee70f51bbda319d151e96d8f7d1a7] No models better than random - using Dummy Score!\n",
      "[WARNING] [2020-03-20 00:03:37,932:EnsembleBuilder(1791095845):28bee70f51bbda319d151e96d8f7d1a7] No models better than random - using Dummy Score!\n",
      "[WARNING] [2020-03-20 00:03:39,946:EnsembleBuilder(1791095845):28bee70f51bbda319d151e96d8f7d1a7] No models better than random - using Dummy Score!\n",
      "[WARNING] [2020-03-20 00:03:41,972:EnsembleBuilder(1791095845):28bee70f51bbda319d151e96d8f7d1a7] No models better than random - using Dummy Score!\n",
      "[WARNING] [2020-03-20 00:03:43,981:EnsembleBuilder(1791095845):28bee70f51bbda319d151e96d8f7d1a7] No models better than random - using Dummy Score!\n"
     ]
    },
    {
     "name": "stderr",
     "output_type": "stream",
     "text": [
      "/home/charles/anaconda3/lib/python3.7/site-packages/autosklearn/automl.py:887: DataConversionWarning: A column-vector y was passed when a 1d array was expected. Will change shape via np.ravel().\n",
      "  y = self._check_y(y)\n",
      "/home/charles/anaconda3/lib/python3.7/site-packages/autosklearn/automl.py:887: DataConversionWarning: A column-vector y was passed when a 1d array was expected. Will change shape via np.ravel().\n",
      "  y = self._check_y(y)\n",
      "/home/charles/anaconda3/lib/python3.7/site-packages/autosklearn/automl.py:887: DataConversionWarning: A column-vector y was passed when a 1d array was expected. Will change shape via np.ravel().\n",
      "  y = self._check_y(y)\n",
      "/home/charles/anaconda3/lib/python3.7/site-packages/autosklearn/automl.py:887: DataConversionWarning: A column-vector y was passed when a 1d array was expected. Will change shape via np.ravel().\n",
      "  y = self._check_y(y)\n",
      "/home/charles/anaconda3/lib/python3.7/site-packages/autosklearn/automl.py:887: DataConversionWarning: A column-vector y was passed when a 1d array was expected. Will change shape via np.ravel().\n",
      "  y = self._check_y(y)\n",
      "/home/charles/anaconda3/lib/python3.7/site-packages/autosklearn/automl.py:887: DataConversionWarning: A column-vector y was passed when a 1d array was expected. Will change shape via np.ravel().\n",
      "  y = self._check_y(y)\n",
      "/home/charles/anaconda3/lib/python3.7/site-packages/autosklearn/automl.py:887: DataConversionWarning: A column-vector y was passed when a 1d array was expected. Will change shape via np.ravel().\n",
      "  y = self._check_y(y)\n",
      "/home/charles/anaconda3/lib/python3.7/site-packages/autosklearn/automl.py:887: DataConversionWarning: A column-vector y was passed when a 1d array was expected. Will change shape via np.ravel().\n",
      "  y = self._check_y(y)\n"
     ]
    },
    {
     "name": "stdout",
     "output_type": "stream",
     "text": [
      "[WARNING] [2020-03-20 00:10:15,028:EnsembleBuilder(1791095845):28bee70f51bbda319d151e96d8f7d1a7] No models better than random - using Dummy Score!\n",
      "[WARNING] [2020-03-20 00:10:15,049:EnsembleBuilder(1791095845):28bee70f51bbda319d151e96d8f7d1a7] No models better than random - using Dummy Score!\n",
      "[WARNING] [2020-03-20 00:10:17,061:EnsembleBuilder(1791095845):28bee70f51bbda319d151e96d8f7d1a7] No models better than random - using Dummy Score!\n",
      "[WARNING] [2020-03-20 00:10:19,069:EnsembleBuilder(1791095845):28bee70f51bbda319d151e96d8f7d1a7] No models better than random - using Dummy Score!\n",
      "[WARNING] [2020-03-20 00:10:21,078:EnsembleBuilder(1791095845):28bee70f51bbda319d151e96d8f7d1a7] No models better than random - using Dummy Score!\n",
      "[WARNING] [2020-03-20 00:10:23,085:EnsembleBuilder(1791095845):28bee70f51bbda319d151e96d8f7d1a7] No models better than random - using Dummy Score!\n"
     ]
    },
    {
     "name": "stderr",
     "output_type": "stream",
     "text": [
      "/home/charles/anaconda3/lib/python3.7/site-packages/autosklearn/automl.py:887: DataConversionWarning: A column-vector y was passed when a 1d array was expected. Will change shape via np.ravel().\n",
      "  y = self._check_y(y)\n",
      "/home/charles/anaconda3/lib/python3.7/site-packages/autosklearn/automl.py:887: DataConversionWarning: A column-vector y was passed when a 1d array was expected. Will change shape via np.ravel().\n",
      "  y = self._check_y(y)\n",
      "/home/charles/anaconda3/lib/python3.7/site-packages/autosklearn/automl.py:887: DataConversionWarning: A column-vector y was passed when a 1d array was expected. Will change shape via np.ravel().\n",
      "  y = self._check_y(y)\n",
      "/home/charles/anaconda3/lib/python3.7/site-packages/autosklearn/automl.py:887: DataConversionWarning: A column-vector y was passed when a 1d array was expected. Will change shape via np.ravel().\n",
      "  y = self._check_y(y)\n",
      "/home/charles/anaconda3/lib/python3.7/site-packages/autosklearn/automl.py:887: DataConversionWarning: A column-vector y was passed when a 1d array was expected. Will change shape via np.ravel().\n",
      "  y = self._check_y(y)\n",
      "/home/charles/anaconda3/lib/python3.7/site-packages/autosklearn/automl.py:887: DataConversionWarning: A column-vector y was passed when a 1d array was expected. Will change shape via np.ravel().\n",
      "  y = self._check_y(y)\n",
      "/home/charles/anaconda3/lib/python3.7/site-packages/autosklearn/automl.py:887: DataConversionWarning: A column-vector y was passed when a 1d array was expected. Will change shape via np.ravel().\n",
      "  y = self._check_y(y)\n",
      "/home/charles/anaconda3/lib/python3.7/site-packages/autosklearn/automl.py:887: DataConversionWarning: A column-vector y was passed when a 1d array was expected. Will change shape via np.ravel().\n",
      "  y = self._check_y(y)\n"
     ]
    },
    {
     "name": "stdout",
     "output_type": "stream",
     "text": [
      "[WARNING] [2020-03-20 00:16:49,532:EnsembleBuilder(1791095845):28bee70f51bbda319d151e96d8f7d1a7] No models better than random - using Dummy Score!\n",
      "[WARNING] [2020-03-20 00:16:49,537:EnsembleBuilder(1791095845):28bee70f51bbda319d151e96d8f7d1a7] No models better than random - using Dummy Score!\n",
      "[WARNING] [2020-03-20 00:16:51,543:EnsembleBuilder(1791095845):28bee70f51bbda319d151e96d8f7d1a7] No models better than random - using Dummy Score!\n",
      "[WARNING] [2020-03-20 00:16:53,550:EnsembleBuilder(1791095845):28bee70f51bbda319d151e96d8f7d1a7] No models better than random - using Dummy Score!\n",
      "[WARNING] [2020-03-20 00:16:55,561:EnsembleBuilder(1791095845):28bee70f51bbda319d151e96d8f7d1a7] No models better than random - using Dummy Score!\n",
      "[WARNING] [2020-03-20 00:16:57,566:EnsembleBuilder(1791095845):28bee70f51bbda319d151e96d8f7d1a7] No models better than random - using Dummy Score!\n",
      "[WARNING] [2020-03-20 00:16:59,578:EnsembleBuilder(1791095845):28bee70f51bbda319d151e96d8f7d1a7] No models better than random - using Dummy Score!\n",
      "[WARNING] [2020-03-20 00:17:01,598:EnsembleBuilder(1791095845):28bee70f51bbda319d151e96d8f7d1a7] No models better than random - using Dummy Score!\n",
      "[WARNING] [2020-03-20 00:17:03,613:EnsembleBuilder(1791095845):28bee70f51bbda319d151e96d8f7d1a7] No models better than random - using Dummy Score!\n",
      "[WARNING] [2020-03-20 00:17:05,630:EnsembleBuilder(1791095845):28bee70f51bbda319d151e96d8f7d1a7] No models better than random - using Dummy Score!\n"
     ]
    },
    {
     "name": "stderr",
     "output_type": "stream",
     "text": [
      "/home/charles/anaconda3/lib/python3.7/site-packages/autosklearn/automl.py:887: DataConversionWarning: A column-vector y was passed when a 1d array was expected. Will change shape via np.ravel().\n",
      "  y = self._check_y(y)\n",
      "/home/charles/anaconda3/lib/python3.7/site-packages/autosklearn/automl.py:887: DataConversionWarning: A column-vector y was passed when a 1d array was expected. Will change shape via np.ravel().\n",
      "  y = self._check_y(y)\n",
      "/home/charles/anaconda3/lib/python3.7/site-packages/autosklearn/automl.py:887: DataConversionWarning: A column-vector y was passed when a 1d array was expected. Will change shape via np.ravel().\n",
      "  y = self._check_y(y)\n",
      "/home/charles/anaconda3/lib/python3.7/site-packages/autosklearn/automl.py:887: DataConversionWarning: A column-vector y was passed when a 1d array was expected. Will change shape via np.ravel().\n",
      "  y = self._check_y(y)\n",
      "/home/charles/anaconda3/lib/python3.7/site-packages/autosklearn/automl.py:887: DataConversionWarning: A column-vector y was passed when a 1d array was expected. Will change shape via np.ravel().\n",
      "  y = self._check_y(y)\n",
      "/home/charles/anaconda3/lib/python3.7/site-packages/autosklearn/automl.py:887: DataConversionWarning: A column-vector y was passed when a 1d array was expected. Will change shape via np.ravel().\n",
      "  y = self._check_y(y)\n",
      "/home/charles/anaconda3/lib/python3.7/site-packages/autosklearn/automl.py:887: DataConversionWarning: A column-vector y was passed when a 1d array was expected. Will change shape via np.ravel().\n",
      "  y = self._check_y(y)\n",
      "/home/charles/anaconda3/lib/python3.7/site-packages/autosklearn/automl.py:887: DataConversionWarning: A column-vector y was passed when a 1d array was expected. Will change shape via np.ravel().\n",
      "  y = self._check_y(y)\n"
     ]
    },
    {
     "name": "stdout",
     "output_type": "stream",
     "text": [
      "[WARNING] [2020-03-20 00:23:24,379:EnsembleBuilder(1791095845):28bee70f51bbda319d151e96d8f7d1a7] No models better than random - using Dummy Score!\n",
      "[WARNING] [2020-03-20 00:23:24,386:EnsembleBuilder(1791095845):28bee70f51bbda319d151e96d8f7d1a7] No models better than random - using Dummy Score!\n",
      "[WARNING] [2020-03-20 00:23:26,392:EnsembleBuilder(1791095845):28bee70f51bbda319d151e96d8f7d1a7] No models better than random - using Dummy Score!\n",
      "[WARNING] [2020-03-20 00:23:28,410:EnsembleBuilder(1791095845):28bee70f51bbda319d151e96d8f7d1a7] No models better than random - using Dummy Score!\n",
      "[WARNING] [2020-03-20 00:23:30,417:EnsembleBuilder(1791095845):28bee70f51bbda319d151e96d8f7d1a7] No models better than random - using Dummy Score!\n",
      "[WARNING] [2020-03-20 00:23:32,429:EnsembleBuilder(1791095845):28bee70f51bbda319d151e96d8f7d1a7] No models better than random - using Dummy Score!\n"
     ]
    },
    {
     "name": "stderr",
     "output_type": "stream",
     "text": [
      "/home/charles/anaconda3/lib/python3.7/site-packages/autosklearn/automl.py:887: DataConversionWarning: A column-vector y was passed when a 1d array was expected. Will change shape via np.ravel().\n",
      "  y = self._check_y(y)\n",
      "/home/charles/anaconda3/lib/python3.7/site-packages/autosklearn/automl.py:887: DataConversionWarning: A column-vector y was passed when a 1d array was expected. Will change shape via np.ravel().\n",
      "  y = self._check_y(y)\n",
      "/home/charles/anaconda3/lib/python3.7/site-packages/autosklearn/automl.py:887: DataConversionWarning: A column-vector y was passed when a 1d array was expected. Will change shape via np.ravel().\n",
      "  y = self._check_y(y)\n",
      "/home/charles/anaconda3/lib/python3.7/site-packages/autosklearn/automl.py:887: DataConversionWarning: A column-vector y was passed when a 1d array was expected. Will change shape via np.ravel().\n",
      "  y = self._check_y(y)\n",
      "/home/charles/anaconda3/lib/python3.7/site-packages/autosklearn/automl.py:887: DataConversionWarning: A column-vector y was passed when a 1d array was expected. Will change shape via np.ravel().\n",
      "  y = self._check_y(y)\n",
      "/home/charles/anaconda3/lib/python3.7/site-packages/autosklearn/automl.py:887: DataConversionWarning: A column-vector y was passed when a 1d array was expected. Will change shape via np.ravel().\n",
      "  y = self._check_y(y)\n",
      "/home/charles/anaconda3/lib/python3.7/site-packages/autosklearn/automl.py:887: DataConversionWarning: A column-vector y was passed when a 1d array was expected. Will change shape via np.ravel().\n",
      "  y = self._check_y(y)\n",
      "/home/charles/anaconda3/lib/python3.7/site-packages/autosklearn/automl.py:887: DataConversionWarning: A column-vector y was passed when a 1d array was expected. Will change shape via np.ravel().\n",
      "  y = self._check_y(y)\n"
     ]
    },
    {
     "name": "stdout",
     "output_type": "stream",
     "text": [
      "[WARNING] [2020-03-20 00:30:01,657:EnsembleBuilder(1791095845):28bee70f51bbda319d151e96d8f7d1a7] No models better than random - using Dummy Score!\n",
      "[WARNING] [2020-03-20 00:30:01,667:EnsembleBuilder(1791095845):28bee70f51bbda319d151e96d8f7d1a7] No models better than random - using Dummy Score!\n",
      "[WARNING] [2020-03-20 00:30:03,673:EnsembleBuilder(1791095845):28bee70f51bbda319d151e96d8f7d1a7] No models better than random - using Dummy Score!\n",
      "[WARNING] [2020-03-20 00:30:05,700:EnsembleBuilder(1791095845):28bee70f51bbda319d151e96d8f7d1a7] No models better than random - using Dummy Score!\n",
      "[WARNING] [2020-03-20 00:30:07,710:EnsembleBuilder(1791095845):28bee70f51bbda319d151e96d8f7d1a7] No models better than random - using Dummy Score!\n",
      "[WARNING] [2020-03-20 00:30:09,716:EnsembleBuilder(1791095845):28bee70f51bbda319d151e96d8f7d1a7] No models better than random - using Dummy Score!\n"
     ]
    },
    {
     "name": "stderr",
     "output_type": "stream",
     "text": [
      "Traceback (most recent call last):\n",
      "  File \"/home/charles/anaconda3/lib/python3.7/multiprocessing/util.py\", line 265, in _run_finalizers\n",
      "    finalizer()\n",
      "  File \"/home/charles/anaconda3/lib/python3.7/multiprocessing/util.py\", line 189, in __call__\n",
      "    res = self._callback(*self._args, **self._kwargs)\n",
      "  File \"/home/charles/anaconda3/lib/python3.7/multiprocessing/queues.py\", line 192, in _finalize_join\n",
      "    thread.join()\n",
      "  File \"/home/charles/anaconda3/lib/python3.7/threading.py\", line 1032, in join\n",
      "    self._wait_for_tstate_lock()\n",
      "  File \"/home/charles/anaconda3/lib/python3.7/threading.py\", line 1048, in _wait_for_tstate_lock\n",
      "    elif lock.acquire(block, timeout):\n",
      "  File \"/home/charles/anaconda3/lib/python3.7/site-packages/pynisher/limit_function_call.py\", line 31, in handler\n",
      "    raise(TimeoutException)\n",
      "pynisher.limit_function_call.TimeoutException\n",
      "/home/charles/anaconda3/lib/python3.7/site-packages/autosklearn/automl.py:887: DataConversionWarning: A column-vector y was passed when a 1d array was expected. Will change shape via np.ravel().\n",
      "  y = self._check_y(y)\n",
      "/home/charles/anaconda3/lib/python3.7/site-packages/autosklearn/automl.py:887: DataConversionWarning: A column-vector y was passed when a 1d array was expected. Will change shape via np.ravel().\n",
      "  y = self._check_y(y)\n",
      "/home/charles/anaconda3/lib/python3.7/site-packages/autosklearn/automl.py:887: DataConversionWarning: A column-vector y was passed when a 1d array was expected. Will change shape via np.ravel().\n",
      "  y = self._check_y(y)\n",
      "/home/charles/anaconda3/lib/python3.7/site-packages/autosklearn/automl.py:887: DataConversionWarning: A column-vector y was passed when a 1d array was expected. Will change shape via np.ravel().\n",
      "  y = self._check_y(y)\n",
      "/home/charles/anaconda3/lib/python3.7/site-packages/autosklearn/automl.py:887: DataConversionWarning: A column-vector y was passed when a 1d array was expected. Will change shape via np.ravel().\n",
      "  y = self._check_y(y)\n",
      "/home/charles/anaconda3/lib/python3.7/site-packages/autosklearn/automl.py:887: DataConversionWarning: A column-vector y was passed when a 1d array was expected. Will change shape via np.ravel().\n",
      "  y = self._check_y(y)\n",
      "/home/charles/anaconda3/lib/python3.7/site-packages/autosklearn/automl.py:887: DataConversionWarning: A column-vector y was passed when a 1d array was expected. Will change shape via np.ravel().\n",
      "  y = self._check_y(y)\n",
      "/home/charles/anaconda3/lib/python3.7/site-packages/autosklearn/automl.py:887: DataConversionWarning: A column-vector y was passed when a 1d array was expected. Will change shape via np.ravel().\n",
      "  y = self._check_y(y)\n"
     ]
    },
    {
     "name": "stdout",
     "output_type": "stream",
     "text": [
      "[WARNING] [2020-03-20 00:36:35,179:EnsembleBuilder(1791095845):28bee70f51bbda319d151e96d8f7d1a7] No models better than random - using Dummy Score!\n",
      "[WARNING] [2020-03-20 00:36:35,183:EnsembleBuilder(1791095845):28bee70f51bbda319d151e96d8f7d1a7] No models better than random - using Dummy Score!\n",
      "[WARNING] [2020-03-20 00:36:37,189:EnsembleBuilder(1791095845):28bee70f51bbda319d151e96d8f7d1a7] No models better than random - using Dummy Score!\n",
      "[WARNING] [2020-03-20 00:36:39,194:EnsembleBuilder(1791095845):28bee70f51bbda319d151e96d8f7d1a7] No models better than random - using Dummy Score!\n",
      "[WARNING] [2020-03-20 00:36:41,213:EnsembleBuilder(1791095845):28bee70f51bbda319d151e96d8f7d1a7] No models better than random - using Dummy Score!\n",
      "[WARNING] [2020-03-20 00:36:43,222:EnsembleBuilder(1791095845):28bee70f51bbda319d151e96d8f7d1a7] No models better than random - using Dummy Score!\n",
      "[WARNING] [2020-03-20 00:36:45,230:EnsembleBuilder(1791095845):28bee70f51bbda319d151e96d8f7d1a7] No models better than random - using Dummy Score!\n",
      "[WARNING] [2020-03-20 00:36:47,240:EnsembleBuilder(1791095845):28bee70f51bbda319d151e96d8f7d1a7] No models better than random - using Dummy Score!\n",
      "[WARNING] [2020-03-20 00:36:49,270:EnsembleBuilder(1791095845):28bee70f51bbda319d151e96d8f7d1a7] No models better than random - using Dummy Score!\n"
     ]
    },
    {
     "name": "stderr",
     "output_type": "stream",
     "text": [
      "/home/charles/anaconda3/lib/python3.7/site-packages/autosklearn/automl.py:887: DataConversionWarning: A column-vector y was passed when a 1d array was expected. Will change shape via np.ravel().\n",
      "  y = self._check_y(y)\n",
      "/home/charles/anaconda3/lib/python3.7/site-packages/autosklearn/automl.py:887: DataConversionWarning: A column-vector y was passed when a 1d array was expected. Will change shape via np.ravel().\n",
      "  y = self._check_y(y)\n",
      "/home/charles/anaconda3/lib/python3.7/site-packages/autosklearn/automl.py:887: DataConversionWarning: A column-vector y was passed when a 1d array was expected. Will change shape via np.ravel().\n",
      "  y = self._check_y(y)\n",
      "/home/charles/anaconda3/lib/python3.7/site-packages/autosklearn/automl.py:887: DataConversionWarning: A column-vector y was passed when a 1d array was expected. Will change shape via np.ravel().\n",
      "  y = self._check_y(y)\n",
      "/home/charles/anaconda3/lib/python3.7/site-packages/autosklearn/automl.py:887: DataConversionWarning: A column-vector y was passed when a 1d array was expected. Will change shape via np.ravel().\n",
      "  y = self._check_y(y)\n",
      "/home/charles/anaconda3/lib/python3.7/site-packages/autosklearn/automl.py:887: DataConversionWarning: A column-vector y was passed when a 1d array was expected. Will change shape via np.ravel().\n",
      "  y = self._check_y(y)\n",
      "/home/charles/anaconda3/lib/python3.7/site-packages/autosklearn/automl.py:887: DataConversionWarning: A column-vector y was passed when a 1d array was expected. Will change shape via np.ravel().\n",
      "  y = self._check_y(y)\n",
      "/home/charles/anaconda3/lib/python3.7/site-packages/autosklearn/automl.py:887: DataConversionWarning: A column-vector y was passed when a 1d array was expected. Will change shape via np.ravel().\n",
      "  y = self._check_y(y)\n"
     ]
    },
    {
     "name": "stdout",
     "output_type": "stream",
     "text": [
      "[WARNING] [2020-03-20 00:43:11,861:EnsembleBuilder(1791095845):28bee70f51bbda319d151e96d8f7d1a7] No models better than random - using Dummy Score!\n",
      "[WARNING] [2020-03-20 00:43:11,871:EnsembleBuilder(1791095845):28bee70f51bbda319d151e96d8f7d1a7] No models better than random - using Dummy Score!\n",
      "[WARNING] [2020-03-20 00:43:13,882:EnsembleBuilder(1791095845):28bee70f51bbda319d151e96d8f7d1a7] No models better than random - using Dummy Score!\n",
      "[WARNING] [2020-03-20 00:43:15,893:EnsembleBuilder(1791095845):28bee70f51bbda319d151e96d8f7d1a7] No models better than random - using Dummy Score!\n",
      "[WARNING] [2020-03-20 00:43:17,906:EnsembleBuilder(1791095845):28bee70f51bbda319d151e96d8f7d1a7] No models better than random - using Dummy Score!\n"
     ]
    },
    {
     "name": "stderr",
     "output_type": "stream",
     "text": [
      "/home/charles/anaconda3/lib/python3.7/site-packages/autosklearn/automl.py:887: DataConversionWarning: A column-vector y was passed when a 1d array was expected. Will change shape via np.ravel().\n",
      "  y = self._check_y(y)\n",
      "/home/charles/anaconda3/lib/python3.7/site-packages/autosklearn/automl.py:887: DataConversionWarning: A column-vector y was passed when a 1d array was expected. Will change shape via np.ravel().\n",
      "  y = self._check_y(y)\n",
      "/home/charles/anaconda3/lib/python3.7/site-packages/autosklearn/automl.py:887: DataConversionWarning: A column-vector y was passed when a 1d array was expected. Will change shape via np.ravel().\n",
      "  y = self._check_y(y)\n",
      "/home/charles/anaconda3/lib/python3.7/site-packages/autosklearn/automl.py:887: DataConversionWarning: A column-vector y was passed when a 1d array was expected. Will change shape via np.ravel().\n",
      "  y = self._check_y(y)\n",
      "/home/charles/anaconda3/lib/python3.7/site-packages/autosklearn/automl.py:887: DataConversionWarning: A column-vector y was passed when a 1d array was expected. Will change shape via np.ravel().\n",
      "  y = self._check_y(y)\n",
      "/home/charles/anaconda3/lib/python3.7/site-packages/autosklearn/automl.py:887: DataConversionWarning: A column-vector y was passed when a 1d array was expected. Will change shape via np.ravel().\n",
      "  y = self._check_y(y)\n",
      "/home/charles/anaconda3/lib/python3.7/site-packages/autosklearn/automl.py:887: DataConversionWarning: A column-vector y was passed when a 1d array was expected. Will change shape via np.ravel().\n",
      "  y = self._check_y(y)\n",
      "/home/charles/anaconda3/lib/python3.7/site-packages/autosklearn/automl.py:887: DataConversionWarning: A column-vector y was passed when a 1d array was expected. Will change shape via np.ravel().\n",
      "  y = self._check_y(y)\n"
     ]
    },
    {
     "name": "stdout",
     "output_type": "stream",
     "text": [
      "[WARNING] [2020-03-20 00:49:46,326:EnsembleBuilder(1791095845):28bee70f51bbda319d151e96d8f7d1a7] No models better than random - using Dummy Score!\n",
      "[WARNING] [2020-03-20 00:49:46,332:EnsembleBuilder(1791095845):28bee70f51bbda319d151e96d8f7d1a7] No models better than random - using Dummy Score!\n",
      "[WARNING] [2020-03-20 00:49:48,341:EnsembleBuilder(1791095845):28bee70f51bbda319d151e96d8f7d1a7] No models better than random - using Dummy Score!\n",
      "[WARNING] [2020-03-20 00:49:50,365:EnsembleBuilder(1791095845):28bee70f51bbda319d151e96d8f7d1a7] No models better than random - using Dummy Score!\n",
      "[WARNING] [2020-03-20 00:49:52,390:EnsembleBuilder(1791095845):28bee70f51bbda319d151e96d8f7d1a7] No models better than random - using Dummy Score!\n",
      "[WARNING] [2020-03-20 00:49:54,405:EnsembleBuilder(1791095845):28bee70f51bbda319d151e96d8f7d1a7] No models better than random - using Dummy Score!\n",
      "[WARNING] [2020-03-20 00:49:56,433:EnsembleBuilder(1791095845):28bee70f51bbda319d151e96d8f7d1a7] No models better than random - using Dummy Score!\n"
     ]
    },
    {
     "name": "stderr",
     "output_type": "stream",
     "text": [
      "/home/charles/anaconda3/lib/python3.7/site-packages/autosklearn/automl.py:887: DataConversionWarning: A column-vector y was passed when a 1d array was expected. Will change shape via np.ravel().\n",
      "  y = self._check_y(y)\n",
      "/home/charles/anaconda3/lib/python3.7/site-packages/autosklearn/automl.py:887: DataConversionWarning: A column-vector y was passed when a 1d array was expected. Will change shape via np.ravel().\n",
      "  y = self._check_y(y)\n",
      "/home/charles/anaconda3/lib/python3.7/site-packages/autosklearn/automl.py:887: DataConversionWarning: A column-vector y was passed when a 1d array was expected. Will change shape via np.ravel().\n",
      "  y = self._check_y(y)\n",
      "/home/charles/anaconda3/lib/python3.7/site-packages/autosklearn/automl.py:887: DataConversionWarning: A column-vector y was passed when a 1d array was expected. Will change shape via np.ravel().\n",
      "  y = self._check_y(y)\n",
      "/home/charles/anaconda3/lib/python3.7/site-packages/autosklearn/automl.py:887: DataConversionWarning: A column-vector y was passed when a 1d array was expected. Will change shape via np.ravel().\n",
      "  y = self._check_y(y)\n",
      "/home/charles/anaconda3/lib/python3.7/site-packages/autosklearn/automl.py:887: DataConversionWarning: A column-vector y was passed when a 1d array was expected. Will change shape via np.ravel().\n",
      "  y = self._check_y(y)\n",
      "/home/charles/anaconda3/lib/python3.7/site-packages/autosklearn/automl.py:887: DataConversionWarning: A column-vector y was passed when a 1d array was expected. Will change shape via np.ravel().\n",
      "  y = self._check_y(y)\n",
      "/home/charles/anaconda3/lib/python3.7/site-packages/autosklearn/automl.py:887: DataConversionWarning: A column-vector y was passed when a 1d array was expected. Will change shape via np.ravel().\n",
      "  y = self._check_y(y)\n"
     ]
    },
    {
     "name": "stdout",
     "output_type": "stream",
     "text": [
      "[WARNING] [2020-03-20 00:56:22,761:EnsembleBuilder(1791095845):28bee70f51bbda319d151e96d8f7d1a7] No models better than random - using Dummy Score!\n",
      "[WARNING] [2020-03-20 00:56:22,772:EnsembleBuilder(1791095845):28bee70f51bbda319d151e96d8f7d1a7] No models better than random - using Dummy Score!\n",
      "[WARNING] [2020-03-20 00:56:24,777:EnsembleBuilder(1791095845):28bee70f51bbda319d151e96d8f7d1a7] No models better than random - using Dummy Score!\n",
      "[WARNING] [2020-03-20 00:56:26,788:EnsembleBuilder(1791095845):28bee70f51bbda319d151e96d8f7d1a7] No models better than random - using Dummy Score!\n",
      "[WARNING] [2020-03-20 00:56:28,806:EnsembleBuilder(1791095845):28bee70f51bbda319d151e96d8f7d1a7] No models better than random - using Dummy Score!\n",
      "[WARNING] [2020-03-20 00:56:30,817:EnsembleBuilder(1791095845):28bee70f51bbda319d151e96d8f7d1a7] No models better than random - using Dummy Score!\n"
     ]
    },
    {
     "name": "stderr",
     "output_type": "stream",
     "text": [
      "/home/charles/anaconda3/lib/python3.7/site-packages/autosklearn/automl.py:887: DataConversionWarning: A column-vector y was passed when a 1d array was expected. Will change shape via np.ravel().\n",
      "  y = self._check_y(y)\n",
      "/home/charles/anaconda3/lib/python3.7/site-packages/autosklearn/automl.py:887: DataConversionWarning: A column-vector y was passed when a 1d array was expected. Will change shape via np.ravel().\n",
      "  y = self._check_y(y)\n",
      "/home/charles/anaconda3/lib/python3.7/site-packages/autosklearn/automl.py:887: DataConversionWarning: A column-vector y was passed when a 1d array was expected. Will change shape via np.ravel().\n",
      "  y = self._check_y(y)\n",
      "/home/charles/anaconda3/lib/python3.7/site-packages/autosklearn/automl.py:887: DataConversionWarning: A column-vector y was passed when a 1d array was expected. Will change shape via np.ravel().\n",
      "  y = self._check_y(y)\n",
      "/home/charles/anaconda3/lib/python3.7/site-packages/autosklearn/automl.py:887: DataConversionWarning: A column-vector y was passed when a 1d array was expected. Will change shape via np.ravel().\n",
      "  y = self._check_y(y)\n",
      "/home/charles/anaconda3/lib/python3.7/site-packages/autosklearn/automl.py:887: DataConversionWarning: A column-vector y was passed when a 1d array was expected. Will change shape via np.ravel().\n",
      "  y = self._check_y(y)\n",
      "/home/charles/anaconda3/lib/python3.7/site-packages/autosklearn/automl.py:887: DataConversionWarning: A column-vector y was passed when a 1d array was expected. Will change shape via np.ravel().\n",
      "  y = self._check_y(y)\n",
      "/home/charles/anaconda3/lib/python3.7/site-packages/autosklearn/automl.py:887: DataConversionWarning: A column-vector y was passed when a 1d array was expected. Will change shape via np.ravel().\n",
      "  y = self._check_y(y)\n"
     ]
    },
    {
     "name": "stdout",
     "output_type": "stream",
     "text": [
      "[WARNING] [2020-03-20 01:02:58,544:EnsembleBuilder(1791095845):28bee70f51bbda319d151e96d8f7d1a7] No models better than random - using Dummy Score!\n",
      "[WARNING] [2020-03-20 01:02:58,565:EnsembleBuilder(1791095845):28bee70f51bbda319d151e96d8f7d1a7] No models better than random - using Dummy Score!\n",
      "[WARNING] [2020-03-20 01:03:00,579:EnsembleBuilder(1791095845):28bee70f51bbda319d151e96d8f7d1a7] No models better than random - using Dummy Score!\n",
      "[WARNING] [2020-03-20 01:03:02,598:EnsembleBuilder(1791095845):28bee70f51bbda319d151e96d8f7d1a7] No models better than random - using Dummy Score!\n",
      "[WARNING] [2020-03-20 01:03:04,614:EnsembleBuilder(1791095845):28bee70f51bbda319d151e96d8f7d1a7] No models better than random - using Dummy Score!\n"
     ]
    },
    {
     "name": "stderr",
     "output_type": "stream",
     "text": [
      "/home/charles/anaconda3/lib/python3.7/site-packages/autosklearn/automl.py:887: DataConversionWarning: A column-vector y was passed when a 1d array was expected. Will change shape via np.ravel().\n",
      "  y = self._check_y(y)\n",
      "/home/charles/anaconda3/lib/python3.7/site-packages/autosklearn/automl.py:887: DataConversionWarning: A column-vector y was passed when a 1d array was expected. Will change shape via np.ravel().\n",
      "  y = self._check_y(y)\n",
      "/home/charles/anaconda3/lib/python3.7/site-packages/autosklearn/automl.py:887: DataConversionWarning: A column-vector y was passed when a 1d array was expected. Will change shape via np.ravel().\n",
      "  y = self._check_y(y)\n",
      "/home/charles/anaconda3/lib/python3.7/site-packages/autosklearn/automl.py:887: DataConversionWarning: A column-vector y was passed when a 1d array was expected. Will change shape via np.ravel().\n",
      "  y = self._check_y(y)\n",
      "/home/charles/anaconda3/lib/python3.7/site-packages/autosklearn/automl.py:887: DataConversionWarning: A column-vector y was passed when a 1d array was expected. Will change shape via np.ravel().\n",
      "  y = self._check_y(y)\n",
      "/home/charles/anaconda3/lib/python3.7/site-packages/autosklearn/automl.py:887: DataConversionWarning: A column-vector y was passed when a 1d array was expected. Will change shape via np.ravel().\n",
      "  y = self._check_y(y)\n",
      "/home/charles/anaconda3/lib/python3.7/site-packages/autosklearn/automl.py:887: DataConversionWarning: A column-vector y was passed when a 1d array was expected. Will change shape via np.ravel().\n",
      "  y = self._check_y(y)\n",
      "/home/charles/anaconda3/lib/python3.7/site-packages/autosklearn/automl.py:887: DataConversionWarning: A column-vector y was passed when a 1d array was expected. Will change shape via np.ravel().\n",
      "  y = self._check_y(y)\n"
     ]
    },
    {
     "name": "stdout",
     "output_type": "stream",
     "text": [
      "[WARNING] [2020-03-20 01:09:34,297:EnsembleBuilder(1791095845):28bee70f51bbda319d151e96d8f7d1a7] No models better than random - using Dummy Score!\n",
      "[WARNING] [2020-03-20 01:09:34,309:EnsembleBuilder(1791095845):28bee70f51bbda319d151e96d8f7d1a7] No models better than random - using Dummy Score!\n",
      "[WARNING] [2020-03-20 01:09:36,326:EnsembleBuilder(1791095845):28bee70f51bbda319d151e96d8f7d1a7] No models better than random - using Dummy Score!\n",
      "[WARNING] [2020-03-20 01:09:38,345:EnsembleBuilder(1791095845):28bee70f51bbda319d151e96d8f7d1a7] No models better than random - using Dummy Score!\n",
      "[WARNING] [2020-03-20 01:09:40,361:EnsembleBuilder(1791095845):28bee70f51bbda319d151e96d8f7d1a7] No models better than random - using Dummy Score!\n"
     ]
    },
    {
     "name": "stderr",
     "output_type": "stream",
     "text": [
      "/home/charles/anaconda3/lib/python3.7/site-packages/autosklearn/automl.py:887: DataConversionWarning: A column-vector y was passed when a 1d array was expected. Will change shape via np.ravel().\n",
      "  y = self._check_y(y)\n",
      "/home/charles/anaconda3/lib/python3.7/site-packages/autosklearn/automl.py:887: DataConversionWarning: A column-vector y was passed when a 1d array was expected. Will change shape via np.ravel().\n",
      "  y = self._check_y(y)\n",
      "/home/charles/anaconda3/lib/python3.7/site-packages/autosklearn/automl.py:887: DataConversionWarning: A column-vector y was passed when a 1d array was expected. Will change shape via np.ravel().\n",
      "  y = self._check_y(y)\n",
      "/home/charles/anaconda3/lib/python3.7/site-packages/autosklearn/automl.py:887: DataConversionWarning: A column-vector y was passed when a 1d array was expected. Will change shape via np.ravel().\n",
      "  y = self._check_y(y)\n",
      "/home/charles/anaconda3/lib/python3.7/site-packages/autosklearn/automl.py:887: DataConversionWarning: A column-vector y was passed when a 1d array was expected. Will change shape via np.ravel().\n",
      "  y = self._check_y(y)\n",
      "/home/charles/anaconda3/lib/python3.7/site-packages/autosklearn/automl.py:887: DataConversionWarning: A column-vector y was passed when a 1d array was expected. Will change shape via np.ravel().\n",
      "  y = self._check_y(y)\n",
      "/home/charles/anaconda3/lib/python3.7/site-packages/autosklearn/automl.py:887: DataConversionWarning: A column-vector y was passed when a 1d array was expected. Will change shape via np.ravel().\n",
      "  y = self._check_y(y)\n",
      "/home/charles/anaconda3/lib/python3.7/site-packages/autosklearn/automl.py:887: DataConversionWarning: A column-vector y was passed when a 1d array was expected. Will change shape via np.ravel().\n",
      "  y = self._check_y(y)\n"
     ]
    },
    {
     "name": "stdout",
     "output_type": "stream",
     "text": [
      "[WARNING] [2020-03-20 01:16:10,319:EnsembleBuilder(1791095845):28bee70f51bbda319d151e96d8f7d1a7] No models better than random - using Dummy Score!\n",
      "[WARNING] [2020-03-20 01:16:10,348:EnsembleBuilder(1791095845):28bee70f51bbda319d151e96d8f7d1a7] No models better than random - using Dummy Score!\n",
      "[WARNING] [2020-03-20 01:16:12,377:EnsembleBuilder(1791095845):28bee70f51bbda319d151e96d8f7d1a7] No models better than random - using Dummy Score!\n",
      "[WARNING] [2020-03-20 01:16:14,394:EnsembleBuilder(1791095845):28bee70f51bbda319d151e96d8f7d1a7] No models better than random - using Dummy Score!\n",
      "[WARNING] [2020-03-20 01:16:16,402:EnsembleBuilder(1791095845):28bee70f51bbda319d151e96d8f7d1a7] No models better than random - using Dummy Score!\n",
      "[WARNING] [2020-03-20 01:16:18,418:EnsembleBuilder(1791095845):28bee70f51bbda319d151e96d8f7d1a7] No models better than random - using Dummy Score!\n",
      "[WARNING] [2020-03-20 01:16:20,426:EnsembleBuilder(1791095845):28bee70f51bbda319d151e96d8f7d1a7] No models better than random - using Dummy Score!\n",
      "[WARNING] [2020-03-20 01:16:22,438:EnsembleBuilder(1791095845):28bee70f51bbda319d151e96d8f7d1a7] No models better than random - using Dummy Score!\n",
      "[WARNING] [2020-03-20 01:16:24,454:EnsembleBuilder(1791095845):28bee70f51bbda319d151e96d8f7d1a7] No models better than random - using Dummy Score!\n",
      "[WARNING] [2020-03-20 01:16:26,460:EnsembleBuilder(1791095845):28bee70f51bbda319d151e96d8f7d1a7] No models better than random - using Dummy Score!\n"
     ]
    },
    {
     "name": "stderr",
     "output_type": "stream",
     "text": [
      "/home/charles/anaconda3/lib/python3.7/site-packages/autosklearn/automl.py:887: DataConversionWarning: A column-vector y was passed when a 1d array was expected. Will change shape via np.ravel().\n",
      "  y = self._check_y(y)\n",
      "/home/charles/anaconda3/lib/python3.7/site-packages/autosklearn/automl.py:887: DataConversionWarning: A column-vector y was passed when a 1d array was expected. Will change shape via np.ravel().\n",
      "  y = self._check_y(y)\n",
      "/home/charles/anaconda3/lib/python3.7/site-packages/autosklearn/automl.py:887: DataConversionWarning: A column-vector y was passed when a 1d array was expected. Will change shape via np.ravel().\n",
      "  y = self._check_y(y)\n",
      "/home/charles/anaconda3/lib/python3.7/site-packages/autosklearn/automl.py:887: DataConversionWarning: A column-vector y was passed when a 1d array was expected. Will change shape via np.ravel().\n",
      "  y = self._check_y(y)\n",
      "/home/charles/anaconda3/lib/python3.7/site-packages/autosklearn/automl.py:887: DataConversionWarning: A column-vector y was passed when a 1d array was expected. Will change shape via np.ravel().\n",
      "  y = self._check_y(y)\n",
      "/home/charles/anaconda3/lib/python3.7/site-packages/autosklearn/automl.py:887: DataConversionWarning: A column-vector y was passed when a 1d array was expected. Will change shape via np.ravel().\n",
      "  y = self._check_y(y)\n",
      "/home/charles/anaconda3/lib/python3.7/site-packages/autosklearn/automl.py:887: DataConversionWarning: A column-vector y was passed when a 1d array was expected. Will change shape via np.ravel().\n",
      "  y = self._check_y(y)\n",
      "/home/charles/anaconda3/lib/python3.7/site-packages/autosklearn/automl.py:887: DataConversionWarning: A column-vector y was passed when a 1d array was expected. Will change shape via np.ravel().\n",
      "  y = self._check_y(y)\n"
     ]
    },
    {
     "name": "stdout",
     "output_type": "stream",
     "text": [
      "[WARNING] [2020-03-20 01:22:45,669:EnsembleBuilder(1791095845):28bee70f51bbda319d151e96d8f7d1a7] No models better than random - using Dummy Score!\n",
      "[WARNING] [2020-03-20 01:22:45,678:EnsembleBuilder(1791095845):28bee70f51bbda319d151e96d8f7d1a7] No models better than random - using Dummy Score!\n",
      "[WARNING] [2020-03-20 01:22:47,682:EnsembleBuilder(1791095845):28bee70f51bbda319d151e96d8f7d1a7] No models better than random - using Dummy Score!\n",
      "[WARNING] [2020-03-20 01:22:49,709:EnsembleBuilder(1791095845):28bee70f51bbda319d151e96d8f7d1a7] No models better than random - using Dummy Score!\n",
      "[WARNING] [2020-03-20 01:22:51,718:EnsembleBuilder(1791095845):28bee70f51bbda319d151e96d8f7d1a7] No models better than random - using Dummy Score!\n",
      "[WARNING] [2020-03-20 01:22:53,733:EnsembleBuilder(1791095845):28bee70f51bbda319d151e96d8f7d1a7] No models better than random - using Dummy Score!\n",
      "[WARNING] [2020-03-20 01:22:55,750:EnsembleBuilder(1791095845):28bee70f51bbda319d151e96d8f7d1a7] No models better than random - using Dummy Score!\n",
      "[WARNING] [2020-03-20 01:22:57,757:EnsembleBuilder(1791095845):28bee70f51bbda319d151e96d8f7d1a7] No models better than random - using Dummy Score!\n"
     ]
    },
    {
     "name": "stderr",
     "output_type": "stream",
     "text": [
      "/home/charles/anaconda3/lib/python3.7/site-packages/autosklearn/automl.py:887: DataConversionWarning: A column-vector y was passed when a 1d array was expected. Will change shape via np.ravel().\n",
      "  y = self._check_y(y)\n",
      "/home/charles/anaconda3/lib/python3.7/site-packages/autosklearn/automl.py:887: DataConversionWarning: A column-vector y was passed when a 1d array was expected. Will change shape via np.ravel().\n",
      "  y = self._check_y(y)\n",
      "/home/charles/anaconda3/lib/python3.7/site-packages/autosklearn/automl.py:887: DataConversionWarning: A column-vector y was passed when a 1d array was expected. Will change shape via np.ravel().\n",
      "  y = self._check_y(y)\n",
      "/home/charles/anaconda3/lib/python3.7/site-packages/autosklearn/automl.py:887: DataConversionWarning: A column-vector y was passed when a 1d array was expected. Will change shape via np.ravel().\n",
      "  y = self._check_y(y)\n",
      "/home/charles/anaconda3/lib/python3.7/site-packages/autosklearn/automl.py:887: DataConversionWarning: A column-vector y was passed when a 1d array was expected. Will change shape via np.ravel().\n",
      "  y = self._check_y(y)\n",
      "/home/charles/anaconda3/lib/python3.7/site-packages/autosklearn/automl.py:887: DataConversionWarning: A column-vector y was passed when a 1d array was expected. Will change shape via np.ravel().\n",
      "  y = self._check_y(y)\n",
      "/home/charles/anaconda3/lib/python3.7/site-packages/autosklearn/automl.py:887: DataConversionWarning: A column-vector y was passed when a 1d array was expected. Will change shape via np.ravel().\n",
      "  y = self._check_y(y)\n",
      "/home/charles/anaconda3/lib/python3.7/site-packages/autosklearn/automl.py:887: DataConversionWarning: A column-vector y was passed when a 1d array was expected. Will change shape via np.ravel().\n",
      "  y = self._check_y(y)\n"
     ]
    },
    {
     "name": "stdout",
     "output_type": "stream",
     "text": [
      "[WARNING] [2020-03-20 01:29:20,566:EnsembleBuilder(1791095845):28bee70f51bbda319d151e96d8f7d1a7] No models better than random - using Dummy Score!\n",
      "[WARNING] [2020-03-20 01:29:20,571:EnsembleBuilder(1791095845):28bee70f51bbda319d151e96d8f7d1a7] No models better than random - using Dummy Score!\n",
      "[WARNING] [2020-03-20 01:29:22,577:EnsembleBuilder(1791095845):28bee70f51bbda319d151e96d8f7d1a7] No models better than random - using Dummy Score!\n",
      "[WARNING] [2020-03-20 01:29:24,585:EnsembleBuilder(1791095845):28bee70f51bbda319d151e96d8f7d1a7] No models better than random - using Dummy Score!\n",
      "[WARNING] [2020-03-20 01:29:26,593:EnsembleBuilder(1791095845):28bee70f51bbda319d151e96d8f7d1a7] No models better than random - using Dummy Score!\n",
      "[WARNING] [2020-03-20 01:29:28,598:EnsembleBuilder(1791095845):28bee70f51bbda319d151e96d8f7d1a7] No models better than random - using Dummy Score!\n",
      "[WARNING] [2020-03-20 01:29:30,613:EnsembleBuilder(1791095845):28bee70f51bbda319d151e96d8f7d1a7] No models better than random - using Dummy Score!\n",
      "[WARNING] [2020-03-20 01:29:32,633:EnsembleBuilder(1791095845):28bee70f51bbda319d151e96d8f7d1a7] No models better than random - using Dummy Score!\n",
      "[WARNING] [2020-03-20 01:29:34,648:EnsembleBuilder(1791095845):28bee70f51bbda319d151e96d8f7d1a7] No models better than random - using Dummy Score!\n",
      "[WARNING] [2020-03-20 01:29:36,672:EnsembleBuilder(1791095845):28bee70f51bbda319d151e96d8f7d1a7] No models better than random - using Dummy Score!\n"
     ]
    },
    {
     "name": "stderr",
     "output_type": "stream",
     "text": [
      "/home/charles/anaconda3/lib/python3.7/site-packages/autosklearn/automl.py:887: DataConversionWarning: A column-vector y was passed when a 1d array was expected. Will change shape via np.ravel().\n",
      "  y = self._check_y(y)\n",
      "/home/charles/anaconda3/lib/python3.7/site-packages/autosklearn/automl.py:887: DataConversionWarning: A column-vector y was passed when a 1d array was expected. Will change shape via np.ravel().\n",
      "  y = self._check_y(y)\n",
      "/home/charles/anaconda3/lib/python3.7/site-packages/autosklearn/automl.py:887: DataConversionWarning: A column-vector y was passed when a 1d array was expected. Will change shape via np.ravel().\n",
      "  y = self._check_y(y)\n",
      "/home/charles/anaconda3/lib/python3.7/site-packages/autosklearn/automl.py:887: DataConversionWarning: A column-vector y was passed when a 1d array was expected. Will change shape via np.ravel().\n",
      "  y = self._check_y(y)\n",
      "/home/charles/anaconda3/lib/python3.7/site-packages/autosklearn/automl.py:887: DataConversionWarning: A column-vector y was passed when a 1d array was expected. Will change shape via np.ravel().\n",
      "  y = self._check_y(y)\n",
      "/home/charles/anaconda3/lib/python3.7/site-packages/autosklearn/automl.py:887: DataConversionWarning: A column-vector y was passed when a 1d array was expected. Will change shape via np.ravel().\n",
      "  y = self._check_y(y)\n",
      "/home/charles/anaconda3/lib/python3.7/site-packages/autosklearn/automl.py:887: DataConversionWarning: A column-vector y was passed when a 1d array was expected. Will change shape via np.ravel().\n",
      "  y = self._check_y(y)\n",
      "/home/charles/anaconda3/lib/python3.7/site-packages/autosklearn/automl.py:887: DataConversionWarning: A column-vector y was passed when a 1d array was expected. Will change shape via np.ravel().\n",
      "  y = self._check_y(y)\n"
     ]
    },
    {
     "name": "stdout",
     "output_type": "stream",
     "text": [
      "[WARNING] [2020-03-20 01:35:56,522:EnsembleBuilder(1791095845):28bee70f51bbda319d151e96d8f7d1a7] No models better than random - using Dummy Score!\n",
      "[WARNING] [2020-03-20 01:35:56,529:EnsembleBuilder(1791095845):28bee70f51bbda319d151e96d8f7d1a7] No models better than random - using Dummy Score!\n",
      "[WARNING] [2020-03-20 01:35:58,536:EnsembleBuilder(1791095845):28bee70f51bbda319d151e96d8f7d1a7] No models better than random - using Dummy Score!\n",
      "[WARNING] [2020-03-20 01:36:00,560:EnsembleBuilder(1791095845):28bee70f51bbda319d151e96d8f7d1a7] No models better than random - using Dummy Score!\n",
      "[WARNING] [2020-03-20 01:36:02,582:EnsembleBuilder(1791095845):28bee70f51bbda319d151e96d8f7d1a7] No models better than random - using Dummy Score!\n",
      "[WARNING] [2020-03-20 01:36:04,605:EnsembleBuilder(1791095845):28bee70f51bbda319d151e96d8f7d1a7] No models better than random - using Dummy Score!\n",
      "[WARNING] [2020-03-20 01:36:06,616:EnsembleBuilder(1791095845):28bee70f51bbda319d151e96d8f7d1a7] No models better than random - using Dummy Score!\n",
      "[WARNING] [2020-03-20 01:36:08,624:EnsembleBuilder(1791095845):28bee70f51bbda319d151e96d8f7d1a7] No models better than random - using Dummy Score!\n",
      "[WARNING] [2020-03-20 01:36:10,641:EnsembleBuilder(1791095845):28bee70f51bbda319d151e96d8f7d1a7] No models better than random - using Dummy Score!\n"
     ]
    },
    {
     "name": "stderr",
     "output_type": "stream",
     "text": [
      "/home/charles/anaconda3/lib/python3.7/site-packages/autosklearn/automl.py:887: DataConversionWarning: A column-vector y was passed when a 1d array was expected. Will change shape via np.ravel().\n",
      "  y = self._check_y(y)\n",
      "/home/charles/anaconda3/lib/python3.7/site-packages/autosklearn/automl.py:887: DataConversionWarning: A column-vector y was passed when a 1d array was expected. Will change shape via np.ravel().\n",
      "  y = self._check_y(y)\n",
      "/home/charles/anaconda3/lib/python3.7/site-packages/autosklearn/automl.py:887: DataConversionWarning: A column-vector y was passed when a 1d array was expected. Will change shape via np.ravel().\n",
      "  y = self._check_y(y)\n",
      "/home/charles/anaconda3/lib/python3.7/site-packages/autosklearn/automl.py:887: DataConversionWarning: A column-vector y was passed when a 1d array was expected. Will change shape via np.ravel().\n",
      "  y = self._check_y(y)\n",
      "/home/charles/anaconda3/lib/python3.7/site-packages/autosklearn/automl.py:887: DataConversionWarning: A column-vector y was passed when a 1d array was expected. Will change shape via np.ravel().\n",
      "  y = self._check_y(y)\n",
      "/home/charles/anaconda3/lib/python3.7/site-packages/autosklearn/automl.py:887: DataConversionWarning: A column-vector y was passed when a 1d array was expected. Will change shape via np.ravel().\n",
      "  y = self._check_y(y)\n",
      "/home/charles/anaconda3/lib/python3.7/site-packages/autosklearn/automl.py:887: DataConversionWarning: A column-vector y was passed when a 1d array was expected. Will change shape via np.ravel().\n",
      "  y = self._check_y(y)\n",
      "/home/charles/anaconda3/lib/python3.7/site-packages/autosklearn/automl.py:887: DataConversionWarning: A column-vector y was passed when a 1d array was expected. Will change shape via np.ravel().\n",
      "  y = self._check_y(y)\n"
     ]
    },
    {
     "name": "stdout",
     "output_type": "stream",
     "text": [
      "[WARNING] [2020-03-20 01:42:32,373:EnsembleBuilder(1791095845):28bee70f51bbda319d151e96d8f7d1a7] No models better than random - using Dummy Score!\n",
      "[WARNING] [2020-03-20 01:42:32,378:EnsembleBuilder(1791095845):28bee70f51bbda319d151e96d8f7d1a7] No models better than random - using Dummy Score!\n",
      "[WARNING] [2020-03-20 01:42:34,386:EnsembleBuilder(1791095845):28bee70f51bbda319d151e96d8f7d1a7] No models better than random - using Dummy Score!\n",
      "[WARNING] [2020-03-20 01:42:36,393:EnsembleBuilder(1791095845):28bee70f51bbda319d151e96d8f7d1a7] No models better than random - using Dummy Score!\n",
      "[WARNING] [2020-03-20 01:42:38,406:EnsembleBuilder(1791095845):28bee70f51bbda319d151e96d8f7d1a7] No models better than random - using Dummy Score!\n",
      "[WARNING] [2020-03-20 01:42:40,426:EnsembleBuilder(1791095845):28bee70f51bbda319d151e96d8f7d1a7] No models better than random - using Dummy Score!\n",
      "[WARNING] [2020-03-20 01:42:42,448:EnsembleBuilder(1791095845):28bee70f51bbda319d151e96d8f7d1a7] No models better than random - using Dummy Score!\n"
     ]
    },
    {
     "name": "stderr",
     "output_type": "stream",
     "text": [
      "/home/charles/anaconda3/lib/python3.7/site-packages/autosklearn/automl.py:887: DataConversionWarning: A column-vector y was passed when a 1d array was expected. Will change shape via np.ravel().\n",
      "  y = self._check_y(y)\n",
      "/home/charles/anaconda3/lib/python3.7/site-packages/autosklearn/automl.py:887: DataConversionWarning: A column-vector y was passed when a 1d array was expected. Will change shape via np.ravel().\n",
      "  y = self._check_y(y)\n",
      "/home/charles/anaconda3/lib/python3.7/site-packages/autosklearn/automl.py:887: DataConversionWarning: A column-vector y was passed when a 1d array was expected. Will change shape via np.ravel().\n",
      "  y = self._check_y(y)\n",
      "/home/charles/anaconda3/lib/python3.7/site-packages/autosklearn/automl.py:887: DataConversionWarning: A column-vector y was passed when a 1d array was expected. Will change shape via np.ravel().\n",
      "  y = self._check_y(y)\n",
      "/home/charles/anaconda3/lib/python3.7/site-packages/autosklearn/automl.py:887: DataConversionWarning: A column-vector y was passed when a 1d array was expected. Will change shape via np.ravel().\n",
      "  y = self._check_y(y)\n",
      "/home/charles/anaconda3/lib/python3.7/site-packages/autosklearn/automl.py:887: DataConversionWarning: A column-vector y was passed when a 1d array was expected. Will change shape via np.ravel().\n",
      "  y = self._check_y(y)\n",
      "/home/charles/anaconda3/lib/python3.7/site-packages/autosklearn/automl.py:887: DataConversionWarning: A column-vector y was passed when a 1d array was expected. Will change shape via np.ravel().\n",
      "  y = self._check_y(y)\n",
      "/home/charles/anaconda3/lib/python3.7/site-packages/autosklearn/automl.py:887: DataConversionWarning: A column-vector y was passed when a 1d array was expected. Will change shape via np.ravel().\n",
      "  y = self._check_y(y)\n"
     ]
    },
    {
     "name": "stdout",
     "output_type": "stream",
     "text": [
      "[WARNING] [2020-03-20 01:49:08,959:EnsembleBuilder(1791095845):28bee70f51bbda319d151e96d8f7d1a7] No models better than random - using Dummy Score!\n",
      "[WARNING] [2020-03-20 01:49:08,965:EnsembleBuilder(1791095845):28bee70f51bbda319d151e96d8f7d1a7] No models better than random - using Dummy Score!\n",
      "[WARNING] [2020-03-20 01:49:10,970:EnsembleBuilder(1791095845):28bee70f51bbda319d151e96d8f7d1a7] No models better than random - using Dummy Score!\n",
      "[WARNING] [2020-03-20 01:49:12,998:EnsembleBuilder(1791095845):28bee70f51bbda319d151e96d8f7d1a7] No models better than random - using Dummy Score!\n",
      "[WARNING] [2020-03-20 01:49:15,010:EnsembleBuilder(1791095845):28bee70f51bbda319d151e96d8f7d1a7] No models better than random - using Dummy Score!\n",
      "[WARNING] [2020-03-20 01:49:17,036:EnsembleBuilder(1791095845):28bee70f51bbda319d151e96d8f7d1a7] No models better than random - using Dummy Score!\n"
     ]
    }
   ],
   "source": [
    "import autosklearn.regression as autoreg\n",
    "y_pred = pd.DataFrame()\n",
    "cls_list = []\n",
    "for i in range(49):\n",
    "    cls = autoreg.AutoSklearnRegressor(time_left_for_this_task=400, \n",
    "                                       per_run_time_limit=180, \n",
    "                                       initial_configurations_via_metalearning=0,\n",
    "                                       ensemble_size=50, \n",
    "                                       ensemble_nbest=25, \n",
    "                                       ensemble_memory_limit=1024, \n",
    "                                       seed=1, ml_memory_limit=4096, \n",
    "                                       include_estimators= None, \n",
    "                                       exclude_estimators=None, \n",
    "                                       include_preprocessors=None, \n",
    "                                       exclude_preprocessors=None, \n",
    "                                       resampling_strategy='holdout', \n",
    "                                       resampling_strategy_arguments={'train_size':0.7,\n",
    "                                                                      'shuffle':True}, \n",
    "                                       tmp_folder=None, \n",
    "                                       output_folder=None, \n",
    "                                       delete_tmp_folder_after_terminate=True, \n",
    "                                       delete_output_folder_after_terminate=True, \n",
    "                                       shared_mode=False, \n",
    "                                       n_jobs = 8, \n",
    "                                       disable_evaluator_output=False, \n",
    "                                       get_smac_object_callback=None, \n",
    "                                       smac_scenario_args=None, \n",
    "                                       logging_config=None, \n",
    "                                       metadata_directory=None)\n",
    "\n",
    "    cls.fit(ahead_w.iloc[:,:392], ahead_e.iloc[:,i:i+1])\n",
    "    y_pred = pd.concat([y_pred, pd.DataFrame(cls.predict(ahead_wt.iloc[:5,:392]))], axis = 1)\n"
   ]
  },
  {
   "cell_type": "markdown",
   "metadata": {},
   "source": [
    "**Metrics**"
   ]
  },
  {
   "cell_type": "code",
   "execution_count": 14,
   "metadata": {},
   "outputs": [
    {
     "name": "stdout",
     "output_type": "stream",
     "text": [
      "MSE: 0.001163068372677454\n",
      "MAE: 0.025778677429942422\n",
      "r2_score: 0.8452035102149807\n"
     ]
    }
   ],
   "source": [
    "observed = np.transpose(ahead_et.iloc[:5,:].to_numpy())\n",
    "prediction = np.transpose(y_pred.to_numpy())\n",
    "get_eval(observed, prediction)"
   ]
  },
  {
   "cell_type": "code",
   "execution_count": 15,
   "metadata": {},
   "outputs": [
    {
     "data": {
      "text/plain": [
       "((49, 5), (49, 5))"
      ]
     },
     "execution_count": 15,
     "metadata": {},
     "output_type": "execute_result"
    }
   ],
   "source": [
    "observed.shape, prediction.shape"
   ]
  },
  {
   "cell_type": "markdown",
   "metadata": {},
   "source": [
    "**Visualization**"
   ]
  },
  {
   "cell_type": "code",
   "execution_count": 30,
   "metadata": {},
   "outputs": [
    {
     "data": {
      "image/png": "[encoded data removed]",
      "text/plain": [
       "<Figure size 1800x720 with 1 Axes>"
      ]
     },
     "metadata": {
      "needs_background": "light"
     },
     "output_type": "display_data"
    }
   ],
   "source": [
    "## assignment.\n",
    "real = ahead_et.iloc[1:2,:].to_numpy()\n",
    "guess = y_pred.iloc[1:2,:].to_numpy()\n",
    "\n",
    "rpdf = plot_df(real, \"observed\")\n",
    "gpdf = plot_df(guess, \"prediction\")\n",
    "    \n",
    "#plot \n",
    "ax = plt.gca()\n",
    "\n",
    "rpdf.plot(figsize=(25,10), colormap = 'plasma',style='--',legend = True, ax = ax, lw= 3)\n",
    "gpdf.plot(figsize=(25,10), color = 'g',style ='-.',legend = True, ax = ax, lw= 5)\n",
    "\n",
    "ax.set_xlabel(\"hr\")\n",
    "ax.set_ylabel(\"KWh/per household\")\n",
    "ax.legend(frameon=False, loc='upper right', ncol=6, prop={'size': 16})\n",
    "\n",
    "plt.show()"
   ]
  },
  {
   "cell_type": "code",
   "execution_count": 22,
   "metadata": {},
   "outputs": [
    {
     "data": {
      "text/plain": [
       "[(0.78,\n",
       "  SimpleRegressionPipeline({'categorical_encoding:__choice__': 'no_encoding', 'imputation:strategy': 'median', 'preprocessor:__choice__': 'extra_trees_preproc_for_regression', 'regressor:__choice__': 'k_nearest_neighbors', 'rescaling:__choice__': 'none', 'preprocessor:extra_trees_preproc_for_regression:bootstrap': 'False', 'preprocessor:extra_trees_preproc_for_regression:criterion': 'mse', 'preprocessor:extra_trees_preproc_for_regression:max_depth': 'None', 'preprocessor:extra_trees_preproc_for_regression:max_features': 0.3931799900554185, 'preprocessor:extra_trees_preproc_for_regression:max_leaf_nodes': 'None', 'preprocessor:extra_trees_preproc_for_regression:min_samples_leaf': 15, 'preprocessor:extra_trees_preproc_for_regression:min_samples_split': 15, 'preprocessor:extra_trees_preproc_for_regression:min_weight_fraction_leaf': 0.0, 'preprocessor:extra_trees_preproc_for_regression:n_estimators': 100, 'regressor:k_nearest_neighbors:n_neighbors': 3, 'regressor:k_nearest_neighbors:p': 1, 'regressor:k_nearest_neighbors:weights': 'distance'},\n",
       "  dataset_properties={\n",
       "    'task': 4,\n",
       "    'sparse': False,\n",
       "    'multilabel': False,\n",
       "    'multiclass': False,\n",
       "    'target_type': 'regression',\n",
       "    'signed': False})),\n",
       " (0.08,\n",
       "  SimpleRegressionPipeline({'categorical_encoding:__choice__': 'one_hot_encoding', 'imputation:strategy': 'mean', 'preprocessor:__choice__': 'extra_trees_preproc_for_regression', 'regressor:__choice__': 'adaboost', 'rescaling:__choice__': 'quantile_transformer', 'categorical_encoding:one_hot_encoding:use_minimum_fraction': 'True', 'preprocessor:extra_trees_preproc_for_regression:bootstrap': 'True', 'preprocessor:extra_trees_preproc_for_regression:criterion': 'friedman_mse', 'preprocessor:extra_trees_preproc_for_regression:max_depth': 'None', 'preprocessor:extra_trees_preproc_for_regression:max_features': 0.2085285534916122, 'preprocessor:extra_trees_preproc_for_regression:max_leaf_nodes': 'None', 'preprocessor:extra_trees_preproc_for_regression:min_samples_leaf': 5, 'preprocessor:extra_trees_preproc_for_regression:min_samples_split': 3, 'preprocessor:extra_trees_preproc_for_regression:min_weight_fraction_leaf': 0.0, 'preprocessor:extra_trees_preproc_for_regression:n_estimators': 100, 'regressor:adaboost:learning_rate': 1.8672337681568454, 'regressor:adaboost:loss': 'square', 'regressor:adaboost:max_depth': 10, 'regressor:adaboost:n_estimators': 415, 'rescaling:quantile_transformer:n_quantiles': 1700, 'rescaling:quantile_transformer:output_distribution': 'normal', 'categorical_encoding:one_hot_encoding:minimum_fraction': 0.17110203338047972},\n",
       "  dataset_properties={\n",
       "    'task': 4,\n",
       "    'sparse': False,\n",
       "    'multilabel': False,\n",
       "    'multiclass': False,\n",
       "    'target_type': 'regression',\n",
       "    'signed': False})),\n",
       " (0.06,\n",
       "  SimpleRegressionPipeline({'categorical_encoding:__choice__': 'one_hot_encoding', 'imputation:strategy': 'median', 'preprocessor:__choice__': 'extra_trees_preproc_for_regression', 'regressor:__choice__': 'random_forest', 'rescaling:__choice__': 'robust_scaler', 'categorical_encoding:one_hot_encoding:use_minimum_fraction': 'True', 'preprocessor:extra_trees_preproc_for_regression:bootstrap': 'True', 'preprocessor:extra_trees_preproc_for_regression:criterion': 'friedman_mse', 'preprocessor:extra_trees_preproc_for_regression:max_depth': 'None', 'preprocessor:extra_trees_preproc_for_regression:max_features': 0.968416865813807, 'preprocessor:extra_trees_preproc_for_regression:max_leaf_nodes': 'None', 'preprocessor:extra_trees_preproc_for_regression:min_samples_leaf': 19, 'preprocessor:extra_trees_preproc_for_regression:min_samples_split': 7, 'preprocessor:extra_trees_preproc_for_regression:min_weight_fraction_leaf': 0.0, 'preprocessor:extra_trees_preproc_for_regression:n_estimators': 100, 'regressor:random_forest:bootstrap': 'False', 'regressor:random_forest:criterion': 'mse', 'regressor:random_forest:max_depth': 'None', 'regressor:random_forest:max_features': 0.7493034620363686, 'regressor:random_forest:max_leaf_nodes': 'None', 'regressor:random_forest:min_impurity_decrease': 0.0, 'regressor:random_forest:min_samples_leaf': 15, 'regressor:random_forest:min_samples_split': 2, 'regressor:random_forest:min_weight_fraction_leaf': 0.0, 'regressor:random_forest:n_estimators': 100, 'rescaling:robust_scaler:q_max': 0.897878231993791, 'rescaling:robust_scaler:q_min': 0.08858627034051252, 'categorical_encoding:one_hot_encoding:minimum_fraction': 0.015689800186069764},\n",
       "  dataset_properties={\n",
       "    'task': 4,\n",
       "    'sparse': False,\n",
       "    'multilabel': False,\n",
       "    'multiclass': False,\n",
       "    'target_type': 'regression',\n",
       "    'signed': False})),\n",
       " (0.06,\n",
       "  SimpleRegressionPipeline({'categorical_encoding:__choice__': 'one_hot_encoding', 'imputation:strategy': 'median', 'preprocessor:__choice__': 'select_percentile_regression', 'regressor:__choice__': 'ridge_regression', 'rescaling:__choice__': 'none', 'categorical_encoding:one_hot_encoding:use_minimum_fraction': 'True', 'preprocessor:select_percentile_regression:percentile': 63.91942157121455, 'preprocessor:select_percentile_regression:score_func': 'mutual_info', 'regressor:ridge_regression:alpha': 1.402781579004221, 'regressor:ridge_regression:fit_intercept': 'True', 'regressor:ridge_regression:tol': 1.1343960468315571e-05, 'categorical_encoding:one_hot_encoding:minimum_fraction': 0.0002916191695797818},\n",
       "  dataset_properties={\n",
       "    'task': 4,\n",
       "    'sparse': False,\n",
       "    'multilabel': False,\n",
       "    'multiclass': False,\n",
       "    'target_type': 'regression',\n",
       "    'signed': False})),\n",
       " (0.02,\n",
       "  SimpleRegressionPipeline({'categorical_encoding:__choice__': 'one_hot_encoding', 'imputation:strategy': 'mean', 'preprocessor:__choice__': 'no_preprocessing', 'regressor:__choice__': 'gradient_boosting', 'rescaling:__choice__': 'standardize', 'categorical_encoding:one_hot_encoding:use_minimum_fraction': 'False', 'regressor:gradient_boosting:early_stop': 'valid', 'regressor:gradient_boosting:l2_regularization': 1.3341459944143704e-09, 'regressor:gradient_boosting:learning_rate': 0.22682054512816577, 'regressor:gradient_boosting:loss': 'least_squares', 'regressor:gradient_boosting:max_bins': 256, 'regressor:gradient_boosting:max_depth': 'None', 'regressor:gradient_boosting:max_iter': 245, 'regressor:gradient_boosting:max_leaf_nodes': 3, 'regressor:gradient_boosting:min_samples_leaf': 156, 'regressor:gradient_boosting:scoring': 'loss', 'regressor:gradient_boosting:tol': 1e-07, 'regressor:gradient_boosting:n_iter_no_change': 15, 'regressor:gradient_boosting:validation_fraction': 0.09859424235781783},\n",
       "  dataset_properties={\n",
       "    'task': 4,\n",
       "    'sparse': False,\n",
       "    'multilabel': False,\n",
       "    'multiclass': False,\n",
       "    'target_type': 'regression',\n",
       "    'signed': False}))]"
      ]
     },
     "execution_count": 22,
     "metadata": {},
     "output_type": "execute_result"
    }
   ],
   "source": [
    "cls.get_models_with_weights()"
   ]
  }
 ],
 "metadata": {
  "kernelspec": {
   "display_name": "autosklearn",
   "language": "python",
   "name": "autosklearn"
  },
  "language_info": {
   "codemirror_mode": {
    "name": "ipython",
    "version": 3
   },
   "file_extension": ".py",
   "mimetype": "text/x-python",
   "name": "python",
   "nbconvert_exporter": "python",
   "pygments_lexer": "ipython3",
   "version": "3.7.3"
  }
 },
 "nbformat": 4,
 "nbformat_minor": 2
}
