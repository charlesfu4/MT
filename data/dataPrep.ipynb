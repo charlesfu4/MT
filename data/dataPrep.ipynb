{
 "cells": [
  {
   "cell_type": "code",
   "execution_count": 1,
   "metadata": {},
   "outputs": [],
   "source": [
    "import os\n",
    "import math\n",
    "import pandas as pd\n",
    "import numpy as np\n",
    "from pandas import datetime\n",
    "from matplotlib import pyplot as plt\n",
    "from weather.darksky import weather_request"
   ]
  },
  {
   "cell_type": "code",
   "execution_count": 2,
   "metadata": {},
   "outputs": [],
   "source": [
    "def count_missing(df):\n",
    "    data = pd.DataFrame(df)\n",
    "    df_cols = list(pd.DataFrame(data))\n",
    "    dict_x = {}\n",
    "    for i in range(0, len(df_cols)):\n",
    "        dict_x.update({df_cols[i]: data[df_cols[i]].isnull().sum()})\n",
    "    \n",
    "    return dict_x"
   ]
  },
  {
   "cell_type": "markdown",
   "metadata": {},
   "source": [
    "# Elia grid load data"
   ]
  },
  {
   "cell_type": "code",
   "execution_count": 15,
   "metadata": {},
   "outputs": [],
   "source": [
    "## expanse by rows * columns\n",
    "elia = pd.read_csv(\"ELIA_LOAD_2019.csv\",header = 1)\n",
    "elia.replace('NOT VALID', np.NaN, inplace=True)\n",
    "elia = elia.iloc[:,:99]\n",
    "\n",
    "date_list = []\n",
    "for i in range(elia.shape[0]):\n",
    "    date_list.append(\"{}-{}-{}\".format(elia['yyyy'][i],elia['mm'][i],elia['dd'][i]))\n",
    "elia[\"time\"] = date_list\n",
    "\n",
    "elia.drop(columns = ['dd','mm'], inplace = True)\n",
    "elia.set_index(elia[\"time\"], inplace= True)\n",
    "elia.drop(columns = ['time'], inplace=True)"
   ]
  },
  {
   "cell_type": "code",
   "execution_count": 16,
   "metadata": {},
   "outputs": [
    {
     "name": "stderr",
     "output_type": "stream",
     "text": [
      "/Users/fuchucheng/.local/lib/python3.6/site-packages/ipykernel_launcher.py:28: FutureWarning: The pandas.datetime class is deprecated and will be removed from pandas in a future version. Import from datetime instead.\n"
     ]
    }
   ],
   "source": [
    "## fix 24:00 to the next day 00:00\n",
    "elia['0:00'] = elia.iloc[:,-1].shift()\n",
    "## swap\n",
    "cols = list(elia.columns)\n",
    "a, b = cols.index('yyyy'), cols.index('0:00')\n",
    "cols[b], cols[a] = cols[a], cols[b]\n",
    "elia = elia[cols]\n",
    "\n",
    "elia.drop(columns=['24:00','yyyy'], inplace = True)\n",
    "\n",
    "\n",
    "## Expanse the data set\n",
    "index_list = []\n",
    "energy_list = []\n",
    "for date in elia.index:\n",
    "    for time in elia.columns:\n",
    "        #special case handling\n",
    "        #if time == \"24:00\":\n",
    "        #    index_list.append(\"{} {}\".format(date , \"00:00\"))\n",
    "        #else:\n",
    "        index_list.append(\"{} {}\".format(date, time))\n",
    "        energy_list.append(elia.loc[date, time])\n",
    "elia_qh = pd.DataFrame(list(zip(index_list,energy_list)),  columns=['time','grid_load'])\n",
    "elia_qh.head()\n",
    "\n",
    "\n",
    "##type transformation\n",
    "elia_qh['time'] = elia_qh['time'].apply(lambda x: datetime.strptime(x, \"%Y-%m-%d %H:%M\"))\n",
    "elia_qh[\"grid_load\"] = elia_qh[\"grid_load\"].astype(\"float64\")\n",
    "elia_qh['time'] = elia_qh['time'].astype(\"datetime64\")\n",
    "elia_qh.dtypes\n",
    "## index setting\n",
    "elia_qh.set_index(elia_qh['time'], inplace = True)\n",
    "elia_qh.drop(columns = ['time'], inplace = True)\n",
    "elia_qh.to_csv(\"elia_qh.csv\", index = True)\n"
   ]
  },
  {
   "cell_type": "code",
   "execution_count": 17,
   "metadata": {
    "scrolled": true
   },
   "outputs": [
    {
     "data": {
      "text/plain": [
       "(35040, 1)"
      ]
     },
     "execution_count": 17,
     "metadata": {},
     "output_type": "execute_result"
    }
   ],
   "source": [
    "elia_qh = pd.read_csv(\"elia_qh.csv\", index_col='time')\n",
    "elia_qh.shape"
   ]
  },
  {
   "cell_type": "markdown",
   "metadata": {},
   "source": [
    "### To prevent data leakage we split trian and test first"
   ]
  },
  {
   "cell_type": "code",
   "execution_count": 6,
   "metadata": {},
   "outputs": [
    {
     "data": {
      "text/plain": [
       "((5781, 1), (2472, 1))"
      ]
     },
     "execution_count": 6,
     "metadata": {},
     "output_type": "execute_result"
    }
   ],
   "source": [
    "##8256\n",
    "elia_train = elia_qh.iloc[:5781,:]\n",
    "elia_test = elia_qh.iloc[5784:,:]\n",
    "elia_train.shape, elia_test.shape"
   ]
  },
  {
   "cell_type": "markdown",
   "metadata": {},
   "source": [
    "**then deal with missing value**"
   ]
  },
  {
   "cell_type": "code",
   "execution_count": 25,
   "metadata": {},
   "outputs": [
    {
     "name": "stdout",
     "output_type": "stream",
     "text": [
      "{'grid_load': 0}\n"
     ]
    }
   ],
   "source": [
    "## missing value train\n",
    "#missing = count_missing(elia_train)\n",
    "#print(missing)\n",
    "## missing value test\n",
    "#missing = count_missing(elia_test)\n",
    "#print(missing)\n",
    "\n",
    "missing = count_missing(elia_qh)\n",
    "print(missing)"
   ]
  },
  {
   "cell_type": "code",
   "execution_count": 18,
   "metadata": {},
   "outputs": [],
   "source": [
    "#elia_train.fillna(elia_train.median(), inplace=True)\n",
    "#elia_test.fillna(elia_test.median(), inplace=True)\n",
    "elia_qh.fillna(elia_qh.median(), inplace = True)"
   ]
  },
  {
   "cell_type": "markdown",
   "metadata": {},
   "source": [
    "**scale down the grid load**"
   ]
  },
  {
   "cell_type": "code",
   "execution_count": 9,
   "metadata": {
    "collapsed": true
   },
   "outputs": [
    {
     "name": "stderr",
     "output_type": "stream",
     "text": [
      "/Users/fuchucheng/.local/lib/python3.6/site-packages/ipykernel_launcher.py:1: SettingWithCopyWarning: \n",
      "A value is trying to be set on a copy of a slice from a DataFrame.\n",
      "Try using .loc[row_indexer,col_indexer] = value instead\n",
      "\n",
      "See the caveats in the documentation: https://pandas.pydata.org/pandas-docs/stable/user_guide/indexing.html#returning-a-view-versus-a-copy\n",
      "  \"\"\"Entry point for launching an IPython kernel.\n",
      "/Users/fuchucheng/.local/lib/python3.6/site-packages/ipykernel_launcher.py:2: SettingWithCopyWarning: \n",
      "A value is trying to be set on a copy of a slice from a DataFrame.\n",
      "Try using .loc[row_indexer,col_indexer] = value instead\n",
      "\n",
      "See the caveats in the documentation: https://pandas.pydata.org/pandas-docs/stable/user_guide/indexing.html#returning-a-view-versus-a-copy\n",
      "  \n",
      "//miniconda3/envs/tpot/lib/python3.6/site-packages/pandas/core/frame.py:3997: SettingWithCopyWarning: \n",
      "A value is trying to be set on a copy of a slice from a DataFrame\n",
      "\n",
      "See the caveats in the documentation: https://pandas.pydata.org/pandas-docs/stable/user_guide/indexing.html#returning-a-view-versus-a-copy\n",
      "  errors=errors,\n"
     ]
    }
   ],
   "source": [
    "elia_train['grid_load(MW)'] = elia_train['grid_load'].apply(lambda x: x/1000000)\n",
    "elia_test['grid_load(MW)'] = elia_test['grid_load'].apply(lambda x: x/1000000)\n",
    "elia_train.drop(['grid_load'],axis = 1, inplace = True)\n",
    "elia_test.drop(['grid_load'],axis = 1, inplace = True)"
   ]
  },
  {
   "cell_type": "code",
   "execution_count": 19,
   "metadata": {},
   "outputs": [],
   "source": [
    "elia_qh['grid_load(MW)'] = elia_qh['grid_load'].apply(lambda x: x/1000000)\n",
    "elia_qh.drop(['grid_load'],axis = 1, inplace = True)"
   ]
  },
  {
   "cell_type": "code",
   "execution_count": 20,
   "metadata": {},
   "outputs": [],
   "source": [
    "#elia_train.to_csv(\"elia_train.csv\", index = True)\n",
    "#elia_test.to_csv(\"elia_test.csv\", index = True)\n",
    "elia_qh.to_csv(\"elia_2019.csv\", index = True)"
   ]
  },
  {
   "cell_type": "markdown",
   "metadata": {},
   "source": [
    "### weather data from darksky"
   ]
  },
  {
   "cell_type": "code",
   "execution_count": 5,
   "metadata": {
    "scrolled": true
   },
   "outputs": [],
   "source": [
    "## request weather data in brussels\n",
    "                    # lat   ,  long ,  start_date   , ndays, timezone      \n",
    "wr = weather_request(50.8436, 4.3530, \"2019-01-01 00:00\", 370, 'CET')\n",
    "wr.request()\n",
    "weather_elia = wr.get_pandas()"
   ]
  },
  {
   "cell_type": "code",
   "execution_count": 11,
   "metadata": {
    "scrolled": true
   },
   "outputs": [
    {
     "data": {
      "text/html": [
       "<div>\n",
       "<style scoped>\n",
       "    .dataframe tbody tr th:only-of-type {\n",
       "        vertical-align: middle;\n",
       "    }\n",
       "\n",
       "    .dataframe tbody tr th {\n",
       "        vertical-align: top;\n",
       "    }\n",
       "\n",
       "    .dataframe thead th {\n",
       "        text-align: right;\n",
       "    }\n",
       "</style>\n",
       "<table border=\"1\" class=\"dataframe\">\n",
       "  <thead>\n",
       "    <tr style=\"text-align: right;\">\n",
       "      <th></th>\n",
       "      <th>precipIntensity</th>\n",
       "      <th>precipProbability</th>\n",
       "      <th>temperature</th>\n",
       "      <th>apparentTemperature</th>\n",
       "      <th>dewPoint</th>\n",
       "      <th>humidity</th>\n",
       "      <th>pressure</th>\n",
       "      <th>windSpeed</th>\n",
       "      <th>windGust</th>\n",
       "      <th>windBearing</th>\n",
       "      <th>cloudCover</th>\n",
       "      <th>uvIndex</th>\n",
       "      <th>visibility</th>\n",
       "      <th>ozone</th>\n",
       "      <th>precipAccumulation</th>\n",
       "    </tr>\n",
       "    <tr>\n",
       "      <th>time</th>\n",
       "      <th></th>\n",
       "      <th></th>\n",
       "      <th></th>\n",
       "      <th></th>\n",
       "      <th></th>\n",
       "      <th></th>\n",
       "      <th></th>\n",
       "      <th></th>\n",
       "      <th></th>\n",
       "      <th></th>\n",
       "      <th></th>\n",
       "      <th></th>\n",
       "      <th></th>\n",
       "      <th></th>\n",
       "      <th></th>\n",
       "    </tr>\n",
       "  </thead>\n",
       "  <tbody>\n",
       "    <tr>\n",
       "      <th>2019-01-01 00:00:00</th>\n",
       "      <td>0.0376</td>\n",
       "      <td>0.02</td>\n",
       "      <td>7.49</td>\n",
       "      <td>5.01</td>\n",
       "      <td>4.43</td>\n",
       "      <td>0.81</td>\n",
       "      <td>1034.0</td>\n",
       "      <td>3.82</td>\n",
       "      <td>8.22</td>\n",
       "      <td>258</td>\n",
       "      <td>0.99</td>\n",
       "      <td>0</td>\n",
       "      <td>16.093</td>\n",
       "      <td>268.9</td>\n",
       "      <td>NaN</td>\n",
       "    </tr>\n",
       "    <tr>\n",
       "      <th>2019-01-01 01:00:00</th>\n",
       "      <td>0.0310</td>\n",
       "      <td>0.01</td>\n",
       "      <td>7.78</td>\n",
       "      <td>5.60</td>\n",
       "      <td>4.85</td>\n",
       "      <td>0.82</td>\n",
       "      <td>1033.9</td>\n",
       "      <td>3.39</td>\n",
       "      <td>8.07</td>\n",
       "      <td>250</td>\n",
       "      <td>0.99</td>\n",
       "      <td>0</td>\n",
       "      <td>16.093</td>\n",
       "      <td>265.3</td>\n",
       "      <td>NaN</td>\n",
       "    </tr>\n",
       "    <tr>\n",
       "      <th>2019-01-01 02:00:00</th>\n",
       "      <td>0.0242</td>\n",
       "      <td>0.01</td>\n",
       "      <td>7.38</td>\n",
       "      <td>5.00</td>\n",
       "      <td>4.56</td>\n",
       "      <td>0.82</td>\n",
       "      <td>1033.5</td>\n",
       "      <td>3.59</td>\n",
       "      <td>8.20</td>\n",
       "      <td>255</td>\n",
       "      <td>0.99</td>\n",
       "      <td>0</td>\n",
       "      <td>16.093</td>\n",
       "      <td>265.3</td>\n",
       "      <td>NaN</td>\n",
       "    </tr>\n",
       "    <tr>\n",
       "      <th>2019-01-01 03:00:00</th>\n",
       "      <td>0.0197</td>\n",
       "      <td>0.01</td>\n",
       "      <td>6.85</td>\n",
       "      <td>4.17</td>\n",
       "      <td>4.09</td>\n",
       "      <td>0.83</td>\n",
       "      <td>1032.9</td>\n",
       "      <td>3.92</td>\n",
       "      <td>8.31</td>\n",
       "      <td>257</td>\n",
       "      <td>0.99</td>\n",
       "      <td>0</td>\n",
       "      <td>16.093</td>\n",
       "      <td>266.0</td>\n",
       "      <td>NaN</td>\n",
       "    </tr>\n",
       "    <tr>\n",
       "      <th>2019-01-01 04:00:00</th>\n",
       "      <td>0.0198</td>\n",
       "      <td>0.01</td>\n",
       "      <td>6.37</td>\n",
       "      <td>3.45</td>\n",
       "      <td>3.64</td>\n",
       "      <td>0.83</td>\n",
       "      <td>1032.4</td>\n",
       "      <td>4.18</td>\n",
       "      <td>8.44</td>\n",
       "      <td>257</td>\n",
       "      <td>0.99</td>\n",
       "      <td>0</td>\n",
       "      <td>16.093</td>\n",
       "      <td>266.7</td>\n",
       "      <td>NaN</td>\n",
       "    </tr>\n",
       "    <tr>\n",
       "      <th>...</th>\n",
       "      <td>...</td>\n",
       "      <td>...</td>\n",
       "      <td>...</td>\n",
       "      <td>...</td>\n",
       "      <td>...</td>\n",
       "      <td>...</td>\n",
       "      <td>...</td>\n",
       "      <td>...</td>\n",
       "      <td>...</td>\n",
       "      <td>...</td>\n",
       "      <td>...</td>\n",
       "      <td>...</td>\n",
       "      <td>...</td>\n",
       "      <td>...</td>\n",
       "      <td>...</td>\n",
       "    </tr>\n",
       "    <tr>\n",
       "      <th>2020-01-05 19:00:00</th>\n",
       "      <td>0.0125</td>\n",
       "      <td>0.01</td>\n",
       "      <td>5.96</td>\n",
       "      <td>3.53</td>\n",
       "      <td>1.31</td>\n",
       "      <td>0.72</td>\n",
       "      <td>1034.0</td>\n",
       "      <td>3.19</td>\n",
       "      <td>6.02</td>\n",
       "      <td>209</td>\n",
       "      <td>0.97</td>\n",
       "      <td>0</td>\n",
       "      <td>16.093</td>\n",
       "      <td>306.6</td>\n",
       "      <td>NaN</td>\n",
       "    </tr>\n",
       "    <tr>\n",
       "      <th>2020-01-05 20:00:00</th>\n",
       "      <td>0.0000</td>\n",
       "      <td>0.00</td>\n",
       "      <td>5.85</td>\n",
       "      <td>3.31</td>\n",
       "      <td>1.41</td>\n",
       "      <td>0.73</td>\n",
       "      <td>1033.8</td>\n",
       "      <td>3.31</td>\n",
       "      <td>5.80</td>\n",
       "      <td>205</td>\n",
       "      <td>0.97</td>\n",
       "      <td>0</td>\n",
       "      <td>16.093</td>\n",
       "      <td>300.6</td>\n",
       "      <td>NaN</td>\n",
       "    </tr>\n",
       "    <tr>\n",
       "      <th>2020-01-05 21:00:00</th>\n",
       "      <td>0.0000</td>\n",
       "      <td>0.00</td>\n",
       "      <td>5.81</td>\n",
       "      <td>3.13</td>\n",
       "      <td>1.66</td>\n",
       "      <td>0.75</td>\n",
       "      <td>1033.2</td>\n",
       "      <td>3.52</td>\n",
       "      <td>6.56</td>\n",
       "      <td>207</td>\n",
       "      <td>0.97</td>\n",
       "      <td>0</td>\n",
       "      <td>16.093</td>\n",
       "      <td>301.0</td>\n",
       "      <td>NaN</td>\n",
       "    </tr>\n",
       "    <tr>\n",
       "      <th>2020-01-05 22:00:00</th>\n",
       "      <td>0.0000</td>\n",
       "      <td>0.00</td>\n",
       "      <td>5.77</td>\n",
       "      <td>2.98</td>\n",
       "      <td>1.93</td>\n",
       "      <td>0.76</td>\n",
       "      <td>1032.8</td>\n",
       "      <td>3.69</td>\n",
       "      <td>7.19</td>\n",
       "      <td>210</td>\n",
       "      <td>0.97</td>\n",
       "      <td>0</td>\n",
       "      <td>16.093</td>\n",
       "      <td>301.0</td>\n",
       "      <td>NaN</td>\n",
       "    </tr>\n",
       "    <tr>\n",
       "      <th>2020-01-05 23:00:00</th>\n",
       "      <td>0.0000</td>\n",
       "      <td>0.00</td>\n",
       "      <td>5.67</td>\n",
       "      <td>2.81</td>\n",
       "      <td>2.06</td>\n",
       "      <td>0.78</td>\n",
       "      <td>1032.5</td>\n",
       "      <td>3.77</td>\n",
       "      <td>7.55</td>\n",
       "      <td>210</td>\n",
       "      <td>0.95</td>\n",
       "      <td>0</td>\n",
       "      <td>16.093</td>\n",
       "      <td>300.1</td>\n",
       "      <td>NaN</td>\n",
       "    </tr>\n",
       "  </tbody>\n",
       "</table>\n",
       "<p>8880 rows × 15 columns</p>\n",
       "</div>"
      ],
      "text/plain": [
       "                     precipIntensity  precipProbability  temperature  \\\n",
       "time                                                                   \n",
       "2019-01-01 00:00:00           0.0376               0.02         7.49   \n",
       "2019-01-01 01:00:00           0.0310               0.01         7.78   \n",
       "2019-01-01 02:00:00           0.0242               0.01         7.38   \n",
       "2019-01-01 03:00:00           0.0197               0.01         6.85   \n",
       "2019-01-01 04:00:00           0.0198               0.01         6.37   \n",
       "...                              ...                ...          ...   \n",
       "2020-01-05 19:00:00           0.0125               0.01         5.96   \n",
       "2020-01-05 20:00:00           0.0000               0.00         5.85   \n",
       "2020-01-05 21:00:00           0.0000               0.00         5.81   \n",
       "2020-01-05 22:00:00           0.0000               0.00         5.77   \n",
       "2020-01-05 23:00:00           0.0000               0.00         5.67   \n",
       "\n",
       "                     apparentTemperature  dewPoint  humidity  pressure  \\\n",
       "time                                                                     \n",
       "2019-01-01 00:00:00                 5.01      4.43      0.81    1034.0   \n",
       "2019-01-01 01:00:00                 5.60      4.85      0.82    1033.9   \n",
       "2019-01-01 02:00:00                 5.00      4.56      0.82    1033.5   \n",
       "2019-01-01 03:00:00                 4.17      4.09      0.83    1032.9   \n",
       "2019-01-01 04:00:00                 3.45      3.64      0.83    1032.4   \n",
       "...                                  ...       ...       ...       ...   \n",
       "2020-01-05 19:00:00                 3.53      1.31      0.72    1034.0   \n",
       "2020-01-05 20:00:00                 3.31      1.41      0.73    1033.8   \n",
       "2020-01-05 21:00:00                 3.13      1.66      0.75    1033.2   \n",
       "2020-01-05 22:00:00                 2.98      1.93      0.76    1032.8   \n",
       "2020-01-05 23:00:00                 2.81      2.06      0.78    1032.5   \n",
       "\n",
       "                     windSpeed  windGust  windBearing  cloudCover  uvIndex  \\\n",
       "time                                                                         \n",
       "2019-01-01 00:00:00       3.82      8.22          258        0.99        0   \n",
       "2019-01-01 01:00:00       3.39      8.07          250        0.99        0   \n",
       "2019-01-01 02:00:00       3.59      8.20          255        0.99        0   \n",
       "2019-01-01 03:00:00       3.92      8.31          257        0.99        0   \n",
       "2019-01-01 04:00:00       4.18      8.44          257        0.99        0   \n",
       "...                        ...       ...          ...         ...      ...   \n",
       "2020-01-05 19:00:00       3.19      6.02          209        0.97        0   \n",
       "2020-01-05 20:00:00       3.31      5.80          205        0.97        0   \n",
       "2020-01-05 21:00:00       3.52      6.56          207        0.97        0   \n",
       "2020-01-05 22:00:00       3.69      7.19          210        0.97        0   \n",
       "2020-01-05 23:00:00       3.77      7.55          210        0.95        0   \n",
       "\n",
       "                     visibility  ozone  precipAccumulation  \n",
       "time                                                        \n",
       "2019-01-01 00:00:00      16.093  268.9                 NaN  \n",
       "2019-01-01 01:00:00      16.093  265.3                 NaN  \n",
       "2019-01-01 02:00:00      16.093  265.3                 NaN  \n",
       "2019-01-01 03:00:00      16.093  266.0                 NaN  \n",
       "2019-01-01 04:00:00      16.093  266.7                 NaN  \n",
       "...                         ...    ...                 ...  \n",
       "2020-01-05 19:00:00      16.093  306.6                 NaN  \n",
       "2020-01-05 20:00:00      16.093  300.6                 NaN  \n",
       "2020-01-05 21:00:00      16.093  301.0                 NaN  \n",
       "2020-01-05 22:00:00      16.093  301.0                 NaN  \n",
       "2020-01-05 23:00:00      16.093  300.1                 NaN  \n",
       "\n",
       "[8880 rows x 15 columns]"
      ]
     },
     "execution_count": 11,
     "metadata": {},
     "output_type": "execute_result"
    }
   ],
   "source": [
    "weather_elia"
   ]
  },
  {
   "cell_type": "markdown",
   "metadata": {},
   "source": [
    "**Drop unused columns**"
   ]
  },
  {
   "cell_type": "code",
   "execution_count": 12,
   "metadata": {},
   "outputs": [],
   "source": [
    "weather_elia.drop(columns = ['summary','icon','precipType','precipAccumulation'], axis = 1,inplace = True)"
   ]
  },
  {
   "cell_type": "code",
   "execution_count": 13,
   "metadata": {},
   "outputs": [],
   "source": [
    "elia_w = weather_elia"
   ]
  },
  {
   "cell_type": "code",
   "execution_count": 15,
   "metadata": {
    "scrolled": true
   },
   "outputs": [
    {
     "data": {
      "text/html": [
       "<div>\n",
       "<style scoped>\n",
       "    .dataframe tbody tr th:only-of-type {\n",
       "        vertical-align: middle;\n",
       "    }\n",
       "\n",
       "    .dataframe tbody tr th {\n",
       "        vertical-align: top;\n",
       "    }\n",
       "\n",
       "    .dataframe thead th {\n",
       "        text-align: right;\n",
       "    }\n",
       "</style>\n",
       "<table border=\"1\" class=\"dataframe\">\n",
       "  <thead>\n",
       "    <tr style=\"text-align: right;\">\n",
       "      <th></th>\n",
       "      <th>precipIntensity</th>\n",
       "      <th>precipProbability</th>\n",
       "      <th>temperature</th>\n",
       "      <th>apparentTemperature</th>\n",
       "      <th>dewPoint</th>\n",
       "      <th>humidity</th>\n",
       "      <th>pressure</th>\n",
       "      <th>windSpeed</th>\n",
       "      <th>windGust</th>\n",
       "      <th>windBearing</th>\n",
       "      <th>cloudCover</th>\n",
       "      <th>uvIndex</th>\n",
       "      <th>visibility</th>\n",
       "      <th>ozone</th>\n",
       "    </tr>\n",
       "    <tr>\n",
       "      <th>time</th>\n",
       "      <th></th>\n",
       "      <th></th>\n",
       "      <th></th>\n",
       "      <th></th>\n",
       "      <th></th>\n",
       "      <th></th>\n",
       "      <th></th>\n",
       "      <th></th>\n",
       "      <th></th>\n",
       "      <th></th>\n",
       "      <th></th>\n",
       "      <th></th>\n",
       "      <th></th>\n",
       "      <th></th>\n",
       "    </tr>\n",
       "  </thead>\n",
       "  <tbody>\n",
       "    <tr>\n",
       "      <th>2020-03-01 06:00:00</th>\n",
       "      <td>0.0531</td>\n",
       "      <td>0.23</td>\n",
       "      <td>5.11</td>\n",
       "      <td>-0.28</td>\n",
       "      <td>2.94</td>\n",
       "      <td>0.86</td>\n",
       "      <td>994.3</td>\n",
       "      <td>10.04</td>\n",
       "      <td>16.70</td>\n",
       "      <td>221</td>\n",
       "      <td>0.85</td>\n",
       "      <td>0</td>\n",
       "      <td>16.093</td>\n",
       "      <td>410.4</td>\n",
       "    </tr>\n",
       "    <tr>\n",
       "      <th>2020-03-01 07:00:00</th>\n",
       "      <td>0.0717</td>\n",
       "      <td>0.28</td>\n",
       "      <td>5.06</td>\n",
       "      <td>-0.28</td>\n",
       "      <td>3.02</td>\n",
       "      <td>0.87</td>\n",
       "      <td>994.4</td>\n",
       "      <td>9.80</td>\n",
       "      <td>15.50</td>\n",
       "      <td>223</td>\n",
       "      <td>0.88</td>\n",
       "      <td>0</td>\n",
       "      <td>16.093</td>\n",
       "      <td>411.1</td>\n",
       "    </tr>\n",
       "    <tr>\n",
       "      <th>2020-03-01 08:00:00</th>\n",
       "      <td>0.0895</td>\n",
       "      <td>0.31</td>\n",
       "      <td>5.18</td>\n",
       "      <td>0.04</td>\n",
       "      <td>3.06</td>\n",
       "      <td>0.86</td>\n",
       "      <td>994.5</td>\n",
       "      <td>9.22</td>\n",
       "      <td>14.30</td>\n",
       "      <td>222</td>\n",
       "      <td>0.92</td>\n",
       "      <td>0</td>\n",
       "      <td>16.093</td>\n",
       "      <td>409.6</td>\n",
       "    </tr>\n",
       "    <tr>\n",
       "      <th>2020-03-01 09:00:00</th>\n",
       "      <td>0.1070</td>\n",
       "      <td>0.27</td>\n",
       "      <td>5.41</td>\n",
       "      <td>0.30</td>\n",
       "      <td>3.26</td>\n",
       "      <td>0.86</td>\n",
       "      <td>994.7</td>\n",
       "      <td>9.41</td>\n",
       "      <td>14.79</td>\n",
       "      <td>223</td>\n",
       "      <td>0.95</td>\n",
       "      <td>0</td>\n",
       "      <td>16.093</td>\n",
       "      <td>409.2</td>\n",
       "    </tr>\n",
       "    <tr>\n",
       "      <th>2020-03-01 10:00:00</th>\n",
       "      <td>0.1214</td>\n",
       "      <td>0.23</td>\n",
       "      <td>5.84</td>\n",
       "      <td>0.82</td>\n",
       "      <td>3.43</td>\n",
       "      <td>0.85</td>\n",
       "      <td>994.8</td>\n",
       "      <td>9.55</td>\n",
       "      <td>14.96</td>\n",
       "      <td>224</td>\n",
       "      <td>0.95</td>\n",
       "      <td>1</td>\n",
       "      <td>16.093</td>\n",
       "      <td>408.0</td>\n",
       "    </tr>\n",
       "  </tbody>\n",
       "</table>\n",
       "</div>"
      ],
      "text/plain": [
       "                     precipIntensity  precipProbability  temperature  \\\n",
       "time                                                                   \n",
       "2020-03-01 06:00:00           0.0531               0.23         5.11   \n",
       "2020-03-01 07:00:00           0.0717               0.28         5.06   \n",
       "2020-03-01 08:00:00           0.0895               0.31         5.18   \n",
       "2020-03-01 09:00:00           0.1070               0.27         5.41   \n",
       "2020-03-01 10:00:00           0.1214               0.23         5.84   \n",
       "\n",
       "                     apparentTemperature  dewPoint  humidity  pressure  \\\n",
       "time                                                                     \n",
       "2020-03-01 06:00:00                -0.28      2.94      0.86     994.3   \n",
       "2020-03-01 07:00:00                -0.28      3.02      0.87     994.4   \n",
       "2020-03-01 08:00:00                 0.04      3.06      0.86     994.5   \n",
       "2020-03-01 09:00:00                 0.30      3.26      0.86     994.7   \n",
       "2020-03-01 10:00:00                 0.82      3.43      0.85     994.8   \n",
       "\n",
       "                     windSpeed  windGust  windBearing  cloudCover  uvIndex  \\\n",
       "time                                                                         \n",
       "2020-03-01 06:00:00      10.04     16.70          221        0.85        0   \n",
       "2020-03-01 07:00:00       9.80     15.50          223        0.88        0   \n",
       "2020-03-01 08:00:00       9.22     14.30          222        0.92        0   \n",
       "2020-03-01 09:00:00       9.41     14.79          223        0.95        0   \n",
       "2020-03-01 10:00:00       9.55     14.96          224        0.95        1   \n",
       "\n",
       "                     visibility  ozone  \n",
       "time                                    \n",
       "2020-03-01 06:00:00      16.093  410.4  \n",
       "2020-03-01 07:00:00      16.093  411.1  \n",
       "2020-03-01 08:00:00      16.093  409.6  \n",
       "2020-03-01 09:00:00      16.093  409.2  \n",
       "2020-03-01 10:00:00      16.093  408.0  "
      ]
     },
     "execution_count": 15,
     "metadata": {},
     "output_type": "execute_result"
    }
   ],
   "source": [
    "elia_w_train = weather_elia.iloc[:1446,:]\n",
    "elia_w_test = weather_elia.iloc[1446:]\n",
    "elia_w_test.head()"
   ]
  },
  {
   "cell_type": "markdown",
   "metadata": {},
   "source": [
    "**then deal with missing value**"
   ]
  },
  {
   "cell_type": "code",
   "execution_count": 14,
   "metadata": {},
   "outputs": [
    {
     "name": "stdout",
     "output_type": "stream",
     "text": [
      "{'precipIntensity': 0, 'precipProbability': 0, 'temperature': 0, 'apparentTemperature': 0, 'dewPoint': 0, 'humidity': 0, 'pressure': 0, 'windSpeed': 0, 'windGust': 0, 'windBearing': 0, 'cloudCover': 0, 'uvIndex': 0, 'visibility': 0, 'ozone': 0}\n"
     ]
    }
   ],
   "source": [
    "missing = count_missing(elia_w)\n",
    "print(missing)"
   ]
  },
  {
   "cell_type": "code",
   "execution_count": 16,
   "metadata": {},
   "outputs": [
    {
     "name": "stdout",
     "output_type": "stream",
     "text": [
      "{'precipIntensity': 0, 'precipProbability': 0, 'temperature': 0, 'apparentTemperature': 0, 'dewPoint': 0, 'humidity': 0, 'pressure': 0, 'windSpeed': 0, 'windGust': 0, 'windBearing': 0, 'cloudCover': 0, 'uvIndex': 0, 'visibility': 0, 'ozone': 0}\n",
      "{'precipIntensity': 0, 'precipProbability': 0, 'temperature': 0, 'apparentTemperature': 0, 'dewPoint': 0, 'humidity': 0, 'pressure': 0, 'windSpeed': 0, 'windGust': 0, 'windBearing': 0, 'cloudCover': 0, 'uvIndex': 0, 'visibility': 0, 'ozone': 0}\n"
     ]
    }
   ],
   "source": [
    "## missing value train\n",
    "missing = count_missing(elia_w_train)\n",
    "print(missing)\n",
    "## missing value test\n",
    "missing = count_missing(elia_w_test)\n",
    "print(missing)"
   ]
  },
  {
   "cell_type": "markdown",
   "metadata": {},
   "source": [
    "### Merge weather and load"
   ]
  },
  {
   "cell_type": "code",
   "execution_count": 23,
   "metadata": {},
   "outputs": [],
   "source": [
    "elia_2019 = elia_w.merge(elia_qh, how ='right', left_index = True, right_index = True)"
   ]
  },
  {
   "cell_type": "code",
   "execution_count": 17,
   "metadata": {},
   "outputs": [],
   "source": [
    "train_elia =  elia_w_train.merge(elia_train, how ='right', left_index = True, right_index = True)\n",
    "test_elia = elia_w_test.merge(elia_test, how = 'right', left_index = True, right_index = True)"
   ]
  },
  {
   "cell_type": "code",
   "execution_count": 24,
   "metadata": {},
   "outputs": [
    {
     "data": {
      "text/html": [
       "<div>\n",
       "<style scoped>\n",
       "    .dataframe tbody tr th:only-of-type {\n",
       "        vertical-align: middle;\n",
       "    }\n",
       "\n",
       "    .dataframe tbody tr th {\n",
       "        vertical-align: top;\n",
       "    }\n",
       "\n",
       "    .dataframe thead th {\n",
       "        text-align: right;\n",
       "    }\n",
       "</style>\n",
       "<table border=\"1\" class=\"dataframe\">\n",
       "  <thead>\n",
       "    <tr style=\"text-align: right;\">\n",
       "      <th></th>\n",
       "      <th>precipIntensity</th>\n",
       "      <th>precipProbability</th>\n",
       "      <th>temperature</th>\n",
       "      <th>apparentTemperature</th>\n",
       "      <th>dewPoint</th>\n",
       "      <th>humidity</th>\n",
       "      <th>pressure</th>\n",
       "      <th>windSpeed</th>\n",
       "      <th>windGust</th>\n",
       "      <th>windBearing</th>\n",
       "      <th>cloudCover</th>\n",
       "      <th>uvIndex</th>\n",
       "      <th>visibility</th>\n",
       "      <th>ozone</th>\n",
       "      <th>grid_load(MW)</th>\n",
       "    </tr>\n",
       "    <tr>\n",
       "      <th>time</th>\n",
       "      <th></th>\n",
       "      <th></th>\n",
       "      <th></th>\n",
       "      <th></th>\n",
       "      <th></th>\n",
       "      <th></th>\n",
       "      <th></th>\n",
       "      <th></th>\n",
       "      <th></th>\n",
       "      <th></th>\n",
       "      <th></th>\n",
       "      <th></th>\n",
       "      <th></th>\n",
       "      <th></th>\n",
       "      <th></th>\n",
       "    </tr>\n",
       "  </thead>\n",
       "  <tbody>\n",
       "    <tr>\n",
       "      <th>2019-01-01 00:00:00</th>\n",
       "      <td>0.0376</td>\n",
       "      <td>0.02</td>\n",
       "      <td>7.49</td>\n",
       "      <td>5.01</td>\n",
       "      <td>4.43</td>\n",
       "      <td>0.81</td>\n",
       "      <td>1034.0</td>\n",
       "      <td>3.82</td>\n",
       "      <td>8.22</td>\n",
       "      <td>258.0</td>\n",
       "      <td>0.99</td>\n",
       "      <td>0.0</td>\n",
       "      <td>16.093</td>\n",
       "      <td>268.9</td>\n",
       "      <td>8.514733</td>\n",
       "    </tr>\n",
       "    <tr>\n",
       "      <th>2019-01-01 00:15:00</th>\n",
       "      <td>NaN</td>\n",
       "      <td>NaN</td>\n",
       "      <td>NaN</td>\n",
       "      <td>NaN</td>\n",
       "      <td>NaN</td>\n",
       "      <td>NaN</td>\n",
       "      <td>NaN</td>\n",
       "      <td>NaN</td>\n",
       "      <td>NaN</td>\n",
       "      <td>NaN</td>\n",
       "      <td>NaN</td>\n",
       "      <td>NaN</td>\n",
       "      <td>NaN</td>\n",
       "      <td>NaN</td>\n",
       "      <td>8.497139</td>\n",
       "    </tr>\n",
       "    <tr>\n",
       "      <th>2019-01-01 00:30:00</th>\n",
       "      <td>NaN</td>\n",
       "      <td>NaN</td>\n",
       "      <td>NaN</td>\n",
       "      <td>NaN</td>\n",
       "      <td>NaN</td>\n",
       "      <td>NaN</td>\n",
       "      <td>NaN</td>\n",
       "      <td>NaN</td>\n",
       "      <td>NaN</td>\n",
       "      <td>NaN</td>\n",
       "      <td>NaN</td>\n",
       "      <td>NaN</td>\n",
       "      <td>NaN</td>\n",
       "      <td>NaN</td>\n",
       "      <td>8.416679</td>\n",
       "    </tr>\n",
       "    <tr>\n",
       "      <th>2019-01-01 00:45:00</th>\n",
       "      <td>NaN</td>\n",
       "      <td>NaN</td>\n",
       "      <td>NaN</td>\n",
       "      <td>NaN</td>\n",
       "      <td>NaN</td>\n",
       "      <td>NaN</td>\n",
       "      <td>NaN</td>\n",
       "      <td>NaN</td>\n",
       "      <td>NaN</td>\n",
       "      <td>NaN</td>\n",
       "      <td>NaN</td>\n",
       "      <td>NaN</td>\n",
       "      <td>NaN</td>\n",
       "      <td>NaN</td>\n",
       "      <td>8.264418</td>\n",
       "    </tr>\n",
       "    <tr>\n",
       "      <th>2019-01-01 01:00:00</th>\n",
       "      <td>0.0310</td>\n",
       "      <td>0.01</td>\n",
       "      <td>7.78</td>\n",
       "      <td>5.60</td>\n",
       "      <td>4.85</td>\n",
       "      <td>0.82</td>\n",
       "      <td>1033.9</td>\n",
       "      <td>3.39</td>\n",
       "      <td>8.07</td>\n",
       "      <td>250.0</td>\n",
       "      <td>0.99</td>\n",
       "      <td>0.0</td>\n",
       "      <td>16.093</td>\n",
       "      <td>265.3</td>\n",
       "      <td>8.133287</td>\n",
       "    </tr>\n",
       "  </tbody>\n",
       "</table>\n",
       "</div>"
      ],
      "text/plain": [
       "                     precipIntensity  precipProbability  temperature  \\\n",
       "time                                                                   \n",
       "2019-01-01 00:00:00           0.0376               0.02         7.49   \n",
       "2019-01-01 00:15:00              NaN                NaN          NaN   \n",
       "2019-01-01 00:30:00              NaN                NaN          NaN   \n",
       "2019-01-01 00:45:00              NaN                NaN          NaN   \n",
       "2019-01-01 01:00:00           0.0310               0.01         7.78   \n",
       "\n",
       "                     apparentTemperature  dewPoint  humidity  pressure  \\\n",
       "time                                                                     \n",
       "2019-01-01 00:00:00                 5.01      4.43      0.81    1034.0   \n",
       "2019-01-01 00:15:00                  NaN       NaN       NaN       NaN   \n",
       "2019-01-01 00:30:00                  NaN       NaN       NaN       NaN   \n",
       "2019-01-01 00:45:00                  NaN       NaN       NaN       NaN   \n",
       "2019-01-01 01:00:00                 5.60      4.85      0.82    1033.9   \n",
       "\n",
       "                     windSpeed  windGust  windBearing  cloudCover  uvIndex  \\\n",
       "time                                                                         \n",
       "2019-01-01 00:00:00       3.82      8.22        258.0        0.99      0.0   \n",
       "2019-01-01 00:15:00        NaN       NaN          NaN         NaN      NaN   \n",
       "2019-01-01 00:30:00        NaN       NaN          NaN         NaN      NaN   \n",
       "2019-01-01 00:45:00        NaN       NaN          NaN         NaN      NaN   \n",
       "2019-01-01 01:00:00       3.39      8.07        250.0        0.99      0.0   \n",
       "\n",
       "                     visibility  ozone  grid_load(MW)  \n",
       "time                                                   \n",
       "2019-01-01 00:00:00      16.093  268.9       8.514733  \n",
       "2019-01-01 00:15:00         NaN    NaN       8.497139  \n",
       "2019-01-01 00:30:00         NaN    NaN       8.416679  \n",
       "2019-01-01 00:45:00         NaN    NaN       8.264418  \n",
       "2019-01-01 01:00:00      16.093  265.3       8.133287  "
      ]
     },
     "execution_count": 24,
     "metadata": {},
     "output_type": "execute_result"
    }
   ],
   "source": [
    "elia_2019.head()"
   ]
  },
  {
   "cell_type": "markdown",
   "metadata": {},
   "source": [
    "**then deal with missing value by interpolation**"
   ]
  },
  {
   "cell_type": "code",
   "execution_count": 25,
   "metadata": {},
   "outputs": [],
   "source": [
    "for col in elia_2019.columns:\n",
    "    elia_2019[col] = elia_2019[col].interpolate(method='linear')"
   ]
  },
  {
   "cell_type": "code",
   "execution_count": 19,
   "metadata": {},
   "outputs": [],
   "source": [
    "## interpolate nan\n",
    "for col in train_elia.columns:\n",
    "    train_elia[col] = train_elia[col].interpolate(method='linear')\n",
    "for col in test_elia.columns:\n",
    "    test_elia[col] = test_elia[col].interpolate(method = \"linear\")"
   ]
  },
  {
   "cell_type": "code",
   "execution_count": 26,
   "metadata": {},
   "outputs": [],
   "source": [
    "elia_2019.to_csv(\"elia_2019.csv\",index = True)"
   ]
  },
  {
   "cell_type": "code",
   "execution_count": 20,
   "metadata": {},
   "outputs": [],
   "source": [
    "train_elia.to_csv(\"train_elia.csv\",index = True)\n",
    "test_elia.to_csv(\"test_elia.csv\", index = True)"
   ]
  },
  {
   "cell_type": "markdown",
   "metadata": {},
   "source": [
    "# London electricity consumption smart meter"
   ]
  },
  {
   "cell_type": "code",
   "execution_count": 16,
   "metadata": {
    "collapsed": true
   },
   "outputs": [
    {
     "name": "stderr",
     "output_type": "stream",
     "text": [
      "/Users/fuchucheng/.local/lib/python3.6/site-packages/IPython/core/interactiveshell.py:3051: DtypeWarning: Columns (2) have mixed types.Specify dtype option on import or set low_memory=False.\n",
      "  interactivity=interactivity, compiler=compiler, result=result)\n"
     ]
    }
   ],
   "source": [
    "elec = pd.read_csv(\"../smart-meters-in-london/halfhourly_dataset/block_0.csv\")\n",
    "for num in range(1,111):    \n",
    "    elec = elec.append(pd.read_csv(\"../smart-meters-in-london/halfhourly_dataset/block_\"+str(num)+\".csv\"))\n",
    "        "
   ]
  },
  {
   "cell_type": "code",
   "execution_count": 17,
   "metadata": {},
   "outputs": [],
   "source": [
    "elec.replace('Null', np.NaN, inplace=True)\n",
    "energy = elec.iloc[:,:]\n",
    "energy[\"energy\"] = energy[\"energy(kWh/hh)\"].astype(\"float64\")\n",
    "energy = energy.drop([\"energy(kWh/hh)\"],axis = 1)"
   ]
  },
  {
   "cell_type": "markdown",
   "metadata": {},
   "source": [
    "**Missing values**"
   ]
  },
  {
   "cell_type": "code",
   "execution_count": 18,
   "metadata": {},
   "outputs": [
    {
     "name": "stdout",
     "output_type": "stream",
     "text": [
      "Count of missing data\n"
     ]
    },
    {
     "data": {
      "text/plain": [
       "[('energy', 5544), ('LCLid', 0), ('tstp', 0)]"
      ]
     },
     "execution_count": 18,
     "metadata": {},
     "output_type": "execute_result"
    }
   ],
   "source": [
    "missing = missing_count(energy)\n",
    "df_miss = sorted(missing.items(), key=lambda x: x[1], reverse=True)\n",
    "print('Count of missing data')\n",
    "df_miss[0:10]\n"
   ]
  },
  {
   "cell_type": "markdown",
   "metadata": {},
   "source": [
    "### Single household"
   ]
  },
  {
   "cell_type": "code",
   "execution_count": 20,
   "metadata": {},
   "outputs": [],
   "source": [
    "energy_MAC1 = energy[energy[\"LCLid\"] == \"MAC000010\"]"
   ]
  },
  {
   "cell_type": "code",
   "execution_count": 21,
   "metadata": {},
   "outputs": [
    {
     "name": "stdout",
     "output_type": "stream",
     "text": [
      "Count of missing data\n"
     ]
    },
    {
     "data": {
      "text/plain": [
       "[('energy', 1), ('LCLid', 0), ('tstp', 0)]"
      ]
     },
     "execution_count": 21,
     "metadata": {},
     "output_type": "execute_result"
    }
   ],
   "source": [
    "missing = missing_count(energy_MAC1)\n",
    "df_miss = sorted(missing.items(), key=lambda x: x[1], reverse=True)\n",
    "print('Count of missing data')\n",
    "df_miss[0:10]"
   ]
  },
  {
   "cell_type": "code",
   "execution_count": 22,
   "metadata": {
    "collapsed": true
   },
   "outputs": [
    {
     "name": "stderr",
     "output_type": "stream",
     "text": [
      "/Users/fuchucheng/.local/lib/python3.6/site-packages/ipykernel_launcher.py:1: SettingWithCopyWarning: \n",
      "A value is trying to be set on a copy of a slice from a DataFrame.\n",
      "Try using .loc[row_indexer,col_indexer] = value instead\n",
      "\n",
      "See the caveats in the documentation: https://pandas.pydata.org/pandas-docs/stable/user_guide/indexing.html#returning-a-view-versus-a-copy\n",
      "  \"\"\"Entry point for launching an IPython kernel.\n",
      "/Users/fuchucheng/.local/lib/python3.6/site-packages/ipykernel_launcher.py:2: SettingWithCopyWarning: \n",
      "A value is trying to be set on a copy of a slice from a DataFrame.\n",
      "Try using .loc[row_indexer,col_indexer] = value instead\n",
      "\n",
      "See the caveats in the documentation: https://pandas.pydata.org/pandas-docs/stable/user_guide/indexing.html#returning-a-view-versus-a-copy\n",
      "  \n"
     ]
    }
   ],
   "source": [
    "energy_MAC1[\"energy\"] = energy_MAC1[\"energy\"].astype(\"float64\")\n",
    "energy_MAC1[\"tstp\"] = energy_MAC1[\"tstp\"].astype(\"datetime64\")\n",
    "energy_MAC1 = energy_MAC1.groupby('tstp').agg({'energy': lambda x: x.mean(skipna=False)})\n",
    "energy_MAC1['tstp'] = energy_MAC1.index\n",
    "energy_MAC1.drop(['tstp'], axis = 1, inplace=True)\n"
   ]
  },
  {
   "cell_type": "markdown",
   "metadata": {},
   "source": [
    "### To prevent data leakage we split trian and test first"
   ]
  },
  {
   "cell_type": "code",
   "execution_count": 30,
   "metadata": {},
   "outputs": [],
   "source": [
    "train_s = energy_MAC1.iloc[:20000, :]\n",
    "test_s = energy_MAC1.iloc[20000:,:]"
   ]
  },
  {
   "cell_type": "markdown",
   "metadata": {},
   "source": [
    "**then deal with missing value half-hr**"
   ]
  },
  {
   "cell_type": "code",
   "execution_count": 31,
   "metadata": {},
   "outputs": [],
   "source": [
    "train_s.fillna(train_s.median(), inplace = True)\n",
    "test_s.fillna(test_s.median(), inplace = True)"
   ]
  },
  {
   "cell_type": "markdown",
   "metadata": {},
   "source": [
    "**resampling to 1hr**"
   ]
  },
  {
   "cell_type": "code",
   "execution_count": 32,
   "metadata": {},
   "outputs": [],
   "source": [
    "train_s_h = train_s.resample('1H').sum()\n",
    "test_s_h = test_s.resample('1H').sum()"
   ]
  },
  {
   "cell_type": "code",
   "execution_count": 36,
   "metadata": {},
   "outputs": [],
   "source": [
    "##Save to csv\n",
    "train_s.to_csv(\"train_s_hh.csv\", index = True)\n",
    "test_s.to_csv(\"train_s_hh.csv\", index = True)\n",
    "train_s_h.to_csv(\"train_s_h.csv\", index = True)\n",
    "test_s_h.to_csv(\"train_s_h.csv\", index = True)"
   ]
  },
  {
   "cell_type": "markdown",
   "metadata": {},
   "source": [
    "### Aggregated   household"
   ]
  },
  {
   "cell_type": "markdown",
   "metadata": {},
   "source": [
    "**Group by LCLid and aggregate over per hour**\n"
   ]
  },
  {
   "cell_type": "code",
   "execution_count": 29,
   "metadata": {},
   "outputs": [],
   "source": [
    "## deal with missing value by interpolating mean of whole column\n",
    "# energy[\"energy\"].fillna(energy[\"energy\"].median(), inplace = True)\n",
    "## group by time stamps and aggregate through mean\n",
    "energy[\"energy\"] = energy[\"energy\"].astype(\"float64\")\n",
    "energy[\"tstp\"] = energy[\"tstp\"].astype(\"datetime64\")\n",
    "energy = energy.groupby('tstp').agg({'energy': lambda x: x.mean(skipna=False)})\n",
    "energy['tstp'] = energy.index\n",
    "energy.drop(['tstp'], axis = 1, inplace=True)"
   ]
  },
  {
   "cell_type": "markdown",
   "metadata": {},
   "source": [
    "### To prevent data leakage we split trian and test first"
   ]
  },
  {
   "cell_type": "code",
   "execution_count": 6,
   "metadata": {},
   "outputs": [],
   "source": [
    "train_e = energy.iloc[:28750, :]\n",
    "test_e = energy.iloc[28750:,:]"
   ]
  },
  {
   "cell_type": "markdown",
   "metadata": {},
   "source": [
    "\n",
    "**deal with missing value sampling rate: 30 mins**"
   ]
  },
  {
   "cell_type": "code",
   "execution_count": 7,
   "metadata": {
    "collapsed": true
   },
   "outputs": [
    {
     "name": "stderr",
     "output_type": "stream",
     "text": [
      "//miniconda3/envs/tpot/lib/python3.6/site-packages/pandas/core/generic.py:6245: SettingWithCopyWarning: \n",
      "A value is trying to be set on a copy of a slice from a DataFrame\n",
      "\n",
      "See the caveats in the documentation: https://pandas.pydata.org/pandas-docs/stable/user_guide/indexing.html#returning-a-view-versus-a-copy\n",
      "  self._update_inplace(new_data)\n"
     ]
    }
   ],
   "source": [
    "train_e.fillna(train_e.median(), inplace = True)\n",
    "test_e.fillna(test_e.median(), inplace = True)\n"
   ]
  },
  {
   "cell_type": "code",
   "execution_count": 8,
   "metadata": {},
   "outputs": [
    {
     "name": "stdout",
     "output_type": "stream",
     "text": [
      "Count of missing data\n"
     ]
    },
    {
     "data": {
      "text/plain": [
       "[('energy', 0)]"
      ]
     },
     "execution_count": 8,
     "metadata": {},
     "output_type": "execute_result"
    }
   ],
   "source": [
    "## check if there is still missing value\n",
    "missing = missing_count(test_e)\n",
    "df_miss = sorted(missing.items(), key=lambda x: x[1], reverse=True)\n",
    "print('Count of missing data')\n",
    "df_miss[0:10]\n"
   ]
  },
  {
   "cell_type": "markdown",
   "metadata": {},
   "source": [
    "**then deal with missing value and resampling to 1hr**"
   ]
  },
  {
   "cell_type": "code",
   "execution_count": 31,
   "metadata": {
    "collapsed": true
   },
   "outputs": [
    {
     "name": "stderr",
     "output_type": "stream",
     "text": [
      "//miniconda3/envs/TPOT/lib/python3.5/site-packages/pandas/core/generic.py:5208: SettingWithCopyWarning: \n",
      "A value is trying to be set on a copy of a slice from a DataFrame.\n",
      "Try using .loc[row_indexer,col_indexer] = value instead\n",
      "\n",
      "See the caveats in the documentation: http://pandas.pydata.org/pandas-docs/stable/user_guide/indexing.html#returning-a-view-versus-a-copy\n",
      "  self[name] = value\n"
     ]
    }
   ],
   "source": [
    "train_e.fillna(train_e.median(), inplace = True)\n",
    "test_e.fillna(test_e.median(), inplace = True)\n",
    "train_e = train_e.resample('1H').sum()\n",
    "test_e = test_e.resample('1H').sum()"
   ]
  },
  {
   "cell_type": "code",
   "execution_count": 17,
   "metadata": {},
   "outputs": [
    {
     "name": "stdout",
     "output_type": "stream",
     "text": [
      "Count of missing data\n"
     ]
    },
    {
     "data": {
      "text/plain": [
       "[('energy', 673)]"
      ]
     },
     "execution_count": 17,
     "metadata": {},
     "output_type": "execute_result"
    }
   ],
   "source": [
    "## check if there is still missing value\n",
    "missing = missing_count(train_e)\n",
    "df_miss = sorted(missing.items(), key=lambda x: x[1], reverse=True)\n",
    "print('Count of missing data')\n",
    "df_miss[0:10]\n"
   ]
  },
  {
   "cell_type": "markdown",
   "metadata": {},
   "source": [
    "### Weather data processing\n"
   ]
  },
  {
   "cell_type": "code",
   "execution_count": 9,
   "metadata": {
    "scrolled": true
   },
   "outputs": [],
   "source": [
    "weather = pd.read_csv('../smart-meters-in-london/weather_hourly_darksky.csv')"
   ]
  },
  {
   "cell_type": "code",
   "execution_count": 10,
   "metadata": {},
   "outputs": [],
   "source": [
    "## set index as time stamp\n",
    "weather = weather.set_index(\"time\")\n",
    "weather.index = weather.index.astype(\"datetime64[ns]\")"
   ]
  },
  {
   "cell_type": "code",
   "execution_count": 11,
   "metadata": {},
   "outputs": [],
   "source": [
    "## apparently the sequence in between is not correct\n",
    "weather = weather.sort_index()"
   ]
  },
  {
   "cell_type": "markdown",
   "metadata": {},
   "source": [
    "**Missing values**"
   ]
  },
  {
   "cell_type": "code",
   "execution_count": 12,
   "metadata": {
    "scrolled": true
   },
   "outputs": [
    {
     "name": "stdout",
     "output_type": "stream",
     "text": [
      "Percent of missing data\n"
     ]
    },
    {
     "data": {
      "text/plain": [
       "[('pressure', 1300),\n",
       " ('visibility', 0),\n",
       " ('windBearing', 0),\n",
       " ('temperature', 0),\n",
       " ('dewPoint', 0),\n",
       " ('apparentTemperature', 0),\n",
       " ('windSpeed', 0),\n",
       " ('precipType', 0),\n",
       " ('icon', 0),\n",
       " ('humidity', 0),\n",
       " ('summary', 0)]"
      ]
     },
     "execution_count": 12,
     "metadata": {},
     "output_type": "execute_result"
    }
   ],
   "source": [
    "missing = count_missing(weather)\n",
    "df_miss = sorted(missing.items(), key=lambda x: x[1], reverse=True)\n",
    "print('Percent of missing data')\n",
    "df_miss[0:]"
   ]
  },
  {
   "cell_type": "code",
   "execution_count": 13,
   "metadata": {},
   "outputs": [],
   "source": [
    "## drop columns wont be used later\n",
    "weather.drop(['precipType','icon','summary'], axis = 1, inplace=True)"
   ]
  },
  {
   "cell_type": "code",
   "execution_count": 14,
   "metadata": {},
   "outputs": [],
   "source": [
    "##merge trian and test seperately\n",
    "train =  weather.merge(train_e, how ='right', left_index = True, right_index = True)\n",
    "test = weather.merge(test_e.iloc[1:,:], how = 'right', left_index = True, right_index = True)"
   ]
  },
  {
   "cell_type": "code",
   "execution_count": 16,
   "metadata": {},
   "outputs": [],
   "source": [
    "train.to_csv(\"hh_train_nan.csv\", index = True)\n",
    "test.to_csv(\"hh_test_nan.csv\", index = True)"
   ]
  },
  {
   "cell_type": "code",
   "execution_count": 12,
   "metadata": {},
   "outputs": [],
   "source": [
    "train = pd.read_csv(\"hh_train_nan.csv\", index_col='tstp')\n",
    "test = pd.read_csv(\"hh_test_nan.csv\", index_col='tstp')"
   ]
  },
  {
   "cell_type": "code",
   "execution_count": 39,
   "metadata": {},
   "outputs": [],
   "source": [
    "## interpolate nan\n",
    "for col in train.columns:\n",
    "    train[col] = train[col].interpolate(method='linear')\n",
    "for col in test.columns:\n",
    "    test[col] = test[col].interpolate(method = \"linear\")"
   ]
  },
  {
   "cell_type": "code",
   "execution_count": 43,
   "metadata": {},
   "outputs": [],
   "source": [
    "## data set without catagorical features\n",
    "train.to_csv(\"train_nocat_hh.csv\", index = True)\n",
    "test.to_csv(\"test_nocat_hh.csv\", index = True)"
   ]
  },
  {
   "cell_type": "markdown",
   "metadata": {},
   "source": [
    "**One hot encoding**"
   ]
  },
  {
   "cell_type": "code",
   "execution_count": 73,
   "metadata": {},
   "outputs": [],
   "source": [
    "## Examine unique categories in categorical features\n",
    "p = list(weather[\"precipType\"].unique()) \n",
    "i = list(weather[\"icon\"].unique()) \n",
    "u = list(weather[\"summary\"].unique())\n",
    "# Sort them for one hot encoding labels\n",
    "p.sort()\n",
    "i.sort()\n",
    "u.sort()"
   ]
  },
  {
   "cell_type": "code",
   "execution_count": 74,
   "metadata": {},
   "outputs": [],
   "source": [
    "from sklearn.preprocessing import OneHotEncoder\n",
    "## One hot encoding these features above\n",
    "onehot = OneHotEncoder(dtype=np.int, sparse=True)\n",
    "nominals = pd.DataFrame(onehot.fit_transform(weather[['precipType', 'icon','summary']]).toarray(),columns=p+i+u)\n",
    "nominals.index = weather.index"
   ]
  },
  {
   "cell_type": "code",
   "execution_count": 12,
   "metadata": {
    "collapsed": true
   },
   "outputs": [
    {
     "ename": "KeyError",
     "evalue": "\"None of ['time'] are in the columns\"",
     "output_type": "error",
     "traceback": [
      "\u001b[0;31m---------------------------------------------------------------------------\u001b[0m",
      "\u001b[0;31mKeyError\u001b[0m                                  Traceback (most recent call last)",
      "\u001b[0;32m<ipython-input-12-a43aedab6b50>\u001b[0m in \u001b[0;36m<module>\u001b[0;34m()\u001b[0m\n\u001b[1;32m      1\u001b[0m \u001b[0;31m#Concate nominals with origin weather dataframe\u001b[0m\u001b[0;34m\u001b[0m\u001b[0;34m\u001b[0m\u001b[0m\n\u001b[0;32m----> 2\u001b[0;31m \u001b[0mweather\u001b[0m \u001b[0;34m=\u001b[0m \u001b[0mweather\u001b[0m\u001b[0;34m.\u001b[0m\u001b[0mset_index\u001b[0m\u001b[0;34m(\u001b[0m\u001b[0;34m\"time\"\u001b[0m\u001b[0;34m)\u001b[0m\u001b[0;34m\u001b[0m\u001b[0m\n\u001b[0m\u001b[1;32m      3\u001b[0m \u001b[0mweather\u001b[0m\u001b[0;34m.\u001b[0m\u001b[0mindex\u001b[0m \u001b[0;34m=\u001b[0m \u001b[0mweather\u001b[0m\u001b[0;34m.\u001b[0m\u001b[0mindex\u001b[0m\u001b[0;34m.\u001b[0m\u001b[0mastype\u001b[0m\u001b[0;34m(\u001b[0m\u001b[0;34m\"datetime64\"\u001b[0m\u001b[0;34m)\u001b[0m\u001b[0;34m\u001b[0m\u001b[0m\n\u001b[1;32m      4\u001b[0m \u001b[0;31m#weather.drop([\"precipType\",\"icon\",\"summary\"],axis = 1, inplace = True)\u001b[0m\u001b[0;34m\u001b[0m\u001b[0;34m\u001b[0m\u001b[0m\n\u001b[1;32m      5\u001b[0m \u001b[0;31m#weather =  weather.merge(nominals, left_index = True, right_index = True)\u001b[0m\u001b[0;34m\u001b[0m\u001b[0;34m\u001b[0m\u001b[0m\n",
      "\u001b[0;32m//miniconda3/envs/TPOT/lib/python3.5/site-packages/pandas/core/frame.py\u001b[0m in \u001b[0;36mset_index\u001b[0;34m(self, keys, drop, append, inplace, verify_integrity)\u001b[0m\n\u001b[1;32m   4409\u001b[0m \u001b[0;34m\u001b[0m\u001b[0m\n\u001b[1;32m   4410\u001b[0m         \u001b[0;32mif\u001b[0m \u001b[0mmissing\u001b[0m\u001b[0;34m:\u001b[0m\u001b[0;34m\u001b[0m\u001b[0m\n\u001b[0;32m-> 4411\u001b[0;31m             \u001b[0;32mraise\u001b[0m \u001b[0mKeyError\u001b[0m\u001b[0;34m(\u001b[0m\u001b[0;34m\"None of {} are in the columns\"\u001b[0m\u001b[0;34m.\u001b[0m\u001b[0mformat\u001b[0m\u001b[0;34m(\u001b[0m\u001b[0mmissing\u001b[0m\u001b[0;34m)\u001b[0m\u001b[0;34m)\u001b[0m\u001b[0;34m\u001b[0m\u001b[0m\n\u001b[0m\u001b[1;32m   4412\u001b[0m \u001b[0;34m\u001b[0m\u001b[0m\n\u001b[1;32m   4413\u001b[0m         \u001b[0;32mif\u001b[0m \u001b[0minplace\u001b[0m\u001b[0;34m:\u001b[0m\u001b[0;34m\u001b[0m\u001b[0m\n",
      "\u001b[0;31mKeyError\u001b[0m: \"None of ['time'] are in the columns\""
     ]
    }
   ],
   "source": [
    "#Concate nominals with origin weather dataframe\n",
    "weather = weather.set_index(\"time\")\n",
    "weather.index = weather.index.astype(\"datetime64\")\n",
    "#weather.drop([\"precipType\",\"icon\",\"summary\"],axis = 1, inplace = True)\n",
    "weather =  weather.merge(nominals, left_index = True, right_index = True)\n"
   ]
  }
 ],
 "metadata": {
  "kernelspec": {
   "display_name": "tpot",
   "language": "python",
   "name": "tpot"
  },
  "language_info": {
   "codemirror_mode": {
    "name": "ipython",
    "version": 3
   },
   "file_extension": ".py",
   "mimetype": "text/x-python",
   "name": "python",
   "nbconvert_exporter": "python",
   "pygments_lexer": "ipython3",
   "version": "3.5.0"
  }
 },
 "nbformat": 4,
 "nbformat_minor": 2
}
