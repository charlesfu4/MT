{
 "cells": [
  {
   "cell_type": "code",
   "execution_count": 1,
   "metadata": {},
   "outputs": [],
   "source": [
    "import os\n",
    "import math\n",
    "import pandas as pd\n",
    "import numpy as np\n",
    "from pandas import datetime\n",
    "from matplotlib import pyplot as plt\n"
   ]
  },
  {
   "cell_type": "code",
   "execution_count": 2,
   "metadata": {},
   "outputs": [],
   "source": [
    "# single household contsumption data extract function\n",
    "def extract_house(data_frame, lclid):\n",
    "    df = data_frame.set_index(\"tstp\")\n",
    "    df.index = df.index.astype(\"datetime64\")\n",
    "    \n",
    "    df[\"energy(kWh/hh)\"] = df[\"energy(kWh/hh)\"].astype(\"float64\")\n",
    "    df = df[df[\"LCLid\"] == \"{}\".format(lclid) ]\n",
    "    return df\n",
    "\n",
    "# weather extraction function\n",
    "def extract_weather(data_frame):\n",
    "    df = data_frame.set_index(\"time\")\n",
    "    df.index = df.index.astype(\"datetime64\")\n",
    "    return df"
   ]
  },
  {
   "cell_type": "markdown",
   "metadata": {},
   "source": [
    "## Elia grid load data"
   ]
  },
  {
   "cell_type": "code",
   "execution_count": 50,
   "metadata": {},
   "outputs": [],
   "source": [
    "elia = pd.read_csv(\"ELIA_LOAD_2020.csv\",header = 1)"
   ]
  },
  {
   "cell_type": "code",
   "execution_count": 51,
   "metadata": {},
   "outputs": [
    {
     "data": {
      "text/html": [
       "<div>\n",
       "<style scoped>\n",
       "    .dataframe tbody tr th:only-of-type {\n",
       "        vertical-align: middle;\n",
       "    }\n",
       "\n",
       "    .dataframe tbody tr th {\n",
       "        vertical-align: top;\n",
       "    }\n",
       "\n",
       "    .dataframe thead th {\n",
       "        text-align: right;\n",
       "    }\n",
       "</style>\n",
       "<table border=\"1\" class=\"dataframe\">\n",
       "  <thead>\n",
       "    <tr style=\"text-align: right;\">\n",
       "      <th></th>\n",
       "      <th>dd</th>\n",
       "      <th>mm</th>\n",
       "      <th>yyyy</th>\n",
       "      <th>0:15</th>\n",
       "      <th>0:30</th>\n",
       "      <th>0:45</th>\n",
       "      <th>1:00</th>\n",
       "      <th>1:15</th>\n",
       "      <th>1:30</th>\n",
       "      <th>1:45</th>\n",
       "      <th>...</th>\n",
       "      <th>22:45</th>\n",
       "      <th>23:00</th>\n",
       "      <th>23:15</th>\n",
       "      <th>23:30</th>\n",
       "      <th>23:45</th>\n",
       "      <th>24:00</th>\n",
       "      <th>2:15\"</th>\n",
       "      <th>2:30\"</th>\n",
       "      <th>2:45\"</th>\n",
       "      <th>3:00\"</th>\n",
       "    </tr>\n",
       "  </thead>\n",
       "  <tbody>\n",
       "    <tr>\n",
       "      <th>0</th>\n",
       "      <td>1</td>\n",
       "      <td>1</td>\n",
       "      <td>2020</td>\n",
       "      <td>8209192</td>\n",
       "      <td>8155125</td>\n",
       "      <td>8084900</td>\n",
       "      <td>8016324</td>\n",
       "      <td>7985205</td>\n",
       "      <td>7886804</td>\n",
       "      <td>7799053</td>\n",
       "      <td>...</td>\n",
       "      <td>8555191</td>\n",
       "      <td>8551015</td>\n",
       "      <td>8692071</td>\n",
       "      <td>8616506</td>\n",
       "      <td>8500310</td>\n",
       "      <td>8351431</td>\n",
       "      <td>0</td>\n",
       "      <td>0</td>\n",
       "      <td>0</td>\n",
       "      <td>0</td>\n",
       "    </tr>\n",
       "    <tr>\n",
       "      <th>1</th>\n",
       "      <td>2</td>\n",
       "      <td>1</td>\n",
       "      <td>2020</td>\n",
       "      <td>8248012</td>\n",
       "      <td>8158287</td>\n",
       "      <td>8042245</td>\n",
       "      <td>7942309</td>\n",
       "      <td>7905350</td>\n",
       "      <td>7768966</td>\n",
       "      <td>7691843</td>\n",
       "      <td>...</td>\n",
       "      <td>8743621</td>\n",
       "      <td>8624613</td>\n",
       "      <td>8775540</td>\n",
       "      <td>8678593</td>\n",
       "      <td>8510042</td>\n",
       "      <td>8373122</td>\n",
       "      <td>0</td>\n",
       "      <td>0</td>\n",
       "      <td>0</td>\n",
       "      <td>0</td>\n",
       "    </tr>\n",
       "    <tr>\n",
       "      <th>2</th>\n",
       "      <td>3</td>\n",
       "      <td>1</td>\n",
       "      <td>2020</td>\n",
       "      <td>8228368</td>\n",
       "      <td>8103054</td>\n",
       "      <td>7922370</td>\n",
       "      <td>7773588</td>\n",
       "      <td>7719466</td>\n",
       "      <td>7503258</td>\n",
       "      <td>7426806</td>\n",
       "      <td>...</td>\n",
       "      <td>9083141</td>\n",
       "      <td>9081538</td>\n",
       "      <td>9206615</td>\n",
       "      <td>9084543</td>\n",
       "      <td>8956135</td>\n",
       "      <td>8845601</td>\n",
       "      <td>0</td>\n",
       "      <td>0</td>\n",
       "      <td>0</td>\n",
       "      <td>0</td>\n",
       "    </tr>\n",
       "    <tr>\n",
       "      <th>3</th>\n",
       "      <td>4</td>\n",
       "      <td>1</td>\n",
       "      <td>2020</td>\n",
       "      <td>8771361</td>\n",
       "      <td>8680820</td>\n",
       "      <td>8548456</td>\n",
       "      <td>8437740</td>\n",
       "      <td>8291005</td>\n",
       "      <td>8146864</td>\n",
       "      <td>8035014</td>\n",
       "      <td>...</td>\n",
       "      <td>8995693</td>\n",
       "      <td>8907230</td>\n",
       "      <td>9047341</td>\n",
       "      <td>8866118</td>\n",
       "      <td>8779609</td>\n",
       "      <td>8730643</td>\n",
       "      <td>0</td>\n",
       "      <td>0</td>\n",
       "      <td>0</td>\n",
       "      <td>0</td>\n",
       "    </tr>\n",
       "    <tr>\n",
       "      <th>4</th>\n",
       "      <td>5</td>\n",
       "      <td>1</td>\n",
       "      <td>2020</td>\n",
       "      <td>8605184</td>\n",
       "      <td>8544523</td>\n",
       "      <td>8350719</td>\n",
       "      <td>8254368</td>\n",
       "      <td>8157975</td>\n",
       "      <td>8032916</td>\n",
       "      <td>7889415</td>\n",
       "      <td>...</td>\n",
       "      <td>9021058</td>\n",
       "      <td>8873602</td>\n",
       "      <td>8998122</td>\n",
       "      <td>8971952</td>\n",
       "      <td>8842632</td>\n",
       "      <td>8704938</td>\n",
       "      <td>0</td>\n",
       "      <td>0</td>\n",
       "      <td>0</td>\n",
       "      <td>0</td>\n",
       "    </tr>\n",
       "  </tbody>\n",
       "</table>\n",
       "<p>5 rows × 103 columns</p>\n",
       "</div>"
      ],
      "text/plain": [
       "   dd  mm  yyyy     0:15     0:30     0:45     1:00     1:15     1:30  \\\n",
       "0   1   1  2020  8209192  8155125  8084900  8016324  7985205  7886804   \n",
       "1   2   1  2020  8248012  8158287  8042245  7942309  7905350  7768966   \n",
       "2   3   1  2020  8228368  8103054  7922370  7773588  7719466  7503258   \n",
       "3   4   1  2020  8771361  8680820  8548456  8437740  8291005  8146864   \n",
       "4   5   1  2020  8605184  8544523  8350719  8254368  8157975  8032916   \n",
       "\n",
       "      1:45  ...    22:45    23:00    23:15    23:30    23:45    24:00  2:15\"  \\\n",
       "0  7799053  ...  8555191  8551015  8692071  8616506  8500310  8351431      0   \n",
       "1  7691843  ...  8743621  8624613  8775540  8678593  8510042  8373122      0   \n",
       "2  7426806  ...  9083141  9081538  9206615  9084543  8956135  8845601      0   \n",
       "3  8035014  ...  8995693  8907230  9047341  8866118  8779609  8730643      0   \n",
       "4  7889415  ...  9021058  8873602  8998122  8971952  8842632  8704938      0   \n",
       "\n",
       "   2:30\"  2:45\"  3:00\"  \n",
       "0      0      0      0  \n",
       "1      0      0      0  \n",
       "2      0      0      0  \n",
       "3      0      0      0  \n",
       "4      0      0      0  \n",
       "\n",
       "[5 rows x 103 columns]"
      ]
     },
     "execution_count": 51,
     "metadata": {},
     "output_type": "execute_result"
    }
   ],
   "source": [
    "elia.head()"
   ]
  },
  {
   "cell_type": "code",
   "execution_count": 52,
   "metadata": {},
   "outputs": [],
   "source": [
    "elia.drop(columns=['2:15\"','2:30\"','2:45\"','3:00\"'],inplace=True)\n"
   ]
  },
  {
   "cell_type": "code",
   "execution_count": 53,
   "metadata": {},
   "outputs": [],
   "source": [
    "elia.replace('NOT VALID', np.NaN, inplace=True)"
   ]
  },
  {
   "cell_type": "code",
   "execution_count": 54,
   "metadata": {
    "scrolled": true
   },
   "outputs": [
    {
     "data": {
      "text/html": [
       "<div>\n",
       "<style scoped>\n",
       "    .dataframe tbody tr th:only-of-type {\n",
       "        vertical-align: middle;\n",
       "    }\n",
       "\n",
       "    .dataframe tbody tr th {\n",
       "        vertical-align: top;\n",
       "    }\n",
       "\n",
       "    .dataframe thead th {\n",
       "        text-align: right;\n",
       "    }\n",
       "</style>\n",
       "<table border=\"1\" class=\"dataframe\">\n",
       "  <thead>\n",
       "    <tr style=\"text-align: right;\">\n",
       "      <th></th>\n",
       "      <th>dd</th>\n",
       "      <th>mm</th>\n",
       "      <th>yyyy</th>\n",
       "      <th>0:15</th>\n",
       "      <th>0:30</th>\n",
       "      <th>0:45</th>\n",
       "      <th>1:00</th>\n",
       "      <th>1:15</th>\n",
       "      <th>1:30</th>\n",
       "      <th>1:45</th>\n",
       "      <th>...</th>\n",
       "      <th>21:45</th>\n",
       "      <th>22:00</th>\n",
       "      <th>22:15</th>\n",
       "      <th>22:30</th>\n",
       "      <th>22:45</th>\n",
       "      <th>23:00</th>\n",
       "      <th>23:15</th>\n",
       "      <th>23:30</th>\n",
       "      <th>23:45</th>\n",
       "      <th>24:00</th>\n",
       "    </tr>\n",
       "  </thead>\n",
       "  <tbody>\n",
       "    <tr>\n",
       "      <th>0</th>\n",
       "      <td>1</td>\n",
       "      <td>1</td>\n",
       "      <td>2020</td>\n",
       "      <td>8209192</td>\n",
       "      <td>8155125</td>\n",
       "      <td>8084900</td>\n",
       "      <td>8016324</td>\n",
       "      <td>7985205</td>\n",
       "      <td>7886804</td>\n",
       "      <td>7799053</td>\n",
       "      <td>...</td>\n",
       "      <td>8204405</td>\n",
       "      <td>8161784</td>\n",
       "      <td>8357563</td>\n",
       "      <td>8517970</td>\n",
       "      <td>8555191</td>\n",
       "      <td>8551015</td>\n",
       "      <td>8692071</td>\n",
       "      <td>8616506</td>\n",
       "      <td>8500310</td>\n",
       "      <td>8351431</td>\n",
       "    </tr>\n",
       "    <tr>\n",
       "      <th>1</th>\n",
       "      <td>2</td>\n",
       "      <td>1</td>\n",
       "      <td>2020</td>\n",
       "      <td>8248012</td>\n",
       "      <td>8158287</td>\n",
       "      <td>8042245</td>\n",
       "      <td>7942309</td>\n",
       "      <td>7905350</td>\n",
       "      <td>7768966</td>\n",
       "      <td>7691843</td>\n",
       "      <td>...</td>\n",
       "      <td>8476694</td>\n",
       "      <td>8392585</td>\n",
       "      <td>8531725</td>\n",
       "      <td>8643723</td>\n",
       "      <td>8743621</td>\n",
       "      <td>8624613</td>\n",
       "      <td>8775540</td>\n",
       "      <td>8678593</td>\n",
       "      <td>8510042</td>\n",
       "      <td>8373122</td>\n",
       "    </tr>\n",
       "    <tr>\n",
       "      <th>2</th>\n",
       "      <td>3</td>\n",
       "      <td>1</td>\n",
       "      <td>2020</td>\n",
       "      <td>8228368</td>\n",
       "      <td>8103054</td>\n",
       "      <td>7922370</td>\n",
       "      <td>7773588</td>\n",
       "      <td>7719466</td>\n",
       "      <td>7503258</td>\n",
       "      <td>7426806</td>\n",
       "      <td>...</td>\n",
       "      <td>8804174</td>\n",
       "      <td>8805315</td>\n",
       "      <td>8999869</td>\n",
       "      <td>9163460</td>\n",
       "      <td>9083141</td>\n",
       "      <td>9081538</td>\n",
       "      <td>9206615</td>\n",
       "      <td>9084543</td>\n",
       "      <td>8956135</td>\n",
       "      <td>8845601</td>\n",
       "    </tr>\n",
       "    <tr>\n",
       "      <th>3</th>\n",
       "      <td>4</td>\n",
       "      <td>1</td>\n",
       "      <td>2020</td>\n",
       "      <td>8771361</td>\n",
       "      <td>8680820</td>\n",
       "      <td>8548456</td>\n",
       "      <td>8437740</td>\n",
       "      <td>8291005</td>\n",
       "      <td>8146864</td>\n",
       "      <td>8035014</td>\n",
       "      <td>...</td>\n",
       "      <td>8766813</td>\n",
       "      <td>8646281</td>\n",
       "      <td>8735102</td>\n",
       "      <td>8921705</td>\n",
       "      <td>8995693</td>\n",
       "      <td>8907230</td>\n",
       "      <td>9047341</td>\n",
       "      <td>8866118</td>\n",
       "      <td>8779609</td>\n",
       "      <td>8730643</td>\n",
       "    </tr>\n",
       "    <tr>\n",
       "      <th>4</th>\n",
       "      <td>5</td>\n",
       "      <td>1</td>\n",
       "      <td>2020</td>\n",
       "      <td>8605184</td>\n",
       "      <td>8544523</td>\n",
       "      <td>8350719</td>\n",
       "      <td>8254368</td>\n",
       "      <td>8157975</td>\n",
       "      <td>8032916</td>\n",
       "      <td>7889415</td>\n",
       "      <td>...</td>\n",
       "      <td>8903514</td>\n",
       "      <td>8843971</td>\n",
       "      <td>8909111</td>\n",
       "      <td>9059377</td>\n",
       "      <td>9021058</td>\n",
       "      <td>8873602</td>\n",
       "      <td>8998122</td>\n",
       "      <td>8971952</td>\n",
       "      <td>8842632</td>\n",
       "      <td>8704938</td>\n",
       "    </tr>\n",
       "  </tbody>\n",
       "</table>\n",
       "<p>5 rows × 99 columns</p>\n",
       "</div>"
      ],
      "text/plain": [
       "   dd  mm  yyyy     0:15     0:30     0:45     1:00     1:15     1:30  \\\n",
       "0   1   1  2020  8209192  8155125  8084900  8016324  7985205  7886804   \n",
       "1   2   1  2020  8248012  8158287  8042245  7942309  7905350  7768966   \n",
       "2   3   1  2020  8228368  8103054  7922370  7773588  7719466  7503258   \n",
       "3   4   1  2020  8771361  8680820  8548456  8437740  8291005  8146864   \n",
       "4   5   1  2020  8605184  8544523  8350719  8254368  8157975  8032916   \n",
       "\n",
       "      1:45  ...    21:45    22:00    22:15    22:30    22:45    23:00  \\\n",
       "0  7799053  ...  8204405  8161784  8357563  8517970  8555191  8551015   \n",
       "1  7691843  ...  8476694  8392585  8531725  8643723  8743621  8624613   \n",
       "2  7426806  ...  8804174  8805315  8999869  9163460  9083141  9081538   \n",
       "3  8035014  ...  8766813  8646281  8735102  8921705  8995693  8907230   \n",
       "4  7889415  ...  8903514  8843971  8909111  9059377  9021058  8873602   \n",
       "\n",
       "     23:15    23:30    23:45    24:00  \n",
       "0  8692071  8616506  8500310  8351431  \n",
       "1  8775540  8678593  8510042  8373122  \n",
       "2  9206615  9084543  8956135  8845601  \n",
       "3  9047341  8866118  8779609  8730643  \n",
       "4  8998122  8971952  8842632  8704938  \n",
       "\n",
       "[5 rows x 99 columns]"
      ]
     },
     "execution_count": 54,
     "metadata": {},
     "output_type": "execute_result"
    }
   ],
   "source": [
    "elia.head()"
   ]
  },
  {
   "cell_type": "code",
   "execution_count": 55,
   "metadata": {},
   "outputs": [],
   "source": [
    "date_list = []\n",
    "for i in range(elia.shape[0]):\n",
    "    date_list.append(\"{}-{}-{}\".format(elia['yyyy'][i],elia['mm'][i],elia['dd'][i]))"
   ]
  },
  {
   "cell_type": "code",
   "execution_count": 56,
   "metadata": {},
   "outputs": [],
   "source": [
    "elia[\"YYYY-MM-DD\"] = date_list"
   ]
  },
  {
   "cell_type": "code",
   "execution_count": 58,
   "metadata": {},
   "outputs": [],
   "source": [
    "elia.drop(columns = ['dd','mm','yyyy'], inplace = True)"
   ]
  },
  {
   "cell_type": "code",
   "execution_count": 61,
   "metadata": {},
   "outputs": [],
   "source": [
    "elia.set_index(elia[\"YYYY-MM-DD\"], inplace= True)"
   ]
  },
  {
   "cell_type": "code",
   "execution_count": 63,
   "metadata": {
    "scrolled": false
   },
   "outputs": [
    {
     "data": {
      "text/html": [
       "<div>\n",
       "<style scoped>\n",
       "    .dataframe tbody tr th:only-of-type {\n",
       "        vertical-align: middle;\n",
       "    }\n",
       "\n",
       "    .dataframe tbody tr th {\n",
       "        vertical-align: top;\n",
       "    }\n",
       "\n",
       "    .dataframe thead th {\n",
       "        text-align: right;\n",
       "    }\n",
       "</style>\n",
       "<table border=\"1\" class=\"dataframe\">\n",
       "  <thead>\n",
       "    <tr style=\"text-align: right;\">\n",
       "      <th></th>\n",
       "      <th>0:15</th>\n",
       "      <th>0:30</th>\n",
       "      <th>0:45</th>\n",
       "      <th>1:00</th>\n",
       "      <th>1:15</th>\n",
       "      <th>1:30</th>\n",
       "      <th>1:45</th>\n",
       "      <th>2:00</th>\n",
       "      <th>2:15</th>\n",
       "      <th>2:30</th>\n",
       "      <th>...</th>\n",
       "      <th>21:45</th>\n",
       "      <th>22:00</th>\n",
       "      <th>22:15</th>\n",
       "      <th>22:30</th>\n",
       "      <th>22:45</th>\n",
       "      <th>23:00</th>\n",
       "      <th>23:15</th>\n",
       "      <th>23:30</th>\n",
       "      <th>23:45</th>\n",
       "      <th>24:00</th>\n",
       "    </tr>\n",
       "    <tr>\n",
       "      <th>YYYY-MM-DD</th>\n",
       "      <th></th>\n",
       "      <th></th>\n",
       "      <th></th>\n",
       "      <th></th>\n",
       "      <th></th>\n",
       "      <th></th>\n",
       "      <th></th>\n",
       "      <th></th>\n",
       "      <th></th>\n",
       "      <th></th>\n",
       "      <th></th>\n",
       "      <th></th>\n",
       "      <th></th>\n",
       "      <th></th>\n",
       "      <th></th>\n",
       "      <th></th>\n",
       "      <th></th>\n",
       "      <th></th>\n",
       "      <th></th>\n",
       "      <th></th>\n",
       "      <th></th>\n",
       "    </tr>\n",
       "  </thead>\n",
       "  <tbody>\n",
       "    <tr>\n",
       "      <th>2020-1-1</th>\n",
       "      <td>8209192</td>\n",
       "      <td>8155125</td>\n",
       "      <td>8084900</td>\n",
       "      <td>8016324</td>\n",
       "      <td>7985205</td>\n",
       "      <td>7886804</td>\n",
       "      <td>7799053</td>\n",
       "      <td>7702752</td>\n",
       "      <td>7643799</td>\n",
       "      <td>7564089</td>\n",
       "      <td>...</td>\n",
       "      <td>8204405</td>\n",
       "      <td>8161784</td>\n",
       "      <td>8357563</td>\n",
       "      <td>8517970</td>\n",
       "      <td>8555191</td>\n",
       "      <td>8551015</td>\n",
       "      <td>8692071</td>\n",
       "      <td>8616506</td>\n",
       "      <td>8500310</td>\n",
       "      <td>8351431</td>\n",
       "    </tr>\n",
       "    <tr>\n",
       "      <th>2020-1-2</th>\n",
       "      <td>8248012</td>\n",
       "      <td>8158287</td>\n",
       "      <td>8042245</td>\n",
       "      <td>7942309</td>\n",
       "      <td>7905350</td>\n",
       "      <td>7768966</td>\n",
       "      <td>7691843</td>\n",
       "      <td>7584363</td>\n",
       "      <td>7536363</td>\n",
       "      <td>7486732</td>\n",
       "      <td>...</td>\n",
       "      <td>8476694</td>\n",
       "      <td>8392585</td>\n",
       "      <td>8531725</td>\n",
       "      <td>8643723</td>\n",
       "      <td>8743621</td>\n",
       "      <td>8624613</td>\n",
       "      <td>8775540</td>\n",
       "      <td>8678593</td>\n",
       "      <td>8510042</td>\n",
       "      <td>8373122</td>\n",
       "    </tr>\n",
       "    <tr>\n",
       "      <th>2020-1-3</th>\n",
       "      <td>8228368</td>\n",
       "      <td>8103054</td>\n",
       "      <td>7922370</td>\n",
       "      <td>7773588</td>\n",
       "      <td>7719466</td>\n",
       "      <td>7503258</td>\n",
       "      <td>7426806</td>\n",
       "      <td>7336997</td>\n",
       "      <td>7276770</td>\n",
       "      <td>7227533</td>\n",
       "      <td>...</td>\n",
       "      <td>8804174</td>\n",
       "      <td>8805315</td>\n",
       "      <td>8999869</td>\n",
       "      <td>9163460</td>\n",
       "      <td>9083141</td>\n",
       "      <td>9081538</td>\n",
       "      <td>9206615</td>\n",
       "      <td>9084543</td>\n",
       "      <td>8956135</td>\n",
       "      <td>8845601</td>\n",
       "    </tr>\n",
       "    <tr>\n",
       "      <th>2020-1-4</th>\n",
       "      <td>8771361</td>\n",
       "      <td>8680820</td>\n",
       "      <td>8548456</td>\n",
       "      <td>8437740</td>\n",
       "      <td>8291005</td>\n",
       "      <td>8146864</td>\n",
       "      <td>8035014</td>\n",
       "      <td>7888652</td>\n",
       "      <td>7732757</td>\n",
       "      <td>7589089</td>\n",
       "      <td>...</td>\n",
       "      <td>8766813</td>\n",
       "      <td>8646281</td>\n",
       "      <td>8735102</td>\n",
       "      <td>8921705</td>\n",
       "      <td>8995693</td>\n",
       "      <td>8907230</td>\n",
       "      <td>9047341</td>\n",
       "      <td>8866118</td>\n",
       "      <td>8779609</td>\n",
       "      <td>8730643</td>\n",
       "    </tr>\n",
       "    <tr>\n",
       "      <th>2020-1-5</th>\n",
       "      <td>8605184</td>\n",
       "      <td>8544523</td>\n",
       "      <td>8350719</td>\n",
       "      <td>8254368</td>\n",
       "      <td>8157975</td>\n",
       "      <td>8032916</td>\n",
       "      <td>7889415</td>\n",
       "      <td>7754012</td>\n",
       "      <td>7732688</td>\n",
       "      <td>7678821</td>\n",
       "      <td>...</td>\n",
       "      <td>8903514</td>\n",
       "      <td>8843971</td>\n",
       "      <td>8909111</td>\n",
       "      <td>9059377</td>\n",
       "      <td>9021058</td>\n",
       "      <td>8873602</td>\n",
       "      <td>8998122</td>\n",
       "      <td>8971952</td>\n",
       "      <td>8842632</td>\n",
       "      <td>8704938</td>\n",
       "    </tr>\n",
       "  </tbody>\n",
       "</table>\n",
       "<p>5 rows × 96 columns</p>\n",
       "</div>"
      ],
      "text/plain": [
       "               0:15     0:30     0:45     1:00     1:15     1:30     1:45  \\\n",
       "YYYY-MM-DD                                                                  \n",
       "2020-1-1    8209192  8155125  8084900  8016324  7985205  7886804  7799053   \n",
       "2020-1-2    8248012  8158287  8042245  7942309  7905350  7768966  7691843   \n",
       "2020-1-3    8228368  8103054  7922370  7773588  7719466  7503258  7426806   \n",
       "2020-1-4    8771361  8680820  8548456  8437740  8291005  8146864  8035014   \n",
       "2020-1-5    8605184  8544523  8350719  8254368  8157975  8032916  7889415   \n",
       "\n",
       "               2:00     2:15     2:30  ...    21:45    22:00    22:15  \\\n",
       "YYYY-MM-DD                             ...                              \n",
       "2020-1-1    7702752  7643799  7564089  ...  8204405  8161784  8357563   \n",
       "2020-1-2    7584363  7536363  7486732  ...  8476694  8392585  8531725   \n",
       "2020-1-3    7336997  7276770  7227533  ...  8804174  8805315  8999869   \n",
       "2020-1-4    7888652  7732757  7589089  ...  8766813  8646281  8735102   \n",
       "2020-1-5    7754012  7732688  7678821  ...  8903514  8843971  8909111   \n",
       "\n",
       "              22:30    22:45    23:00    23:15    23:30    23:45    24:00  \n",
       "YYYY-MM-DD                                                                 \n",
       "2020-1-1    8517970  8555191  8551015  8692071  8616506  8500310  8351431  \n",
       "2020-1-2    8643723  8743621  8624613  8775540  8678593  8510042  8373122  \n",
       "2020-1-3    9163460  9083141  9081538  9206615  9084543  8956135  8845601  \n",
       "2020-1-4    8921705  8995693  8907230  9047341  8866118  8779609  8730643  \n",
       "2020-1-5    9059377  9021058  8873602  8998122  8971952  8842632  8704938  \n",
       "\n",
       "[5 rows x 96 columns]"
      ]
     },
     "execution_count": 63,
     "metadata": {},
     "output_type": "execute_result"
    }
   ],
   "source": [
    "elia.drop(columns = ['YYYY-MM-DD'], inplace=True)\n",
    "elia.head()"
   ]
  },
  {
   "cell_type": "code",
   "execution_count": 125,
   "metadata": {},
   "outputs": [
    {
     "data": {
      "text/html": [
       "<div>\n",
       "<style scoped>\n",
       "    .dataframe tbody tr th:only-of-type {\n",
       "        vertical-align: middle;\n",
       "    }\n",
       "\n",
       "    .dataframe tbody tr th {\n",
       "        vertical-align: top;\n",
       "    }\n",
       "\n",
       "    .dataframe thead th {\n",
       "        text-align: right;\n",
       "    }\n",
       "</style>\n",
       "<table border=\"1\" class=\"dataframe\">\n",
       "  <thead>\n",
       "    <tr style=\"text-align: right;\">\n",
       "      <th></th>\n",
       "      <th>time</th>\n",
       "      <th>grid_load</th>\n",
       "    </tr>\n",
       "  </thead>\n",
       "  <tbody>\n",
       "    <tr>\n",
       "      <th>0</th>\n",
       "      <td>2020-1-1 0:15</td>\n",
       "      <td>8209192</td>\n",
       "    </tr>\n",
       "    <tr>\n",
       "      <th>1</th>\n",
       "      <td>2020-1-1 0:30</td>\n",
       "      <td>8155125</td>\n",
       "    </tr>\n",
       "    <tr>\n",
       "      <th>2</th>\n",
       "      <td>2020-1-1 0:45</td>\n",
       "      <td>8084900</td>\n",
       "    </tr>\n",
       "    <tr>\n",
       "      <th>3</th>\n",
       "      <td>2020-1-1 1:00</td>\n",
       "      <td>8016324</td>\n",
       "    </tr>\n",
       "    <tr>\n",
       "      <th>4</th>\n",
       "      <td>2020-1-1 1:15</td>\n",
       "      <td>7985205</td>\n",
       "    </tr>\n",
       "    <tr>\n",
       "      <th>...</th>\n",
       "      <td>...</td>\n",
       "      <td>...</td>\n",
       "    </tr>\n",
       "    <tr>\n",
       "      <th>95</th>\n",
       "      <td>2020-1-1 00:00</td>\n",
       "      <td>8351431</td>\n",
       "    </tr>\n",
       "    <tr>\n",
       "      <th>96</th>\n",
       "      <td>2020-1-2 0:15</td>\n",
       "      <td>8248012</td>\n",
       "    </tr>\n",
       "    <tr>\n",
       "      <th>97</th>\n",
       "      <td>2020-1-2 0:30</td>\n",
       "      <td>8158287</td>\n",
       "    </tr>\n",
       "    <tr>\n",
       "      <th>98</th>\n",
       "      <td>2020-1-2 0:45</td>\n",
       "      <td>8042245</td>\n",
       "    </tr>\n",
       "    <tr>\n",
       "      <th>99</th>\n",
       "      <td>2020-1-2 1:00</td>\n",
       "      <td>7942309</td>\n",
       "    </tr>\n",
       "  </tbody>\n",
       "</table>\n",
       "<p>100 rows × 2 columns</p>\n",
       "</div>"
      ],
      "text/plain": [
       "              time grid_load\n",
       "0    2020-1-1 0:15   8209192\n",
       "1    2020-1-1 0:30   8155125\n",
       "2    2020-1-1 0:45   8084900\n",
       "3    2020-1-1 1:00   8016324\n",
       "4    2020-1-1 1:15   7985205\n",
       "..             ...       ...\n",
       "95  2020-1-1 00:00   8351431\n",
       "96   2020-1-2 0:15   8248012\n",
       "97   2020-1-2 0:30   8158287\n",
       "98   2020-1-2 0:45   8042245\n",
       "99   2020-1-2 1:00   7942309\n",
       "\n",
       "[100 rows x 2 columns]"
      ]
     },
     "execution_count": 125,
     "metadata": {},
     "output_type": "execute_result"
    }
   ],
   "source": [
    "## Expanse the data set\n",
    "index_list = []\n",
    "energy_list = []\n",
    "for date in elia.index:\n",
    "    for time in elia.columns:\n",
    "        #special case handling\n",
    "        if time == \"24:00\":\n",
    "            index_list.append(\"{} {}\".format(date, \"00:00\"))\n",
    "        else:\n",
    "            index_list.append(\"{} {}\".format(date, time))\n",
    "        energy_list.append(elia.loc[date, time])\n",
    "elia_qh = pd.DataFrame(list(zip(index_list,energy_list)),  columns=['time','grid_load'])\n",
    "elia_qh.head(100)\n"
   ]
  },
  {
   "cell_type": "code",
   "execution_count": 126,
   "metadata": {
    "scrolled": true
   },
   "outputs": [
    {
     "name": "stderr",
     "output_type": "stream",
     "text": [
      "/Users/fuchucheng/.local/lib/python3.6/site-packages/ipykernel_launcher.py:1: FutureWarning: The pandas.datetime class is deprecated and will be removed from pandas in a future version. Import from datetime instead.\n",
      "  \"\"\"Entry point for launching an IPython kernel.\n"
     ]
    }
   ],
   "source": [
    "elia_qh['time'] = elia_qh['time'].apply(lambda x: datetime.strptime(x, \"%Y-%m-%d %H:%M\"))"
   ]
  },
  {
   "cell_type": "code",
   "execution_count": 127,
   "metadata": {},
   "outputs": [
    {
     "data": {
      "text/plain": [
       "0:15     object\n",
       "0:30      int64\n",
       "0:45      int64\n",
       "1:00      int64\n",
       "1:15      int64\n",
       "          ...  \n",
       "23:00    object\n",
       "23:15    object\n",
       "23:30    object\n",
       "23:45    object\n",
       "24:00    object\n",
       "Length: 96, dtype: object"
      ]
     },
     "execution_count": 127,
     "metadata": {},
     "output_type": "execute_result"
    }
   ],
   "source": [
    "elia_qh[\"grid_load\"] = elia_qh[\"grid_load\"].astype(\"float64\")\n",
    "elia_qh['time'] = elia_qh['time'].astype(\"datetime64\")\n"
   ]
  },
  {
   "cell_type": "code",
   "execution_count": 128,
   "metadata": {},
   "outputs": [
    {
     "data": {
      "text/plain": [
       "time         datetime64[ns]\n",
       "grid_load           float64\n",
       "dtype: object"
      ]
     },
     "execution_count": 128,
     "metadata": {},
     "output_type": "execute_result"
    }
   ],
   "source": [
    "elia_qh.dtypes"
   ]
  },
  {
   "cell_type": "code",
   "execution_count": 135,
   "metadata": {},
   "outputs": [],
   "source": [
    "elia_qh.set_index(elia_qh['time'], inplace = True)\n",
    "elia_qh.drop(columns = ['time'], inplace = True)"
   ]
  },
  {
   "cell_type": "code",
   "execution_count": 137,
   "metadata": {},
   "outputs": [],
   "source": [
    "elia_qh.to_csv(\"elia_qh.csv\", index = True)"
   ]
  },
  {
   "cell_type": "markdown",
   "metadata": {},
   "source": [
    "### Electricity consumption processing"
   ]
  },
  {
   "cell_type": "code",
   "execution_count": 16,
   "metadata": {
    "scrolled": true
   },
   "outputs": [
    {
     "name": "stderr",
     "output_type": "stream",
     "text": [
      "/Users/fuchucheng/.local/lib/python3.6/site-packages/IPython/core/interactiveshell.py:3051: DtypeWarning: Columns (2) have mixed types.Specify dtype option on import or set low_memory=False.\n",
      "  interactivity=interactivity, compiler=compiler, result=result)\n"
     ]
    }
   ],
   "source": [
    "elec = pd.read_csv(\"../smart-meters-in-london/halfhourly_dataset/block_0.csv\")\n",
    "for num in range(1,111):    \n",
    "    elec = elec.append(pd.read_csv(\"../smart-meters-in-london/halfhourly_dataset/block_\"+str(num)+\".csv\"))\n",
    "        "
   ]
  },
  {
   "cell_type": "code",
   "execution_count": 17,
   "metadata": {},
   "outputs": [],
   "source": [
    "elec.replace('Null', np.NaN, inplace=True)\n",
    "energy = elec.iloc[:,:]\n",
    "energy[\"energy\"] = energy[\"energy(kWh/hh)\"].astype(\"float64\")\n",
    "energy = energy.drop([\"energy(kWh/hh)\"],axis = 1)"
   ]
  },
  {
   "cell_type": "markdown",
   "metadata": {},
   "source": [
    "**Missing values**"
   ]
  },
  {
   "cell_type": "code",
   "execution_count": 18,
   "metadata": {},
   "outputs": [
    {
     "name": "stdout",
     "output_type": "stream",
     "text": [
      "Count of missing data\n"
     ]
    },
    {
     "data": {
      "text/plain": [
       "[('energy', 5544), ('LCLid', 0), ('tstp', 0)]"
      ]
     },
     "execution_count": 18,
     "metadata": {},
     "output_type": "execute_result"
    }
   ],
   "source": [
    "def missing_count(df):\n",
    "    data = pd.DataFrame(df)\n",
    "    df_cols = list(pd.DataFrame(data))\n",
    "    dict_x = {}\n",
    "    for i in range(0, len(df_cols)):\n",
    "        dict_x.update({df_cols[i]: data[df_cols[i]].isnull().sum()})\n",
    "    \n",
    "    return dict_x\n",
    "\n",
    "\n",
    "missing = missing_count(energy)\n",
    "df_miss = sorted(missing.items(), key=lambda x: x[1], reverse=True)\n",
    "print('Count of missing data')\n",
    "df_miss[0:10]\n"
   ]
  },
  {
   "cell_type": "markdown",
   "metadata": {},
   "source": [
    "### Single household"
   ]
  },
  {
   "cell_type": "code",
   "execution_count": 20,
   "metadata": {},
   "outputs": [],
   "source": [
    "energy_MAC1 = energy[energy[\"LCLid\"] == \"MAC000010\"]"
   ]
  },
  {
   "cell_type": "code",
   "execution_count": 21,
   "metadata": {},
   "outputs": [
    {
     "name": "stdout",
     "output_type": "stream",
     "text": [
      "Count of missing data\n"
     ]
    },
    {
     "data": {
      "text/plain": [
       "[('energy', 1), ('LCLid', 0), ('tstp', 0)]"
      ]
     },
     "execution_count": 21,
     "metadata": {},
     "output_type": "execute_result"
    }
   ],
   "source": [
    "missing = missing_count(energy_MAC1)\n",
    "df_miss = sorted(missing.items(), key=lambda x: x[1], reverse=True)\n",
    "print('Count of missing data')\n",
    "df_miss[0:10]"
   ]
  },
  {
   "cell_type": "code",
   "execution_count": 22,
   "metadata": {},
   "outputs": [
    {
     "name": "stderr",
     "output_type": "stream",
     "text": [
      "/Users/fuchucheng/.local/lib/python3.6/site-packages/ipykernel_launcher.py:1: SettingWithCopyWarning: \n",
      "A value is trying to be set on a copy of a slice from a DataFrame.\n",
      "Try using .loc[row_indexer,col_indexer] = value instead\n",
      "\n",
      "See the caveats in the documentation: https://pandas.pydata.org/pandas-docs/stable/user_guide/indexing.html#returning-a-view-versus-a-copy\n",
      "  \"\"\"Entry point for launching an IPython kernel.\n",
      "/Users/fuchucheng/.local/lib/python3.6/site-packages/ipykernel_launcher.py:2: SettingWithCopyWarning: \n",
      "A value is trying to be set on a copy of a slice from a DataFrame.\n",
      "Try using .loc[row_indexer,col_indexer] = value instead\n",
      "\n",
      "See the caveats in the documentation: https://pandas.pydata.org/pandas-docs/stable/user_guide/indexing.html#returning-a-view-versus-a-copy\n",
      "  \n"
     ]
    }
   ],
   "source": [
    "energy_MAC1[\"energy\"] = energy_MAC1[\"energy\"].astype(\"float64\")\n",
    "energy_MAC1[\"tstp\"] = energy_MAC1[\"tstp\"].astype(\"datetime64\")\n",
    "energy_MAC1 = energy_MAC1.groupby('tstp').agg({'energy': lambda x: x.mean(skipna=False)})\n",
    "energy_MAC1['tstp'] = energy_MAC1.index\n",
    "energy_MAC1.drop(['tstp'], axis = 1, inplace=True)\n"
   ]
  },
  {
   "cell_type": "markdown",
   "metadata": {},
   "source": [
    "### To prevent data leakage we split trian and test first"
   ]
  },
  {
   "cell_type": "code",
   "execution_count": 30,
   "metadata": {},
   "outputs": [],
   "source": [
    "train_s = energy_MAC1.iloc[:20000, :]\n",
    "test_s = energy_MAC1.iloc[20000:,:]"
   ]
  },
  {
   "cell_type": "markdown",
   "metadata": {},
   "source": [
    "**then deal with missing value half-hr**"
   ]
  },
  {
   "cell_type": "code",
   "execution_count": 31,
   "metadata": {},
   "outputs": [],
   "source": [
    "train_s.fillna(train_s.median(), inplace = True)\n",
    "test_s.fillna(test_s.median(), inplace = True)"
   ]
  },
  {
   "cell_type": "markdown",
   "metadata": {},
   "source": [
    "**resampling to 1hr**"
   ]
  },
  {
   "cell_type": "code",
   "execution_count": 32,
   "metadata": {},
   "outputs": [],
   "source": [
    "train_s_h = train_s.resample('1H').sum()\n",
    "test_s_h = test_s.resample('1H').sum()"
   ]
  },
  {
   "cell_type": "code",
   "execution_count": 36,
   "metadata": {},
   "outputs": [],
   "source": [
    "##Save to csv\n",
    "train_s.to_csv(\"train_s_hh.csv\", index = True)\n",
    "test_s.to_csv(\"train_s_hh.csv\", index = True)\n",
    "train_s_h.to_csv(\"train_s_h.csv\", index = True)\n",
    "test_s_h.to_csv(\"train_s_h.csv\", index = True)"
   ]
  },
  {
   "cell_type": "markdown",
   "metadata": {},
   "source": [
    "### Aggregated   household"
   ]
  },
  {
   "cell_type": "markdown",
   "metadata": {},
   "source": [
    "**Group by LCLid and aggregate over per hour**\n"
   ]
  },
  {
   "cell_type": "code",
   "execution_count": 29,
   "metadata": {},
   "outputs": [],
   "source": [
    "## deal with missing value by interpolating mean of whole column\n",
    "# energy[\"energy\"].fillna(energy[\"energy\"].median(), inplace = True)\n",
    "## group by time stamps and aggregate through mean\n",
    "energy[\"energy\"] = energy[\"energy\"].astype(\"float64\")\n",
    "energy[\"tstp\"] = energy[\"tstp\"].astype(\"datetime64\")\n",
    "energy = energy.groupby('tstp').agg({'energy': lambda x: x.mean(skipna=False)})\n",
    "energy['tstp'] = energy.index\n",
    "energy.drop(['tstp'], axis = 1, inplace=True)"
   ]
  },
  {
   "cell_type": "markdown",
   "metadata": {},
   "source": [
    "### To prevent data leakage we split trian and test first"
   ]
  },
  {
   "cell_type": "code",
   "execution_count": 6,
   "metadata": {},
   "outputs": [],
   "source": [
    "train_e = energy.iloc[:28750, :]\n",
    "test_e = energy.iloc[28750:,:]"
   ]
  },
  {
   "cell_type": "markdown",
   "metadata": {},
   "source": [
    "\n",
    "**deal with missing value sampling rate: 30 mins**"
   ]
  },
  {
   "cell_type": "code",
   "execution_count": 7,
   "metadata": {},
   "outputs": [
    {
     "name": "stderr",
     "output_type": "stream",
     "text": [
      "//miniconda3/envs/tpot/lib/python3.6/site-packages/pandas/core/generic.py:6245: SettingWithCopyWarning: \n",
      "A value is trying to be set on a copy of a slice from a DataFrame\n",
      "\n",
      "See the caveats in the documentation: https://pandas.pydata.org/pandas-docs/stable/user_guide/indexing.html#returning-a-view-versus-a-copy\n",
      "  self._update_inplace(new_data)\n"
     ]
    }
   ],
   "source": [
    "train_e.fillna(train_e.median(), inplace = True)\n",
    "test_e.fillna(test_e.median(), inplace = True)\n"
   ]
  },
  {
   "cell_type": "code",
   "execution_count": 8,
   "metadata": {},
   "outputs": [
    {
     "name": "stdout",
     "output_type": "stream",
     "text": [
      "Count of missing data\n"
     ]
    },
    {
     "data": {
      "text/plain": [
       "[('energy', 0)]"
      ]
     },
     "execution_count": 8,
     "metadata": {},
     "output_type": "execute_result"
    }
   ],
   "source": [
    "## check if there is still missing value\n",
    "missing = missing_count(test_e)\n",
    "df_miss = sorted(missing.items(), key=lambda x: x[1], reverse=True)\n",
    "print('Count of missing data')\n",
    "df_miss[0:10]\n"
   ]
  },
  {
   "cell_type": "markdown",
   "metadata": {},
   "source": [
    "**then deal with missing value and resampling to 1hr**"
   ]
  },
  {
   "cell_type": "code",
   "execution_count": 31,
   "metadata": {},
   "outputs": [
    {
     "name": "stderr",
     "output_type": "stream",
     "text": [
      "//miniconda3/envs/TPOT/lib/python3.5/site-packages/pandas/core/generic.py:5208: SettingWithCopyWarning: \n",
      "A value is trying to be set on a copy of a slice from a DataFrame.\n",
      "Try using .loc[row_indexer,col_indexer] = value instead\n",
      "\n",
      "See the caveats in the documentation: http://pandas.pydata.org/pandas-docs/stable/user_guide/indexing.html#returning-a-view-versus-a-copy\n",
      "  self[name] = value\n"
     ]
    }
   ],
   "source": [
    "train_e.fillna(train_e.median(), inplace = True)\n",
    "test_e.fillna(test_e.median(), inplace = True)\n",
    "train_e = train_e.resample('1H').sum()\n",
    "test_e = test_e.resample('1H').sum()"
   ]
  },
  {
   "cell_type": "code",
   "execution_count": 17,
   "metadata": {},
   "outputs": [
    {
     "name": "stdout",
     "output_type": "stream",
     "text": [
      "Count of missing data\n"
     ]
    },
    {
     "data": {
      "text/plain": [
       "[('energy', 673)]"
      ]
     },
     "execution_count": 17,
     "metadata": {},
     "output_type": "execute_result"
    }
   ],
   "source": [
    "## check if there is still missing value\n",
    "missing = missing_count(train_e)\n",
    "df_miss = sorted(missing.items(), key=lambda x: x[1], reverse=True)\n",
    "print('Count of missing data')\n",
    "df_miss[0:10]\n"
   ]
  },
  {
   "cell_type": "markdown",
   "metadata": {},
   "source": [
    "### Weather data processing\n"
   ]
  },
  {
   "cell_type": "code",
   "execution_count": 9,
   "metadata": {
    "scrolled": true
   },
   "outputs": [],
   "source": [
    "weather = pd.read_csv('../smart-meters-in-london/weather_hourly_darksky.csv')"
   ]
  },
  {
   "cell_type": "code",
   "execution_count": 10,
   "metadata": {},
   "outputs": [],
   "source": [
    "## set index as time stamp\n",
    "weather = weather.set_index(\"time\")\n",
    "weather.index = weather.index.astype(\"datetime64[ns]\")"
   ]
  },
  {
   "cell_type": "code",
   "execution_count": 11,
   "metadata": {},
   "outputs": [],
   "source": [
    "## apparently the sequence in between is not correct\n",
    "weather = weather.sort_index()"
   ]
  },
  {
   "cell_type": "markdown",
   "metadata": {},
   "source": [
    "**Missing values**"
   ]
  },
  {
   "cell_type": "code",
   "execution_count": 12,
   "metadata": {
    "scrolled": true
   },
   "outputs": [
    {
     "name": "stdout",
     "output_type": "stream",
     "text": [
      "Percent of missing data\n"
     ]
    },
    {
     "data": {
      "text/plain": [
       "[('pressure', 1300),\n",
       " ('visibility', 0),\n",
       " ('windBearing', 0),\n",
       " ('temperature', 0),\n",
       " ('dewPoint', 0),\n",
       " ('apparentTemperature', 0),\n",
       " ('windSpeed', 0),\n",
       " ('precipType', 0),\n",
       " ('icon', 0),\n",
       " ('humidity', 0),\n",
       " ('summary', 0)]"
      ]
     },
     "execution_count": 12,
     "metadata": {},
     "output_type": "execute_result"
    }
   ],
   "source": [
    "def count_missing(df):\n",
    "    data = pd.DataFrame(df)\n",
    "    df_cols = list(pd.DataFrame(data))\n",
    "    dict_x = {}\n",
    "    for i in range(0, len(df_cols)):\n",
    "        dict_x.update({df_cols[i]: round(data[df_cols[i]].isnull().sum()*100,2)})\n",
    "    \n",
    "    return dict_x\n",
    "\n",
    "missing = count_missing(weather)\n",
    "df_miss = sorted(missing.items(), key=lambda x: x[1], reverse=True)\n",
    "print('Percent of missing data')\n",
    "df_miss[0:]"
   ]
  },
  {
   "cell_type": "code",
   "execution_count": 13,
   "metadata": {},
   "outputs": [],
   "source": [
    "## drop columns wont be used later\n",
    "weather.drop(['precipType','icon','summary'], axis = 1, inplace=True)"
   ]
  },
  {
   "cell_type": "code",
   "execution_count": 14,
   "metadata": {},
   "outputs": [],
   "source": [
    "##merge trian and test seperately\n",
    "train =  weather.merge(train_e, how ='right', left_index = True, right_index = True)\n",
    "test = weather.merge(test_e.iloc[1:,:], how = 'right', left_index = True, right_index = True)"
   ]
  },
  {
   "cell_type": "code",
   "execution_count": 16,
   "metadata": {},
   "outputs": [],
   "source": [
    "train.to_csv(\"hh_train_nan.csv\", index = True)\n",
    "test.to_csv(\"hh_test_nan.csv\", index = True)"
   ]
  },
  {
   "cell_type": "code",
   "execution_count": 12,
   "metadata": {},
   "outputs": [],
   "source": [
    "train = pd.read_csv(\"hh_train_nan.csv\", index_col='tstp')\n",
    "test = pd.read_csv(\"hh_test_nan.csv\", index_col='tstp')"
   ]
  },
  {
   "cell_type": "code",
   "execution_count": 39,
   "metadata": {},
   "outputs": [],
   "source": [
    "## interpolate nan\n",
    "for col in train.columns:\n",
    "    train[col] = train[col].interpolate(method='linear')\n",
    "for col in test.columns:\n",
    "    test[col] = test[col].interpolate(method = \"linear\")"
   ]
  },
  {
   "cell_type": "code",
   "execution_count": 43,
   "metadata": {},
   "outputs": [],
   "source": [
    "## data set without catagorical features\n",
    "train.to_csv(\"train_nocat_hh.csv\", index = True)\n",
    "test.to_csv(\"test_nocat_hh.csv\", index = True)"
   ]
  },
  {
   "cell_type": "markdown",
   "metadata": {},
   "source": [
    "**One hot encoding**"
   ]
  },
  {
   "cell_type": "code",
   "execution_count": 73,
   "metadata": {},
   "outputs": [],
   "source": [
    "## Examine unique categories in categorical features\n",
    "p = list(weather[\"precipType\"].unique()) \n",
    "i = list(weather[\"icon\"].unique()) \n",
    "u = list(weather[\"summary\"].unique())\n",
    "# Sort them for one hot encoding labels\n",
    "p.sort()\n",
    "i.sort()\n",
    "u.sort()"
   ]
  },
  {
   "cell_type": "code",
   "execution_count": 74,
   "metadata": {},
   "outputs": [],
   "source": [
    "from sklearn.preprocessing import OneHotEncoder\n",
    "## One hot encoding these features above\n",
    "onehot = OneHotEncoder(dtype=np.int, sparse=True)\n",
    "nominals = pd.DataFrame(onehot.fit_transform(weather[['precipType', 'icon','summary']]).toarray(),columns=p+i+u)\n",
    "nominals.index = weather.index"
   ]
  },
  {
   "cell_type": "code",
   "execution_count": 12,
   "metadata": {
    "scrolled": true
   },
   "outputs": [
    {
     "ename": "KeyError",
     "evalue": "\"None of ['time'] are in the columns\"",
     "output_type": "error",
     "traceback": [
      "\u001b[0;31m---------------------------------------------------------------------------\u001b[0m",
      "\u001b[0;31mKeyError\u001b[0m                                  Traceback (most recent call last)",
      "\u001b[0;32m<ipython-input-12-a43aedab6b50>\u001b[0m in \u001b[0;36m<module>\u001b[0;34m()\u001b[0m\n\u001b[1;32m      1\u001b[0m \u001b[0;31m#Concate nominals with origin weather dataframe\u001b[0m\u001b[0;34m\u001b[0m\u001b[0;34m\u001b[0m\u001b[0m\n\u001b[0;32m----> 2\u001b[0;31m \u001b[0mweather\u001b[0m \u001b[0;34m=\u001b[0m \u001b[0mweather\u001b[0m\u001b[0;34m.\u001b[0m\u001b[0mset_index\u001b[0m\u001b[0;34m(\u001b[0m\u001b[0;34m\"time\"\u001b[0m\u001b[0;34m)\u001b[0m\u001b[0;34m\u001b[0m\u001b[0m\n\u001b[0m\u001b[1;32m      3\u001b[0m \u001b[0mweather\u001b[0m\u001b[0;34m.\u001b[0m\u001b[0mindex\u001b[0m \u001b[0;34m=\u001b[0m \u001b[0mweather\u001b[0m\u001b[0;34m.\u001b[0m\u001b[0mindex\u001b[0m\u001b[0;34m.\u001b[0m\u001b[0mastype\u001b[0m\u001b[0;34m(\u001b[0m\u001b[0;34m\"datetime64\"\u001b[0m\u001b[0;34m)\u001b[0m\u001b[0;34m\u001b[0m\u001b[0m\n\u001b[1;32m      4\u001b[0m \u001b[0;31m#weather.drop([\"precipType\",\"icon\",\"summary\"],axis = 1, inplace = True)\u001b[0m\u001b[0;34m\u001b[0m\u001b[0;34m\u001b[0m\u001b[0m\n\u001b[1;32m      5\u001b[0m \u001b[0;31m#weather =  weather.merge(nominals, left_index = True, right_index = True)\u001b[0m\u001b[0;34m\u001b[0m\u001b[0;34m\u001b[0m\u001b[0m\n",
      "\u001b[0;32m//miniconda3/envs/TPOT/lib/python3.5/site-packages/pandas/core/frame.py\u001b[0m in \u001b[0;36mset_index\u001b[0;34m(self, keys, drop, append, inplace, verify_integrity)\u001b[0m\n\u001b[1;32m   4409\u001b[0m \u001b[0;34m\u001b[0m\u001b[0m\n\u001b[1;32m   4410\u001b[0m         \u001b[0;32mif\u001b[0m \u001b[0mmissing\u001b[0m\u001b[0;34m:\u001b[0m\u001b[0;34m\u001b[0m\u001b[0m\n\u001b[0;32m-> 4411\u001b[0;31m             \u001b[0;32mraise\u001b[0m \u001b[0mKeyError\u001b[0m\u001b[0;34m(\u001b[0m\u001b[0;34m\"None of {} are in the columns\"\u001b[0m\u001b[0;34m.\u001b[0m\u001b[0mformat\u001b[0m\u001b[0;34m(\u001b[0m\u001b[0mmissing\u001b[0m\u001b[0;34m)\u001b[0m\u001b[0;34m)\u001b[0m\u001b[0;34m\u001b[0m\u001b[0m\n\u001b[0m\u001b[1;32m   4412\u001b[0m \u001b[0;34m\u001b[0m\u001b[0m\n\u001b[1;32m   4413\u001b[0m         \u001b[0;32mif\u001b[0m \u001b[0minplace\u001b[0m\u001b[0;34m:\u001b[0m\u001b[0;34m\u001b[0m\u001b[0m\n",
      "\u001b[0;31mKeyError\u001b[0m: \"None of ['time'] are in the columns\""
     ]
    }
   ],
   "source": [
    "#Concate nominals with origin weather dataframe\n",
    "weather = weather.set_index(\"time\")\n",
    "weather.index = weather.index.astype(\"datetime64\")\n",
    "#weather.drop([\"precipType\",\"icon\",\"summary\"],axis = 1, inplace = True)\n",
    "weather =  weather.merge(nominals, left_index = True, right_index = True)\n"
   ]
  },
  {
   "cell_type": "markdown",
   "metadata": {},
   "source": [
    "### Merge weather and energy data"
   ]
  },
  {
   "cell_type": "code",
   "execution_count": 14,
   "metadata": {},
   "outputs": [],
   "source": [
    "### Merge weather and energy data together\n",
    "weather_energy = weather.merge(energy, left_index = True, right_index = True)\n",
    "weather_energy.index.names = [\"time\"]"
   ]
  },
  {
   "cell_type": "code",
   "execution_count": 15,
   "metadata": {},
   "outputs": [],
   "source": [
    "##Split data into training set and testing set and save to csv file format\n",
    "train_we = weather_energy.iloc[:14000,:]\n",
    "test_we = weather_energy.iloc[14000:,:]\n",
    "train_we.to_csv(\"train_auto.csv\", index = True)\n",
    "test_we.to_csv(\"test_auto.csv\", index = True)"
   ]
  },
  {
   "cell_type": "code",
   "execution_count": 177,
   "metadata": {},
   "outputs": [],
   "source": [
    "##Split data into training set and testing set and save to csv file format\n",
    "train_we = weather_energy.iloc[:14000,:]\n",
    "test_we = weather_energy.iloc[14000:,:]\n",
    "train_we.to_csv(\"train.csv\", index = True)\n",
    "test_we.to_csv(\"test.csv\", index = True)"
   ]
  },
  {
   "cell_type": "code",
   "execution_count": 176,
   "metadata": {},
   "outputs": [
    {
     "data": {
      "text/html": [
       "<div>\n",
       "<style scoped>\n",
       "    .dataframe tbody tr th:only-of-type {\n",
       "        vertical-align: middle;\n",
       "    }\n",
       "\n",
       "    .dataframe tbody tr th {\n",
       "        vertical-align: top;\n",
       "    }\n",
       "\n",
       "    .dataframe thead th {\n",
       "        text-align: right;\n",
       "    }\n",
       "</style>\n",
       "<table border=\"1\" class=\"dataframe\">\n",
       "  <thead>\n",
       "    <tr style=\"text-align: right;\">\n",
       "      <th></th>\n",
       "      <th>visibility</th>\n",
       "      <th>windBearing</th>\n",
       "      <th>temperature</th>\n",
       "      <th>dewPoint</th>\n",
       "      <th>pressure</th>\n",
       "      <th>apparentTemperature</th>\n",
       "      <th>windSpeed</th>\n",
       "      <th>humidity</th>\n",
       "      <th>rain</th>\n",
       "      <th>snow</th>\n",
       "      <th>...</th>\n",
       "      <th>Clear</th>\n",
       "      <th>Foggy</th>\n",
       "      <th>Mostly Cloudy</th>\n",
       "      <th>Overcast</th>\n",
       "      <th>Partly Cloudy</th>\n",
       "      <th>Windy</th>\n",
       "      <th>Windy and Mostly Cloudy</th>\n",
       "      <th>Windy and Overcast</th>\n",
       "      <th>Windy and Partly Cloudy</th>\n",
       "      <th>energy</th>\n",
       "    </tr>\n",
       "    <tr>\n",
       "      <th>time</th>\n",
       "      <th></th>\n",
       "      <th></th>\n",
       "      <th></th>\n",
       "      <th></th>\n",
       "      <th></th>\n",
       "      <th></th>\n",
       "      <th></th>\n",
       "      <th></th>\n",
       "      <th></th>\n",
       "      <th></th>\n",
       "      <th></th>\n",
       "      <th></th>\n",
       "      <th></th>\n",
       "      <th></th>\n",
       "      <th></th>\n",
       "      <th></th>\n",
       "      <th></th>\n",
       "      <th></th>\n",
       "      <th></th>\n",
       "      <th></th>\n",
       "      <th></th>\n",
       "    </tr>\n",
       "  </thead>\n",
       "  <tbody>\n",
       "    <tr>\n",
       "      <th>2011-12-11 00:00:00</th>\n",
       "      <td>12.50</td>\n",
       "      <td>210</td>\n",
       "      <td>2.83</td>\n",
       "      <td>1.17</td>\n",
       "      <td>1015.67</td>\n",
       "      <td>1.11</td>\n",
       "      <td>1.78</td>\n",
       "      <td>0.89</td>\n",
       "      <td>1</td>\n",
       "      <td>0</td>\n",
       "      <td>...</td>\n",
       "      <td>0</td>\n",
       "      <td>0</td>\n",
       "      <td>0</td>\n",
       "      <td>0</td>\n",
       "      <td>1</td>\n",
       "      <td>0</td>\n",
       "      <td>0</td>\n",
       "      <td>0</td>\n",
       "      <td>0</td>\n",
       "      <td>0.498395</td>\n",
       "    </tr>\n",
       "    <tr>\n",
       "      <th>2011-12-11 01:00:00</th>\n",
       "      <td>12.65</td>\n",
       "      <td>204</td>\n",
       "      <td>2.48</td>\n",
       "      <td>0.81</td>\n",
       "      <td>1014.96</td>\n",
       "      <td>0.31</td>\n",
       "      <td>2.11</td>\n",
       "      <td>0.89</td>\n",
       "      <td>1</td>\n",
       "      <td>0</td>\n",
       "      <td>...</td>\n",
       "      <td>1</td>\n",
       "      <td>0</td>\n",
       "      <td>0</td>\n",
       "      <td>0</td>\n",
       "      <td>0</td>\n",
       "      <td>0</td>\n",
       "      <td>0</td>\n",
       "      <td>0</td>\n",
       "      <td>0</td>\n",
       "      <td>0.445535</td>\n",
       "    </tr>\n",
       "    <tr>\n",
       "      <th>2011-12-11 02:00:00</th>\n",
       "      <td>13.02</td>\n",
       "      <td>214</td>\n",
       "      <td>2.70</td>\n",
       "      <td>1.29</td>\n",
       "      <td>1014.42</td>\n",
       "      <td>0.11</td>\n",
       "      <td>2.57</td>\n",
       "      <td>0.90</td>\n",
       "      <td>1</td>\n",
       "      <td>0</td>\n",
       "      <td>...</td>\n",
       "      <td>1</td>\n",
       "      <td>0</td>\n",
       "      <td>0</td>\n",
       "      <td>0</td>\n",
       "      <td>0</td>\n",
       "      <td>0</td>\n",
       "      <td>0</td>\n",
       "      <td>0</td>\n",
       "      <td>0</td>\n",
       "      <td>0.349090</td>\n",
       "    </tr>\n",
       "    <tr>\n",
       "      <th>2011-12-11 03:00:00</th>\n",
       "      <td>13.05</td>\n",
       "      <td>211</td>\n",
       "      <td>3.47</td>\n",
       "      <td>1.41</td>\n",
       "      <td>1013.78</td>\n",
       "      <td>0.66</td>\n",
       "      <td>3.00</td>\n",
       "      <td>0.86</td>\n",
       "      <td>1</td>\n",
       "      <td>0</td>\n",
       "      <td>...</td>\n",
       "      <td>0</td>\n",
       "      <td>0</td>\n",
       "      <td>0</td>\n",
       "      <td>0</td>\n",
       "      <td>1</td>\n",
       "      <td>0</td>\n",
       "      <td>0</td>\n",
       "      <td>0</td>\n",
       "      <td>0</td>\n",
       "      <td>0.317786</td>\n",
       "    </tr>\n",
       "    <tr>\n",
       "      <th>2011-12-11 04:00:00</th>\n",
       "      <td>12.97</td>\n",
       "      <td>204</td>\n",
       "      <td>3.74</td>\n",
       "      <td>1.53</td>\n",
       "      <td>1012.94</td>\n",
       "      <td>1.29</td>\n",
       "      <td>2.64</td>\n",
       "      <td>0.85</td>\n",
       "      <td>1</td>\n",
       "      <td>0</td>\n",
       "      <td>...</td>\n",
       "      <td>0</td>\n",
       "      <td>0</td>\n",
       "      <td>0</td>\n",
       "      <td>0</td>\n",
       "      <td>1</td>\n",
       "      <td>0</td>\n",
       "      <td>0</td>\n",
       "      <td>0</td>\n",
       "      <td>0</td>\n",
       "      <td>0.281382</td>\n",
       "    </tr>\n",
       "    <tr>\n",
       "      <th>...</th>\n",
       "      <td>...</td>\n",
       "      <td>...</td>\n",
       "      <td>...</td>\n",
       "      <td>...</td>\n",
       "      <td>...</td>\n",
       "      <td>...</td>\n",
       "      <td>...</td>\n",
       "      <td>...</td>\n",
       "      <td>...</td>\n",
       "      <td>...</td>\n",
       "      <td>...</td>\n",
       "      <td>...</td>\n",
       "      <td>...</td>\n",
       "      <td>...</td>\n",
       "      <td>...</td>\n",
       "      <td>...</td>\n",
       "      <td>...</td>\n",
       "      <td>...</td>\n",
       "      <td>...</td>\n",
       "      <td>...</td>\n",
       "      <td>...</td>\n",
       "    </tr>\n",
       "    <tr>\n",
       "      <th>2014-02-15 19:00:00</th>\n",
       "      <td>12.68</td>\n",
       "      <td>247</td>\n",
       "      <td>7.39</td>\n",
       "      <td>3.06</td>\n",
       "      <td>997.07</td>\n",
       "      <td>3.91</td>\n",
       "      <td>6.08</td>\n",
       "      <td>0.74</td>\n",
       "      <td>1</td>\n",
       "      <td>0</td>\n",
       "      <td>...</td>\n",
       "      <td>0</td>\n",
       "      <td>0</td>\n",
       "      <td>0</td>\n",
       "      <td>0</td>\n",
       "      <td>1</td>\n",
       "      <td>0</td>\n",
       "      <td>0</td>\n",
       "      <td>0</td>\n",
       "      <td>0</td>\n",
       "      <td>0.744099</td>\n",
       "    </tr>\n",
       "    <tr>\n",
       "      <th>2014-02-15 20:00:00</th>\n",
       "      <td>13.78</td>\n",
       "      <td>249</td>\n",
       "      <td>6.56</td>\n",
       "      <td>2.76</td>\n",
       "      <td>998.15</td>\n",
       "      <td>3.03</td>\n",
       "      <td>5.61</td>\n",
       "      <td>0.77</td>\n",
       "      <td>1</td>\n",
       "      <td>0</td>\n",
       "      <td>...</td>\n",
       "      <td>1</td>\n",
       "      <td>0</td>\n",
       "      <td>0</td>\n",
       "      <td>0</td>\n",
       "      <td>0</td>\n",
       "      <td>0</td>\n",
       "      <td>0</td>\n",
       "      <td>0</td>\n",
       "      <td>0</td>\n",
       "      <td>0.685877</td>\n",
       "    </tr>\n",
       "    <tr>\n",
       "      <th>2014-02-15 21:00:00</th>\n",
       "      <td>14.31</td>\n",
       "      <td>248</td>\n",
       "      <td>6.47</td>\n",
       "      <td>2.71</td>\n",
       "      <td>999.28</td>\n",
       "      <td>3.06</td>\n",
       "      <td>5.25</td>\n",
       "      <td>0.77</td>\n",
       "      <td>1</td>\n",
       "      <td>0</td>\n",
       "      <td>...</td>\n",
       "      <td>1</td>\n",
       "      <td>0</td>\n",
       "      <td>0</td>\n",
       "      <td>0</td>\n",
       "      <td>0</td>\n",
       "      <td>0</td>\n",
       "      <td>0</td>\n",
       "      <td>0</td>\n",
       "      <td>0</td>\n",
       "      <td>0.634185</td>\n",
       "    </tr>\n",
       "    <tr>\n",
       "      <th>2014-02-15 22:00:00</th>\n",
       "      <td>14.31</td>\n",
       "      <td>248</td>\n",
       "      <td>5.96</td>\n",
       "      <td>2.69</td>\n",
       "      <td>1000.33</td>\n",
       "      <td>2.68</td>\n",
       "      <td>4.69</td>\n",
       "      <td>0.80</td>\n",
       "      <td>1</td>\n",
       "      <td>0</td>\n",
       "      <td>...</td>\n",
       "      <td>1</td>\n",
       "      <td>0</td>\n",
       "      <td>0</td>\n",
       "      <td>0</td>\n",
       "      <td>0</td>\n",
       "      <td>0</td>\n",
       "      <td>0</td>\n",
       "      <td>0</td>\n",
       "      <td>0</td>\n",
       "      <td>0.574454</td>\n",
       "    </tr>\n",
       "    <tr>\n",
       "      <th>2014-02-15 23:00:00</th>\n",
       "      <td>14.31</td>\n",
       "      <td>246</td>\n",
       "      <td>5.38</td>\n",
       "      <td>2.60</td>\n",
       "      <td>1001.25</td>\n",
       "      <td>1.77</td>\n",
       "      <td>5.09</td>\n",
       "      <td>0.82</td>\n",
       "      <td>1</td>\n",
       "      <td>0</td>\n",
       "      <td>...</td>\n",
       "      <td>1</td>\n",
       "      <td>0</td>\n",
       "      <td>0</td>\n",
       "      <td>0</td>\n",
       "      <td>0</td>\n",
       "      <td>0</td>\n",
       "      <td>0</td>\n",
       "      <td>0</td>\n",
       "      <td>0</td>\n",
       "      <td>0.487368</td>\n",
       "    </tr>\n",
       "  </tbody>\n",
       "</table>\n",
       "<p>19862 rows × 31 columns</p>\n",
       "</div>"
      ],
      "text/plain": [
       "                     visibility  windBearing  temperature  dewPoint  pressure  \\\n",
       "time                                                                            \n",
       "2011-12-11 00:00:00       12.50          210         2.83      1.17   1015.67   \n",
       "2011-12-11 01:00:00       12.65          204         2.48      0.81   1014.96   \n",
       "2011-12-11 02:00:00       13.02          214         2.70      1.29   1014.42   \n",
       "2011-12-11 03:00:00       13.05          211         3.47      1.41   1013.78   \n",
       "2011-12-11 04:00:00       12.97          204         3.74      1.53   1012.94   \n",
       "...                         ...          ...          ...       ...       ...   \n",
       "2014-02-15 19:00:00       12.68          247         7.39      3.06    997.07   \n",
       "2014-02-15 20:00:00       13.78          249         6.56      2.76    998.15   \n",
       "2014-02-15 21:00:00       14.31          248         6.47      2.71    999.28   \n",
       "2014-02-15 22:00:00       14.31          248         5.96      2.69   1000.33   \n",
       "2014-02-15 23:00:00       14.31          246         5.38      2.60   1001.25   \n",
       "\n",
       "                     apparentTemperature  windSpeed  humidity  rain  snow  \\\n",
       "time                                                                        \n",
       "2011-12-11 00:00:00                 1.11       1.78      0.89     1     0   \n",
       "2011-12-11 01:00:00                 0.31       2.11      0.89     1     0   \n",
       "2011-12-11 02:00:00                 0.11       2.57      0.90     1     0   \n",
       "2011-12-11 03:00:00                 0.66       3.00      0.86     1     0   \n",
       "2011-12-11 04:00:00                 1.29       2.64      0.85     1     0   \n",
       "...                                  ...        ...       ...   ...   ...   \n",
       "2014-02-15 19:00:00                 3.91       6.08      0.74     1     0   \n",
       "2014-02-15 20:00:00                 3.03       5.61      0.77     1     0   \n",
       "2014-02-15 21:00:00                 3.06       5.25      0.77     1     0   \n",
       "2014-02-15 22:00:00                 2.68       4.69      0.80     1     0   \n",
       "2014-02-15 23:00:00                 1.77       5.09      0.82     1     0   \n",
       "\n",
       "                     ...  Clear  Foggy  Mostly Cloudy  Overcast  \\\n",
       "time                 ...                                          \n",
       "2011-12-11 00:00:00  ...      0      0              0         0   \n",
       "2011-12-11 01:00:00  ...      1      0              0         0   \n",
       "2011-12-11 02:00:00  ...      1      0              0         0   \n",
       "2011-12-11 03:00:00  ...      0      0              0         0   \n",
       "2011-12-11 04:00:00  ...      0      0              0         0   \n",
       "...                  ...    ...    ...            ...       ...   \n",
       "2014-02-15 19:00:00  ...      0      0              0         0   \n",
       "2014-02-15 20:00:00  ...      1      0              0         0   \n",
       "2014-02-15 21:00:00  ...      1      0              0         0   \n",
       "2014-02-15 22:00:00  ...      1      0              0         0   \n",
       "2014-02-15 23:00:00  ...      1      0              0         0   \n",
       "\n",
       "                     Partly Cloudy  Windy  Windy and Mostly Cloudy  \\\n",
       "time                                                                 \n",
       "2011-12-11 00:00:00              1      0                        0   \n",
       "2011-12-11 01:00:00              0      0                        0   \n",
       "2011-12-11 02:00:00              0      0                        0   \n",
       "2011-12-11 03:00:00              1      0                        0   \n",
       "2011-12-11 04:00:00              1      0                        0   \n",
       "...                            ...    ...                      ...   \n",
       "2014-02-15 19:00:00              1      0                        0   \n",
       "2014-02-15 20:00:00              0      0                        0   \n",
       "2014-02-15 21:00:00              0      0                        0   \n",
       "2014-02-15 22:00:00              0      0                        0   \n",
       "2014-02-15 23:00:00              0      0                        0   \n",
       "\n",
       "                     Windy and Overcast  Windy and Partly Cloudy    energy  \n",
       "time                                                                        \n",
       "2011-12-11 00:00:00                   0                        0  0.498395  \n",
       "2011-12-11 01:00:00                   0                        0  0.445535  \n",
       "2011-12-11 02:00:00                   0                        0  0.349090  \n",
       "2011-12-11 03:00:00                   0                        0  0.317786  \n",
       "2011-12-11 04:00:00                   0                        0  0.281382  \n",
       "...                                 ...                      ...       ...  \n",
       "2014-02-15 19:00:00                   0                        0  0.744099  \n",
       "2014-02-15 20:00:00                   0                        0  0.685877  \n",
       "2014-02-15 21:00:00                   0                        0  0.634185  \n",
       "2014-02-15 22:00:00                   0                        0  0.574454  \n",
       "2014-02-15 23:00:00                   0                        0  0.487368  \n",
       "\n",
       "[19862 rows x 31 columns]"
      ]
     },
     "execution_count": 176,
     "metadata": {},
     "output_type": "execute_result"
    }
   ],
   "source": [
    "weather_energy"
   ]
  }
 ],
 "metadata": {
  "kernelspec": {
   "display_name": "tpot",
   "language": "python",
   "name": "tpot"
  },
  "language_info": {
   "codemirror_mode": {
    "name": "ipython",
    "version": 3
   },
   "file_extension": ".py",
   "mimetype": "text/x-python",
   "name": "python",
   "nbconvert_exporter": "python",
   "pygments_lexer": "ipython3",
   "version": "3.6.10"
  }
 },
 "nbformat": 4,
 "nbformat_minor": 2
}
