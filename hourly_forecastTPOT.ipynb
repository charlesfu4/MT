{
 "cells": [
  {
   "cell_type": "code",
   "execution_count": 1,
   "metadata": {},
   "outputs": [],
   "source": [
    "import os\n",
    "import math\n",
    "import pandas as pd\n",
    "import numpy as np\n",
    "import seaborn as sns\n",
    "from pandas import datetime\n",
    "from matplotlib import pyplot as plt"
   ]
  },
  {
   "cell_type": "code",
   "execution_count": 2,
   "metadata": {},
   "outputs": [],
   "source": [
    "## convert one to multiple series\n",
    "def lag_ahead_series(data, n_in=1, n_out=1, n_vars = 1,dropnan=True):\n",
    "    df = pd.DataFrame(data)\n",
    "    cols, names = list(), list()\n",
    "    # input sequence (t-n, ... t-1)\n",
    "    for j in range(n_vars):\n",
    "        for i in range(n_in, 0, -1):\n",
    "            cols.append(df.iloc[:,j].shift(i))\n",
    "            names.append('var{}(t-{})'.format(j+1, i))\n",
    "    \n",
    "    # forecast sequence (t+1, ... t+n)\n",
    "    for j in range(n_vars):\n",
    "        for i in range(0, n_out):\n",
    "            cols.append(df.iloc[:,j].shift(-i))\n",
    "            names += [('var{}(t+{})'.format(j+1, i)) ]\n",
    "    # put it all together\n",
    "    agg = pd.concat(cols, axis=1)\n",
    "    agg.columns = names\n",
    "    \n",
    "    #drop rows with NaN values\n",
    "    if dropnan:\n",
    "        agg.dropna(inplace=True)\n",
    "    return agg\n",
    "\n",
    "## plot dataframe creation\n",
    "def plot_df(arr, name):\n",
    "    plot_df = pd.DataFrame()\n",
    "    i = 0\n",
    "    for row in arr:\n",
    "        plot_df.insert(i, \"{}_ahead{}\".format(name,i), row, True) \n",
    "        i += 1\n",
    "    return plot_df\n"
   ]
  },
  {
   "cell_type": "code",
   "execution_count": 3,
   "metadata": {},
   "outputs": [],
   "source": [
    "train = pd.read_csv(\"train_nocat.csv\")\n",
    "test = pd.read_csv(\"test_nocat.csv\")\n",
    "train = train.set_index(\"Unnamed: 0\")\n",
    "test = test.set_index(\"Unnamed: 0\")"
   ]
  },
  {
   "cell_type": "code",
   "execution_count": 4,
   "metadata": {},
   "outputs": [
    {
     "data": {
      "text/plain": [
       "((13991, 392), (13991, 49))"
      ]
     },
     "execution_count": 4,
     "metadata": {},
     "output_type": "execute_result"
    }
   ],
   "source": [
    "#create 48 hours recency effect matrix\n",
    "ahead_w = lag_ahead_series(train.iloc[:,:8], n_in=0, n_out=49, n_vars = 8, dropnan=True)\n",
    "#create 48 housrs ahead energy consumption matrix\n",
    "ahead_e = lag_ahead_series(train.iloc[:,8:], n_in=0, n_out=49, n_vars = 1, dropnan=True)\n",
    "\n",
    "ahead_w.shape, ahead_e.shape"
   ]
  },
  {
   "cell_type": "markdown",
   "metadata": {},
   "source": [
    "### TPOT"
   ]
  },
  {
   "cell_type": "code",
   "execution_count": null,
   "metadata": {},
   "outputs": [
    {
     "name": "stderr",
     "output_type": "stream",
     "text": [
      "//miniconda3/envs/TPOT/lib/python3.5/site-packages/sklearn/utils/deprecation.py:144: FutureWarning: The sklearn.metrics.scorer module is  deprecated in version 0.22 and will be removed in version 0.24. The corresponding classes / functions should instead be imported from sklearn.metrics. Anything that cannot be imported from sklearn.metrics is now part of the private API.\n",
      "  warnings.warn(message, FutureWarning)\n",
      "//miniconda3/envs/TPOT/lib/python3.5/site-packages/sklearn/utils/deprecation.py:144: FutureWarning: The sklearn.feature_selection.base module is  deprecated in version 0.22 and will be removed in version 0.24. The corresponding classes / functions should instead be imported from sklearn.feature_selection. Anything that cannot be imported from sklearn.feature_selection is now part of the private API.\n",
      "  warnings.warn(message, FutureWarning)\n"
     ]
    }
   ],
   "source": [
    "from tpot import TPOTRegressor\n",
    "from tpot_multi import mul_reg_config_dict\n",
    "#import mul_config as mc## import multioutput regressor customized configuration\n",
    "train_X , train_y = ahead_w.iloc[:1000,:], ahead_e.iloc[:1000,:]\n",
    "tpot_reg = TPOTRegressor(generations=20, population_size=50, n_jobs=1, verbosity=2, random_state=1, config_dict=mul_reg_config_dict)\n",
    "tpot_reg.fit(train_X , train_y)\n"
   ]
  }
 ],
 "metadata": {
  "kernelspec": {
   "display_name": "TPOT",
   "language": "python",
   "name": "tpot"
  },
  "language_info": {
   "codemirror_mode": {
    "name": "ipython",
    "version": 3
   },
   "file_extension": ".py",
   "mimetype": "text/x-python",
   "name": "python",
   "nbconvert_exporter": "python",
   "pygments_lexer": "ipython3",
   "version": "3.5.6"
  }
 },
 "nbformat": 4,
 "nbformat_minor": 2
}
