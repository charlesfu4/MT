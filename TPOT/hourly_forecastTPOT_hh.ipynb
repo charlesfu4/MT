{
 "cells": [
  {
   "cell_type": "code",
   "execution_count": 1,
   "metadata": {},
   "outputs": [],
   "source": [
    "import os\n",
    "import math\n",
    "import pandas as pd\n",
    "import numpy as np\n",
    "import seaborn as sns\n",
    "from pandas import datetime\n",
    "from matplotlib import pyplot as plt\n",
    "from sklearn.metrics import mean_squared_error\n",
    "from sklearn.metrics import mean_absolute_error\n",
    "from sklearn.metrics import r2_score"
   ]
  },
  {
   "cell_type": "code",
   "execution_count": 2,
   "metadata": {},
   "outputs": [],
   "source": [
    "## convert one to multiple series\n",
    "def lag_ahead_series(data, n_in=1, n_out=1, n_vars = 1,dropnan=True):\n",
    "    df = pd.DataFrame(data)\n",
    "    cols, names = list(), list()\n",
    "    # input sequence (t-n, ... t-1)\n",
    "    for j in range(n_vars):\n",
    "        for i in range(n_in, 0, -1):\n",
    "            cols.append(df.iloc[:,j].shift(i))\n",
    "            names.append('var{}(t-{})'.format(j+1, i))\n",
    "    \n",
    "    # forecast sequence (t+1, ... t+n)\n",
    "    for j in range(n_vars):\n",
    "        for i in range(0, n_out):\n",
    "            cols.append(df.iloc[:,j].shift(-i))\n",
    "            names += [('var{}(t+{})'.format(j+1, i)) ]\n",
    "    # put it all together\n",
    "    agg = pd.concat(cols, axis=1)\n",
    "    agg.columns = names\n",
    "    \n",
    "    #drop rows with NaN values\n",
    "    if dropnan:\n",
    "        agg.dropna(inplace=True)\n",
    "    return agg\n",
    "\n",
    "## plot dataframe creation\n",
    "def plot_df(arr, name):\n",
    "    plot_df = pd.DataFrame()\n",
    "    i = 0\n",
    "    for row in arr:\n",
    "        plot_df.insert(i, \"{}\".format(name), row, True) \n",
    "        i += 1\n",
    "    return plot_df\n"
   ]
  },
  {
   "cell_type": "code",
   "execution_count": 4,
   "metadata": {},
   "outputs": [],
   "source": [
    "train = pd.read_csv(\"../data/train_nocat_hh.csv\", index_col= 'tstp')\n",
    "test = pd.read_csv(\"../data/test_nocat_hh.csv\", index_col= 'tstp')\n"
   ]
  },
  {
   "cell_type": "code",
   "execution_count": 6,
   "metadata": {},
   "outputs": [
    {
     "data": {
      "text/html": [
       "<div>\n",
       "<style scoped>\n",
       "    .dataframe tbody tr th:only-of-type {\n",
       "        vertical-align: middle;\n",
       "    }\n",
       "\n",
       "    .dataframe tbody tr th {\n",
       "        vertical-align: top;\n",
       "    }\n",
       "\n",
       "    .dataframe thead th {\n",
       "        text-align: right;\n",
       "    }\n",
       "</style>\n",
       "<table border=\"1\" class=\"dataframe\">\n",
       "  <thead>\n",
       "    <tr style=\"text-align: right;\">\n",
       "      <th></th>\n",
       "      <th>visibility</th>\n",
       "      <th>windBearing</th>\n",
       "      <th>temperature</th>\n",
       "      <th>dewPoint</th>\n",
       "      <th>pressure</th>\n",
       "      <th>apparentTemperature</th>\n",
       "      <th>windSpeed</th>\n",
       "      <th>humidity</th>\n",
       "      <th>energy</th>\n",
       "    </tr>\n",
       "    <tr>\n",
       "      <th>tstp</th>\n",
       "      <th></th>\n",
       "      <th></th>\n",
       "      <th></th>\n",
       "      <th></th>\n",
       "      <th></th>\n",
       "      <th></th>\n",
       "      <th></th>\n",
       "      <th></th>\n",
       "      <th></th>\n",
       "    </tr>\n",
       "  </thead>\n",
       "  <tbody>\n",
       "    <tr>\n",
       "      <th>2011-11-23 09:00:00</th>\n",
       "      <td>4.390</td>\n",
       "      <td>229.0</td>\n",
       "      <td>4.840</td>\n",
       "      <td>4.68</td>\n",
       "      <td>1027.290</td>\n",
       "      <td>3.42</td>\n",
       "      <td>1.780</td>\n",
       "      <td>0.990</td>\n",
       "      <td>0.284500</td>\n",
       "    </tr>\n",
       "    <tr>\n",
       "      <th>2011-11-23 09:30:00</th>\n",
       "      <td>5.315</td>\n",
       "      <td>231.0</td>\n",
       "      <td>5.290</td>\n",
       "      <td>5.07</td>\n",
       "      <td>1027.480</td>\n",
       "      <td>3.83</td>\n",
       "      <td>1.885</td>\n",
       "      <td>0.985</td>\n",
       "      <td>0.280500</td>\n",
       "    </tr>\n",
       "    <tr>\n",
       "      <th>2011-11-23 10:00:00</th>\n",
       "      <td>6.240</td>\n",
       "      <td>233.0</td>\n",
       "      <td>5.740</td>\n",
       "      <td>5.46</td>\n",
       "      <td>1027.670</td>\n",
       "      <td>4.24</td>\n",
       "      <td>1.990</td>\n",
       "      <td>0.980</td>\n",
       "      <td>0.153333</td>\n",
       "    </tr>\n",
       "    <tr>\n",
       "      <th>2011-11-23 10:30:00</th>\n",
       "      <td>8.220</td>\n",
       "      <td>233.0</td>\n",
       "      <td>6.705</td>\n",
       "      <td>5.60</td>\n",
       "      <td>1027.615</td>\n",
       "      <td>5.09</td>\n",
       "      <td>2.325</td>\n",
       "      <td>0.930</td>\n",
       "      <td>0.098000</td>\n",
       "    </tr>\n",
       "    <tr>\n",
       "      <th>2011-11-23 11:00:00</th>\n",
       "      <td>10.200</td>\n",
       "      <td>233.0</td>\n",
       "      <td>7.670</td>\n",
       "      <td>5.74</td>\n",
       "      <td>1027.560</td>\n",
       "      <td>5.94</td>\n",
       "      <td>2.660</td>\n",
       "      <td>0.880</td>\n",
       "      <td>0.110286</td>\n",
       "    </tr>\n",
       "  </tbody>\n",
       "</table>\n",
       "</div>"
      ],
      "text/plain": [
       "                     visibility  windBearing  temperature  dewPoint  pressure  \\\n",
       "tstp                                                                            \n",
       "2011-11-23 09:00:00       4.390        229.0        4.840      4.68  1027.290   \n",
       "2011-11-23 09:30:00       5.315        231.0        5.290      5.07  1027.480   \n",
       "2011-11-23 10:00:00       6.240        233.0        5.740      5.46  1027.670   \n",
       "2011-11-23 10:30:00       8.220        233.0        6.705      5.60  1027.615   \n",
       "2011-11-23 11:00:00      10.200        233.0        7.670      5.74  1027.560   \n",
       "\n",
       "                     apparentTemperature  windSpeed  humidity    energy  \n",
       "tstp                                                                     \n",
       "2011-11-23 09:00:00                 3.42      1.780     0.990  0.284500  \n",
       "2011-11-23 09:30:00                 3.83      1.885     0.985  0.280500  \n",
       "2011-11-23 10:00:00                 4.24      1.990     0.980  0.153333  \n",
       "2011-11-23 10:30:00                 5.09      2.325     0.930  0.098000  \n",
       "2011-11-23 11:00:00                 5.94      2.660     0.880  0.110286  "
      ]
     },
     "execution_count": 6,
     "metadata": {},
     "output_type": "execute_result"
    }
   ],
   "source": [
    "train.head()"
   ]
  },
  {
   "cell_type": "code",
   "execution_count": 8,
   "metadata": {},
   "outputs": [
    {
     "data": {
      "text/plain": [
       "((28726, 25), (28726, 25))"
      ]
     },
     "execution_count": 8,
     "metadata": {},
     "output_type": "execute_result"
    }
   ],
   "source": [
    "#create 12 hours recency effect matrix\n",
    "ahead_w = lag_ahead_series(train.iloc[:,2], n_in=0, n_out=25, n_vars = 1, dropnan=True)\n",
    "#create 12 housrs ahead energy consumption matrix\n",
    "ahead_e = lag_ahead_series(train.iloc[:,8:], n_in=0, n_out=25, n_vars = 1, dropnan=True)\n",
    "ahead_w.shape, ahead_e.shape"
   ]
  },
  {
   "cell_type": "code",
   "execution_count": 12,
   "metadata": {},
   "outputs": [
    {
     "data": {
      "text/plain": [
       "((100, 25), (100, 25))"
      ]
     },
     "execution_count": 12,
     "metadata": {},
     "output_type": "execute_result"
    }
   ],
   "source": [
    "test_y = lag_ahead_series(test.iloc[:,8:], n_in=0, n_out=25, n_vars = 1, dropnan=True).iloc[:100,:]\n",
    "test_X = lag_ahead_series(test.iloc[:,2], n_in=0, n_out=25, n_vars = 1, dropnan=True).iloc[:100,:]\n",
    "test_X.shape, test_y.shape"
   ]
  },
  {
   "cell_type": "markdown",
   "metadata": {},
   "source": [
    "### TPOT"
   ]
  },
  {
   "cell_type": "code",
   "execution_count": 11,
   "metadata": {},
   "outputs": [
    {
     "name": "stdout",
     "output_type": "stream",
     "text": [
      "Warning: Although subsample can accelerate pipeline optimization process, too small training sample size may cause unpredictable effect on maximizing score in pipeline optimization process. Increasing subsample ratio may get a more reasonable outcome from optimization process in TPOT.\n"
     ]
    },
    {
     "data": {
      "application/vnd.jupyter.widget-view+json": {
       "model_id": "",
       "version_major": 2,
       "version_minor": 0
      },
      "text/plain": [
       "HBox(children=(FloatProgress(value=0.0, description='Optimization Progress', max=1860.0, style=ProgressStyle(d…"
      ]
     },
     "metadata": {},
     "output_type": "display_data"
    },
    {
     "name": "stdout",
     "output_type": "stream",
     "text": [
      "Generation 1 - Current best internal CV score: -0.003541330212208537\n",
      "Generation 2 - Current best internal CV score: -0.0034140088417746435\n",
      "Generation 3 - Current best internal CV score: -0.0034140088417746435\n",
      "Generation 4 - Current best internal CV score: -0.0034140088417746435\n",
      "Generation 5 - Current best internal CV score: -0.0034140088417746435\n",
      "Generation 6 - Current best internal CV score: -0.0034083484941096914\n",
      "Generation 7 - Current best internal CV score: -0.0034083484941096914\n",
      "Generation 8 - Current best internal CV score: -0.0033874187730924656\n",
      "Generation 9 - Current best internal CV score: -0.0033315921731037605\n",
      "Generation 10 - Current best internal CV score: -0.003330018721889499\n",
      "Generation 11 - Current best internal CV score: -0.0033166343936228805\n",
      "Generation 12 - Current best internal CV score: -0.0033166343936228805\n",
      "Generation 13 - Current best internal CV score: -0.0032610586358913242\n",
      "Generation 14 - Current best internal CV score: -0.0032610586358913242\n",
      "Generation 15 - Current best internal CV score: -0.0032610586358913242\n",
      "Generation 16 - Current best internal CV score: -0.0032610586358913242\n",
      "Generation 17 - Current best internal CV score: -0.0032610586358913242\n",
      "Generation 18 - Current best internal CV score: -0.0032610586358913242\n",
      "Generation 19 - Current best internal CV score: -0.0032461167204416034\n",
      "Generation 20 - Current best internal CV score: -0.0032461167204416034\n",
      "Generation 21 - Current best internal CV score: -0.0032342257059938748\n",
      "Generation 22 - Current best internal CV score: -0.0032342257059938748\n",
      "Generation 23 - Current best internal CV score: -0.0032181045142487597\n",
      "Generation 24 - Current best internal CV score: -0.0032181045142487597\n",
      "Generation 25 - Current best internal CV score: -0.0032181045142487597\n",
      "Generation 26 - Current best internal CV score: -0.0032181045142487597\n",
      "Generation 27 - Current best internal CV score: -0.0032181045142487597\n",
      "Generation 28 - Current best internal CV score: -0.0032181045142487597\n",
      "Generation 29 - Current best internal CV score: -0.0032181045142487597\n",
      "Generation 30 - Current best internal CV score: -0.0032002891613261628\n",
      "\n",
      "Best pipeline: RandomForestRegressor(CombineDFs(input_matrix, CombineDFs(input_matrix, Normalizer(input_matrix, norm=max))), bootstrap=True, max_features=0.51, min_samples_leaf=1, min_samples_split=3, n_estimators=100)\n"
     ]
    },
    {
     "data": {
      "text/plain": [
       "TPOTRegressor(config_dict={'sklearn.cluster.FeatureAgglomeration': {'affinity': ['euclidean',\n",
       "                                                                                 'l1',\n",
       "                                                                                 'l2',\n",
       "                                                                                 'manhattan',\n",
       "                                                                                 'cosine'],\n",
       "                                                                    'linkage': ['ward',\n",
       "                                                                                'complete',\n",
       "                                                                                'average']},\n",
       "                           'sklearn.decomposition.FastICA': {'tol': array([0.  , 0.05, 0.1 , 0.15, 0.2 , 0.25, 0.3 , 0.35, 0.4 , 0.45, 0.5 ,\n",
       "       0.55, 0.6 , 0.65, 0.7 , 0.75, 0.8 , 0.85, 0.9 , 0.95, 1.  ])},\n",
       "                           'sklearn.decomposition.PCA': {'iterated_power'...\n",
       "              crossover_rate=0.1, cv=5, disable_update_check=False,\n",
       "              early_stop=None, generations=30, max_eval_time_mins=5,\n",
       "              max_time_mins=None, memory=None, multi_output=True,\n",
       "              mutation_rate=0.9, n_jobs=4, offspring_size=None,\n",
       "              periodic_checkpoint_folder=None, population_size=60,\n",
       "              random_state=123, scoring=None, subsample=0.8, template=None,\n",
       "              use_dask=False, verbosity=2, warm_start=False)"
      ]
     },
     "execution_count": 11,
     "metadata": {},
     "output_type": "execute_result"
    }
   ],
   "source": [
    "from tpot import TPOTRegressor\n",
    "from tpot_multi import mul_reg_config_dict\n",
    "from sklearn.model_selection import train_test_split\n",
    "#import mul_config as mc\n",
    "\n",
    "train_X, val_X, train_y, val_y = train_test_split(ahead_w, ahead_e, train_size = 0.05, test_size = 0.95, random_state = 123)\n",
    "\n",
    "tpot_reg = TPOTRegressor(generations=30, \n",
    "                         population_size=60, \n",
    "                         n_jobs=4, \n",
    "                         verbosity=2, \n",
    "                         random_state=123,\n",
    "                         subsample= 0.8,\n",
    "                         config_dict=mul_reg_config_dict)\n",
    "tpot_reg.fit(train_X , train_y)\n"
   ]
  },
  {
   "cell_type": "code",
   "execution_count": 13,
   "metadata": {},
   "outputs": [],
   "source": [
    "#val_X, val_y = train.iloc[500:600,:8], ahead_e.iloc[500:600,:]\n",
    "yhat = tpot_reg.predict(test_X)"
   ]
  },
  {
   "cell_type": "markdown",
   "metadata": {},
   "source": [
    "### Result Evaluation"
   ]
  },
  {
   "cell_type": "markdown",
   "metadata": {},
   "source": [
    "**Mean Square Error**"
   ]
  },
  {
   "cell_type": "code",
   "execution_count": 14,
   "metadata": {},
   "outputs": [
    {
     "data": {
      "text/plain": [
       "0.00032078067403312787"
      ]
     },
     "execution_count": 14,
     "metadata": {},
     "output_type": "execute_result"
    }
   ],
   "source": [
    "mean_squared_error(test_y, yhat)"
   ]
  },
  {
   "cell_type": "markdown",
   "metadata": {},
   "source": [
    "**Mean Absolute Error**"
   ]
  },
  {
   "cell_type": "code",
   "execution_count": 15,
   "metadata": {
    "scrolled": true
   },
   "outputs": [
    {
     "data": {
      "text/plain": [
       "0.01406389608671403"
      ]
     },
     "execution_count": 15,
     "metadata": {},
     "output_type": "execute_result"
    }
   ],
   "source": [
    "mean_absolute_error(test_y, yhat)"
   ]
  },
  {
   "cell_type": "markdown",
   "metadata": {},
   "source": [
    "**R2_score**"
   ]
  },
  {
   "cell_type": "code",
   "execution_count": 16,
   "metadata": {
    "scrolled": true
   },
   "outputs": [
    {
     "data": {
      "text/plain": [
       "0.8304769005992318"
      ]
     },
     "execution_count": 16,
     "metadata": {},
     "output_type": "execute_result"
    }
   ],
   "source": [
    "r2_score(test_y, yhat)"
   ]
  },
  {
   "cell_type": "code",
   "execution_count": 18,
   "metadata": {
    "scrolled": true
   },
   "outputs": [
    {
     "data": {
      "image/png": "[encoded data removed]",
      "text/plain": [
       "<Figure size 1800x720 with 1 Axes>"
      ]
     },
     "metadata": {
      "needs_background": "light"
     },
     "output_type": "display_data"
    }
   ],
   "source": [
    "## assignment\n",
    "real = test_y.to_numpy()\n",
    "guess = yhat\n",
    "real = real[50:51,:49]\n",
    "guess = guess[50:51,:49]\n",
    "rpdf = plot_df(real, \"observed\")\n",
    "gpdf = plot_df(guess, \"prediction\")\n",
    "    \n",
    "#plot \n",
    "ax = plt.gca()\n",
    "gpdf.plot(figsize=(25,10), colormap = 'plasma',style='--',legend = True, ax = ax)\n",
    "rpdf.plot(figsize=(25,10), color = 'g',style ='-o',legend = True, ax = ax, lw = 4)\n",
    "ax.legend(frameon=False, loc='upper right', ncol=6, prop={'size': 16})\n",
    "\n",
    "plt.show()"
   ]
  }
 ],
 "metadata": {
  "kernelspec": {
   "display_name": "tpot",
   "language": "python",
   "name": "tpot"
  },
  "language_info": {
   "codemirror_mode": {
    "name": "ipython",
    "version": 3
   },
   "file_extension": ".py",
   "mimetype": "text/x-python",
   "name": "python",
   "nbconvert_exporter": "python",
   "pygments_lexer": "ipython3",
   "version": "3.6.10"
  }
 },
 "nbformat": 4,
 "nbformat_minor": 2
}
