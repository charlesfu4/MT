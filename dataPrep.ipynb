{
 "cells": [
  {
   "cell_type": "code",
   "execution_count": 1,
   "metadata": {},
   "outputs": [],
   "source": [
    "import os\n",
    "import math\n",
    "import pandas as pd\n",
    "import numpy as np\n",
    "from pandas import datetime\n",
    "from matplotlib import pyplot as plt\n"
   ]
  },
  {
   "cell_type": "code",
   "execution_count": 3,
   "metadata": {},
   "outputs": [],
   "source": [
    "# single household contsumption data extract function\n",
    "def extract_house(data_frame, lclid):\n",
    "    df = data_frame.set_index(\"tstp\")\n",
    "    df.index = df.index.astype(\"datetime64\")\n",
    "    \n",
    "    df[\"energy(kWh/hh)\"] = df[\"energy(kWh/hh)\"].astype(\"float64\")\n",
    "    df = df[df[\"LCLid\"] == \"{}\".format(lclid) ]\n",
    "    return df\n",
    "\n",
    "# weather extraction function\n",
    "def extract_weather(data_frame):\n",
    "    df = data_frame.set_index(\"time\")\n",
    "    df.index = df.index.astype(\"datetime64\")\n",
    "    return df"
   ]
  },
  {
   "cell_type": "markdown",
   "metadata": {},
   "source": [
    "### Electricity consumption processing"
   ]
  },
  {
   "cell_type": "code",
   "execution_count": 2,
   "metadata": {},
   "outputs": [
    {
     "name": "stderr",
     "output_type": "stream",
     "text": [
      "//miniconda3/envs/TPOT/lib/python3.5/site-packages/IPython/core/interactiveshell.py:2785: DtypeWarning: Columns (2) have mixed types. Specify dtype option on import or set low_memory=False.\n",
      "  interactivity=interactivity, compiler=compiler, result=result)\n"
     ]
    }
   ],
   "source": [
    "elec = pd.read_csv(\"smart-meters-in-london/halfhourly_dataset/block_0.csv\")\n",
    "for num in range(1,111):    \n",
    "    elec = elec.append(pd.read_csv(\"smart-meters-in-london/halfhourly_dataset/block_\"+str(num)+\".csv\"))\n",
    "        "
   ]
  },
  {
   "cell_type": "code",
   "execution_count": 4,
   "metadata": {},
   "outputs": [],
   "source": [
    "elec.replace('Null', np.NaN, inplace=True)\n",
    "energy = elec.iloc[:,:]\n",
    "energy[\"energy\"] = energy[\"energy(kWh/hh)\"].astype(\"float64\")\n",
    "energy = energy.drop([\"energy(kWh/hh)\"],axis = 1)"
   ]
  },
  {
   "cell_type": "markdown",
   "metadata": {},
   "source": [
    "**Missing values**"
   ]
  },
  {
   "cell_type": "code",
   "execution_count": 5,
   "metadata": {},
   "outputs": [
    {
     "name": "stdout",
     "output_type": "stream",
     "text": [
      "Count of missing data\n"
     ]
    },
    {
     "data": {
      "text/plain": [
       "[('energy', 5544), ('tstp', 0), ('LCLid', 0)]"
      ]
     },
     "execution_count": 5,
     "metadata": {},
     "output_type": "execute_result"
    }
   ],
   "source": [
    "def missing_count(df):\n",
    "    data = pd.DataFrame(df)\n",
    "    df_cols = list(pd.DataFrame(data))\n",
    "    dict_x = {}\n",
    "    for i in range(0, len(df_cols)):\n",
    "        dict_x.update({df_cols[i]: data[df_cols[i]].isnull().sum()})\n",
    "    \n",
    "    return dict_x\n",
    "\n",
    "\n",
    "missing = missing_count(energy)\n",
    "df_miss = sorted(missing.items(), key=lambda x: x[1], reverse=True)\n",
    "print('Count of missing data')\n",
    "df_miss[0:10]\n"
   ]
  },
  {
   "cell_type": "markdown",
   "metadata": {},
   "source": [
    "### Single household"
   ]
  },
  {
   "cell_type": "code",
   "execution_count": null,
   "metadata": {},
   "outputs": [],
   "source": []
  },
  {
   "cell_type": "markdown",
   "metadata": {},
   "source": [
    "### Aggregated   household"
   ]
  },
  {
   "cell_type": "markdown",
   "metadata": {},
   "source": [
    "**Group by LCLid and aggregate over per hour**\n"
   ]
  },
  {
   "cell_type": "code",
   "execution_count": 8,
   "metadata": {},
   "outputs": [],
   "source": [
    "## deal with missing value by interpolating mean of whole column\n",
    "# energy[\"energy\"].fillna(energy[\"energy\"].median(), inplace = True)\n",
    "## group by time stamps and aggregate through mean\n",
    "energy[\"energy\"] = energy[\"energy\"].astype(\"float64\")\n",
    "energy[\"tstp\"] = energy[\"tstp\"].astype(\"datetime64\")\n",
    "energy = energy.groupby('tstp').agg({'energy': lambda x: x.mean(skipna=False)})\n",
    "energy['tstp'] = energy.index\n",
    "energy.drop(['tstp'], axis = 1, inplace=True)\n",
    "energy = energy.resample('1H').sum()"
   ]
  },
  {
   "cell_type": "markdown",
   "metadata": {},
   "source": [
    "### To prevent data leakage we split trian and test first"
   ]
  },
  {
   "cell_type": "code",
   "execution_count": 28,
   "metadata": {},
   "outputs": [],
   "source": [
    "train_e = energy.iloc[:28750, :]\n",
    "test_e = energy.iloc[28750:,:]"
   ]
  },
  {
   "cell_type": "markdown",
   "metadata": {},
   "source": [
    "**then deal with missing value and resampling to 1hr**"
   ]
  },
  {
   "cell_type": "code",
   "execution_count": 31,
   "metadata": {},
   "outputs": [
    {
     "name": "stderr",
     "output_type": "stream",
     "text": [
      "//miniconda3/envs/TPOT/lib/python3.5/site-packages/pandas/core/generic.py:5208: SettingWithCopyWarning: \n",
      "A value is trying to be set on a copy of a slice from a DataFrame.\n",
      "Try using .loc[row_indexer,col_indexer] = value instead\n",
      "\n",
      "See the caveats in the documentation: http://pandas.pydata.org/pandas-docs/stable/user_guide/indexing.html#returning-a-view-versus-a-copy\n",
      "  self[name] = value\n"
     ]
    }
   ],
   "source": [
    "train_e.energy = train_e.energy.fillna(train_e.median())\n",
    "test_e.energy = test_e.energy.fillna(test_e.median())\n",
    "train_e = train_e.resample('1H').sum()\n",
    "test_e = test_e.resample('1H').sum()"
   ]
  },
  {
   "cell_type": "code",
   "execution_count": 35,
   "metadata": {},
   "outputs": [
    {
     "name": "stdout",
     "output_type": "stream",
     "text": [
      "Count of missing data\n"
     ]
    },
    {
     "data": {
      "text/plain": [
       "[('energy', 0)]"
      ]
     },
     "execution_count": 35,
     "metadata": {},
     "output_type": "execute_result"
    }
   ],
   "source": [
    "## check if there is still missing value\n",
    "missing = missing_count(test_e)\n",
    "df_miss = sorted(missing.items(), key=lambda x: x[1], reverse=True)\n",
    "print('Count of missing data')\n",
    "df_miss[0:10]\n"
   ]
  },
  {
   "cell_type": "markdown",
   "metadata": {},
   "source": [
    "### Weather data processing\n"
   ]
  },
  {
   "cell_type": "code",
   "execution_count": 67,
   "metadata": {
    "scrolled": true
   },
   "outputs": [],
   "source": [
    "weather = pd.read_csv('smart-meters-in-london/weather_hourly_darksky.csv')"
   ]
  },
  {
   "cell_type": "code",
   "execution_count": 68,
   "metadata": {},
   "outputs": [
    {
     "name": "stderr",
     "output_type": "stream",
     "text": [
      "//miniconda3/envs/TPOT/lib/python3.5/site-packages/pandas/core/indexes/base.py:346: FutureWarning: Passing in 'datetime64' dtype with no precision is deprecated\n",
      "and will raise in a future version. Please pass in\n",
      "'datetime64[ns]' instead.\n",
      "  data, copy=copy, name=name, dtype=dtype, **kwargs\n"
     ]
    }
   ],
   "source": [
    "## set index as time stamp\n",
    "weather = weather.set_index(\"time\")\n",
    "weather.index = weather.index.astype(\"datetime64\")"
   ]
  },
  {
   "cell_type": "code",
   "execution_count": 69,
   "metadata": {},
   "outputs": [],
   "source": [
    "weather = weather.sort_index()"
   ]
  },
  {
   "cell_type": "markdown",
   "metadata": {},
   "source": [
    "**Missing values**"
   ]
  },
  {
   "cell_type": "code",
   "execution_count": 80,
   "metadata": {
    "scrolled": true
   },
   "outputs": [
    {
     "name": "stdout",
     "output_type": "stream",
     "text": [
      "Percent of missing data\n"
     ]
    },
    {
     "data": {
      "text/plain": [
       "[('pressure', 1300),\n",
       " ('windSpeed', 0),\n",
       " ('icon', 0),\n",
       " ('temperature', 0),\n",
       " ('precipType', 0),\n",
       " ('dewPoint', 0),\n",
       " ('windBearing', 0),\n",
       " ('summary', 0),\n",
       " ('humidity', 0),\n",
       " ('apparentTemperature', 0),\n",
       " ('visibility', 0)]"
      ]
     },
     "execution_count": 80,
     "metadata": {},
     "output_type": "execute_result"
    }
   ],
   "source": [
    "def count_missing(df):\n",
    "    data = pd.DataFrame(df)\n",
    "    df_cols = list(pd.DataFrame(data))\n",
    "    dict_x = {}\n",
    "    for i in range(0, len(df_cols)):\n",
    "        dict_x.update({df_cols[i]: round(data[df_cols[i]].isnull().sum()*100,2)})\n",
    "    \n",
    "    return dict_x\n",
    "\n",
    "missing = count_missing(weather)\n",
    "df_miss = sorted(missing.items(), key=lambda x: x[1], reverse=True)\n",
    "print('Percent of missing data')\n",
    "df_miss[0:]"
   ]
  },
  {
   "cell_type": "code",
   "execution_count": 81,
   "metadata": {},
   "outputs": [],
   "source": [
    "##merge trian and test seperately\n",
    "train =  weather.merge(train_e, left_index = True, right_index = True)\n",
    "test = weather.merge(test_e.iloc[1:,:], left_index = True, right_index = True)"
   ]
  },
  {
   "cell_type": "code",
   "execution_count": 84,
   "metadata": {},
   "outputs": [],
   "source": [
    "## fillna with median \n",
    "train[\"pressure\"] = train[\"pressure\"].fillna(train[\"pressure\"].median())\n",
    "test[\"pressure\"] = test[\"pressure\"].fillna(test[\"pressure\"].median())"
   ]
  },
  {
   "cell_type": "code",
   "execution_count": 89,
   "metadata": {},
   "outputs": [
    {
     "data": {
      "text/html": [
       "<div>\n",
       "<style scoped>\n",
       "    .dataframe tbody tr th:only-of-type {\n",
       "        vertical-align: middle;\n",
       "    }\n",
       "\n",
       "    .dataframe tbody tr th {\n",
       "        vertical-align: top;\n",
       "    }\n",
       "\n",
       "    .dataframe thead th {\n",
       "        text-align: right;\n",
       "    }\n",
       "</style>\n",
       "<table border=\"1\" class=\"dataframe\">\n",
       "  <thead>\n",
       "    <tr style=\"text-align: right;\">\n",
       "      <th></th>\n",
       "      <th>visibility</th>\n",
       "      <th>windBearing</th>\n",
       "      <th>temperature</th>\n",
       "      <th>dewPoint</th>\n",
       "      <th>pressure</th>\n",
       "      <th>apparentTemperature</th>\n",
       "      <th>windSpeed</th>\n",
       "      <th>humidity</th>\n",
       "      <th>energy</th>\n",
       "    </tr>\n",
       "  </thead>\n",
       "  <tbody>\n",
       "    <tr>\n",
       "      <th>2011-11-23 09:00:00</th>\n",
       "      <td>4.39</td>\n",
       "      <td>229</td>\n",
       "      <td>4.84</td>\n",
       "      <td>4.68</td>\n",
       "      <td>1027.29</td>\n",
       "      <td>3.42</td>\n",
       "      <td>1.78</td>\n",
       "      <td>0.99</td>\n",
       "      <td>0.565000</td>\n",
       "    </tr>\n",
       "    <tr>\n",
       "      <th>2011-11-23 10:00:00</th>\n",
       "      <td>6.24</td>\n",
       "      <td>233</td>\n",
       "      <td>5.74</td>\n",
       "      <td>5.46</td>\n",
       "      <td>1027.67</td>\n",
       "      <td>4.24</td>\n",
       "      <td>1.99</td>\n",
       "      <td>0.98</td>\n",
       "      <td>0.251333</td>\n",
       "    </tr>\n",
       "    <tr>\n",
       "      <th>2011-11-23 11:00:00</th>\n",
       "      <td>10.20</td>\n",
       "      <td>233</td>\n",
       "      <td>7.67</td>\n",
       "      <td>5.74</td>\n",
       "      <td>1027.56</td>\n",
       "      <td>5.94</td>\n",
       "      <td>2.66</td>\n",
       "      <td>0.88</td>\n",
       "      <td>0.303286</td>\n",
       "    </tr>\n",
       "    <tr>\n",
       "      <th>2011-11-23 12:00:00</th>\n",
       "      <td>11.62</td>\n",
       "      <td>234</td>\n",
       "      <td>8.84</td>\n",
       "      <td>6.52</td>\n",
       "      <td>1027.24</td>\n",
       "      <td>7.25</td>\n",
       "      <td>2.80</td>\n",
       "      <td>0.85</td>\n",
       "      <td>0.698322</td>\n",
       "    </tr>\n",
       "    <tr>\n",
       "      <th>2011-11-23 13:00:00</th>\n",
       "      <td>12.68</td>\n",
       "      <td>233</td>\n",
       "      <td>9.87</td>\n",
       "      <td>6.99</td>\n",
       "      <td>1027.35</td>\n",
       "      <td>8.29</td>\n",
       "      <td>3.12</td>\n",
       "      <td>0.82</td>\n",
       "      <td>0.501641</td>\n",
       "    </tr>\n",
       "    <tr>\n",
       "      <th>...</th>\n",
       "      <td>...</td>\n",
       "      <td>...</td>\n",
       "      <td>...</td>\n",
       "      <td>...</td>\n",
       "      <td>...</td>\n",
       "      <td>...</td>\n",
       "      <td>...</td>\n",
       "      <td>...</td>\n",
       "      <td>...</td>\n",
       "    </tr>\n",
       "    <tr>\n",
       "      <th>2013-06-30 03:00:00</th>\n",
       "      <td>11.96</td>\n",
       "      <td>256</td>\n",
       "      <td>15.88</td>\n",
       "      <td>13.36</td>\n",
       "      <td>1023.57</td>\n",
       "      <td>15.88</td>\n",
       "      <td>2.31</td>\n",
       "      <td>0.85</td>\n",
       "      <td>0.196196</td>\n",
       "    </tr>\n",
       "    <tr>\n",
       "      <th>2013-06-30 04:00:00</th>\n",
       "      <td>10.70</td>\n",
       "      <td>248</td>\n",
       "      <td>14.92</td>\n",
       "      <td>13.40</td>\n",
       "      <td>1023.49</td>\n",
       "      <td>14.92</td>\n",
       "      <td>2.49</td>\n",
       "      <td>0.91</td>\n",
       "      <td>0.196831</td>\n",
       "    </tr>\n",
       "    <tr>\n",
       "      <th>2013-06-30 05:00:00</th>\n",
       "      <td>7.84</td>\n",
       "      <td>252</td>\n",
       "      <td>15.16</td>\n",
       "      <td>13.71</td>\n",
       "      <td>1023.42</td>\n",
       "      <td>15.16</td>\n",
       "      <td>2.51</td>\n",
       "      <td>0.91</td>\n",
       "      <td>0.215506</td>\n",
       "    </tr>\n",
       "    <tr>\n",
       "      <th>2013-06-30 06:00:00</th>\n",
       "      <td>9.66</td>\n",
       "      <td>257</td>\n",
       "      <td>16.01</td>\n",
       "      <td>14.32</td>\n",
       "      <td>1023.42</td>\n",
       "      <td>16.01</td>\n",
       "      <td>3.01</td>\n",
       "      <td>0.90</td>\n",
       "      <td>0.252791</td>\n",
       "    </tr>\n",
       "    <tr>\n",
       "      <th>2013-06-30 07:00:00</th>\n",
       "      <td>11.23</td>\n",
       "      <td>256</td>\n",
       "      <td>16.77</td>\n",
       "      <td>14.06</td>\n",
       "      <td>1023.47</td>\n",
       "      <td>16.77</td>\n",
       "      <td>3.63</td>\n",
       "      <td>0.84</td>\n",
       "      <td>0.148500</td>\n",
       "    </tr>\n",
       "  </tbody>\n",
       "</table>\n",
       "<p>14039 rows × 9 columns</p>\n",
       "</div>"
      ],
      "text/plain": [
       "                     visibility  windBearing  temperature  dewPoint  pressure  \\\n",
       "2011-11-23 09:00:00        4.39          229         4.84      4.68   1027.29   \n",
       "2011-11-23 10:00:00        6.24          233         5.74      5.46   1027.67   \n",
       "2011-11-23 11:00:00       10.20          233         7.67      5.74   1027.56   \n",
       "2011-11-23 12:00:00       11.62          234         8.84      6.52   1027.24   \n",
       "2011-11-23 13:00:00       12.68          233         9.87      6.99   1027.35   \n",
       "...                         ...          ...          ...       ...       ...   \n",
       "2013-06-30 03:00:00       11.96          256        15.88     13.36   1023.57   \n",
       "2013-06-30 04:00:00       10.70          248        14.92     13.40   1023.49   \n",
       "2013-06-30 05:00:00        7.84          252        15.16     13.71   1023.42   \n",
       "2013-06-30 06:00:00        9.66          257        16.01     14.32   1023.42   \n",
       "2013-06-30 07:00:00       11.23          256        16.77     14.06   1023.47   \n",
       "\n",
       "                     apparentTemperature  windSpeed  humidity    energy  \n",
       "2011-11-23 09:00:00                 3.42       1.78      0.99  0.565000  \n",
       "2011-11-23 10:00:00                 4.24       1.99      0.98  0.251333  \n",
       "2011-11-23 11:00:00                 5.94       2.66      0.88  0.303286  \n",
       "2011-11-23 12:00:00                 7.25       2.80      0.85  0.698322  \n",
       "2011-11-23 13:00:00                 8.29       3.12      0.82  0.501641  \n",
       "...                                  ...        ...       ...       ...  \n",
       "2013-06-30 03:00:00                15.88       2.31      0.85  0.196196  \n",
       "2013-06-30 04:00:00                14.92       2.49      0.91  0.196831  \n",
       "2013-06-30 05:00:00                15.16       2.51      0.91  0.215506  \n",
       "2013-06-30 06:00:00                16.01       3.01      0.90  0.252791  \n",
       "2013-06-30 07:00:00                16.77       3.63      0.84  0.148500  \n",
       "\n",
       "[14039 rows x 9 columns]"
      ]
     },
     "execution_count": 89,
     "metadata": {},
     "output_type": "execute_result"
    }
   ],
   "source": [
    "train_nocat"
   ]
  },
  {
   "cell_type": "code",
   "execution_count": 88,
   "metadata": {},
   "outputs": [],
   "source": [
    "## data set without catagorical feature\n",
    "train_nocat = train.drop([\"precipType\", \"icon\", \"summary\"],axis = 1)\n",
    "test_nocat = test.drop([\"precipType\", \"icon\", \"summary\"],axis = 1)\n",
    "train_nocat.to_csv(\"train_nocat.csv\", index = True)\n",
    "test_nocat.to_csv(\"test_nocat.csv\", index = True)"
   ]
  },
  {
   "cell_type": "markdown",
   "metadata": {},
   "source": [
    "**One hot encoding**"
   ]
  },
  {
   "cell_type": "code",
   "execution_count": 73,
   "metadata": {},
   "outputs": [],
   "source": [
    "## Examine unique categories in categorical features\n",
    "p = list(weather[\"precipType\"].unique()) \n",
    "i = list(weather[\"icon\"].unique()) \n",
    "u = list(weather[\"summary\"].unique())\n",
    "# Sort them for one hot encoding labels\n",
    "p.sort()\n",
    "i.sort()\n",
    "u.sort()"
   ]
  },
  {
   "cell_type": "code",
   "execution_count": 74,
   "metadata": {},
   "outputs": [],
   "source": [
    "from sklearn.preprocessing import OneHotEncoder\n",
    "## One hot encoding these features above\n",
    "onehot = OneHotEncoder(dtype=np.int, sparse=True)\n",
    "nominals = pd.DataFrame(onehot.fit_transform(weather[['precipType', 'icon','summary']]).toarray(),columns=p+i+u)\n",
    "nominals.index = weather.index"
   ]
  },
  {
   "cell_type": "code",
   "execution_count": 12,
   "metadata": {
    "scrolled": true
   },
   "outputs": [
    {
     "ename": "KeyError",
     "evalue": "\"None of ['time'] are in the columns\"",
     "output_type": "error",
     "traceback": [
      "\u001b[0;31m---------------------------------------------------------------------------\u001b[0m",
      "\u001b[0;31mKeyError\u001b[0m                                  Traceback (most recent call last)",
      "\u001b[0;32m<ipython-input-12-a43aedab6b50>\u001b[0m in \u001b[0;36m<module>\u001b[0;34m()\u001b[0m\n\u001b[1;32m      1\u001b[0m \u001b[0;31m#Concate nominals with origin weather dataframe\u001b[0m\u001b[0;34m\u001b[0m\u001b[0;34m\u001b[0m\u001b[0m\n\u001b[0;32m----> 2\u001b[0;31m \u001b[0mweather\u001b[0m \u001b[0;34m=\u001b[0m \u001b[0mweather\u001b[0m\u001b[0;34m.\u001b[0m\u001b[0mset_index\u001b[0m\u001b[0;34m(\u001b[0m\u001b[0;34m\"time\"\u001b[0m\u001b[0;34m)\u001b[0m\u001b[0;34m\u001b[0m\u001b[0m\n\u001b[0m\u001b[1;32m      3\u001b[0m \u001b[0mweather\u001b[0m\u001b[0;34m.\u001b[0m\u001b[0mindex\u001b[0m \u001b[0;34m=\u001b[0m \u001b[0mweather\u001b[0m\u001b[0;34m.\u001b[0m\u001b[0mindex\u001b[0m\u001b[0;34m.\u001b[0m\u001b[0mastype\u001b[0m\u001b[0;34m(\u001b[0m\u001b[0;34m\"datetime64\"\u001b[0m\u001b[0;34m)\u001b[0m\u001b[0;34m\u001b[0m\u001b[0m\n\u001b[1;32m      4\u001b[0m \u001b[0;31m#weather.drop([\"precipType\",\"icon\",\"summary\"],axis = 1, inplace = True)\u001b[0m\u001b[0;34m\u001b[0m\u001b[0;34m\u001b[0m\u001b[0m\n\u001b[1;32m      5\u001b[0m \u001b[0;31m#weather =  weather.merge(nominals, left_index = True, right_index = True)\u001b[0m\u001b[0;34m\u001b[0m\u001b[0;34m\u001b[0m\u001b[0m\n",
      "\u001b[0;32m//miniconda3/envs/TPOT/lib/python3.5/site-packages/pandas/core/frame.py\u001b[0m in \u001b[0;36mset_index\u001b[0;34m(self, keys, drop, append, inplace, verify_integrity)\u001b[0m\n\u001b[1;32m   4409\u001b[0m \u001b[0;34m\u001b[0m\u001b[0m\n\u001b[1;32m   4410\u001b[0m         \u001b[0;32mif\u001b[0m \u001b[0mmissing\u001b[0m\u001b[0;34m:\u001b[0m\u001b[0;34m\u001b[0m\u001b[0m\n\u001b[0;32m-> 4411\u001b[0;31m             \u001b[0;32mraise\u001b[0m \u001b[0mKeyError\u001b[0m\u001b[0;34m(\u001b[0m\u001b[0;34m\"None of {} are in the columns\"\u001b[0m\u001b[0;34m.\u001b[0m\u001b[0mformat\u001b[0m\u001b[0;34m(\u001b[0m\u001b[0mmissing\u001b[0m\u001b[0;34m)\u001b[0m\u001b[0;34m)\u001b[0m\u001b[0;34m\u001b[0m\u001b[0m\n\u001b[0m\u001b[1;32m   4412\u001b[0m \u001b[0;34m\u001b[0m\u001b[0m\n\u001b[1;32m   4413\u001b[0m         \u001b[0;32mif\u001b[0m \u001b[0minplace\u001b[0m\u001b[0;34m:\u001b[0m\u001b[0;34m\u001b[0m\u001b[0m\n",
      "\u001b[0;31mKeyError\u001b[0m: \"None of ['time'] are in the columns\""
     ]
    }
   ],
   "source": [
    "#Concate nominals with origin weather dataframe\n",
    "weather = weather.set_index(\"time\")\n",
    "weather.index = weather.index.astype(\"datetime64\")\n",
    "#weather.drop([\"precipType\",\"icon\",\"summary\"],axis = 1, inplace = True)\n",
    "weather =  weather.merge(nominals, left_index = True, right_index = True)\n"
   ]
  },
  {
   "cell_type": "markdown",
   "metadata": {},
   "source": [
    "### Merge weather and energy data"
   ]
  },
  {
   "cell_type": "code",
   "execution_count": 14,
   "metadata": {},
   "outputs": [],
   "source": [
    "### Merge weather and energy data together\n",
    "weather_energy = weather.merge(energy, left_index = True, right_index = True)\n",
    "weather_energy.index.names = [\"time\"]"
   ]
  },
  {
   "cell_type": "code",
   "execution_count": 15,
   "metadata": {},
   "outputs": [],
   "source": [
    "##Split data into training set and testing set and save to csv file format\n",
    "train_we = weather_energy.iloc[:14000,:]\n",
    "test_we = weather_energy.iloc[14000:,:]\n",
    "train_we.to_csv(\"train_auto.csv\", index = True)\n",
    "test_we.to_csv(\"test_auto.csv\", index = True)"
   ]
  },
  {
   "cell_type": "code",
   "execution_count": 177,
   "metadata": {},
   "outputs": [],
   "source": [
    "##Split data into training set and testing set and save to csv file format\n",
    "train_we = weather_energy.iloc[:14000,:]\n",
    "test_we = weather_energy.iloc[14000:,:]\n",
    "train_we.to_csv(\"train.csv\", index = True)\n",
    "test_we.to_csv(\"test.csv\", index = True)"
   ]
  },
  {
   "cell_type": "code",
   "execution_count": 176,
   "metadata": {},
   "outputs": [
    {
     "data": {
      "text/html": [
       "<div>\n",
       "<style scoped>\n",
       "    .dataframe tbody tr th:only-of-type {\n",
       "        vertical-align: middle;\n",
       "    }\n",
       "\n",
       "    .dataframe tbody tr th {\n",
       "        vertical-align: top;\n",
       "    }\n",
       "\n",
       "    .dataframe thead th {\n",
       "        text-align: right;\n",
       "    }\n",
       "</style>\n",
       "<table border=\"1\" class=\"dataframe\">\n",
       "  <thead>\n",
       "    <tr style=\"text-align: right;\">\n",
       "      <th></th>\n",
       "      <th>visibility</th>\n",
       "      <th>windBearing</th>\n",
       "      <th>temperature</th>\n",
       "      <th>dewPoint</th>\n",
       "      <th>pressure</th>\n",
       "      <th>apparentTemperature</th>\n",
       "      <th>windSpeed</th>\n",
       "      <th>humidity</th>\n",
       "      <th>rain</th>\n",
       "      <th>snow</th>\n",
       "      <th>...</th>\n",
       "      <th>Clear</th>\n",
       "      <th>Foggy</th>\n",
       "      <th>Mostly Cloudy</th>\n",
       "      <th>Overcast</th>\n",
       "      <th>Partly Cloudy</th>\n",
       "      <th>Windy</th>\n",
       "      <th>Windy and Mostly Cloudy</th>\n",
       "      <th>Windy and Overcast</th>\n",
       "      <th>Windy and Partly Cloudy</th>\n",
       "      <th>energy</th>\n",
       "    </tr>\n",
       "    <tr>\n",
       "      <th>time</th>\n",
       "      <th></th>\n",
       "      <th></th>\n",
       "      <th></th>\n",
       "      <th></th>\n",
       "      <th></th>\n",
       "      <th></th>\n",
       "      <th></th>\n",
       "      <th></th>\n",
       "      <th></th>\n",
       "      <th></th>\n",
       "      <th></th>\n",
       "      <th></th>\n",
       "      <th></th>\n",
       "      <th></th>\n",
       "      <th></th>\n",
       "      <th></th>\n",
       "      <th></th>\n",
       "      <th></th>\n",
       "      <th></th>\n",
       "      <th></th>\n",
       "      <th></th>\n",
       "    </tr>\n",
       "  </thead>\n",
       "  <tbody>\n",
       "    <tr>\n",
       "      <th>2011-12-11 00:00:00</th>\n",
       "      <td>12.50</td>\n",
       "      <td>210</td>\n",
       "      <td>2.83</td>\n",
       "      <td>1.17</td>\n",
       "      <td>1015.67</td>\n",
       "      <td>1.11</td>\n",
       "      <td>1.78</td>\n",
       "      <td>0.89</td>\n",
       "      <td>1</td>\n",
       "      <td>0</td>\n",
       "      <td>...</td>\n",
       "      <td>0</td>\n",
       "      <td>0</td>\n",
       "      <td>0</td>\n",
       "      <td>0</td>\n",
       "      <td>1</td>\n",
       "      <td>0</td>\n",
       "      <td>0</td>\n",
       "      <td>0</td>\n",
       "      <td>0</td>\n",
       "      <td>0.498395</td>\n",
       "    </tr>\n",
       "    <tr>\n",
       "      <th>2011-12-11 01:00:00</th>\n",
       "      <td>12.65</td>\n",
       "      <td>204</td>\n",
       "      <td>2.48</td>\n",
       "      <td>0.81</td>\n",
       "      <td>1014.96</td>\n",
       "      <td>0.31</td>\n",
       "      <td>2.11</td>\n",
       "      <td>0.89</td>\n",
       "      <td>1</td>\n",
       "      <td>0</td>\n",
       "      <td>...</td>\n",
       "      <td>1</td>\n",
       "      <td>0</td>\n",
       "      <td>0</td>\n",
       "      <td>0</td>\n",
       "      <td>0</td>\n",
       "      <td>0</td>\n",
       "      <td>0</td>\n",
       "      <td>0</td>\n",
       "      <td>0</td>\n",
       "      <td>0.445535</td>\n",
       "    </tr>\n",
       "    <tr>\n",
       "      <th>2011-12-11 02:00:00</th>\n",
       "      <td>13.02</td>\n",
       "      <td>214</td>\n",
       "      <td>2.70</td>\n",
       "      <td>1.29</td>\n",
       "      <td>1014.42</td>\n",
       "      <td>0.11</td>\n",
       "      <td>2.57</td>\n",
       "      <td>0.90</td>\n",
       "      <td>1</td>\n",
       "      <td>0</td>\n",
       "      <td>...</td>\n",
       "      <td>1</td>\n",
       "      <td>0</td>\n",
       "      <td>0</td>\n",
       "      <td>0</td>\n",
       "      <td>0</td>\n",
       "      <td>0</td>\n",
       "      <td>0</td>\n",
       "      <td>0</td>\n",
       "      <td>0</td>\n",
       "      <td>0.349090</td>\n",
       "    </tr>\n",
       "    <tr>\n",
       "      <th>2011-12-11 03:00:00</th>\n",
       "      <td>13.05</td>\n",
       "      <td>211</td>\n",
       "      <td>3.47</td>\n",
       "      <td>1.41</td>\n",
       "      <td>1013.78</td>\n",
       "      <td>0.66</td>\n",
       "      <td>3.00</td>\n",
       "      <td>0.86</td>\n",
       "      <td>1</td>\n",
       "      <td>0</td>\n",
       "      <td>...</td>\n",
       "      <td>0</td>\n",
       "      <td>0</td>\n",
       "      <td>0</td>\n",
       "      <td>0</td>\n",
       "      <td>1</td>\n",
       "      <td>0</td>\n",
       "      <td>0</td>\n",
       "      <td>0</td>\n",
       "      <td>0</td>\n",
       "      <td>0.317786</td>\n",
       "    </tr>\n",
       "    <tr>\n",
       "      <th>2011-12-11 04:00:00</th>\n",
       "      <td>12.97</td>\n",
       "      <td>204</td>\n",
       "      <td>3.74</td>\n",
       "      <td>1.53</td>\n",
       "      <td>1012.94</td>\n",
       "      <td>1.29</td>\n",
       "      <td>2.64</td>\n",
       "      <td>0.85</td>\n",
       "      <td>1</td>\n",
       "      <td>0</td>\n",
       "      <td>...</td>\n",
       "      <td>0</td>\n",
       "      <td>0</td>\n",
       "      <td>0</td>\n",
       "      <td>0</td>\n",
       "      <td>1</td>\n",
       "      <td>0</td>\n",
       "      <td>0</td>\n",
       "      <td>0</td>\n",
       "      <td>0</td>\n",
       "      <td>0.281382</td>\n",
       "    </tr>\n",
       "    <tr>\n",
       "      <th>...</th>\n",
       "      <td>...</td>\n",
       "      <td>...</td>\n",
       "      <td>...</td>\n",
       "      <td>...</td>\n",
       "      <td>...</td>\n",
       "      <td>...</td>\n",
       "      <td>...</td>\n",
       "      <td>...</td>\n",
       "      <td>...</td>\n",
       "      <td>...</td>\n",
       "      <td>...</td>\n",
       "      <td>...</td>\n",
       "      <td>...</td>\n",
       "      <td>...</td>\n",
       "      <td>...</td>\n",
       "      <td>...</td>\n",
       "      <td>...</td>\n",
       "      <td>...</td>\n",
       "      <td>...</td>\n",
       "      <td>...</td>\n",
       "      <td>...</td>\n",
       "    </tr>\n",
       "    <tr>\n",
       "      <th>2014-02-15 19:00:00</th>\n",
       "      <td>12.68</td>\n",
       "      <td>247</td>\n",
       "      <td>7.39</td>\n",
       "      <td>3.06</td>\n",
       "      <td>997.07</td>\n",
       "      <td>3.91</td>\n",
       "      <td>6.08</td>\n",
       "      <td>0.74</td>\n",
       "      <td>1</td>\n",
       "      <td>0</td>\n",
       "      <td>...</td>\n",
       "      <td>0</td>\n",
       "      <td>0</td>\n",
       "      <td>0</td>\n",
       "      <td>0</td>\n",
       "      <td>1</td>\n",
       "      <td>0</td>\n",
       "      <td>0</td>\n",
       "      <td>0</td>\n",
       "      <td>0</td>\n",
       "      <td>0.744099</td>\n",
       "    </tr>\n",
       "    <tr>\n",
       "      <th>2014-02-15 20:00:00</th>\n",
       "      <td>13.78</td>\n",
       "      <td>249</td>\n",
       "      <td>6.56</td>\n",
       "      <td>2.76</td>\n",
       "      <td>998.15</td>\n",
       "      <td>3.03</td>\n",
       "      <td>5.61</td>\n",
       "      <td>0.77</td>\n",
       "      <td>1</td>\n",
       "      <td>0</td>\n",
       "      <td>...</td>\n",
       "      <td>1</td>\n",
       "      <td>0</td>\n",
       "      <td>0</td>\n",
       "      <td>0</td>\n",
       "      <td>0</td>\n",
       "      <td>0</td>\n",
       "      <td>0</td>\n",
       "      <td>0</td>\n",
       "      <td>0</td>\n",
       "      <td>0.685877</td>\n",
       "    </tr>\n",
       "    <tr>\n",
       "      <th>2014-02-15 21:00:00</th>\n",
       "      <td>14.31</td>\n",
       "      <td>248</td>\n",
       "      <td>6.47</td>\n",
       "      <td>2.71</td>\n",
       "      <td>999.28</td>\n",
       "      <td>3.06</td>\n",
       "      <td>5.25</td>\n",
       "      <td>0.77</td>\n",
       "      <td>1</td>\n",
       "      <td>0</td>\n",
       "      <td>...</td>\n",
       "      <td>1</td>\n",
       "      <td>0</td>\n",
       "      <td>0</td>\n",
       "      <td>0</td>\n",
       "      <td>0</td>\n",
       "      <td>0</td>\n",
       "      <td>0</td>\n",
       "      <td>0</td>\n",
       "      <td>0</td>\n",
       "      <td>0.634185</td>\n",
       "    </tr>\n",
       "    <tr>\n",
       "      <th>2014-02-15 22:00:00</th>\n",
       "      <td>14.31</td>\n",
       "      <td>248</td>\n",
       "      <td>5.96</td>\n",
       "      <td>2.69</td>\n",
       "      <td>1000.33</td>\n",
       "      <td>2.68</td>\n",
       "      <td>4.69</td>\n",
       "      <td>0.80</td>\n",
       "      <td>1</td>\n",
       "      <td>0</td>\n",
       "      <td>...</td>\n",
       "      <td>1</td>\n",
       "      <td>0</td>\n",
       "      <td>0</td>\n",
       "      <td>0</td>\n",
       "      <td>0</td>\n",
       "      <td>0</td>\n",
       "      <td>0</td>\n",
       "      <td>0</td>\n",
       "      <td>0</td>\n",
       "      <td>0.574454</td>\n",
       "    </tr>\n",
       "    <tr>\n",
       "      <th>2014-02-15 23:00:00</th>\n",
       "      <td>14.31</td>\n",
       "      <td>246</td>\n",
       "      <td>5.38</td>\n",
       "      <td>2.60</td>\n",
       "      <td>1001.25</td>\n",
       "      <td>1.77</td>\n",
       "      <td>5.09</td>\n",
       "      <td>0.82</td>\n",
       "      <td>1</td>\n",
       "      <td>0</td>\n",
       "      <td>...</td>\n",
       "      <td>1</td>\n",
       "      <td>0</td>\n",
       "      <td>0</td>\n",
       "      <td>0</td>\n",
       "      <td>0</td>\n",
       "      <td>0</td>\n",
       "      <td>0</td>\n",
       "      <td>0</td>\n",
       "      <td>0</td>\n",
       "      <td>0.487368</td>\n",
       "    </tr>\n",
       "  </tbody>\n",
       "</table>\n",
       "<p>19862 rows × 31 columns</p>\n",
       "</div>"
      ],
      "text/plain": [
       "                     visibility  windBearing  temperature  dewPoint  pressure  \\\n",
       "time                                                                            \n",
       "2011-12-11 00:00:00       12.50          210         2.83      1.17   1015.67   \n",
       "2011-12-11 01:00:00       12.65          204         2.48      0.81   1014.96   \n",
       "2011-12-11 02:00:00       13.02          214         2.70      1.29   1014.42   \n",
       "2011-12-11 03:00:00       13.05          211         3.47      1.41   1013.78   \n",
       "2011-12-11 04:00:00       12.97          204         3.74      1.53   1012.94   \n",
       "...                         ...          ...          ...       ...       ...   \n",
       "2014-02-15 19:00:00       12.68          247         7.39      3.06    997.07   \n",
       "2014-02-15 20:00:00       13.78          249         6.56      2.76    998.15   \n",
       "2014-02-15 21:00:00       14.31          248         6.47      2.71    999.28   \n",
       "2014-02-15 22:00:00       14.31          248         5.96      2.69   1000.33   \n",
       "2014-02-15 23:00:00       14.31          246         5.38      2.60   1001.25   \n",
       "\n",
       "                     apparentTemperature  windSpeed  humidity  rain  snow  \\\n",
       "time                                                                        \n",
       "2011-12-11 00:00:00                 1.11       1.78      0.89     1     0   \n",
       "2011-12-11 01:00:00                 0.31       2.11      0.89     1     0   \n",
       "2011-12-11 02:00:00                 0.11       2.57      0.90     1     0   \n",
       "2011-12-11 03:00:00                 0.66       3.00      0.86     1     0   \n",
       "2011-12-11 04:00:00                 1.29       2.64      0.85     1     0   \n",
       "...                                  ...        ...       ...   ...   ...   \n",
       "2014-02-15 19:00:00                 3.91       6.08      0.74     1     0   \n",
       "2014-02-15 20:00:00                 3.03       5.61      0.77     1     0   \n",
       "2014-02-15 21:00:00                 3.06       5.25      0.77     1     0   \n",
       "2014-02-15 22:00:00                 2.68       4.69      0.80     1     0   \n",
       "2014-02-15 23:00:00                 1.77       5.09      0.82     1     0   \n",
       "\n",
       "                     ...  Clear  Foggy  Mostly Cloudy  Overcast  \\\n",
       "time                 ...                                          \n",
       "2011-12-11 00:00:00  ...      0      0              0         0   \n",
       "2011-12-11 01:00:00  ...      1      0              0         0   \n",
       "2011-12-11 02:00:00  ...      1      0              0         0   \n",
       "2011-12-11 03:00:00  ...      0      0              0         0   \n",
       "2011-12-11 04:00:00  ...      0      0              0         0   \n",
       "...                  ...    ...    ...            ...       ...   \n",
       "2014-02-15 19:00:00  ...      0      0              0         0   \n",
       "2014-02-15 20:00:00  ...      1      0              0         0   \n",
       "2014-02-15 21:00:00  ...      1      0              0         0   \n",
       "2014-02-15 22:00:00  ...      1      0              0         0   \n",
       "2014-02-15 23:00:00  ...      1      0              0         0   \n",
       "\n",
       "                     Partly Cloudy  Windy  Windy and Mostly Cloudy  \\\n",
       "time                                                                 \n",
       "2011-12-11 00:00:00              1      0                        0   \n",
       "2011-12-11 01:00:00              0      0                        0   \n",
       "2011-12-11 02:00:00              0      0                        0   \n",
       "2011-12-11 03:00:00              1      0                        0   \n",
       "2011-12-11 04:00:00              1      0                        0   \n",
       "...                            ...    ...                      ...   \n",
       "2014-02-15 19:00:00              1      0                        0   \n",
       "2014-02-15 20:00:00              0      0                        0   \n",
       "2014-02-15 21:00:00              0      0                        0   \n",
       "2014-02-15 22:00:00              0      0                        0   \n",
       "2014-02-15 23:00:00              0      0                        0   \n",
       "\n",
       "                     Windy and Overcast  Windy and Partly Cloudy    energy  \n",
       "time                                                                        \n",
       "2011-12-11 00:00:00                   0                        0  0.498395  \n",
       "2011-12-11 01:00:00                   0                        0  0.445535  \n",
       "2011-12-11 02:00:00                   0                        0  0.349090  \n",
       "2011-12-11 03:00:00                   0                        0  0.317786  \n",
       "2011-12-11 04:00:00                   0                        0  0.281382  \n",
       "...                                 ...                      ...       ...  \n",
       "2014-02-15 19:00:00                   0                        0  0.744099  \n",
       "2014-02-15 20:00:00                   0                        0  0.685877  \n",
       "2014-02-15 21:00:00                   0                        0  0.634185  \n",
       "2014-02-15 22:00:00                   0                        0  0.574454  \n",
       "2014-02-15 23:00:00                   0                        0  0.487368  \n",
       "\n",
       "[19862 rows x 31 columns]"
      ]
     },
     "execution_count": 176,
     "metadata": {},
     "output_type": "execute_result"
    }
   ],
   "source": [
    "weather_energy"
   ]
  }
 ],
 "metadata": {
  "kernelspec": {
   "display_name": "TPOT",
   "language": "python",
   "name": "tpot"
  },
  "language_info": {
   "codemirror_mode": {
    "name": "ipython",
    "version": 3
   },
   "file_extension": ".py",
   "mimetype": "text/x-python",
   "name": "python",
   "nbconvert_exporter": "python",
   "pygments_lexer": "ipython3",
   "version": "3.5.6"
  }
 },
 "nbformat": 4,
 "nbformat_minor": 2
}
